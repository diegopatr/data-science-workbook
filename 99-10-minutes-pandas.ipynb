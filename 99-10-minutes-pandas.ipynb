{
 "cells": [
  {
   "cell_type": "markdown",
   "source": [
    "# 10 Minutos para Pandas\n",
    "\n",
    "Esta é uma breve introdução ao pandas, voltada principalmente para novos usuários. Você pode ver receitas mais complexas no [Cookbook](https://pandas.pydata.org/pandas-docs/stable/user_guide/cookbook.html) (documentação oficial em inglês).\n",
    "\n",
    "Por convenção, importamos as bibliotecas da seguinte forma:"
   ],
   "metadata": {
    "id": "zr7kZk28K3tr"
   },
   "id": "zr7kZk28K3tr"
  },
  {
   "cell_type": "code",
   "source": [
    "import numpy as np\n",
    "import pandas as pd"
   ],
   "metadata": {
    "id": "2VcGJsXdLQuI",
    "ExecuteTime": {
     "end_time": "2025-05-06T20:01:10.048980Z",
     "start_time": "2025-05-06T20:01:09.597074Z"
    }
   },
   "id": "2VcGJsXdLQuI",
   "outputs": [],
   "execution_count": 1
  },
  {
   "cell_type": "markdown",
   "metadata": {
    "id": "12d64abae24fcd1d"
   },
   "source": [
    "## Estruturas de Dados Básicas no Pandas\n",
    "\n",
    "O Pandas oferece duas classes principais para manipulação de dados:\n",
    "\n",
    "1.  **`Series`**: Um array unidimensional rotulado capaz de armazenar dados de qualquer tipo (inteiros, strings, objetos Python, etc.). Pense nela como uma única coluna de uma tabela.\n",
    "2.  **`DataFrame`**: Uma estrutura de dados bidimensional, como uma tabela com linhas e colunas, onde cada coluna pode ter um tipo de dado diferente. É a estrutura mais utilizada no Pandas."
   ],
   "id": "12d64abae24fcd1d"
  },
  {
   "cell_type": "markdown",
   "metadata": {
    "id": "c2ef5e1d832c9893"
   },
   "source": [
    "## Criação de Objetos\n",
    "\n",
    "Veja mais detalhes na seção [Introdução às Estruturas de Dados](https://pandas.pydata.org/pandas-docs/stable/user_guide/dsintro.html) da documentação oficial."
   ],
   "id": "c2ef5e1d832c9893"
  },
  {
   "cell_type": "markdown",
   "metadata": {
    "id": "8aa4893ee4bc07b0"
   },
   "source": [
    "### Criando uma `Series`\n",
    "Criando uma `Series` passando uma lista de valores, permitindo ao Pandas criar um `RangeIndex` (índice numérico padrão)."
   ],
   "id": "8aa4893ee4bc07b0"
  },
  {
   "cell_type": "code",
   "metadata": {
    "colab": {
     "base_uri": "https://localhost:8080/",
     "height": 272
    },
    "id": "c04316473fe581c7",
    "outputId": "17477f71-f33b-421b-ded3-562355f2a31b",
    "ExecuteTime": {
     "end_time": "2025-05-06T20:01:10.174900Z",
     "start_time": "2025-05-06T20:01:10.167309Z"
    }
   },
   "source": [
    "s = pd.Series([1, 3, 5, np.nan, 6, 8])\n",
    "s"
   ],
   "id": "c04316473fe581c7",
   "outputs": [
    {
     "data": {
      "text/plain": [
       "0    1.0\n",
       "1    3.0\n",
       "2    5.0\n",
       "3    NaN\n",
       "4    6.0\n",
       "5    8.0\n",
       "dtype: float64"
      ]
     },
     "execution_count": 2,
     "metadata": {},
     "output_type": "execute_result"
    }
   ],
   "execution_count": 2
  },
  {
   "cell_type": "markdown",
   "metadata": {
    "id": "f1cb56892d1bb1c7"
   },
   "source": [
    "Note que `np.nan` representa um valor ausente (Not a Number)."
   ],
   "id": "f1cb56892d1bb1c7"
  },
  {
   "cell_type": "markdown",
   "metadata": {
    "id": "4788dfd5292225d0"
   },
   "source": [
    "### Criando um `DataFrame`\n",
    "\n",
    "#### Usando um array NumPy com índice de data e colunas rotuladas:\n",
    "Usamos `pd.date_range` para criar um índice baseado em datas."
   ],
   "id": "4788dfd5292225d0"
  },
  {
   "cell_type": "code",
   "metadata": {
    "colab": {
     "base_uri": "https://localhost:8080/",
     "height": 342
    },
    "id": "ab2f325da6e3dc3e",
    "outputId": "f30ee7d3-a1aa-48f6-d619-ef7f5e4dd546",
    "ExecuteTime": {
     "end_time": "2025-05-06T20:01:10.355273Z",
     "start_time": "2025-05-06T20:01:10.324662Z"
    }
   },
   "source": [
    "# Criando um intervalo de datas\n",
    "datas = pd.date_range(\"20230101\", periods=6) # 6 períodos a partir de 01/01/2023\n",
    "print(\"Índice de Datas Criado:\")\n",
    "print(datas)\n",
    "\n",
    "# Criando o DataFrame com dados aleatórios (distribuição normal padrão)\n",
    "# index=datas define o rótulo das linhas\n",
    "# columns=list(\"ABCD\") cria 4 colunas com rótulos A, B, C, D\n",
    "df = pd.DataFrame(np.random.randn(6, 4), index=datas, columns=list(\"ABCD\"))\n",
    "\n",
    "print(\"\\nDataFrame Criado:\")\n",
    "df"
   ],
   "id": "ab2f325da6e3dc3e",
   "outputs": [
    {
     "name": "stdout",
     "output_type": "stream",
     "text": [
      "Índice de Datas Criado:\n",
      "DatetimeIndex(['2023-01-01', '2023-01-02', '2023-01-03', '2023-01-04',\n",
      "               '2023-01-05', '2023-01-06'],\n",
      "              dtype='datetime64[ns]', freq='D')\n",
      "\n",
      "DataFrame Criado:\n"
     ]
    },
    {
     "data": {
      "text/plain": [
       "                   A         B         C         D\n",
       "2023-01-01 -0.566661 -0.553935  1.320878 -0.193330\n",
       "2023-01-02 -0.295575 -0.746297 -0.825099  1.513621\n",
       "2023-01-03  0.387376 -0.715551  0.336643 -0.493383\n",
       "2023-01-04 -0.531299  1.437420 -0.047765 -2.063075\n",
       "2023-01-05 -0.536839  1.355357  0.347516  0.939968\n",
       "2023-01-06  0.637960 -0.186411  0.738073 -0.512852"
      ],
      "text/html": [
       "<div>\n",
       "<style scoped>\n",
       "    .dataframe tbody tr th:only-of-type {\n",
       "        vertical-align: middle;\n",
       "    }\n",
       "\n",
       "    .dataframe tbody tr th {\n",
       "        vertical-align: top;\n",
       "    }\n",
       "\n",
       "    .dataframe thead th {\n",
       "        text-align: right;\n",
       "    }\n",
       "</style>\n",
       "<table border=\"1\" class=\"dataframe\">\n",
       "  <thead>\n",
       "    <tr style=\"text-align: right;\">\n",
       "      <th></th>\n",
       "      <th>A</th>\n",
       "      <th>B</th>\n",
       "      <th>C</th>\n",
       "      <th>D</th>\n",
       "    </tr>\n",
       "  </thead>\n",
       "  <tbody>\n",
       "    <tr>\n",
       "      <th>2023-01-01</th>\n",
       "      <td>-0.566661</td>\n",
       "      <td>-0.553935</td>\n",
       "      <td>1.320878</td>\n",
       "      <td>-0.193330</td>\n",
       "    </tr>\n",
       "    <tr>\n",
       "      <th>2023-01-02</th>\n",
       "      <td>-0.295575</td>\n",
       "      <td>-0.746297</td>\n",
       "      <td>-0.825099</td>\n",
       "      <td>1.513621</td>\n",
       "    </tr>\n",
       "    <tr>\n",
       "      <th>2023-01-03</th>\n",
       "      <td>0.387376</td>\n",
       "      <td>-0.715551</td>\n",
       "      <td>0.336643</td>\n",
       "      <td>-0.493383</td>\n",
       "    </tr>\n",
       "    <tr>\n",
       "      <th>2023-01-04</th>\n",
       "      <td>-0.531299</td>\n",
       "      <td>1.437420</td>\n",
       "      <td>-0.047765</td>\n",
       "      <td>-2.063075</td>\n",
       "    </tr>\n",
       "    <tr>\n",
       "      <th>2023-01-05</th>\n",
       "      <td>-0.536839</td>\n",
       "      <td>1.355357</td>\n",
       "      <td>0.347516</td>\n",
       "      <td>0.939968</td>\n",
       "    </tr>\n",
       "    <tr>\n",
       "      <th>2023-01-06</th>\n",
       "      <td>0.637960</td>\n",
       "      <td>-0.186411</td>\n",
       "      <td>0.738073</td>\n",
       "      <td>-0.512852</td>\n",
       "    </tr>\n",
       "  </tbody>\n",
       "</table>\n",
       "</div>"
      ]
     },
     "execution_count": 3,
     "metadata": {},
     "output_type": "execute_result"
    }
   ],
   "execution_count": 3
  },
  {
   "cell_type": "markdown",
   "metadata": {
    "id": "15a7b272b844a107"
   },
   "source": [
    "#### Usando um dicionário de objetos:\n",
    "As chaves do dicionário se tornam os nomes das colunas e os valores (que podem ser listas, Series, etc.) se tornam os dados das colunas."
   ],
   "id": "15a7b272b844a107"
  },
  {
   "cell_type": "code",
   "metadata": {
    "colab": {
     "base_uri": "https://localhost:8080/",
     "height": 175
    },
    "id": "b27088632aad47f3",
    "outputId": "270795fa-561e-4d88-a729-a3c34d754554",
    "ExecuteTime": {
     "end_time": "2025-05-06T20:01:10.632612Z",
     "start_time": "2025-05-06T20:01:10.623065Z"
    }
   },
   "source": [
    "df2 = pd.DataFrame(\n",
    "    {\n",
    "        \"A\": 1.0,  # Valor escalar, será repetido para todas as linhas\n",
    "        \"B\": pd.Timestamp(\"20230102\"), # Data e hora, será repetida\n",
    "        \"C\": pd.Series(1, index=list(range(4)), dtype=\"float32\"), # Uma Series, alinhada pelo índice\n",
    "        \"D\": np.array([3] * 4, dtype=\"int32\"), # Um array NumPy\n",
    "        \"E\": pd.Categorical([\"teste\", \"treino\", \"teste\", \"treino\"]), # Dados categóricos\n",
    "        \"F\": \"foo\",  # String, será repetida\n",
    "        \"G\": [10, 20, 30, 40] # Lista, definirá o tamanho das outras colunas se não especificado\n",
    "    }\n",
    ")\n",
    "df2"
   ],
   "id": "b27088632aad47f3",
   "outputs": [
    {
     "data": {
      "text/plain": [
       "     A          B    C  D       E    F   G\n",
       "0  1.0 2023-01-02  1.0  3   teste  foo  10\n",
       "1  1.0 2023-01-02  1.0  3  treino  foo  20\n",
       "2  1.0 2023-01-02  1.0  3   teste  foo  30\n",
       "3  1.0 2023-01-02  1.0  3  treino  foo  40"
      ],
      "text/html": [
       "<div>\n",
       "<style scoped>\n",
       "    .dataframe tbody tr th:only-of-type {\n",
       "        vertical-align: middle;\n",
       "    }\n",
       "\n",
       "    .dataframe tbody tr th {\n",
       "        vertical-align: top;\n",
       "    }\n",
       "\n",
       "    .dataframe thead th {\n",
       "        text-align: right;\n",
       "    }\n",
       "</style>\n",
       "<table border=\"1\" class=\"dataframe\">\n",
       "  <thead>\n",
       "    <tr style=\"text-align: right;\">\n",
       "      <th></th>\n",
       "      <th>A</th>\n",
       "      <th>B</th>\n",
       "      <th>C</th>\n",
       "      <th>D</th>\n",
       "      <th>E</th>\n",
       "      <th>F</th>\n",
       "      <th>G</th>\n",
       "    </tr>\n",
       "  </thead>\n",
       "  <tbody>\n",
       "    <tr>\n",
       "      <th>0</th>\n",
       "      <td>1.0</td>\n",
       "      <td>2023-01-02</td>\n",
       "      <td>1.0</td>\n",
       "      <td>3</td>\n",
       "      <td>teste</td>\n",
       "      <td>foo</td>\n",
       "      <td>10</td>\n",
       "    </tr>\n",
       "    <tr>\n",
       "      <th>1</th>\n",
       "      <td>1.0</td>\n",
       "      <td>2023-01-02</td>\n",
       "      <td>1.0</td>\n",
       "      <td>3</td>\n",
       "      <td>treino</td>\n",
       "      <td>foo</td>\n",
       "      <td>20</td>\n",
       "    </tr>\n",
       "    <tr>\n",
       "      <th>2</th>\n",
       "      <td>1.0</td>\n",
       "      <td>2023-01-02</td>\n",
       "      <td>1.0</td>\n",
       "      <td>3</td>\n",
       "      <td>teste</td>\n",
       "      <td>foo</td>\n",
       "      <td>30</td>\n",
       "    </tr>\n",
       "    <tr>\n",
       "      <th>3</th>\n",
       "      <td>1.0</td>\n",
       "      <td>2023-01-02</td>\n",
       "      <td>1.0</td>\n",
       "      <td>3</td>\n",
       "      <td>treino</td>\n",
       "      <td>foo</td>\n",
       "      <td>40</td>\n",
       "    </tr>\n",
       "  </tbody>\n",
       "</table>\n",
       "</div>"
      ]
     },
     "execution_count": 4,
     "metadata": {},
     "output_type": "execute_result"
    }
   ],
   "execution_count": 4
  },
  {
   "cell_type": "markdown",
   "metadata": {
    "id": "d6e67f3d52062ab"
   },
   "source": [
    "As colunas do `DataFrame` resultante possuem diferentes `dtypes` (tipos de dados):"
   ],
   "id": "d6e67f3d52062ab"
  },
  {
   "cell_type": "code",
   "metadata": {
    "colab": {
     "base_uri": "https://localhost:8080/",
     "height": 321
    },
    "id": "8913f23d34bb437d",
    "outputId": "f5952fad-9328-4afc-c053-a4ac52cd8b91",
    "ExecuteTime": {
     "end_time": "2025-05-06T20:01:10.774337Z",
     "start_time": "2025-05-06T20:01:10.770918Z"
    }
   },
   "source": [
    "print(\"Tipos de dados (dtypes) de cada coluna em df2:\")\n",
    "df2.dtypes"
   ],
   "id": "8913f23d34bb437d",
   "outputs": [
    {
     "name": "stdout",
     "output_type": "stream",
     "text": [
      "Tipos de dados (dtypes) de cada coluna em df2:\n"
     ]
    },
    {
     "data": {
      "text/plain": [
       "A          float64\n",
       "B    datetime64[s]\n",
       "C          float32\n",
       "D            int32\n",
       "E         category\n",
       "F           object\n",
       "G            int64\n",
       "dtype: object"
      ]
     },
     "execution_count": 5,
     "metadata": {},
     "output_type": "execute_result"
    }
   ],
   "execution_count": 5
  },
  {
   "cell_type": "markdown",
   "metadata": {
    "id": "e9df09fb273b533e"
   },
   "source": [
    "Se você estiver usando IPython (como no Jupyter Notebook), o autocompletar com a tecla TAB para nomes de colunas (assim como para atributos públicos) é ativado automaticamente. Por exemplo, se você digitar `df2.` e pressionar TAB, verá uma lista de sugestões como:\n",
    "\n",
    "```\n",
    "df2.A                  df2.bool\n",
    "df2.abs                df2.boxplot\n",
    "df2.add                df2.C\n",
    "...\n",
    "```\n",
    "As colunas `A`, `B`, `C`, `D`, `E`, `F` e `G` estarão lá. O restante dos atributos foi omitido por brevidade."
   ],
   "id": "e9df09fb273b533e"
  },
  {
   "cell_type": "markdown",
   "metadata": {
    "id": "ae5a78d66abcf23b"
   },
   "source": [
    "## Visualizando Dados\n",
    "\n",
    "Formas de inspecionar rapidamente os dados em um DataFrame."
   ],
   "id": "ae5a78d66abcf23b"
  },
  {
   "cell_type": "markdown",
   "metadata": {
    "id": "f83b3223a2d13ec4"
   },
   "source": [
    "### `head()` e `tail()`\n",
    "Use `.head()` para ver as primeiras linhas e `.tail()` para ver as últimas linhas do DataFrame."
   ],
   "id": "f83b3223a2d13ec4"
  },
  {
   "cell_type": "code",
   "metadata": {
    "colab": {
     "base_uri": "https://localhost:8080/",
     "height": 385
    },
    "id": "6e8e60620398f36a",
    "outputId": "dfded973-ba72-4450-bed1-39a1dc052089",
    "ExecuteTime": {
     "end_time": "2025-05-06T20:01:10.883902Z",
     "start_time": "2025-05-06T20:01:10.874017Z"
    }
   },
   "source": [
    "print(\"Primeiras 5 linhas de df (padrão):\")\n",
    "display(df.head()) # Mostra as 5 primeiras linhas por padrão\n",
    "\n",
    "print(\"\\nÚltimas 3 linhas de df:\")\n",
    "display(df.tail(3))"
   ],
   "id": "6e8e60620398f36a",
   "outputs": [
    {
     "name": "stdout",
     "output_type": "stream",
     "text": [
      "Primeiras 5 linhas de df (padrão):\n"
     ]
    },
    {
     "data": {
      "text/plain": [
       "                   A         B         C         D\n",
       "2023-01-01 -0.566661 -0.553935  1.320878 -0.193330\n",
       "2023-01-02 -0.295575 -0.746297 -0.825099  1.513621\n",
       "2023-01-03  0.387376 -0.715551  0.336643 -0.493383\n",
       "2023-01-04 -0.531299  1.437420 -0.047765 -2.063075\n",
       "2023-01-05 -0.536839  1.355357  0.347516  0.939968"
      ],
      "text/html": [
       "<div>\n",
       "<style scoped>\n",
       "    .dataframe tbody tr th:only-of-type {\n",
       "        vertical-align: middle;\n",
       "    }\n",
       "\n",
       "    .dataframe tbody tr th {\n",
       "        vertical-align: top;\n",
       "    }\n",
       "\n",
       "    .dataframe thead th {\n",
       "        text-align: right;\n",
       "    }\n",
       "</style>\n",
       "<table border=\"1\" class=\"dataframe\">\n",
       "  <thead>\n",
       "    <tr style=\"text-align: right;\">\n",
       "      <th></th>\n",
       "      <th>A</th>\n",
       "      <th>B</th>\n",
       "      <th>C</th>\n",
       "      <th>D</th>\n",
       "    </tr>\n",
       "  </thead>\n",
       "  <tbody>\n",
       "    <tr>\n",
       "      <th>2023-01-01</th>\n",
       "      <td>-0.566661</td>\n",
       "      <td>-0.553935</td>\n",
       "      <td>1.320878</td>\n",
       "      <td>-0.193330</td>\n",
       "    </tr>\n",
       "    <tr>\n",
       "      <th>2023-01-02</th>\n",
       "      <td>-0.295575</td>\n",
       "      <td>-0.746297</td>\n",
       "      <td>-0.825099</td>\n",
       "      <td>1.513621</td>\n",
       "    </tr>\n",
       "    <tr>\n",
       "      <th>2023-01-03</th>\n",
       "      <td>0.387376</td>\n",
       "      <td>-0.715551</td>\n",
       "      <td>0.336643</td>\n",
       "      <td>-0.493383</td>\n",
       "    </tr>\n",
       "    <tr>\n",
       "      <th>2023-01-04</th>\n",
       "      <td>-0.531299</td>\n",
       "      <td>1.437420</td>\n",
       "      <td>-0.047765</td>\n",
       "      <td>-2.063075</td>\n",
       "    </tr>\n",
       "    <tr>\n",
       "      <th>2023-01-05</th>\n",
       "      <td>-0.536839</td>\n",
       "      <td>1.355357</td>\n",
       "      <td>0.347516</td>\n",
       "      <td>0.939968</td>\n",
       "    </tr>\n",
       "  </tbody>\n",
       "</table>\n",
       "</div>"
      ]
     },
     "metadata": {},
     "output_type": "display_data"
    },
    {
     "name": "stdout",
     "output_type": "stream",
     "text": [
      "\n",
      "Últimas 3 linhas de df:\n"
     ]
    },
    {
     "data": {
      "text/plain": [
       "                   A         B         C         D\n",
       "2023-01-04 -0.531299  1.437420 -0.047765 -2.063075\n",
       "2023-01-05 -0.536839  1.355357  0.347516  0.939968\n",
       "2023-01-06  0.637960 -0.186411  0.738073 -0.512852"
      ],
      "text/html": [
       "<div>\n",
       "<style scoped>\n",
       "    .dataframe tbody tr th:only-of-type {\n",
       "        vertical-align: middle;\n",
       "    }\n",
       "\n",
       "    .dataframe tbody tr th {\n",
       "        vertical-align: top;\n",
       "    }\n",
       "\n",
       "    .dataframe thead th {\n",
       "        text-align: right;\n",
       "    }\n",
       "</style>\n",
       "<table border=\"1\" class=\"dataframe\">\n",
       "  <thead>\n",
       "    <tr style=\"text-align: right;\">\n",
       "      <th></th>\n",
       "      <th>A</th>\n",
       "      <th>B</th>\n",
       "      <th>C</th>\n",
       "      <th>D</th>\n",
       "    </tr>\n",
       "  </thead>\n",
       "  <tbody>\n",
       "    <tr>\n",
       "      <th>2023-01-04</th>\n",
       "      <td>-0.531299</td>\n",
       "      <td>1.437420</td>\n",
       "      <td>-0.047765</td>\n",
       "      <td>-2.063075</td>\n",
       "    </tr>\n",
       "    <tr>\n",
       "      <th>2023-01-05</th>\n",
       "      <td>-0.536839</td>\n",
       "      <td>1.355357</td>\n",
       "      <td>0.347516</td>\n",
       "      <td>0.939968</td>\n",
       "    </tr>\n",
       "    <tr>\n",
       "      <th>2023-01-06</th>\n",
       "      <td>0.637960</td>\n",
       "      <td>-0.186411</td>\n",
       "      <td>0.738073</td>\n",
       "      <td>-0.512852</td>\n",
       "    </tr>\n",
       "  </tbody>\n",
       "</table>\n",
       "</div>"
      ]
     },
     "metadata": {},
     "output_type": "display_data"
    }
   ],
   "execution_count": 6
  },
  {
   "cell_type": "markdown",
   "metadata": {
    "id": "6481246cb54c7ee6"
   },
   "source": [
    "### `index`, `columns`\n",
    "Exiba o índice (rótulos das linhas) ou as colunas (rótulos das colunas) do DataFrame."
   ],
   "id": "6481246cb54c7ee6"
  },
  {
   "cell_type": "code",
   "metadata": {
    "colab": {
     "base_uri": "https://localhost:8080/"
    },
    "id": "fcaab49256a50317",
    "outputId": "e5582a9e-dd22-49ae-a6f3-7ad5ebc4daa5",
    "ExecuteTime": {
     "end_time": "2025-05-06T20:01:11.049714Z",
     "start_time": "2025-05-06T20:01:11.033290Z"
    }
   },
   "source": [
    "print(\"Índice de df:\")\n",
    "print(df.index)\n",
    "\n",
    "print(\"\\nColunas de df:\")\n",
    "print(df.columns)"
   ],
   "id": "fcaab49256a50317",
   "outputs": [
    {
     "name": "stdout",
     "output_type": "stream",
     "text": [
      "Índice de df:\n",
      "DatetimeIndex(['2023-01-01', '2023-01-02', '2023-01-03', '2023-01-04',\n",
      "               '2023-01-05', '2023-01-06'],\n",
      "              dtype='datetime64[ns]', freq='D')\n",
      "\n",
      "Colunas de df:\n",
      "Index(['A', 'B', 'C', 'D'], dtype='object')\n"
     ]
    }
   ],
   "execution_count": 7
  },
  {
   "cell_type": "markdown",
   "metadata": {
    "id": "60f13468c675c0fa"
   },
   "source": [
    "### `to_numpy()`\n",
    "Retorna uma representação NumPy dos dados subjacentes do DataFrame, *sem* os rótulos de índice ou coluna."
   ],
   "id": "60f13468c675c0fa"
  },
  {
   "cell_type": "code",
   "metadata": {
    "colab": {
     "base_uri": "https://localhost:8080/"
    },
    "id": "41ded0d115418262",
    "outputId": "a6ca87b3-1f39-44b3-e7f9-bfc3b0247234",
    "ExecuteTime": {
     "end_time": "2025-05-06T20:01:11.206590Z",
     "start_time": "2025-05-06T20:01:11.204418Z"
    }
   },
   "source": [
    "print(\"Representação NumPy de df:\")\n",
    "df_numpy = df.to_numpy()\n",
    "print(df_numpy)"
   ],
   "id": "41ded0d115418262",
   "outputs": [
    {
     "name": "stdout",
     "output_type": "stream",
     "text": [
      "Representação NumPy de df:\n",
      "[[-0.56666056 -0.55393464  1.32087803 -0.19333028]\n",
      " [-0.29557456 -0.74629703 -0.82509923  1.51362093]\n",
      " [ 0.38737648 -0.71555111  0.33664257 -0.49338321]\n",
      " [-0.5312989   1.43741977 -0.04776482 -2.06307453]\n",
      " [-0.53683865  1.35535678  0.34751614  0.93996751]\n",
      " [ 0.63796021 -0.18641066  0.73807316 -0.51285238]]\n"
     ]
    }
   ],
   "execution_count": 8
  },
  {
   "cell_type": "markdown",
   "metadata": {
    "id": "a44ee25d7b7e5885"
   },
   "source": [
    "> **Nota:** Arrays NumPy possuem um único `dtype` para todo o array, enquanto DataFrames Pandas têm um `dtype` por coluna. Ao chamar `DataFrame.to_numpy()`, o Pandas encontrará o `dtype` NumPy que pode comportar *todos* os `dtypes` do DataFrame. Se o tipo de dado comum for `object`, `to_numpy()` exigirá a cópia dos dados, o que pode ser custoso para DataFrames grandes."
   ],
   "id": "a44ee25d7b7e5885"
  },
  {
   "cell_type": "code",
   "metadata": {
    "colab": {
     "base_uri": "https://localhost:8080/"
    },
    "id": "b426604dd944139e",
    "outputId": "4a5249f0-4edf-4b71-c98e-d6d89d917f71",
    "ExecuteTime": {
     "end_time": "2025-05-06T20:01:11.239910Z",
     "start_time": "2025-05-06T20:01:11.236054Z"
    }
   },
   "source": [
    "print(\"Tipos de dados de df2:\")\n",
    "print(df2.dtypes)\n",
    "print(\"\\nRepresentação NumPy de df2:\")\n",
    "df2_numpy = df2.to_numpy()\n",
    "print(df2_numpy)\n",
    "print(f\"\\nTipo do array NumPy resultante para df2: {df2_numpy.dtype}\")"
   ],
   "id": "b426604dd944139e",
   "outputs": [
    {
     "name": "stdout",
     "output_type": "stream",
     "text": [
      "Tipos de dados de df2:\n",
      "A          float64\n",
      "B    datetime64[s]\n",
      "C          float32\n",
      "D            int32\n",
      "E         category\n",
      "F           object\n",
      "G            int64\n",
      "dtype: object\n",
      "\n",
      "Representação NumPy de df2:\n",
      "[[1.0 Timestamp('2023-01-02 00:00:00') 1.0 3 'teste' 'foo' 10]\n",
      " [1.0 Timestamp('2023-01-02 00:00:00') 1.0 3 'treino' 'foo' 20]\n",
      " [1.0 Timestamp('2023-01-02 00:00:00') 1.0 3 'teste' 'foo' 30]\n",
      " [1.0 Timestamp('2023-01-02 00:00:00') 1.0 3 'treino' 'foo' 40]]\n",
      "\n",
      "Tipo do array NumPy resultante para df2: object\n"
     ]
    }
   ],
   "execution_count": 9
  },
  {
   "cell_type": "markdown",
   "metadata": {
    "id": "9d9dfda44607f843"
   },
   "source": [
    "Observe como o `dtype` do array NumPy para `df2` se tornou `object` porque `df2` contém múltiplos tipos de dados (float, datetime, int, category, string) que não podem ser representados por um único tipo NumPy mais específico sem perda de informação."
   ],
   "id": "9d9dfda44607f843"
  },
  {
   "cell_type": "markdown",
   "metadata": {
    "id": "ce18b551e6081fa"
   },
   "source": [
    "### `describe()`\n",
    "Mostra um resumo estatístico rápido dos seus dados. Para colunas numéricas, inclui contagem, média, desvio padrão, mínimo, máximo e os percentis."
   ],
   "id": "ce18b551e6081fa"
  },
  {
   "cell_type": "code",
   "metadata": {
    "colab": {
     "base_uri": "https://localhost:8080/",
     "height": 318
    },
    "id": "4c91d435544db958",
    "outputId": "d2b56658-4349-4c96-87fd-326ac37c34b2",
    "ExecuteTime": {
     "end_time": "2025-05-06T20:01:11.273973Z",
     "start_time": "2025-05-06T20:01:11.265990Z"
    }
   },
   "source": [
    "print(\"Resumo estatístico de df (colunas numéricas):\")\n",
    "display(df.describe())"
   ],
   "id": "4c91d435544db958",
   "outputs": [
    {
     "name": "stdout",
     "output_type": "stream",
     "text": [
      "Resumo estatístico de df (colunas numéricas):\n"
     ]
    },
    {
     "data": {
      "text/plain": [
       "              A         B         C         D\n",
       "count  6.000000  6.000000  6.000000  6.000000\n",
       "mean  -0.150839  0.098431  0.311708 -0.134842\n",
       "std    0.529052  1.025242  0.724385  1.254240\n",
       "min   -0.566661 -0.746297 -0.825099 -2.063075\n",
       "25%   -0.535454 -0.675147  0.048337 -0.507985\n",
       "50%   -0.413437 -0.370173  0.342079 -0.343357\n",
       "75%    0.216639  0.969915  0.640434  0.656643\n",
       "max    0.637960  1.437420  1.320878  1.513621"
      ],
      "text/html": [
       "<div>\n",
       "<style scoped>\n",
       "    .dataframe tbody tr th:only-of-type {\n",
       "        vertical-align: middle;\n",
       "    }\n",
       "\n",
       "    .dataframe tbody tr th {\n",
       "        vertical-align: top;\n",
       "    }\n",
       "\n",
       "    .dataframe thead th {\n",
       "        text-align: right;\n",
       "    }\n",
       "</style>\n",
       "<table border=\"1\" class=\"dataframe\">\n",
       "  <thead>\n",
       "    <tr style=\"text-align: right;\">\n",
       "      <th></th>\n",
       "      <th>A</th>\n",
       "      <th>B</th>\n",
       "      <th>C</th>\n",
       "      <th>D</th>\n",
       "    </tr>\n",
       "  </thead>\n",
       "  <tbody>\n",
       "    <tr>\n",
       "      <th>count</th>\n",
       "      <td>6.000000</td>\n",
       "      <td>6.000000</td>\n",
       "      <td>6.000000</td>\n",
       "      <td>6.000000</td>\n",
       "    </tr>\n",
       "    <tr>\n",
       "      <th>mean</th>\n",
       "      <td>-0.150839</td>\n",
       "      <td>0.098431</td>\n",
       "      <td>0.311708</td>\n",
       "      <td>-0.134842</td>\n",
       "    </tr>\n",
       "    <tr>\n",
       "      <th>std</th>\n",
       "      <td>0.529052</td>\n",
       "      <td>1.025242</td>\n",
       "      <td>0.724385</td>\n",
       "      <td>1.254240</td>\n",
       "    </tr>\n",
       "    <tr>\n",
       "      <th>min</th>\n",
       "      <td>-0.566661</td>\n",
       "      <td>-0.746297</td>\n",
       "      <td>-0.825099</td>\n",
       "      <td>-2.063075</td>\n",
       "    </tr>\n",
       "    <tr>\n",
       "      <th>25%</th>\n",
       "      <td>-0.535454</td>\n",
       "      <td>-0.675147</td>\n",
       "      <td>0.048337</td>\n",
       "      <td>-0.507985</td>\n",
       "    </tr>\n",
       "    <tr>\n",
       "      <th>50%</th>\n",
       "      <td>-0.413437</td>\n",
       "      <td>-0.370173</td>\n",
       "      <td>0.342079</td>\n",
       "      <td>-0.343357</td>\n",
       "    </tr>\n",
       "    <tr>\n",
       "      <th>75%</th>\n",
       "      <td>0.216639</td>\n",
       "      <td>0.969915</td>\n",
       "      <td>0.640434</td>\n",
       "      <td>0.656643</td>\n",
       "    </tr>\n",
       "    <tr>\n",
       "      <th>max</th>\n",
       "      <td>0.637960</td>\n",
       "      <td>1.437420</td>\n",
       "      <td>1.320878</td>\n",
       "      <td>1.513621</td>\n",
       "    </tr>\n",
       "  </tbody>\n",
       "</table>\n",
       "</div>"
      ]
     },
     "metadata": {},
     "output_type": "display_data"
    }
   ],
   "execution_count": 10
  },
  {
   "cell_type": "markdown",
   "metadata": {
    "id": "9fd77c1701978048"
   },
   "source": [
    "Para `df2`, que tem tipos mistos, `describe()` se comportará de forma diferente, mostrando estatísticas para colunas numéricas e informações descritivas para colunas `object` ou `categorical` se incluídas."
   ],
   "id": "9fd77c1701978048"
  },
  {
   "cell_type": "code",
   "metadata": {
    "colab": {
     "base_uri": "https://localhost:8080/",
     "height": 412
    },
    "id": "fd8cdde26dbbd72",
    "outputId": "af58a5c7-efcb-4f91-ddf1-055d4c1c44d5",
    "ExecuteTime": {
     "end_time": "2025-05-06T20:01:11.341591Z",
     "start_time": "2025-05-06T20:01:11.329459Z"
    }
   },
   "source": [
    "print(\"Resumo estatístico de df2 (incluindo todos os tipos):\")\n",
    "display(df2.describe(include='all'))"
   ],
   "id": "fd8cdde26dbbd72",
   "outputs": [
    {
     "name": "stdout",
     "output_type": "stream",
     "text": [
      "Resumo estatístico de df2 (incluindo todos os tipos):\n"
     ]
    },
    {
     "data": {
      "text/plain": [
       "          A                    B    C    D      E    F          G\n",
       "count   4.0                    4  4.0  4.0      4    4   4.000000\n",
       "unique  NaN                  NaN  NaN  NaN      2    1        NaN\n",
       "top     NaN                  NaN  NaN  NaN  teste  foo        NaN\n",
       "freq    NaN                  NaN  NaN  NaN      2    4        NaN\n",
       "mean    1.0  2023-01-02 00:00:00  1.0  3.0    NaN  NaN  25.000000\n",
       "min     1.0  2023-01-02 00:00:00  1.0  3.0    NaN  NaN  10.000000\n",
       "25%     1.0  2023-01-02 00:00:00  1.0  3.0    NaN  NaN  17.500000\n",
       "50%     1.0  2023-01-02 00:00:00  1.0  3.0    NaN  NaN  25.000000\n",
       "75%     1.0  2023-01-02 00:00:00  1.0  3.0    NaN  NaN  32.500000\n",
       "max     1.0  2023-01-02 00:00:00  1.0  3.0    NaN  NaN  40.000000\n",
       "std     0.0                  NaN  0.0  0.0    NaN  NaN  12.909944"
      ],
      "text/html": [
       "<div>\n",
       "<style scoped>\n",
       "    .dataframe tbody tr th:only-of-type {\n",
       "        vertical-align: middle;\n",
       "    }\n",
       "\n",
       "    .dataframe tbody tr th {\n",
       "        vertical-align: top;\n",
       "    }\n",
       "\n",
       "    .dataframe thead th {\n",
       "        text-align: right;\n",
       "    }\n",
       "</style>\n",
       "<table border=\"1\" class=\"dataframe\">\n",
       "  <thead>\n",
       "    <tr style=\"text-align: right;\">\n",
       "      <th></th>\n",
       "      <th>A</th>\n",
       "      <th>B</th>\n",
       "      <th>C</th>\n",
       "      <th>D</th>\n",
       "      <th>E</th>\n",
       "      <th>F</th>\n",
       "      <th>G</th>\n",
       "    </tr>\n",
       "  </thead>\n",
       "  <tbody>\n",
       "    <tr>\n",
       "      <th>count</th>\n",
       "      <td>4.0</td>\n",
       "      <td>4</td>\n",
       "      <td>4.0</td>\n",
       "      <td>4.0</td>\n",
       "      <td>4</td>\n",
       "      <td>4</td>\n",
       "      <td>4.000000</td>\n",
       "    </tr>\n",
       "    <tr>\n",
       "      <th>unique</th>\n",
       "      <td>NaN</td>\n",
       "      <td>NaN</td>\n",
       "      <td>NaN</td>\n",
       "      <td>NaN</td>\n",
       "      <td>2</td>\n",
       "      <td>1</td>\n",
       "      <td>NaN</td>\n",
       "    </tr>\n",
       "    <tr>\n",
       "      <th>top</th>\n",
       "      <td>NaN</td>\n",
       "      <td>NaN</td>\n",
       "      <td>NaN</td>\n",
       "      <td>NaN</td>\n",
       "      <td>teste</td>\n",
       "      <td>foo</td>\n",
       "      <td>NaN</td>\n",
       "    </tr>\n",
       "    <tr>\n",
       "      <th>freq</th>\n",
       "      <td>NaN</td>\n",
       "      <td>NaN</td>\n",
       "      <td>NaN</td>\n",
       "      <td>NaN</td>\n",
       "      <td>2</td>\n",
       "      <td>4</td>\n",
       "      <td>NaN</td>\n",
       "    </tr>\n",
       "    <tr>\n",
       "      <th>mean</th>\n",
       "      <td>1.0</td>\n",
       "      <td>2023-01-02 00:00:00</td>\n",
       "      <td>1.0</td>\n",
       "      <td>3.0</td>\n",
       "      <td>NaN</td>\n",
       "      <td>NaN</td>\n",
       "      <td>25.000000</td>\n",
       "    </tr>\n",
       "    <tr>\n",
       "      <th>min</th>\n",
       "      <td>1.0</td>\n",
       "      <td>2023-01-02 00:00:00</td>\n",
       "      <td>1.0</td>\n",
       "      <td>3.0</td>\n",
       "      <td>NaN</td>\n",
       "      <td>NaN</td>\n",
       "      <td>10.000000</td>\n",
       "    </tr>\n",
       "    <tr>\n",
       "      <th>25%</th>\n",
       "      <td>1.0</td>\n",
       "      <td>2023-01-02 00:00:00</td>\n",
       "      <td>1.0</td>\n",
       "      <td>3.0</td>\n",
       "      <td>NaN</td>\n",
       "      <td>NaN</td>\n",
       "      <td>17.500000</td>\n",
       "    </tr>\n",
       "    <tr>\n",
       "      <th>50%</th>\n",
       "      <td>1.0</td>\n",
       "      <td>2023-01-02 00:00:00</td>\n",
       "      <td>1.0</td>\n",
       "      <td>3.0</td>\n",
       "      <td>NaN</td>\n",
       "      <td>NaN</td>\n",
       "      <td>25.000000</td>\n",
       "    </tr>\n",
       "    <tr>\n",
       "      <th>75%</th>\n",
       "      <td>1.0</td>\n",
       "      <td>2023-01-02 00:00:00</td>\n",
       "      <td>1.0</td>\n",
       "      <td>3.0</td>\n",
       "      <td>NaN</td>\n",
       "      <td>NaN</td>\n",
       "      <td>32.500000</td>\n",
       "    </tr>\n",
       "    <tr>\n",
       "      <th>max</th>\n",
       "      <td>1.0</td>\n",
       "      <td>2023-01-02 00:00:00</td>\n",
       "      <td>1.0</td>\n",
       "      <td>3.0</td>\n",
       "      <td>NaN</td>\n",
       "      <td>NaN</td>\n",
       "      <td>40.000000</td>\n",
       "    </tr>\n",
       "    <tr>\n",
       "      <th>std</th>\n",
       "      <td>0.0</td>\n",
       "      <td>NaN</td>\n",
       "      <td>0.0</td>\n",
       "      <td>0.0</td>\n",
       "      <td>NaN</td>\n",
       "      <td>NaN</td>\n",
       "      <td>12.909944</td>\n",
       "    </tr>\n",
       "  </tbody>\n",
       "</table>\n",
       "</div>"
      ]
     },
     "metadata": {},
     "output_type": "display_data"
    }
   ],
   "execution_count": 11
  },
  {
   "cell_type": "markdown",
   "metadata": {
    "id": "c3d20e887b7fdc19"
   },
   "source": [
    "### Transposição de Dados\n",
    "Troca linhas por colunas."
   ],
   "id": "c3d20e887b7fdc19"
  },
  {
   "cell_type": "code",
   "metadata": {
    "colab": {
     "base_uri": "https://localhost:8080/",
     "height": 259
    },
    "id": "b6cf8c6d8621d2b2",
    "outputId": "fb1ad668-e545-4db5-b454-985fae314d47",
    "ExecuteTime": {
     "end_time": "2025-05-06T20:01:11.425445Z",
     "start_time": "2025-05-06T20:01:11.417143Z"
    }
   },
   "source": [
    "print(\"DataFrame df original:\")\n",
    "display(df.head(2))\n",
    "print(\"\\nDataFrame df transposto (df.T):\")\n",
    "display(df.T.head(2)) # Mostrando apenas as primeiras 2 linhas do transposto para brevidade"
   ],
   "id": "b6cf8c6d8621d2b2",
   "outputs": [
    {
     "name": "stdout",
     "output_type": "stream",
     "text": [
      "DataFrame df original:\n"
     ]
    },
    {
     "data": {
      "text/plain": [
       "                   A         B         C         D\n",
       "2023-01-01 -0.566661 -0.553935  1.320878 -0.193330\n",
       "2023-01-02 -0.295575 -0.746297 -0.825099  1.513621"
      ],
      "text/html": [
       "<div>\n",
       "<style scoped>\n",
       "    .dataframe tbody tr th:only-of-type {\n",
       "        vertical-align: middle;\n",
       "    }\n",
       "\n",
       "    .dataframe tbody tr th {\n",
       "        vertical-align: top;\n",
       "    }\n",
       "\n",
       "    .dataframe thead th {\n",
       "        text-align: right;\n",
       "    }\n",
       "</style>\n",
       "<table border=\"1\" class=\"dataframe\">\n",
       "  <thead>\n",
       "    <tr style=\"text-align: right;\">\n",
       "      <th></th>\n",
       "      <th>A</th>\n",
       "      <th>B</th>\n",
       "      <th>C</th>\n",
       "      <th>D</th>\n",
       "    </tr>\n",
       "  </thead>\n",
       "  <tbody>\n",
       "    <tr>\n",
       "      <th>2023-01-01</th>\n",
       "      <td>-0.566661</td>\n",
       "      <td>-0.553935</td>\n",
       "      <td>1.320878</td>\n",
       "      <td>-0.193330</td>\n",
       "    </tr>\n",
       "    <tr>\n",
       "      <th>2023-01-02</th>\n",
       "      <td>-0.295575</td>\n",
       "      <td>-0.746297</td>\n",
       "      <td>-0.825099</td>\n",
       "      <td>1.513621</td>\n",
       "    </tr>\n",
       "  </tbody>\n",
       "</table>\n",
       "</div>"
      ]
     },
     "metadata": {},
     "output_type": "display_data"
    },
    {
     "name": "stdout",
     "output_type": "stream",
     "text": [
      "\n",
      "DataFrame df transposto (df.T):\n"
     ]
    },
    {
     "data": {
      "text/plain": [
       "   2023-01-01  2023-01-02  2023-01-03  2023-01-04  2023-01-05  2023-01-06\n",
       "A   -0.566661   -0.295575    0.387376   -0.531299   -0.536839    0.637960\n",
       "B   -0.553935   -0.746297   -0.715551    1.437420    1.355357   -0.186411"
      ],
      "text/html": [
       "<div>\n",
       "<style scoped>\n",
       "    .dataframe tbody tr th:only-of-type {\n",
       "        vertical-align: middle;\n",
       "    }\n",
       "\n",
       "    .dataframe tbody tr th {\n",
       "        vertical-align: top;\n",
       "    }\n",
       "\n",
       "    .dataframe thead th {\n",
       "        text-align: right;\n",
       "    }\n",
       "</style>\n",
       "<table border=\"1\" class=\"dataframe\">\n",
       "  <thead>\n",
       "    <tr style=\"text-align: right;\">\n",
       "      <th></th>\n",
       "      <th>2023-01-01</th>\n",
       "      <th>2023-01-02</th>\n",
       "      <th>2023-01-03</th>\n",
       "      <th>2023-01-04</th>\n",
       "      <th>2023-01-05</th>\n",
       "      <th>2023-01-06</th>\n",
       "    </tr>\n",
       "  </thead>\n",
       "  <tbody>\n",
       "    <tr>\n",
       "      <th>A</th>\n",
       "      <td>-0.566661</td>\n",
       "      <td>-0.295575</td>\n",
       "      <td>0.387376</td>\n",
       "      <td>-0.531299</td>\n",
       "      <td>-0.536839</td>\n",
       "      <td>0.637960</td>\n",
       "    </tr>\n",
       "    <tr>\n",
       "      <th>B</th>\n",
       "      <td>-0.553935</td>\n",
       "      <td>-0.746297</td>\n",
       "      <td>-0.715551</td>\n",
       "      <td>1.437420</td>\n",
       "      <td>1.355357</td>\n",
       "      <td>-0.186411</td>\n",
       "    </tr>\n",
       "  </tbody>\n",
       "</table>\n",
       "</div>"
      ]
     },
     "metadata": {},
     "output_type": "display_data"
    }
   ],
   "execution_count": 12
  },
  {
   "cell_type": "markdown",
   "metadata": {
    "id": "e7db77b239f36ba1"
   },
   "source": [
    "### Ordenação\n",
    "\n",
    "#### `sort_index()`\n",
    "Ordena por um eixo (índice de linhas ou colunas)."
   ],
   "id": "e7db77b239f36ba1"
  },
  {
   "cell_type": "code",
   "metadata": {
    "colab": {
     "base_uri": "https://localhost:8080/",
     "height": 224
    },
    "id": "c2b6326abeac8569",
    "outputId": "c3a2d93d-d3f8-484e-ccae-87861b9190f8",
    "ExecuteTime": {
     "end_time": "2025-05-06T20:01:11.631245Z",
     "start_time": "2025-05-06T20:01:11.625993Z"
    }
   },
   "source": [
    "# Ordenando as colunas (axis=1) em ordem descendente (ascending=False)\n",
    "print(\"df ordenado pelas colunas em ordem descendente:\")\n",
    "display(df.sort_index(axis=1, ascending=False).head())"
   ],
   "id": "c2b6326abeac8569",
   "outputs": [
    {
     "name": "stdout",
     "output_type": "stream",
     "text": [
      "df ordenado pelas colunas em ordem descendente:\n"
     ]
    },
    {
     "data": {
      "text/plain": [
       "                   D         C         B         A\n",
       "2023-01-01 -0.193330  1.320878 -0.553935 -0.566661\n",
       "2023-01-02  1.513621 -0.825099 -0.746297 -0.295575\n",
       "2023-01-03 -0.493383  0.336643 -0.715551  0.387376\n",
       "2023-01-04 -2.063075 -0.047765  1.437420 -0.531299\n",
       "2023-01-05  0.939968  0.347516  1.355357 -0.536839"
      ],
      "text/html": [
       "<div>\n",
       "<style scoped>\n",
       "    .dataframe tbody tr th:only-of-type {\n",
       "        vertical-align: middle;\n",
       "    }\n",
       "\n",
       "    .dataframe tbody tr th {\n",
       "        vertical-align: top;\n",
       "    }\n",
       "\n",
       "    .dataframe thead th {\n",
       "        text-align: right;\n",
       "    }\n",
       "</style>\n",
       "<table border=\"1\" class=\"dataframe\">\n",
       "  <thead>\n",
       "    <tr style=\"text-align: right;\">\n",
       "      <th></th>\n",
       "      <th>D</th>\n",
       "      <th>C</th>\n",
       "      <th>B</th>\n",
       "      <th>A</th>\n",
       "    </tr>\n",
       "  </thead>\n",
       "  <tbody>\n",
       "    <tr>\n",
       "      <th>2023-01-01</th>\n",
       "      <td>-0.193330</td>\n",
       "      <td>1.320878</td>\n",
       "      <td>-0.553935</td>\n",
       "      <td>-0.566661</td>\n",
       "    </tr>\n",
       "    <tr>\n",
       "      <th>2023-01-02</th>\n",
       "      <td>1.513621</td>\n",
       "      <td>-0.825099</td>\n",
       "      <td>-0.746297</td>\n",
       "      <td>-0.295575</td>\n",
       "    </tr>\n",
       "    <tr>\n",
       "      <th>2023-01-03</th>\n",
       "      <td>-0.493383</td>\n",
       "      <td>0.336643</td>\n",
       "      <td>-0.715551</td>\n",
       "      <td>0.387376</td>\n",
       "    </tr>\n",
       "    <tr>\n",
       "      <th>2023-01-04</th>\n",
       "      <td>-2.063075</td>\n",
       "      <td>-0.047765</td>\n",
       "      <td>1.437420</td>\n",
       "      <td>-0.531299</td>\n",
       "    </tr>\n",
       "    <tr>\n",
       "      <th>2023-01-05</th>\n",
       "      <td>0.939968</td>\n",
       "      <td>0.347516</td>\n",
       "      <td>1.355357</td>\n",
       "      <td>-0.536839</td>\n",
       "    </tr>\n",
       "  </tbody>\n",
       "</table>\n",
       "</div>"
      ]
     },
     "metadata": {},
     "output_type": "display_data"
    }
   ],
   "execution_count": 13
  },
  {
   "cell_type": "code",
   "metadata": {
    "colab": {
     "base_uri": "https://localhost:8080/",
     "height": 224
    },
    "id": "39a0d6011fa7e078",
    "outputId": "51fbc9aa-d430-400d-c68d-2d04ecbc4bb2",
    "ExecuteTime": {
     "end_time": "2025-05-06T20:01:11.759815Z",
     "start_time": "2025-05-06T20:01:11.754636Z"
    }
   },
   "source": [
    "# Ordenando as linhas (axis=0, padrão) em ordem descendente\n",
    "print(\"df ordenado pelas linhas (índice) em ordem descendente:\")\n",
    "display(df.sort_index(axis=0, ascending=False).head())"
   ],
   "id": "39a0d6011fa7e078",
   "outputs": [
    {
     "name": "stdout",
     "output_type": "stream",
     "text": [
      "df ordenado pelas linhas (índice) em ordem descendente:\n"
     ]
    },
    {
     "data": {
      "text/plain": [
       "                   A         B         C         D\n",
       "2023-01-06  0.637960 -0.186411  0.738073 -0.512852\n",
       "2023-01-05 -0.536839  1.355357  0.347516  0.939968\n",
       "2023-01-04 -0.531299  1.437420 -0.047765 -2.063075\n",
       "2023-01-03  0.387376 -0.715551  0.336643 -0.493383\n",
       "2023-01-02 -0.295575 -0.746297 -0.825099  1.513621"
      ],
      "text/html": [
       "<div>\n",
       "<style scoped>\n",
       "    .dataframe tbody tr th:only-of-type {\n",
       "        vertical-align: middle;\n",
       "    }\n",
       "\n",
       "    .dataframe tbody tr th {\n",
       "        vertical-align: top;\n",
       "    }\n",
       "\n",
       "    .dataframe thead th {\n",
       "        text-align: right;\n",
       "    }\n",
       "</style>\n",
       "<table border=\"1\" class=\"dataframe\">\n",
       "  <thead>\n",
       "    <tr style=\"text-align: right;\">\n",
       "      <th></th>\n",
       "      <th>A</th>\n",
       "      <th>B</th>\n",
       "      <th>C</th>\n",
       "      <th>D</th>\n",
       "    </tr>\n",
       "  </thead>\n",
       "  <tbody>\n",
       "    <tr>\n",
       "      <th>2023-01-06</th>\n",
       "      <td>0.637960</td>\n",
       "      <td>-0.186411</td>\n",
       "      <td>0.738073</td>\n",
       "      <td>-0.512852</td>\n",
       "    </tr>\n",
       "    <tr>\n",
       "      <th>2023-01-05</th>\n",
       "      <td>-0.536839</td>\n",
       "      <td>1.355357</td>\n",
       "      <td>0.347516</td>\n",
       "      <td>0.939968</td>\n",
       "    </tr>\n",
       "    <tr>\n",
       "      <th>2023-01-04</th>\n",
       "      <td>-0.531299</td>\n",
       "      <td>1.437420</td>\n",
       "      <td>-0.047765</td>\n",
       "      <td>-2.063075</td>\n",
       "    </tr>\n",
       "    <tr>\n",
       "      <th>2023-01-03</th>\n",
       "      <td>0.387376</td>\n",
       "      <td>-0.715551</td>\n",
       "      <td>0.336643</td>\n",
       "      <td>-0.493383</td>\n",
       "    </tr>\n",
       "    <tr>\n",
       "      <th>2023-01-02</th>\n",
       "      <td>-0.295575</td>\n",
       "      <td>-0.746297</td>\n",
       "      <td>-0.825099</td>\n",
       "      <td>1.513621</td>\n",
       "    </tr>\n",
       "  </tbody>\n",
       "</table>\n",
       "</div>"
      ]
     },
     "metadata": {},
     "output_type": "display_data"
    }
   ],
   "execution_count": 14
  },
  {
   "cell_type": "markdown",
   "metadata": {
    "id": "abb090bd557bde7e"
   },
   "source": [
    "#### `sort_values()`\n",
    "Ordena pelos valores de uma ou mais colunas."
   ],
   "id": "abb090bd557bde7e"
  },
  {
   "cell_type": "code",
   "metadata": {
    "colab": {
     "base_uri": "https://localhost:8080/",
     "height": 224
    },
    "id": "af42bc5b582c500",
    "outputId": "7972037d-865a-44d2-e9eb-eba207608f26",
    "ExecuteTime": {
     "end_time": "2025-05-06T20:01:11.834618Z",
     "start_time": "2025-05-06T20:01:11.829844Z"
    }
   },
   "source": [
    "# Ordenando df pelos valores da coluna 'B' em ordem ascendente (padrão)\n",
    "print(\"df ordenado pelos valores da coluna 'B':\")\n",
    "display(df.sort_values(by=\"B\").head())"
   ],
   "id": "af42bc5b582c500",
   "outputs": [
    {
     "name": "stdout",
     "output_type": "stream",
     "text": [
      "df ordenado pelos valores da coluna 'B':\n"
     ]
    },
    {
     "data": {
      "text/plain": [
       "                   A         B         C         D\n",
       "2023-01-02 -0.295575 -0.746297 -0.825099  1.513621\n",
       "2023-01-03  0.387376 -0.715551  0.336643 -0.493383\n",
       "2023-01-01 -0.566661 -0.553935  1.320878 -0.193330\n",
       "2023-01-06  0.637960 -0.186411  0.738073 -0.512852\n",
       "2023-01-05 -0.536839  1.355357  0.347516  0.939968"
      ],
      "text/html": [
       "<div>\n",
       "<style scoped>\n",
       "    .dataframe tbody tr th:only-of-type {\n",
       "        vertical-align: middle;\n",
       "    }\n",
       "\n",
       "    .dataframe tbody tr th {\n",
       "        vertical-align: top;\n",
       "    }\n",
       "\n",
       "    .dataframe thead th {\n",
       "        text-align: right;\n",
       "    }\n",
       "</style>\n",
       "<table border=\"1\" class=\"dataframe\">\n",
       "  <thead>\n",
       "    <tr style=\"text-align: right;\">\n",
       "      <th></th>\n",
       "      <th>A</th>\n",
       "      <th>B</th>\n",
       "      <th>C</th>\n",
       "      <th>D</th>\n",
       "    </tr>\n",
       "  </thead>\n",
       "  <tbody>\n",
       "    <tr>\n",
       "      <th>2023-01-02</th>\n",
       "      <td>-0.295575</td>\n",
       "      <td>-0.746297</td>\n",
       "      <td>-0.825099</td>\n",
       "      <td>1.513621</td>\n",
       "    </tr>\n",
       "    <tr>\n",
       "      <th>2023-01-03</th>\n",
       "      <td>0.387376</td>\n",
       "      <td>-0.715551</td>\n",
       "      <td>0.336643</td>\n",
       "      <td>-0.493383</td>\n",
       "    </tr>\n",
       "    <tr>\n",
       "      <th>2023-01-01</th>\n",
       "      <td>-0.566661</td>\n",
       "      <td>-0.553935</td>\n",
       "      <td>1.320878</td>\n",
       "      <td>-0.193330</td>\n",
       "    </tr>\n",
       "    <tr>\n",
       "      <th>2023-01-06</th>\n",
       "      <td>0.637960</td>\n",
       "      <td>-0.186411</td>\n",
       "      <td>0.738073</td>\n",
       "      <td>-0.512852</td>\n",
       "    </tr>\n",
       "    <tr>\n",
       "      <th>2023-01-05</th>\n",
       "      <td>-0.536839</td>\n",
       "      <td>1.355357</td>\n",
       "      <td>0.347516</td>\n",
       "      <td>0.939968</td>\n",
       "    </tr>\n",
       "  </tbody>\n",
       "</table>\n",
       "</div>"
      ]
     },
     "metadata": {},
     "output_type": "display_data"
    }
   ],
   "execution_count": 15
  },
  {
   "cell_type": "markdown",
   "metadata": {
    "id": "daa69603e7a8ef4d"
   },
   "source": [
    "## Seleção de Dados (Indexing)\n",
    "\n",
    "> **Nota:** Embora as expressões padrão Python/NumPy para selecionar e definir valores sejam intuitivas e úteis para trabalho interativo, para código de produção, recomendamos os métodos otimizados de acesso a dados do Pandas: `.at`, `.iat`, `.loc` e `.iloc`.\n",
    "\n",
    "Veja a documentação completa em [Indexing and Selecting Data](https://pandas.pydata.org/pandas-docs/stable/user_guide/indexing.html) e [MultiIndex / Advanced Indexing](https://pandas.pydata.org/pandas-docs/stable/user_guide/advanced.html)."
   ],
   "id": "daa69603e7a8ef4d"
  },
  {
   "cell_type": "markdown",
   "metadata": {
    "id": "93ea5539d087be74"
   },
   "source": [
    "### Seleção com `[]` (Getitem)\n",
    "\n",
    "#### Selecionando uma coluna\n",
    "Para um `DataFrame`, passar um único rótulo seleciona uma coluna e retorna uma `Series`, equivalente a `df.A`."
   ],
   "id": "93ea5539d087be74"
  },
  {
   "cell_type": "code",
   "metadata": {
    "colab": {
     "base_uri": "https://localhost:8080/",
     "height": 276
    },
    "id": "ba62ad9cdb2986cf",
    "outputId": "35c79abf-b742-41cb-c0ec-29a8c9b74057",
    "ExecuteTime": {
     "end_time": "2025-05-06T20:01:11.928894Z",
     "start_time": "2025-05-06T20:01:11.925235Z"
    }
   },
   "source": [
    "print(\"Selecionando a coluna 'A' de df:\")\n",
    "coluna_A = df[\"A\"]\n",
    "display(coluna_A.head())\n",
    "print(f\"Tipo do resultado: {type(coluna_A)}\")"
   ],
   "id": "ba62ad9cdb2986cf",
   "outputs": [
    {
     "name": "stdout",
     "output_type": "stream",
     "text": [
      "Selecionando a coluna 'A' de df:\n"
     ]
    },
    {
     "data": {
      "text/plain": [
       "2023-01-01   -0.566661\n",
       "2023-01-02   -0.295575\n",
       "2023-01-03    0.387376\n",
       "2023-01-04   -0.531299\n",
       "2023-01-05   -0.536839\n",
       "Freq: D, Name: A, dtype: float64"
      ]
     },
     "metadata": {},
     "output_type": "display_data"
    },
    {
     "name": "stdout",
     "output_type": "stream",
     "text": [
      "Tipo do resultado: <class 'pandas.core.series.Series'>\n"
     ]
    }
   ],
   "execution_count": 16
  },
  {
   "cell_type": "markdown",
   "metadata": {
    "id": "f0ca3f9a26cb2de9"
   },
   "source": [
    "#### Selecionando linhas por slice (`:`)\n",
    "Para um `DataFrame`, passar um slice (`:`) seleciona as linhas correspondentes. Este método usa a posição inteira das linhas, *não* os rótulos do índice, a menos que o índice seja um `RangeIndex` padrão."
   ],
   "id": "f0ca3f9a26cb2de9"
  },
  {
   "cell_type": "code",
   "metadata": {
    "colab": {
     "base_uri": "https://localhost:8080/",
     "height": 161
    },
    "id": "52385fc6615b505f",
    "outputId": "1427b5eb-7e86-49b8-f750-f050bae69143",
    "ExecuteTime": {
     "end_time": "2025-05-06T20:01:12.009512Z",
     "start_time": "2025-05-06T20:01:12.005262Z"
    }
   },
   "source": [
    "print(\"Selecionando as linhas da posição 0 até 2 (exclusivo) de df:\")\n",
    "display(df[0:3])"
   ],
   "id": "52385fc6615b505f",
   "outputs": [
    {
     "name": "stdout",
     "output_type": "stream",
     "text": [
      "Selecionando as linhas da posição 0 até 2 (exclusivo) de df:\n"
     ]
    },
    {
     "data": {
      "text/plain": [
       "                   A         B         C         D\n",
       "2023-01-01 -0.566661 -0.553935  1.320878 -0.193330\n",
       "2023-01-02 -0.295575 -0.746297 -0.825099  1.513621\n",
       "2023-01-03  0.387376 -0.715551  0.336643 -0.493383"
      ],
      "text/html": [
       "<div>\n",
       "<style scoped>\n",
       "    .dataframe tbody tr th:only-of-type {\n",
       "        vertical-align: middle;\n",
       "    }\n",
       "\n",
       "    .dataframe tbody tr th {\n",
       "        vertical-align: top;\n",
       "    }\n",
       "\n",
       "    .dataframe thead th {\n",
       "        text-align: right;\n",
       "    }\n",
       "</style>\n",
       "<table border=\"1\" class=\"dataframe\">\n",
       "  <thead>\n",
       "    <tr style=\"text-align: right;\">\n",
       "      <th></th>\n",
       "      <th>A</th>\n",
       "      <th>B</th>\n",
       "      <th>C</th>\n",
       "      <th>D</th>\n",
       "    </tr>\n",
       "  </thead>\n",
       "  <tbody>\n",
       "    <tr>\n",
       "      <th>2023-01-01</th>\n",
       "      <td>-0.566661</td>\n",
       "      <td>-0.553935</td>\n",
       "      <td>1.320878</td>\n",
       "      <td>-0.193330</td>\n",
       "    </tr>\n",
       "    <tr>\n",
       "      <th>2023-01-02</th>\n",
       "      <td>-0.295575</td>\n",
       "      <td>-0.746297</td>\n",
       "      <td>-0.825099</td>\n",
       "      <td>1.513621</td>\n",
       "    </tr>\n",
       "    <tr>\n",
       "      <th>2023-01-03</th>\n",
       "      <td>0.387376</td>\n",
       "      <td>-0.715551</td>\n",
       "      <td>0.336643</td>\n",
       "      <td>-0.493383</td>\n",
       "    </tr>\n",
       "  </tbody>\n",
       "</table>\n",
       "</div>"
      ]
     },
     "metadata": {},
     "output_type": "display_data"
    }
   ],
   "execution_count": 17
  },
  {
   "cell_type": "markdown",
   "metadata": {
    "id": "60909da5c1d3f20"
   },
   "source": [
    "Se o índice for de data/hora ou outro tipo de rótulo, você pode usar slices com os rótulos do índice diretamente com `[]`, mas isso é geralmente tratado por `.loc` para maior clareza."
   ],
   "id": "60909da5c1d3f20"
  },
  {
   "cell_type": "code",
   "metadata": {
    "colab": {
     "base_uri": "https://localhost:8080/",
     "height": 161
    },
    "id": "b6f37c17d2323027",
    "outputId": "2d165295-775d-47ee-828b-55070d7e2be2",
    "ExecuteTime": {
     "end_time": "2025-05-06T20:01:12.073657Z",
     "start_time": "2025-05-06T20:01:12.066765Z"
    }
   },
   "source": [
    "print(\"Selecionando linhas por slice de rótulos de data (usando .loc é mais explícito):\")\n",
    "display(df[\"20230102\":\"20230104\"]) # Funciona porque o índice é de datas e está ordenado"
   ],
   "id": "b6f37c17d2323027",
   "outputs": [
    {
     "name": "stdout",
     "output_type": "stream",
     "text": [
      "Selecionando linhas por slice de rótulos de data (usando .loc é mais explícito):\n"
     ]
    },
    {
     "data": {
      "text/plain": [
       "                   A         B         C         D\n",
       "2023-01-02 -0.295575 -0.746297 -0.825099  1.513621\n",
       "2023-01-03  0.387376 -0.715551  0.336643 -0.493383\n",
       "2023-01-04 -0.531299  1.437420 -0.047765 -2.063075"
      ],
      "text/html": [
       "<div>\n",
       "<style scoped>\n",
       "    .dataframe tbody tr th:only-of-type {\n",
       "        vertical-align: middle;\n",
       "    }\n",
       "\n",
       "    .dataframe tbody tr th {\n",
       "        vertical-align: top;\n",
       "    }\n",
       "\n",
       "    .dataframe thead th {\n",
       "        text-align: right;\n",
       "    }\n",
       "</style>\n",
       "<table border=\"1\" class=\"dataframe\">\n",
       "  <thead>\n",
       "    <tr style=\"text-align: right;\">\n",
       "      <th></th>\n",
       "      <th>A</th>\n",
       "      <th>B</th>\n",
       "      <th>C</th>\n",
       "      <th>D</th>\n",
       "    </tr>\n",
       "  </thead>\n",
       "  <tbody>\n",
       "    <tr>\n",
       "      <th>2023-01-02</th>\n",
       "      <td>-0.295575</td>\n",
       "      <td>-0.746297</td>\n",
       "      <td>-0.825099</td>\n",
       "      <td>1.513621</td>\n",
       "    </tr>\n",
       "    <tr>\n",
       "      <th>2023-01-03</th>\n",
       "      <td>0.387376</td>\n",
       "      <td>-0.715551</td>\n",
       "      <td>0.336643</td>\n",
       "      <td>-0.493383</td>\n",
       "    </tr>\n",
       "    <tr>\n",
       "      <th>2023-01-04</th>\n",
       "      <td>-0.531299</td>\n",
       "      <td>1.437420</td>\n",
       "      <td>-0.047765</td>\n",
       "      <td>-2.063075</td>\n",
       "    </tr>\n",
       "  </tbody>\n",
       "</table>\n",
       "</div>"
      ]
     },
     "metadata": {},
     "output_type": "display_data"
    }
   ],
   "execution_count": 18
  },
  {
   "cell_type": "markdown",
   "metadata": {
    "id": "7f010da0049b2e3a"
   },
   "source": [
    "### Seleção por Rótulo (`.loc`, `.at`)\n",
    "\n",
    "Usado para selecionar dados com base nos *rótulos* do índice e das colunas.\n",
    "\n",
    "#### Selecionando uma linha inteira por rótulo do índice"
   ],
   "id": "7f010da0049b2e3a"
  },
  {
   "cell_type": "code",
   "metadata": {
    "colab": {
     "base_uri": "https://localhost:8080/",
     "height": 227
    },
    "id": "7215343e528d818d",
    "outputId": "92a84037-9a11-4194-ea95-0827089bf501",
    "ExecuteTime": {
     "end_time": "2025-05-06T20:01:12.149942Z",
     "start_time": "2025-05-06T20:01:12.147030Z"
    }
   },
   "source": [
    "print(\"Selecionando a linha com rótulo de data igual a 'datas[0]':\")\n",
    "# datas[0] é o primeiro valor do nosso índice de datas, ex: Timestamp('2023-01-01 00:00:00')\n",
    "display(df.loc[datas[0]])"
   ],
   "id": "7215343e528d818d",
   "outputs": [
    {
     "name": "stdout",
     "output_type": "stream",
     "text": [
      "Selecionando a linha com rótulo de data igual a 'datas[0]':\n"
     ]
    },
    {
     "data": {
      "text/plain": [
       "A   -0.566661\n",
       "B   -0.553935\n",
       "C    1.320878\n",
       "D   -0.193330\n",
       "Name: 2023-01-01 00:00:00, dtype: float64"
      ]
     },
     "metadata": {},
     "output_type": "display_data"
    }
   ],
   "execution_count": 19
  },
  {
   "cell_type": "markdown",
   "metadata": {
    "id": "32ead48b0aecb3d0"
   },
   "source": [
    "#### Selecionando todas as linhas com colunas específicas"
   ],
   "id": "32ead48b0aecb3d0"
  },
  {
   "cell_type": "code",
   "metadata": {
    "colab": {
     "base_uri": "https://localhost:8080/",
     "height": 224
    },
    "id": "c6e2ec54ad65eef2",
    "outputId": "8810631a-29fd-41ae-b605-69103590afe7",
    "ExecuteTime": {
     "end_time": "2025-05-06T20:01:12.212096Z",
     "start_time": "2025-05-06T20:01:12.207457Z"
    }
   },
   "source": [
    "print(\"Selecionando todas as linhas das colunas 'A' e 'B':\")\n",
    "display(df.loc[:, [\"A\", \"B\"]].head()) # O ':' significa todas as linhas"
   ],
   "id": "c6e2ec54ad65eef2",
   "outputs": [
    {
     "name": "stdout",
     "output_type": "stream",
     "text": [
      "Selecionando todas as linhas das colunas 'A' e 'B':\n"
     ]
    },
    {
     "data": {
      "text/plain": [
       "                   A         B\n",
       "2023-01-01 -0.566661 -0.553935\n",
       "2023-01-02 -0.295575 -0.746297\n",
       "2023-01-03  0.387376 -0.715551\n",
       "2023-01-04 -0.531299  1.437420\n",
       "2023-01-05 -0.536839  1.355357"
      ],
      "text/html": [
       "<div>\n",
       "<style scoped>\n",
       "    .dataframe tbody tr th:only-of-type {\n",
       "        vertical-align: middle;\n",
       "    }\n",
       "\n",
       "    .dataframe tbody tr th {\n",
       "        vertical-align: top;\n",
       "    }\n",
       "\n",
       "    .dataframe thead th {\n",
       "        text-align: right;\n",
       "    }\n",
       "</style>\n",
       "<table border=\"1\" class=\"dataframe\">\n",
       "  <thead>\n",
       "    <tr style=\"text-align: right;\">\n",
       "      <th></th>\n",
       "      <th>A</th>\n",
       "      <th>B</th>\n",
       "    </tr>\n",
       "  </thead>\n",
       "  <tbody>\n",
       "    <tr>\n",
       "      <th>2023-01-01</th>\n",
       "      <td>-0.566661</td>\n",
       "      <td>-0.553935</td>\n",
       "    </tr>\n",
       "    <tr>\n",
       "      <th>2023-01-02</th>\n",
       "      <td>-0.295575</td>\n",
       "      <td>-0.746297</td>\n",
       "    </tr>\n",
       "    <tr>\n",
       "      <th>2023-01-03</th>\n",
       "      <td>0.387376</td>\n",
       "      <td>-0.715551</td>\n",
       "    </tr>\n",
       "    <tr>\n",
       "      <th>2023-01-04</th>\n",
       "      <td>-0.531299</td>\n",
       "      <td>1.437420</td>\n",
       "    </tr>\n",
       "    <tr>\n",
       "      <th>2023-01-05</th>\n",
       "      <td>-0.536839</td>\n",
       "      <td>1.355357</td>\n",
       "    </tr>\n",
       "  </tbody>\n",
       "</table>\n",
       "</div>"
      ]
     },
     "metadata": {},
     "output_type": "display_data"
    }
   ],
   "execution_count": 20
  },
  {
   "cell_type": "markdown",
   "metadata": {
    "id": "b6754d77126abd4e"
   },
   "source": [
    "#### Selecionando um subconjunto de linhas e colunas por rótulos (slicing por rótulo)\n",
    "Para slicing por rótulo, ambos os pontos finais são *incluídos*."
   ],
   "id": "b6754d77126abd4e"
  },
  {
   "cell_type": "code",
   "metadata": {
    "colab": {
     "base_uri": "https://localhost:8080/",
     "height": 161
    },
    "id": "5e191af5ba7b715d",
    "outputId": "b82071ed-48e2-4a48-c061-4f22611feb05",
    "ExecuteTime": {
     "end_time": "2025-05-06T20:01:12.269001Z",
     "start_time": "2025-05-06T20:01:12.264634Z"
    }
   },
   "source": [
    "print(\"Selecionando linhas de '20230102' até '20230104' (inclusivo) e colunas 'A' e 'B':\")\n",
    "display(df.loc[\"20230102\":\"20230104\", [\"A\", \"B\"]])"
   ],
   "id": "5e191af5ba7b715d",
   "outputs": [
    {
     "name": "stdout",
     "output_type": "stream",
     "text": [
      "Selecionando linhas de '20230102' até '20230104' (inclusivo) e colunas 'A' e 'B':\n"
     ]
    },
    {
     "data": {
      "text/plain": [
       "                   A         B\n",
       "2023-01-02 -0.295575 -0.746297\n",
       "2023-01-03  0.387376 -0.715551\n",
       "2023-01-04 -0.531299  1.437420"
      ],
      "text/html": [
       "<div>\n",
       "<style scoped>\n",
       "    .dataframe tbody tr th:only-of-type {\n",
       "        vertical-align: middle;\n",
       "    }\n",
       "\n",
       "    .dataframe tbody tr th {\n",
       "        vertical-align: top;\n",
       "    }\n",
       "\n",
       "    .dataframe thead th {\n",
       "        text-align: right;\n",
       "    }\n",
       "</style>\n",
       "<table border=\"1\" class=\"dataframe\">\n",
       "  <thead>\n",
       "    <tr style=\"text-align: right;\">\n",
       "      <th></th>\n",
       "      <th>A</th>\n",
       "      <th>B</th>\n",
       "    </tr>\n",
       "  </thead>\n",
       "  <tbody>\n",
       "    <tr>\n",
       "      <th>2023-01-02</th>\n",
       "      <td>-0.295575</td>\n",
       "      <td>-0.746297</td>\n",
       "    </tr>\n",
       "    <tr>\n",
       "      <th>2023-01-03</th>\n",
       "      <td>0.387376</td>\n",
       "      <td>-0.715551</td>\n",
       "    </tr>\n",
       "    <tr>\n",
       "      <th>2023-01-04</th>\n",
       "      <td>-0.531299</td>\n",
       "      <td>1.437420</td>\n",
       "    </tr>\n",
       "  </tbody>\n",
       "</table>\n",
       "</div>"
      ]
     },
     "metadata": {},
     "output_type": "display_data"
    }
   ],
   "execution_count": 21
  },
  {
   "cell_type": "markdown",
   "metadata": {
    "id": "3d30e4e5a82c013e"
   },
   "source": [
    "#### Selecionando um valor escalar\n",
    "Selecionar um rótulo de linha e um rótulo de coluna específicos retorna um valor escalar."
   ],
   "id": "3d30e4e5a82c013e"
  },
  {
   "cell_type": "code",
   "metadata": {
    "colab": {
     "base_uri": "https://localhost:8080/"
    },
    "id": "62e53355e9358976",
    "outputId": "fbc11805-f4b0-4151-a81b-e01ed5411566",
    "ExecuteTime": {
     "end_time": "2025-05-06T20:01:12.358136Z",
     "start_time": "2025-05-06T20:01:12.355858Z"
    }
   },
   "source": [
    "valor_escalar_loc = df.loc[datas[0], \"A\"]\n",
    "print(f\"Valor escalar em df.loc[datas[0], 'A']: {valor_escalar_loc}\")"
   ],
   "id": "62e53355e9358976",
   "outputs": [
    {
     "name": "stdout",
     "output_type": "stream",
     "text": [
      "Valor escalar em df.loc[datas[0], 'A']: -0.5666605618390602\n"
     ]
    }
   ],
   "execution_count": 22
  },
  {
   "cell_type": "markdown",
   "metadata": {
    "id": "3938f4055a408a7b"
   },
   "source": [
    "#### Acesso rápido a um escalar com `.at`\n",
    "Para obter acesso rápido a um valor escalar (equivalente ao método anterior, mas potencialmente mais rápido)."
   ],
   "id": "3938f4055a408a7b"
  },
  {
   "cell_type": "code",
   "metadata": {
    "colab": {
     "base_uri": "https://localhost:8080/"
    },
    "id": "15d982023760f852",
    "outputId": "48823a52-2f5c-4897-fa0a-ae3e355617a1",
    "ExecuteTime": {
     "end_time": "2025-05-06T20:01:12.431365Z",
     "start_time": "2025-05-06T20:01:12.428217Z"
    }
   },
   "source": [
    "valor_escalar_at = df.at[datas[0], \"A\"]\n",
    "print(f\"Valor escalar em df.at[datas[0], 'A']: {valor_escalar_at}\")"
   ],
   "id": "15d982023760f852",
   "outputs": [
    {
     "name": "stdout",
     "output_type": "stream",
     "text": [
      "Valor escalar em df.at[datas[0], 'A']: -0.5666605618390602\n"
     ]
    }
   ],
   "execution_count": 23
  },
  {
   "cell_type": "markdown",
   "metadata": {
    "id": "70dc32183111c9b5"
   },
   "source": [
    "### Seleção por Posição (`.iloc`, `.iat`)\n",
    "\n",
    "Usado para selecionar dados com base na *posição inteira* (de 0 até tamanho-1), similar ao slicing de listas Python ou arrays NumPy.\n",
    "\n",
    "#### Selecionando uma linha inteira por sua posição"
   ],
   "id": "70dc32183111c9b5"
  },
  {
   "cell_type": "code",
   "metadata": {
    "colab": {
     "base_uri": "https://localhost:8080/",
     "height": 227
    },
    "id": "af1da1d4d44379d3",
    "outputId": "777a8eae-0ec4-41be-9b00-3a6321faac68",
    "ExecuteTime": {
     "end_time": "2025-05-06T20:01:12.459034Z",
     "start_time": "2025-05-06T20:01:12.455661Z"
    }
   },
   "source": [
    "print(\"Selecionando a quarta linha (posição 3):\")\n",
    "display(df.iloc[3])"
   ],
   "id": "af1da1d4d44379d3",
   "outputs": [
    {
     "name": "stdout",
     "output_type": "stream",
     "text": [
      "Selecionando a quarta linha (posição 3):\n"
     ]
    },
    {
     "data": {
      "text/plain": [
       "A   -0.531299\n",
       "B    1.437420\n",
       "C   -0.047765\n",
       "D   -2.063075\n",
       "Name: 2023-01-04 00:00:00, dtype: float64"
      ]
     },
     "metadata": {},
     "output_type": "display_data"
    }
   ],
   "execution_count": 24
  },
  {
   "cell_type": "markdown",
   "metadata": {
    "id": "d071fbc1e3a2f842"
   },
   "source": [
    "#### Slices de inteiros\n",
    "Agem de forma similar ao NumPy/Python (o ponto final do slice é *exclusivo*)."
   ],
   "id": "d071fbc1e3a2f842"
  },
  {
   "cell_type": "code",
   "metadata": {
    "colab": {
     "base_uri": "https://localhost:8080/",
     "height": 129
    },
    "id": "6fefb85c47d4ddbe",
    "outputId": "f2e6bba1-869f-4004-a113-e1048bf93c4e",
    "ExecuteTime": {
     "end_time": "2025-05-06T20:01:12.499751Z",
     "start_time": "2025-05-06T20:01:12.495138Z"
    }
   },
   "source": [
    "print(\"Selecionando linhas da posição 3 até 4 (exclusivo) e colunas da posição 0 até 1 (exclusivo):\")\n",
    "display(df.iloc[3:5, 0:2]) # Linhas 3 e 4; Colunas 0 e 1"
   ],
   "id": "6fefb85c47d4ddbe",
   "outputs": [
    {
     "name": "stdout",
     "output_type": "stream",
     "text": [
      "Selecionando linhas da posição 3 até 4 (exclusivo) e colunas da posição 0 até 1 (exclusivo):\n"
     ]
    },
    {
     "data": {
      "text/plain": [
       "                   A         B\n",
       "2023-01-04 -0.531299  1.437420\n",
       "2023-01-05 -0.536839  1.355357"
      ],
      "text/html": [
       "<div>\n",
       "<style scoped>\n",
       "    .dataframe tbody tr th:only-of-type {\n",
       "        vertical-align: middle;\n",
       "    }\n",
       "\n",
       "    .dataframe tbody tr th {\n",
       "        vertical-align: top;\n",
       "    }\n",
       "\n",
       "    .dataframe thead th {\n",
       "        text-align: right;\n",
       "    }\n",
       "</style>\n",
       "<table border=\"1\" class=\"dataframe\">\n",
       "  <thead>\n",
       "    <tr style=\"text-align: right;\">\n",
       "      <th></th>\n",
       "      <th>A</th>\n",
       "      <th>B</th>\n",
       "    </tr>\n",
       "  </thead>\n",
       "  <tbody>\n",
       "    <tr>\n",
       "      <th>2023-01-04</th>\n",
       "      <td>-0.531299</td>\n",
       "      <td>1.437420</td>\n",
       "    </tr>\n",
       "    <tr>\n",
       "      <th>2023-01-05</th>\n",
       "      <td>-0.536839</td>\n",
       "      <td>1.355357</td>\n",
       "    </tr>\n",
       "  </tbody>\n",
       "</table>\n",
       "</div>"
      ]
     },
     "metadata": {},
     "output_type": "display_data"
    }
   ],
   "execution_count": 25
  },
  {
   "cell_type": "markdown",
   "metadata": {
    "id": "cd6e7971313dbf9f"
   },
   "source": [
    "#### Listas de posições inteiras"
   ],
   "id": "cd6e7971313dbf9f"
  },
  {
   "cell_type": "code",
   "metadata": {
    "colab": {
     "base_uri": "https://localhost:8080/",
     "height": 161
    },
    "id": "1e3b11eb5d193c55",
    "outputId": "7efb5426-1e5d-4d7f-80b6-7ed4423c50e7",
    "ExecuteTime": {
     "end_time": "2025-05-06T20:01:12.580370Z",
     "start_time": "2025-05-06T20:01:12.575885Z"
    }
   },
   "source": [
    "print(\"Selecionando linhas nas posições 1, 2 e 4; e colunas nas posições 0 e 2:\")\n",
    "display(df.iloc[[1, 2, 4], [0, 2]])"
   ],
   "id": "1e3b11eb5d193c55",
   "outputs": [
    {
     "name": "stdout",
     "output_type": "stream",
     "text": [
      "Selecionando linhas nas posições 1, 2 e 4; e colunas nas posições 0 e 2:\n"
     ]
    },
    {
     "data": {
      "text/plain": [
       "                   A         C\n",
       "2023-01-02 -0.295575 -0.825099\n",
       "2023-01-03  0.387376  0.336643\n",
       "2023-01-05 -0.536839  0.347516"
      ],
      "text/html": [
       "<div>\n",
       "<style scoped>\n",
       "    .dataframe tbody tr th:only-of-type {\n",
       "        vertical-align: middle;\n",
       "    }\n",
       "\n",
       "    .dataframe tbody tr th {\n",
       "        vertical-align: top;\n",
       "    }\n",
       "\n",
       "    .dataframe thead th {\n",
       "        text-align: right;\n",
       "    }\n",
       "</style>\n",
       "<table border=\"1\" class=\"dataframe\">\n",
       "  <thead>\n",
       "    <tr style=\"text-align: right;\">\n",
       "      <th></th>\n",
       "      <th>A</th>\n",
       "      <th>C</th>\n",
       "    </tr>\n",
       "  </thead>\n",
       "  <tbody>\n",
       "    <tr>\n",
       "      <th>2023-01-02</th>\n",
       "      <td>-0.295575</td>\n",
       "      <td>-0.825099</td>\n",
       "    </tr>\n",
       "    <tr>\n",
       "      <th>2023-01-03</th>\n",
       "      <td>0.387376</td>\n",
       "      <td>0.336643</td>\n",
       "    </tr>\n",
       "    <tr>\n",
       "      <th>2023-01-05</th>\n",
       "      <td>-0.536839</td>\n",
       "      <td>0.347516</td>\n",
       "    </tr>\n",
       "  </tbody>\n",
       "</table>\n",
       "</div>"
      ]
     },
     "metadata": {},
     "output_type": "display_data"
    }
   ],
   "execution_count": 26
  },
  {
   "cell_type": "markdown",
   "metadata": {
    "id": "ecf9b7330ace9638"
   },
   "source": [
    "#### Slicing explícito de linhas"
   ],
   "id": "ecf9b7330ace9638"
  },
  {
   "cell_type": "code",
   "metadata": {
    "colab": {
     "base_uri": "https://localhost:8080/",
     "height": 129
    },
    "id": "7255e7f698ecb348",
    "outputId": "b0de3620-fce1-415e-e21b-b51e9d426d80",
    "ExecuteTime": {
     "end_time": "2025-05-06T20:01:12.687832Z",
     "start_time": "2025-05-06T20:01:12.683557Z"
    }
   },
   "source": [
    "print(\"Selecionando linhas da posição 1 até 2 (exclusivo) e todas as colunas:\")\n",
    "display(df.iloc[1:3, :])"
   ],
   "id": "7255e7f698ecb348",
   "outputs": [
    {
     "name": "stdout",
     "output_type": "stream",
     "text": [
      "Selecionando linhas da posição 1 até 2 (exclusivo) e todas as colunas:\n"
     ]
    },
    {
     "data": {
      "text/plain": [
       "                   A         B         C         D\n",
       "2023-01-02 -0.295575 -0.746297 -0.825099  1.513621\n",
       "2023-01-03  0.387376 -0.715551  0.336643 -0.493383"
      ],
      "text/html": [
       "<div>\n",
       "<style scoped>\n",
       "    .dataframe tbody tr th:only-of-type {\n",
       "        vertical-align: middle;\n",
       "    }\n",
       "\n",
       "    .dataframe tbody tr th {\n",
       "        vertical-align: top;\n",
       "    }\n",
       "\n",
       "    .dataframe thead th {\n",
       "        text-align: right;\n",
       "    }\n",
       "</style>\n",
       "<table border=\"1\" class=\"dataframe\">\n",
       "  <thead>\n",
       "    <tr style=\"text-align: right;\">\n",
       "      <th></th>\n",
       "      <th>A</th>\n",
       "      <th>B</th>\n",
       "      <th>C</th>\n",
       "      <th>D</th>\n",
       "    </tr>\n",
       "  </thead>\n",
       "  <tbody>\n",
       "    <tr>\n",
       "      <th>2023-01-02</th>\n",
       "      <td>-0.295575</td>\n",
       "      <td>-0.746297</td>\n",
       "      <td>-0.825099</td>\n",
       "      <td>1.513621</td>\n",
       "    </tr>\n",
       "    <tr>\n",
       "      <th>2023-01-03</th>\n",
       "      <td>0.387376</td>\n",
       "      <td>-0.715551</td>\n",
       "      <td>0.336643</td>\n",
       "      <td>-0.493383</td>\n",
       "    </tr>\n",
       "  </tbody>\n",
       "</table>\n",
       "</div>"
      ]
     },
     "metadata": {},
     "output_type": "display_data"
    }
   ],
   "execution_count": 27
  },
  {
   "cell_type": "markdown",
   "metadata": {
    "id": "3cec4f293ccd98cd"
   },
   "source": [
    "#### Slicing explícito de colunas"
   ],
   "id": "3cec4f293ccd98cd"
  },
  {
   "cell_type": "code",
   "metadata": {
    "colab": {
     "base_uri": "https://localhost:8080/",
     "height": 255
    },
    "id": "1efd5c90fd84f02c",
    "outputId": "6eaa3d92-ed81-491b-d7c2-0a73aeecdb94",
    "ExecuteTime": {
     "end_time": "2025-05-06T20:01:12.887786Z",
     "start_time": "2025-05-06T20:01:12.883426Z"
    }
   },
   "source": [
    "print(\"Selecionando todas as linhas e colunas da posição 1 até 2 (exclusivo):\")\n",
    "display(df.iloc[:, 1:3])"
   ],
   "id": "1efd5c90fd84f02c",
   "outputs": [
    {
     "name": "stdout",
     "output_type": "stream",
     "text": [
      "Selecionando todas as linhas e colunas da posição 1 até 2 (exclusivo):\n"
     ]
    },
    {
     "data": {
      "text/plain": [
       "                   B         C\n",
       "2023-01-01 -0.553935  1.320878\n",
       "2023-01-02 -0.746297 -0.825099\n",
       "2023-01-03 -0.715551  0.336643\n",
       "2023-01-04  1.437420 -0.047765\n",
       "2023-01-05  1.355357  0.347516\n",
       "2023-01-06 -0.186411  0.738073"
      ],
      "text/html": [
       "<div>\n",
       "<style scoped>\n",
       "    .dataframe tbody tr th:only-of-type {\n",
       "        vertical-align: middle;\n",
       "    }\n",
       "\n",
       "    .dataframe tbody tr th {\n",
       "        vertical-align: top;\n",
       "    }\n",
       "\n",
       "    .dataframe thead th {\n",
       "        text-align: right;\n",
       "    }\n",
       "</style>\n",
       "<table border=\"1\" class=\"dataframe\">\n",
       "  <thead>\n",
       "    <tr style=\"text-align: right;\">\n",
       "      <th></th>\n",
       "      <th>B</th>\n",
       "      <th>C</th>\n",
       "    </tr>\n",
       "  </thead>\n",
       "  <tbody>\n",
       "    <tr>\n",
       "      <th>2023-01-01</th>\n",
       "      <td>-0.553935</td>\n",
       "      <td>1.320878</td>\n",
       "    </tr>\n",
       "    <tr>\n",
       "      <th>2023-01-02</th>\n",
       "      <td>-0.746297</td>\n",
       "      <td>-0.825099</td>\n",
       "    </tr>\n",
       "    <tr>\n",
       "      <th>2023-01-03</th>\n",
       "      <td>-0.715551</td>\n",
       "      <td>0.336643</td>\n",
       "    </tr>\n",
       "    <tr>\n",
       "      <th>2023-01-04</th>\n",
       "      <td>1.437420</td>\n",
       "      <td>-0.047765</td>\n",
       "    </tr>\n",
       "    <tr>\n",
       "      <th>2023-01-05</th>\n",
       "      <td>1.355357</td>\n",
       "      <td>0.347516</td>\n",
       "    </tr>\n",
       "    <tr>\n",
       "      <th>2023-01-06</th>\n",
       "      <td>-0.186411</td>\n",
       "      <td>0.738073</td>\n",
       "    </tr>\n",
       "  </tbody>\n",
       "</table>\n",
       "</div>"
      ]
     },
     "metadata": {},
     "output_type": "display_data"
    }
   ],
   "execution_count": 28
  },
  {
   "cell_type": "markdown",
   "metadata": {
    "id": "69d13af54445acd3"
   },
   "source": [
    "#### Selecionando um valor escalar por posição"
   ],
   "id": "69d13af54445acd3"
  },
  {
   "cell_type": "code",
   "metadata": {
    "colab": {
     "base_uri": "https://localhost:8080/"
    },
    "id": "86147c5daa09fb1a",
    "outputId": "a8086a99-2138-402a-9c80-e03ade213dc2",
    "ExecuteTime": {
     "end_time": "2025-05-06T20:01:13.031398Z",
     "start_time": "2025-05-06T20:01:13.028119Z"
    }
   },
   "source": [
    "valor_escalar_iloc = df.iloc[1, 1] # Segunda linha, segunda coluna\n",
    "print(f\"Valor escalar em df.iloc[1, 1]: {valor_escalar_iloc}\")"
   ],
   "id": "86147c5daa09fb1a",
   "outputs": [
    {
     "name": "stdout",
     "output_type": "stream",
     "text": [
      "Valor escalar em df.iloc[1, 1]: -0.7462970275971468\n"
     ]
    }
   ],
   "execution_count": 29
  },
  {
   "cell_type": "markdown",
   "metadata": {
    "id": "c53405a5d8cd3a62"
   },
   "source": [
    "#### Acesso rápido a um escalar com `.iat`\n",
    "Para obter acesso rápido a um valor escalar por posição (equivalente ao método anterior, mas potencialmente mais rápido)."
   ],
   "id": "c53405a5d8cd3a62"
  },
  {
   "cell_type": "code",
   "metadata": {
    "colab": {
     "base_uri": "https://localhost:8080/"
    },
    "id": "761c333d18213954",
    "outputId": "cc939441-2768-4c6e-88bc-64b005efac95",
    "ExecuteTime": {
     "end_time": "2025-05-06T20:01:13.112537Z",
     "start_time": "2025-05-06T20:01:13.110352Z"
    }
   },
   "source": [
    "valor_escalar_iat = df.iat[1, 1]\n",
    "print(f\"Valor escalar em df.iat[1, 1]: {valor_escalar_iat}\")"
   ],
   "id": "761c333d18213954",
   "outputs": [
    {
     "name": "stdout",
     "output_type": "stream",
     "text": [
      "Valor escalar em df.iat[1, 1]: -0.7462970275971468\n"
     ]
    }
   ],
   "execution_count": 30
  },
  {
   "cell_type": "markdown",
   "metadata": {
    "id": "9f9ca50edbfe3f1f"
   },
   "source": [
    "### Indexação Booleana\n",
    "\n",
    "Permite selecionar linhas com base em condições lógicas (booleanas).\n",
    "\n",
    "#### Selecionar linhas onde `df.A` é maior que `0`."
   ],
   "id": "9f9ca50edbfe3f1f"
  },
  {
   "cell_type": "code",
   "metadata": {
    "colab": {
     "base_uri": "https://localhost:8080/",
     "height": 380
    },
    "id": "2feb7043403debea",
    "outputId": "894af6e1-c110-49ca-d432-156e4b979bd2",
    "ExecuteTime": {
     "end_time": "2025-05-06T20:01:13.138274Z",
     "start_time": "2025-05-06T20:01:13.133644Z"
    }
   },
   "source": [
    "condicao = df[\"A\"] > 0\n",
    "print(\"Condição Booleana (df['A'] > 0):\")\n",
    "print(condicao)\n",
    "\n",
    "print(\"\\nDataFrame filtrado onde df['A'] > 0:\")\n",
    "display(df[condicao])"
   ],
   "id": "2feb7043403debea",
   "outputs": [
    {
     "name": "stdout",
     "output_type": "stream",
     "text": [
      "Condição Booleana (df['A'] > 0):\n",
      "2023-01-01    False\n",
      "2023-01-02    False\n",
      "2023-01-03     True\n",
      "2023-01-04    False\n",
      "2023-01-05    False\n",
      "2023-01-06     True\n",
      "Freq: D, Name: A, dtype: bool\n",
      "\n",
      "DataFrame filtrado onde df['A'] > 0:\n"
     ]
    },
    {
     "data": {
      "text/plain": [
       "                   A         B         C         D\n",
       "2023-01-03  0.387376 -0.715551  0.336643 -0.493383\n",
       "2023-01-06  0.637960 -0.186411  0.738073 -0.512852"
      ],
      "text/html": [
       "<div>\n",
       "<style scoped>\n",
       "    .dataframe tbody tr th:only-of-type {\n",
       "        vertical-align: middle;\n",
       "    }\n",
       "\n",
       "    .dataframe tbody tr th {\n",
       "        vertical-align: top;\n",
       "    }\n",
       "\n",
       "    .dataframe thead th {\n",
       "        text-align: right;\n",
       "    }\n",
       "</style>\n",
       "<table border=\"1\" class=\"dataframe\">\n",
       "  <thead>\n",
       "    <tr style=\"text-align: right;\">\n",
       "      <th></th>\n",
       "      <th>A</th>\n",
       "      <th>B</th>\n",
       "      <th>C</th>\n",
       "      <th>D</th>\n",
       "    </tr>\n",
       "  </thead>\n",
       "  <tbody>\n",
       "    <tr>\n",
       "      <th>2023-01-03</th>\n",
       "      <td>0.387376</td>\n",
       "      <td>-0.715551</td>\n",
       "      <td>0.336643</td>\n",
       "      <td>-0.493383</td>\n",
       "    </tr>\n",
       "    <tr>\n",
       "      <th>2023-01-06</th>\n",
       "      <td>0.637960</td>\n",
       "      <td>-0.186411</td>\n",
       "      <td>0.738073</td>\n",
       "      <td>-0.512852</td>\n",
       "    </tr>\n",
       "  </tbody>\n",
       "</table>\n",
       "</div>"
      ]
     },
     "metadata": {},
     "output_type": "display_data"
    }
   ],
   "execution_count": 31
  },
  {
   "cell_type": "markdown",
   "metadata": {
    "id": "da59160ecf10afce"
   },
   "source": [
    "#### Selecionar valores de um `DataFrame` onde uma condição booleana é satisfeita.\n",
    "Isso resulta em um DataFrame da mesma forma, com `NaN` onde a condição é falsa."
   ],
   "id": "da59160ecf10afce"
  },
  {
   "cell_type": "code",
   "metadata": {
    "colab": {
     "base_uri": "https://localhost:8080/",
     "height": 224
    },
    "id": "d6b321430a7d021",
    "outputId": "654558ba-6db3-4fa8-b7ba-a5bcf296200b",
    "ExecuteTime": {
     "end_time": "2025-05-06T20:01:13.168430Z",
     "start_time": "2025-05-06T20:01:13.163668Z"
    }
   },
   "source": [
    "print(\"DataFrame com valores onde df > 0 (outros são NaN):\")\n",
    "display(df[df > 0].head())"
   ],
   "id": "d6b321430a7d021",
   "outputs": [
    {
     "name": "stdout",
     "output_type": "stream",
     "text": [
      "DataFrame com valores onde df > 0 (outros são NaN):\n"
     ]
    },
    {
     "data": {
      "text/plain": [
       "                   A         B         C         D\n",
       "2023-01-01       NaN       NaN  1.320878       NaN\n",
       "2023-01-02       NaN       NaN       NaN  1.513621\n",
       "2023-01-03  0.387376       NaN  0.336643       NaN\n",
       "2023-01-04       NaN  1.437420       NaN       NaN\n",
       "2023-01-05       NaN  1.355357  0.347516  0.939968"
      ],
      "text/html": [
       "<div>\n",
       "<style scoped>\n",
       "    .dataframe tbody tr th:only-of-type {\n",
       "        vertical-align: middle;\n",
       "    }\n",
       "\n",
       "    .dataframe tbody tr th {\n",
       "        vertical-align: top;\n",
       "    }\n",
       "\n",
       "    .dataframe thead th {\n",
       "        text-align: right;\n",
       "    }\n",
       "</style>\n",
       "<table border=\"1\" class=\"dataframe\">\n",
       "  <thead>\n",
       "    <tr style=\"text-align: right;\">\n",
       "      <th></th>\n",
       "      <th>A</th>\n",
       "      <th>B</th>\n",
       "      <th>C</th>\n",
       "      <th>D</th>\n",
       "    </tr>\n",
       "  </thead>\n",
       "  <tbody>\n",
       "    <tr>\n",
       "      <th>2023-01-01</th>\n",
       "      <td>NaN</td>\n",
       "      <td>NaN</td>\n",
       "      <td>1.320878</td>\n",
       "      <td>NaN</td>\n",
       "    </tr>\n",
       "    <tr>\n",
       "      <th>2023-01-02</th>\n",
       "      <td>NaN</td>\n",
       "      <td>NaN</td>\n",
       "      <td>NaN</td>\n",
       "      <td>1.513621</td>\n",
       "    </tr>\n",
       "    <tr>\n",
       "      <th>2023-01-03</th>\n",
       "      <td>0.387376</td>\n",
       "      <td>NaN</td>\n",
       "      <td>0.336643</td>\n",
       "      <td>NaN</td>\n",
       "    </tr>\n",
       "    <tr>\n",
       "      <th>2023-01-04</th>\n",
       "      <td>NaN</td>\n",
       "      <td>1.437420</td>\n",
       "      <td>NaN</td>\n",
       "      <td>NaN</td>\n",
       "    </tr>\n",
       "    <tr>\n",
       "      <th>2023-01-05</th>\n",
       "      <td>NaN</td>\n",
       "      <td>1.355357</td>\n",
       "      <td>0.347516</td>\n",
       "      <td>0.939968</td>\n",
       "    </tr>\n",
       "  </tbody>\n",
       "</table>\n",
       "</div>"
      ]
     },
     "metadata": {},
     "output_type": "display_data"
    }
   ],
   "execution_count": 32
  },
  {
   "cell_type": "markdown",
   "metadata": {
    "id": "a2f1401a2931fb34"
   },
   "source": [
    "#### Usando o método `.isin()` para filtrar\n",
    "Verifica se os valores de uma coluna estão contidos em uma lista."
   ],
   "id": "a2f1401a2931fb34"
  },
  {
   "cell_type": "code",
   "metadata": {
    "colab": {
     "base_uri": "https://localhost:8080/",
     "height": 385
    },
    "id": "84482d409cf167eb",
    "outputId": "602d1e73-e00a-475b-e3de-33165e6e412d",
    "ExecuteTime": {
     "end_time": "2025-05-06T20:01:13.289230Z",
     "start_time": "2025-05-06T20:01:13.276001Z"
    }
   },
   "source": [
    "df_copia = df.copy() # Criar uma cópia para não modificar o df original\n",
    "df_copia[\"E\"] = [\"um\", \"um\", \"dois\", \"tres\", \"quatro\", \"tres\"] # Adicionar uma nova coluna\n",
    "print(\"DataFrame df_copia com nova coluna 'E':\")\n",
    "display(df_copia)\n",
    "\n",
    "print(\"\\nFiltrando df_copia onde a coluna 'E' contém 'dois' ou 'quatro':\")\n",
    "display(df_copia[df_copia[\"E\"].isin([\"dois\", \"quatro\"])])"
   ],
   "id": "84482d409cf167eb",
   "outputs": [
    {
     "name": "stdout",
     "output_type": "stream",
     "text": [
      "DataFrame df_copia com nova coluna 'E':\n"
     ]
    },
    {
     "data": {
      "text/plain": [
       "                   A         B         C         D       E\n",
       "2023-01-01 -0.566661 -0.553935  1.320878 -0.193330      um\n",
       "2023-01-02 -0.295575 -0.746297 -0.825099  1.513621      um\n",
       "2023-01-03  0.387376 -0.715551  0.336643 -0.493383    dois\n",
       "2023-01-04 -0.531299  1.437420 -0.047765 -2.063075    tres\n",
       "2023-01-05 -0.536839  1.355357  0.347516  0.939968  quatro\n",
       "2023-01-06  0.637960 -0.186411  0.738073 -0.512852    tres"
      ],
      "text/html": [
       "<div>\n",
       "<style scoped>\n",
       "    .dataframe tbody tr th:only-of-type {\n",
       "        vertical-align: middle;\n",
       "    }\n",
       "\n",
       "    .dataframe tbody tr th {\n",
       "        vertical-align: top;\n",
       "    }\n",
       "\n",
       "    .dataframe thead th {\n",
       "        text-align: right;\n",
       "    }\n",
       "</style>\n",
       "<table border=\"1\" class=\"dataframe\">\n",
       "  <thead>\n",
       "    <tr style=\"text-align: right;\">\n",
       "      <th></th>\n",
       "      <th>A</th>\n",
       "      <th>B</th>\n",
       "      <th>C</th>\n",
       "      <th>D</th>\n",
       "      <th>E</th>\n",
       "    </tr>\n",
       "  </thead>\n",
       "  <tbody>\n",
       "    <tr>\n",
       "      <th>2023-01-01</th>\n",
       "      <td>-0.566661</td>\n",
       "      <td>-0.553935</td>\n",
       "      <td>1.320878</td>\n",
       "      <td>-0.193330</td>\n",
       "      <td>um</td>\n",
       "    </tr>\n",
       "    <tr>\n",
       "      <th>2023-01-02</th>\n",
       "      <td>-0.295575</td>\n",
       "      <td>-0.746297</td>\n",
       "      <td>-0.825099</td>\n",
       "      <td>1.513621</td>\n",
       "      <td>um</td>\n",
       "    </tr>\n",
       "    <tr>\n",
       "      <th>2023-01-03</th>\n",
       "      <td>0.387376</td>\n",
       "      <td>-0.715551</td>\n",
       "      <td>0.336643</td>\n",
       "      <td>-0.493383</td>\n",
       "      <td>dois</td>\n",
       "    </tr>\n",
       "    <tr>\n",
       "      <th>2023-01-04</th>\n",
       "      <td>-0.531299</td>\n",
       "      <td>1.437420</td>\n",
       "      <td>-0.047765</td>\n",
       "      <td>-2.063075</td>\n",
       "      <td>tres</td>\n",
       "    </tr>\n",
       "    <tr>\n",
       "      <th>2023-01-05</th>\n",
       "      <td>-0.536839</td>\n",
       "      <td>1.355357</td>\n",
       "      <td>0.347516</td>\n",
       "      <td>0.939968</td>\n",
       "      <td>quatro</td>\n",
       "    </tr>\n",
       "    <tr>\n",
       "      <th>2023-01-06</th>\n",
       "      <td>0.637960</td>\n",
       "      <td>-0.186411</td>\n",
       "      <td>0.738073</td>\n",
       "      <td>-0.512852</td>\n",
       "      <td>tres</td>\n",
       "    </tr>\n",
       "  </tbody>\n",
       "</table>\n",
       "</div>"
      ]
     },
     "metadata": {},
     "output_type": "display_data"
    },
    {
     "name": "stdout",
     "output_type": "stream",
     "text": [
      "\n",
      "Filtrando df_copia onde a coluna 'E' contém 'dois' ou 'quatro':\n"
     ]
    },
    {
     "data": {
      "text/plain": [
       "                   A         B         C         D       E\n",
       "2023-01-03  0.387376 -0.715551  0.336643 -0.493383    dois\n",
       "2023-01-05 -0.536839  1.355357  0.347516  0.939968  quatro"
      ],
      "text/html": [
       "<div>\n",
       "<style scoped>\n",
       "    .dataframe tbody tr th:only-of-type {\n",
       "        vertical-align: middle;\n",
       "    }\n",
       "\n",
       "    .dataframe tbody tr th {\n",
       "        vertical-align: top;\n",
       "    }\n",
       "\n",
       "    .dataframe thead th {\n",
       "        text-align: right;\n",
       "    }\n",
       "</style>\n",
       "<table border=\"1\" class=\"dataframe\">\n",
       "  <thead>\n",
       "    <tr style=\"text-align: right;\">\n",
       "      <th></th>\n",
       "      <th>A</th>\n",
       "      <th>B</th>\n",
       "      <th>C</th>\n",
       "      <th>D</th>\n",
       "      <th>E</th>\n",
       "    </tr>\n",
       "  </thead>\n",
       "  <tbody>\n",
       "    <tr>\n",
       "      <th>2023-01-03</th>\n",
       "      <td>0.387376</td>\n",
       "      <td>-0.715551</td>\n",
       "      <td>0.336643</td>\n",
       "      <td>-0.493383</td>\n",
       "      <td>dois</td>\n",
       "    </tr>\n",
       "    <tr>\n",
       "      <th>2023-01-05</th>\n",
       "      <td>-0.536839</td>\n",
       "      <td>1.355357</td>\n",
       "      <td>0.347516</td>\n",
       "      <td>0.939968</td>\n",
       "      <td>quatro</td>\n",
       "    </tr>\n",
       "  </tbody>\n",
       "</table>\n",
       "</div>"
      ]
     },
     "metadata": {},
     "output_type": "display_data"
    }
   ],
   "execution_count": 33
  },
  {
   "cell_type": "markdown",
   "metadata": {
    "id": "25ca8951ad70cee1"
   },
   "source": [
    "### Atribuição (Setting)\n",
    "\n",
    "Modificar valores no DataFrame.\n",
    "\n",
    "#### Atribuindo uma nova coluna\n",
    "Atribuir uma nova coluna alinha automaticamente os dados pelos índices. Se os índices não coincidirem perfeitamente, valores ausentes (`NaN`) podem ser introduzidos."
   ],
   "id": "25ca8951ad70cee1"
  },
  {
   "cell_type": "code",
   "metadata": {
    "colab": {
     "base_uri": "https://localhost:8080/",
     "height": 411
    },
    "id": "5bfd6b21c5c1b233",
    "outputId": "074eb6c4-f8af-4612-ae02-d08b358d0c7c",
    "ExecuteTime": {
     "end_time": "2025-05-06T20:01:13.430309Z",
     "start_time": "2025-05-06T20:01:13.419980Z"
    }
   },
   "source": [
    "# Criando uma Series com um índice ligeiramente diferente\n",
    "s1 = pd.Series([1, 2, 3, 4, 5, 6], index=pd.date_range(\"20230102\", periods=6))\n",
    "print(\"Series s1 (índice a partir de 02/01/2023):\")\n",
    "print(s1)\n",
    "\n",
    "df_copia_set = df.copy() # Trabalhar com uma cópia\n",
    "df_copia_set[\"F\"] = s1 # Atribuir a Series s1 como nova coluna 'F'\n",
    "\n",
    "print(\"\\nDataFrame df_copia_set com nova coluna 'F':\")\n",
    "display(df_copia_set)"
   ],
   "id": "5bfd6b21c5c1b233",
   "outputs": [
    {
     "name": "stdout",
     "output_type": "stream",
     "text": [
      "Series s1 (índice a partir de 02/01/2023):\n",
      "2023-01-02    1\n",
      "2023-01-03    2\n",
      "2023-01-04    3\n",
      "2023-01-05    4\n",
      "2023-01-06    5\n",
      "2023-01-07    6\n",
      "Freq: D, dtype: int64\n",
      "\n",
      "DataFrame df_copia_set com nova coluna 'F':\n"
     ]
    },
    {
     "data": {
      "text/plain": [
       "                   A         B         C         D    F\n",
       "2023-01-01 -0.566661 -0.553935  1.320878 -0.193330  NaN\n",
       "2023-01-02 -0.295575 -0.746297 -0.825099  1.513621  1.0\n",
       "2023-01-03  0.387376 -0.715551  0.336643 -0.493383  2.0\n",
       "2023-01-04 -0.531299  1.437420 -0.047765 -2.063075  3.0\n",
       "2023-01-05 -0.536839  1.355357  0.347516  0.939968  4.0\n",
       "2023-01-06  0.637960 -0.186411  0.738073 -0.512852  5.0"
      ],
      "text/html": [
       "<div>\n",
       "<style scoped>\n",
       "    .dataframe tbody tr th:only-of-type {\n",
       "        vertical-align: middle;\n",
       "    }\n",
       "\n",
       "    .dataframe tbody tr th {\n",
       "        vertical-align: top;\n",
       "    }\n",
       "\n",
       "    .dataframe thead th {\n",
       "        text-align: right;\n",
       "    }\n",
       "</style>\n",
       "<table border=\"1\" class=\"dataframe\">\n",
       "  <thead>\n",
       "    <tr style=\"text-align: right;\">\n",
       "      <th></th>\n",
       "      <th>A</th>\n",
       "      <th>B</th>\n",
       "      <th>C</th>\n",
       "      <th>D</th>\n",
       "      <th>F</th>\n",
       "    </tr>\n",
       "  </thead>\n",
       "  <tbody>\n",
       "    <tr>\n",
       "      <th>2023-01-01</th>\n",
       "      <td>-0.566661</td>\n",
       "      <td>-0.553935</td>\n",
       "      <td>1.320878</td>\n",
       "      <td>-0.193330</td>\n",
       "      <td>NaN</td>\n",
       "    </tr>\n",
       "    <tr>\n",
       "      <th>2023-01-02</th>\n",
       "      <td>-0.295575</td>\n",
       "      <td>-0.746297</td>\n",
       "      <td>-0.825099</td>\n",
       "      <td>1.513621</td>\n",
       "      <td>1.0</td>\n",
       "    </tr>\n",
       "    <tr>\n",
       "      <th>2023-01-03</th>\n",
       "      <td>0.387376</td>\n",
       "      <td>-0.715551</td>\n",
       "      <td>0.336643</td>\n",
       "      <td>-0.493383</td>\n",
       "      <td>2.0</td>\n",
       "    </tr>\n",
       "    <tr>\n",
       "      <th>2023-01-04</th>\n",
       "      <td>-0.531299</td>\n",
       "      <td>1.437420</td>\n",
       "      <td>-0.047765</td>\n",
       "      <td>-2.063075</td>\n",
       "      <td>3.0</td>\n",
       "    </tr>\n",
       "    <tr>\n",
       "      <th>2023-01-05</th>\n",
       "      <td>-0.536839</td>\n",
       "      <td>1.355357</td>\n",
       "      <td>0.347516</td>\n",
       "      <td>0.939968</td>\n",
       "      <td>4.0</td>\n",
       "    </tr>\n",
       "    <tr>\n",
       "      <th>2023-01-06</th>\n",
       "      <td>0.637960</td>\n",
       "      <td>-0.186411</td>\n",
       "      <td>0.738073</td>\n",
       "      <td>-0.512852</td>\n",
       "      <td>5.0</td>\n",
       "    </tr>\n",
       "  </tbody>\n",
       "</table>\n",
       "</div>"
      ]
     },
     "metadata": {},
     "output_type": "display_data"
    }
   ],
   "execution_count": 34
  },
  {
   "cell_type": "markdown",
   "metadata": {
    "id": "22fe667936204f2"
   },
   "source": [
    "Observe que a primeira linha de `df_copia_set` (índice `2023-01-01`) tem `NaN` na coluna `F` porque `s1` não tem um valor para esse índice."
   ],
   "id": "22fe667936204f2"
  },
  {
   "cell_type": "markdown",
   "metadata": {
    "id": "93412e8802f5c020"
   },
   "source": [
    "#### Atribuindo valores por rótulo com `.at`"
   ],
   "id": "93412e8802f5c020"
  },
  {
   "cell_type": "code",
   "metadata": {
    "colab": {
     "base_uri": "https://localhost:8080/",
     "height": 115
    },
    "id": "c51e759805c44716",
    "outputId": "2d721c58-a8d8-47ae-b7f9-4db07429b919",
    "ExecuteTime": {
     "end_time": "2025-05-06T20:01:13.572948Z",
     "start_time": "2025-05-06T20:01:13.568141Z"
    }
   },
   "source": [
    "print(\"Valor original em df_copia_set.at[datas[0], 'A']:\", df_copia_set.at[datas[0], \"A\"])\n",
    "df_copia_set.at[datas[0], \"A\"] = 0 # Atribuir 0 ao valor na primeira linha, coluna 'A'\n",
    "print(\"Valor modificado:\", df_copia_set.at[datas[0], \"A\"])\n",
    "display(df_copia_set.head(1))"
   ],
   "id": "c51e759805c44716",
   "outputs": [
    {
     "name": "stdout",
     "output_type": "stream",
     "text": [
      "Valor original em df_copia_set.at[datas[0], 'A']: -0.5666605618390602\n",
      "Valor modificado: 0.0\n"
     ]
    },
    {
     "data": {
      "text/plain": [
       "              A         B         C        D   F\n",
       "2023-01-01  0.0 -0.553935  1.320878 -0.19333 NaN"
      ],
      "text/html": [
       "<div>\n",
       "<style scoped>\n",
       "    .dataframe tbody tr th:only-of-type {\n",
       "        vertical-align: middle;\n",
       "    }\n",
       "\n",
       "    .dataframe tbody tr th {\n",
       "        vertical-align: top;\n",
       "    }\n",
       "\n",
       "    .dataframe thead th {\n",
       "        text-align: right;\n",
       "    }\n",
       "</style>\n",
       "<table border=\"1\" class=\"dataframe\">\n",
       "  <thead>\n",
       "    <tr style=\"text-align: right;\">\n",
       "      <th></th>\n",
       "      <th>A</th>\n",
       "      <th>B</th>\n",
       "      <th>C</th>\n",
       "      <th>D</th>\n",
       "      <th>F</th>\n",
       "    </tr>\n",
       "  </thead>\n",
       "  <tbody>\n",
       "    <tr>\n",
       "      <th>2023-01-01</th>\n",
       "      <td>0.0</td>\n",
       "      <td>-0.553935</td>\n",
       "      <td>1.320878</td>\n",
       "      <td>-0.19333</td>\n",
       "      <td>NaN</td>\n",
       "    </tr>\n",
       "  </tbody>\n",
       "</table>\n",
       "</div>"
      ]
     },
     "metadata": {},
     "output_type": "display_data"
    }
   ],
   "execution_count": 35
  },
  {
   "cell_type": "markdown",
   "metadata": {
    "id": "4320b1546f43f0a5"
   },
   "source": [
    "#### Atribuindo valores por posição com `.iat`"
   ],
   "id": "4320b1546f43f0a5"
  },
  {
   "cell_type": "code",
   "metadata": {
    "colab": {
     "base_uri": "https://localhost:8080/",
     "height": 115
    },
    "id": "a227d91750d1c882",
    "outputId": "911c1389-d11a-4aec-c43d-7a2b645cb862",
    "ExecuteTime": {
     "end_time": "2025-05-06T20:01:13.666385Z",
     "start_time": "2025-05-06T20:01:13.661877Z"
    }
   },
   "source": [
    "print(\"Valor original em df_copia_set.iat[0, 1] (primeira linha, segunda coluna 'B'):\", df_copia_set.iat[0, 1])\n",
    "df_copia_set.iat[0, 1] = 0 # Atribuir 0\n",
    "print(\"Valor modificado:\", df_copia_set.iat[0, 1])\n",
    "display(df_copia_set.head(1))"
   ],
   "id": "a227d91750d1c882",
   "outputs": [
    {
     "name": "stdout",
     "output_type": "stream",
     "text": [
      "Valor original em df_copia_set.iat[0, 1] (primeira linha, segunda coluna 'B'): -0.5539346378128193\n",
      "Valor modificado: 0.0\n"
     ]
    },
    {
     "data": {
      "text/plain": [
       "              A    B         C        D   F\n",
       "2023-01-01  0.0  0.0  1.320878 -0.19333 NaN"
      ],
      "text/html": [
       "<div>\n",
       "<style scoped>\n",
       "    .dataframe tbody tr th:only-of-type {\n",
       "        vertical-align: middle;\n",
       "    }\n",
       "\n",
       "    .dataframe tbody tr th {\n",
       "        vertical-align: top;\n",
       "    }\n",
       "\n",
       "    .dataframe thead th {\n",
       "        text-align: right;\n",
       "    }\n",
       "</style>\n",
       "<table border=\"1\" class=\"dataframe\">\n",
       "  <thead>\n",
       "    <tr style=\"text-align: right;\">\n",
       "      <th></th>\n",
       "      <th>A</th>\n",
       "      <th>B</th>\n",
       "      <th>C</th>\n",
       "      <th>D</th>\n",
       "      <th>F</th>\n",
       "    </tr>\n",
       "  </thead>\n",
       "  <tbody>\n",
       "    <tr>\n",
       "      <th>2023-01-01</th>\n",
       "      <td>0.0</td>\n",
       "      <td>0.0</td>\n",
       "      <td>1.320878</td>\n",
       "      <td>-0.19333</td>\n",
       "      <td>NaN</td>\n",
       "    </tr>\n",
       "  </tbody>\n",
       "</table>\n",
       "</div>"
      ]
     },
     "metadata": {},
     "output_type": "display_data"
    }
   ],
   "execution_count": 36
  },
  {
   "cell_type": "markdown",
   "metadata": {
    "id": "1437c4ee0f490ce2"
   },
   "source": [
    "#### Atribuindo com um array NumPy\n",
    "Pode-se atribuir uma coluna inteira (ou uma fatia) usando um array NumPy."
   ],
   "id": "1437c4ee0f490ce2"
  },
  {
   "cell_type": "code",
   "metadata": {
    "colab": {
     "base_uri": "https://localhost:8080/",
     "height": 411
    },
    "id": "74672cfe6041b818",
    "outputId": "eb684124-b2d1-44b4-9076-2a64bf89a687",
    "ExecuteTime": {
     "end_time": "2025-05-06T20:01:13.763952Z",
     "start_time": "2025-05-06T20:01:13.758949Z"
    }
   },
   "source": [
    "print(\"Coluna 'D' original:\")\n",
    "print(df_copia_set[\"D\"])\n",
    "\n",
    "df_copia_set.loc[:, \"D\"] = np.array([5] * len(df_copia_set))\n",
    "\n",
    "print(\"\\nColuna 'D' modificada:\")\n",
    "display(df_copia_set)"
   ],
   "id": "74672cfe6041b818",
   "outputs": [
    {
     "name": "stdout",
     "output_type": "stream",
     "text": [
      "Coluna 'D' original:\n",
      "2023-01-01   -0.193330\n",
      "2023-01-02    1.513621\n",
      "2023-01-03   -0.493383\n",
      "2023-01-04   -2.063075\n",
      "2023-01-05    0.939968\n",
      "2023-01-06   -0.512852\n",
      "Freq: D, Name: D, dtype: float64\n",
      "\n",
      "Coluna 'D' modificada:\n"
     ]
    },
    {
     "data": {
      "text/plain": [
       "                   A         B         C    D    F\n",
       "2023-01-01  0.000000  0.000000  1.320878  5.0  NaN\n",
       "2023-01-02 -0.295575 -0.746297 -0.825099  5.0  1.0\n",
       "2023-01-03  0.387376 -0.715551  0.336643  5.0  2.0\n",
       "2023-01-04 -0.531299  1.437420 -0.047765  5.0  3.0\n",
       "2023-01-05 -0.536839  1.355357  0.347516  5.0  4.0\n",
       "2023-01-06  0.637960 -0.186411  0.738073  5.0  5.0"
      ],
      "text/html": [
       "<div>\n",
       "<style scoped>\n",
       "    .dataframe tbody tr th:only-of-type {\n",
       "        vertical-align: middle;\n",
       "    }\n",
       "\n",
       "    .dataframe tbody tr th {\n",
       "        vertical-align: top;\n",
       "    }\n",
       "\n",
       "    .dataframe thead th {\n",
       "        text-align: right;\n",
       "    }\n",
       "</style>\n",
       "<table border=\"1\" class=\"dataframe\">\n",
       "  <thead>\n",
       "    <tr style=\"text-align: right;\">\n",
       "      <th></th>\n",
       "      <th>A</th>\n",
       "      <th>B</th>\n",
       "      <th>C</th>\n",
       "      <th>D</th>\n",
       "      <th>F</th>\n",
       "    </tr>\n",
       "  </thead>\n",
       "  <tbody>\n",
       "    <tr>\n",
       "      <th>2023-01-01</th>\n",
       "      <td>0.000000</td>\n",
       "      <td>0.000000</td>\n",
       "      <td>1.320878</td>\n",
       "      <td>5.0</td>\n",
       "      <td>NaN</td>\n",
       "    </tr>\n",
       "    <tr>\n",
       "      <th>2023-01-02</th>\n",
       "      <td>-0.295575</td>\n",
       "      <td>-0.746297</td>\n",
       "      <td>-0.825099</td>\n",
       "      <td>5.0</td>\n",
       "      <td>1.0</td>\n",
       "    </tr>\n",
       "    <tr>\n",
       "      <th>2023-01-03</th>\n",
       "      <td>0.387376</td>\n",
       "      <td>-0.715551</td>\n",
       "      <td>0.336643</td>\n",
       "      <td>5.0</td>\n",
       "      <td>2.0</td>\n",
       "    </tr>\n",
       "    <tr>\n",
       "      <th>2023-01-04</th>\n",
       "      <td>-0.531299</td>\n",
       "      <td>1.437420</td>\n",
       "      <td>-0.047765</td>\n",
       "      <td>5.0</td>\n",
       "      <td>3.0</td>\n",
       "    </tr>\n",
       "    <tr>\n",
       "      <th>2023-01-05</th>\n",
       "      <td>-0.536839</td>\n",
       "      <td>1.355357</td>\n",
       "      <td>0.347516</td>\n",
       "      <td>5.0</td>\n",
       "      <td>4.0</td>\n",
       "    </tr>\n",
       "    <tr>\n",
       "      <th>2023-01-06</th>\n",
       "      <td>0.637960</td>\n",
       "      <td>-0.186411</td>\n",
       "      <td>0.738073</td>\n",
       "      <td>5.0</td>\n",
       "      <td>5.0</td>\n",
       "    </tr>\n",
       "  </tbody>\n",
       "</table>\n",
       "</div>"
      ]
     },
     "metadata": {},
     "output_type": "display_data"
    }
   ],
   "execution_count": 37
  },
  {
   "cell_type": "markdown",
   "metadata": {
    "id": "6d59114d391a27cd"
   },
   "source": [
    "#### Atribuição com condição `where`\n",
    "Similar a uma operação `if-then-else` vetorizada. Onde a condição é verdadeira, o DataFrame mantém seus valores; onde é falsa, os valores são substituídos."
   ],
   "id": "6d59114d391a27cd"
  },
  {
   "cell_type": "code",
   "metadata": {
    "colab": {
     "base_uri": "https://localhost:8080/",
     "height": 510
    },
    "id": "d3b6ec77bf2dd3c",
    "outputId": "97bd3696-f31a-4ff6-bcb7-4e6fb69fc593",
    "ExecuteTime": {
     "end_time": "2025-05-06T20:01:13.867480Z",
     "start_time": "2025-05-06T20:01:13.860294Z"
    }
   },
   "source": [
    "df_cond_set = df.copy()\n",
    "print(\"DataFrame df_cond_set original:\")\n",
    "display(df_cond_set)\n",
    "\n",
    "# Onde os valores em df_cond_set são > 0, substitui pelo seu negativo (-df_cond_set).\n",
    "# Se a condição (df_cond_set > 0) é False, o valor original é mantido (comportamento padrão de where sem 'other').\n",
    "# Para realmente modificar o DataFrame original, podemos fazer df_cond_set = df_cond_set.where(~(df_cond_set > 0), -df_cond_set)\n",
    "# Ou de forma mais idiomática para este caso (modificar onde a condição é True):\n",
    "df_cond_set[df_cond_set > 0] = -df_cond_set\n",
    "\n",
    "print(\"\\nDataFrame df_cond_set modificado (valores > 0 tornaram-se negativos):\")\n",
    "display(df_cond_set)"
   ],
   "id": "d3b6ec77bf2dd3c",
   "outputs": [
    {
     "name": "stdout",
     "output_type": "stream",
     "text": [
      "DataFrame df_cond_set original:\n"
     ]
    },
    {
     "data": {
      "text/plain": [
       "                   A         B         C         D\n",
       "2023-01-01 -0.566661 -0.553935  1.320878 -0.193330\n",
       "2023-01-02 -0.295575 -0.746297 -0.825099  1.513621\n",
       "2023-01-03  0.387376 -0.715551  0.336643 -0.493383\n",
       "2023-01-04 -0.531299  1.437420 -0.047765 -2.063075\n",
       "2023-01-05 -0.536839  1.355357  0.347516  0.939968\n",
       "2023-01-06  0.637960 -0.186411  0.738073 -0.512852"
      ],
      "text/html": [
       "<div>\n",
       "<style scoped>\n",
       "    .dataframe tbody tr th:only-of-type {\n",
       "        vertical-align: middle;\n",
       "    }\n",
       "\n",
       "    .dataframe tbody tr th {\n",
       "        vertical-align: top;\n",
       "    }\n",
       "\n",
       "    .dataframe thead th {\n",
       "        text-align: right;\n",
       "    }\n",
       "</style>\n",
       "<table border=\"1\" class=\"dataframe\">\n",
       "  <thead>\n",
       "    <tr style=\"text-align: right;\">\n",
       "      <th></th>\n",
       "      <th>A</th>\n",
       "      <th>B</th>\n",
       "      <th>C</th>\n",
       "      <th>D</th>\n",
       "    </tr>\n",
       "  </thead>\n",
       "  <tbody>\n",
       "    <tr>\n",
       "      <th>2023-01-01</th>\n",
       "      <td>-0.566661</td>\n",
       "      <td>-0.553935</td>\n",
       "      <td>1.320878</td>\n",
       "      <td>-0.193330</td>\n",
       "    </tr>\n",
       "    <tr>\n",
       "      <th>2023-01-02</th>\n",
       "      <td>-0.295575</td>\n",
       "      <td>-0.746297</td>\n",
       "      <td>-0.825099</td>\n",
       "      <td>1.513621</td>\n",
       "    </tr>\n",
       "    <tr>\n",
       "      <th>2023-01-03</th>\n",
       "      <td>0.387376</td>\n",
       "      <td>-0.715551</td>\n",
       "      <td>0.336643</td>\n",
       "      <td>-0.493383</td>\n",
       "    </tr>\n",
       "    <tr>\n",
       "      <th>2023-01-04</th>\n",
       "      <td>-0.531299</td>\n",
       "      <td>1.437420</td>\n",
       "      <td>-0.047765</td>\n",
       "      <td>-2.063075</td>\n",
       "    </tr>\n",
       "    <tr>\n",
       "      <th>2023-01-05</th>\n",
       "      <td>-0.536839</td>\n",
       "      <td>1.355357</td>\n",
       "      <td>0.347516</td>\n",
       "      <td>0.939968</td>\n",
       "    </tr>\n",
       "    <tr>\n",
       "      <th>2023-01-06</th>\n",
       "      <td>0.637960</td>\n",
       "      <td>-0.186411</td>\n",
       "      <td>0.738073</td>\n",
       "      <td>-0.512852</td>\n",
       "    </tr>\n",
       "  </tbody>\n",
       "</table>\n",
       "</div>"
      ]
     },
     "metadata": {},
     "output_type": "display_data"
    },
    {
     "name": "stdout",
     "output_type": "stream",
     "text": [
      "\n",
      "DataFrame df_cond_set modificado (valores > 0 tornaram-se negativos):\n"
     ]
    },
    {
     "data": {
      "text/plain": [
       "                   A         B         C         D\n",
       "2023-01-01 -0.566661 -0.553935 -1.320878 -0.193330\n",
       "2023-01-02 -0.295575 -0.746297 -0.825099 -1.513621\n",
       "2023-01-03 -0.387376 -0.715551 -0.336643 -0.493383\n",
       "2023-01-04 -0.531299 -1.437420 -0.047765 -2.063075\n",
       "2023-01-05 -0.536839 -1.355357 -0.347516 -0.939968\n",
       "2023-01-06 -0.637960 -0.186411 -0.738073 -0.512852"
      ],
      "text/html": [
       "<div>\n",
       "<style scoped>\n",
       "    .dataframe tbody tr th:only-of-type {\n",
       "        vertical-align: middle;\n",
       "    }\n",
       "\n",
       "    .dataframe tbody tr th {\n",
       "        vertical-align: top;\n",
       "    }\n",
       "\n",
       "    .dataframe thead th {\n",
       "        text-align: right;\n",
       "    }\n",
       "</style>\n",
       "<table border=\"1\" class=\"dataframe\">\n",
       "  <thead>\n",
       "    <tr style=\"text-align: right;\">\n",
       "      <th></th>\n",
       "      <th>A</th>\n",
       "      <th>B</th>\n",
       "      <th>C</th>\n",
       "      <th>D</th>\n",
       "    </tr>\n",
       "  </thead>\n",
       "  <tbody>\n",
       "    <tr>\n",
       "      <th>2023-01-01</th>\n",
       "      <td>-0.566661</td>\n",
       "      <td>-0.553935</td>\n",
       "      <td>-1.320878</td>\n",
       "      <td>-0.193330</td>\n",
       "    </tr>\n",
       "    <tr>\n",
       "      <th>2023-01-02</th>\n",
       "      <td>-0.295575</td>\n",
       "      <td>-0.746297</td>\n",
       "      <td>-0.825099</td>\n",
       "      <td>-1.513621</td>\n",
       "    </tr>\n",
       "    <tr>\n",
       "      <th>2023-01-03</th>\n",
       "      <td>-0.387376</td>\n",
       "      <td>-0.715551</td>\n",
       "      <td>-0.336643</td>\n",
       "      <td>-0.493383</td>\n",
       "    </tr>\n",
       "    <tr>\n",
       "      <th>2023-01-04</th>\n",
       "      <td>-0.531299</td>\n",
       "      <td>-1.437420</td>\n",
       "      <td>-0.047765</td>\n",
       "      <td>-2.063075</td>\n",
       "    </tr>\n",
       "    <tr>\n",
       "      <th>2023-01-05</th>\n",
       "      <td>-0.536839</td>\n",
       "      <td>-1.355357</td>\n",
       "      <td>-0.347516</td>\n",
       "      <td>-0.939968</td>\n",
       "    </tr>\n",
       "    <tr>\n",
       "      <th>2023-01-06</th>\n",
       "      <td>-0.637960</td>\n",
       "      <td>-0.186411</td>\n",
       "      <td>-0.738073</td>\n",
       "      <td>-0.512852</td>\n",
       "    </tr>\n",
       "  </tbody>\n",
       "</table>\n",
       "</div>"
      ]
     },
     "metadata": {},
     "output_type": "display_data"
    }
   ],
   "execution_count": 38
  },
  {
   "cell_type": "markdown",
   "metadata": {
    "id": "c60f8ae426c20cb8"
   },
   "source": [
    "## Dados Ausentes (Missing Data)\n",
    "\n",
    "Em tipos de dados NumPy, `np.nan` representa dados ausentes. Por padrão, não é incluído em cálculos.\n",
    "\n",
    "#### Reindexação (`reindex`)\n",
    "Permite alterar/adicionar/excluir o índice em um eixo especificado. Isso retorna uma *cópia* dos dados."
   ],
   "id": "c60f8ae426c20cb8"
  },
  {
   "cell_type": "code",
   "metadata": {
    "colab": {
     "base_uri": "https://localhost:8080/",
     "height": 385
    },
    "id": "827fd9550b73e73b",
    "outputId": "9ed93c36-2ad9-4719-c2b7-f0f14440eb31",
    "ExecuteTime": {
     "end_time": "2025-05-06T20:01:13.985533Z",
     "start_time": "2025-05-06T20:01:13.978119Z"
    }
   },
   "source": [
    "# Usando o DataFrame 'df' original\n",
    "df1 = df.reindex(index=datas[0:4], columns=list(df.columns) + [\"E\"]) # Pegar as 4 primeiras linhas e adicionar uma coluna 'E'\n",
    "print(\"DataFrame df1 reindexado (antes de preencher 'E'):\")\n",
    "display(df1)\n",
    "\n",
    "# Preenchendo alguns valores na nova coluna 'E'\n",
    "df1.loc[datas[0]:datas[1], \"E\"] = 1\n",
    "print(\"\\nDataFrame df1 após preencher alguns valores em 'E':\")\n",
    "display(df1)"
   ],
   "id": "827fd9550b73e73b",
   "outputs": [
    {
     "name": "stdout",
     "output_type": "stream",
     "text": [
      "DataFrame df1 reindexado (antes de preencher 'E'):\n"
     ]
    },
    {
     "data": {
      "text/plain": [
       "                   A         B         C         D   E\n",
       "2023-01-01 -0.566661 -0.553935  1.320878 -0.193330 NaN\n",
       "2023-01-02 -0.295575 -0.746297 -0.825099  1.513621 NaN\n",
       "2023-01-03  0.387376 -0.715551  0.336643 -0.493383 NaN\n",
       "2023-01-04 -0.531299  1.437420 -0.047765 -2.063075 NaN"
      ],
      "text/html": [
       "<div>\n",
       "<style scoped>\n",
       "    .dataframe tbody tr th:only-of-type {\n",
       "        vertical-align: middle;\n",
       "    }\n",
       "\n",
       "    .dataframe tbody tr th {\n",
       "        vertical-align: top;\n",
       "    }\n",
       "\n",
       "    .dataframe thead th {\n",
       "        text-align: right;\n",
       "    }\n",
       "</style>\n",
       "<table border=\"1\" class=\"dataframe\">\n",
       "  <thead>\n",
       "    <tr style=\"text-align: right;\">\n",
       "      <th></th>\n",
       "      <th>A</th>\n",
       "      <th>B</th>\n",
       "      <th>C</th>\n",
       "      <th>D</th>\n",
       "      <th>E</th>\n",
       "    </tr>\n",
       "  </thead>\n",
       "  <tbody>\n",
       "    <tr>\n",
       "      <th>2023-01-01</th>\n",
       "      <td>-0.566661</td>\n",
       "      <td>-0.553935</td>\n",
       "      <td>1.320878</td>\n",
       "      <td>-0.193330</td>\n",
       "      <td>NaN</td>\n",
       "    </tr>\n",
       "    <tr>\n",
       "      <th>2023-01-02</th>\n",
       "      <td>-0.295575</td>\n",
       "      <td>-0.746297</td>\n",
       "      <td>-0.825099</td>\n",
       "      <td>1.513621</td>\n",
       "      <td>NaN</td>\n",
       "    </tr>\n",
       "    <tr>\n",
       "      <th>2023-01-03</th>\n",
       "      <td>0.387376</td>\n",
       "      <td>-0.715551</td>\n",
       "      <td>0.336643</td>\n",
       "      <td>-0.493383</td>\n",
       "      <td>NaN</td>\n",
       "    </tr>\n",
       "    <tr>\n",
       "      <th>2023-01-04</th>\n",
       "      <td>-0.531299</td>\n",
       "      <td>1.437420</td>\n",
       "      <td>-0.047765</td>\n",
       "      <td>-2.063075</td>\n",
       "      <td>NaN</td>\n",
       "    </tr>\n",
       "  </tbody>\n",
       "</table>\n",
       "</div>"
      ]
     },
     "metadata": {},
     "output_type": "display_data"
    },
    {
     "name": "stdout",
     "output_type": "stream",
     "text": [
      "\n",
      "DataFrame df1 após preencher alguns valores em 'E':\n"
     ]
    },
    {
     "data": {
      "text/plain": [
       "                   A         B         C         D    E\n",
       "2023-01-01 -0.566661 -0.553935  1.320878 -0.193330  1.0\n",
       "2023-01-02 -0.295575 -0.746297 -0.825099  1.513621  1.0\n",
       "2023-01-03  0.387376 -0.715551  0.336643 -0.493383  NaN\n",
       "2023-01-04 -0.531299  1.437420 -0.047765 -2.063075  NaN"
      ],
      "text/html": [
       "<div>\n",
       "<style scoped>\n",
       "    .dataframe tbody tr th:only-of-type {\n",
       "        vertical-align: middle;\n",
       "    }\n",
       "\n",
       "    .dataframe tbody tr th {\n",
       "        vertical-align: top;\n",
       "    }\n",
       "\n",
       "    .dataframe thead th {\n",
       "        text-align: right;\n",
       "    }\n",
       "</style>\n",
       "<table border=\"1\" class=\"dataframe\">\n",
       "  <thead>\n",
       "    <tr style=\"text-align: right;\">\n",
       "      <th></th>\n",
       "      <th>A</th>\n",
       "      <th>B</th>\n",
       "      <th>C</th>\n",
       "      <th>D</th>\n",
       "      <th>E</th>\n",
       "    </tr>\n",
       "  </thead>\n",
       "  <tbody>\n",
       "    <tr>\n",
       "      <th>2023-01-01</th>\n",
       "      <td>-0.566661</td>\n",
       "      <td>-0.553935</td>\n",
       "      <td>1.320878</td>\n",
       "      <td>-0.193330</td>\n",
       "      <td>1.0</td>\n",
       "    </tr>\n",
       "    <tr>\n",
       "      <th>2023-01-02</th>\n",
       "      <td>-0.295575</td>\n",
       "      <td>-0.746297</td>\n",
       "      <td>-0.825099</td>\n",
       "      <td>1.513621</td>\n",
       "      <td>1.0</td>\n",
       "    </tr>\n",
       "    <tr>\n",
       "      <th>2023-01-03</th>\n",
       "      <td>0.387376</td>\n",
       "      <td>-0.715551</td>\n",
       "      <td>0.336643</td>\n",
       "      <td>-0.493383</td>\n",
       "      <td>NaN</td>\n",
       "    </tr>\n",
       "    <tr>\n",
       "      <th>2023-01-04</th>\n",
       "      <td>-0.531299</td>\n",
       "      <td>1.437420</td>\n",
       "      <td>-0.047765</td>\n",
       "      <td>-2.063075</td>\n",
       "      <td>NaN</td>\n",
       "    </tr>\n",
       "  </tbody>\n",
       "</table>\n",
       "</div>"
      ]
     },
     "metadata": {},
     "output_type": "display_data"
    }
   ],
   "execution_count": 39
  },
  {
   "cell_type": "markdown",
   "metadata": {
    "id": "b8d8ec0177612012"
   },
   "source": [
    "A coluna 'E' foi adicionada com `NaN` por padrão, e depois preenchemos algumas linhas."
   ],
   "id": "b8d8ec0177612012"
  },
  {
   "cell_type": "markdown",
   "metadata": {
    "id": "69ea1d8a624a34e5"
   },
   "source": [
    "#### `dropna()`\n",
    "Remove quaisquer linhas (ou colunas) que tenham dados ausentes."
   ],
   "id": "69ea1d8a624a34e5"
  },
  {
   "cell_type": "code",
   "metadata": {
    "colab": {
     "base_uri": "https://localhost:8080/",
     "height": 322
    },
    "id": "31f9e17e61a53b21",
    "outputId": "e45ec918-20c5-4720-d7b6-6e8b8938c6eb",
    "ExecuteTime": {
     "end_time": "2025-05-06T20:01:14.149041Z",
     "start_time": "2025-05-06T20:01:14.142309Z"
    }
   },
   "source": [
    "print(\"df1 original (com NaNs):\")\n",
    "display(df1)\n",
    "\n",
    "# how='any' (padrão): remove a linha se QUALQUER valor nela for NaN.\n",
    "# how='all': remove a linha apenas se TODOS os valores nela forem NaN.\n",
    "# axis=0 (padrão): opera nas linhas. axis=1 opera nas colunas.\n",
    "df_sem_na = df1.dropna(how=\"any\")\n",
    "print(\"\\ndf1 após dropna(how='any'):\")\n",
    "display(df_sem_na)"
   ],
   "id": "31f9e17e61a53b21",
   "outputs": [
    {
     "name": "stdout",
     "output_type": "stream",
     "text": [
      "df1 original (com NaNs):\n"
     ]
    },
    {
     "data": {
      "text/plain": [
       "                   A         B         C         D    E\n",
       "2023-01-01 -0.566661 -0.553935  1.320878 -0.193330  1.0\n",
       "2023-01-02 -0.295575 -0.746297 -0.825099  1.513621  1.0\n",
       "2023-01-03  0.387376 -0.715551  0.336643 -0.493383  NaN\n",
       "2023-01-04 -0.531299  1.437420 -0.047765 -2.063075  NaN"
      ],
      "text/html": [
       "<div>\n",
       "<style scoped>\n",
       "    .dataframe tbody tr th:only-of-type {\n",
       "        vertical-align: middle;\n",
       "    }\n",
       "\n",
       "    .dataframe tbody tr th {\n",
       "        vertical-align: top;\n",
       "    }\n",
       "\n",
       "    .dataframe thead th {\n",
       "        text-align: right;\n",
       "    }\n",
       "</style>\n",
       "<table border=\"1\" class=\"dataframe\">\n",
       "  <thead>\n",
       "    <tr style=\"text-align: right;\">\n",
       "      <th></th>\n",
       "      <th>A</th>\n",
       "      <th>B</th>\n",
       "      <th>C</th>\n",
       "      <th>D</th>\n",
       "      <th>E</th>\n",
       "    </tr>\n",
       "  </thead>\n",
       "  <tbody>\n",
       "    <tr>\n",
       "      <th>2023-01-01</th>\n",
       "      <td>-0.566661</td>\n",
       "      <td>-0.553935</td>\n",
       "      <td>1.320878</td>\n",
       "      <td>-0.193330</td>\n",
       "      <td>1.0</td>\n",
       "    </tr>\n",
       "    <tr>\n",
       "      <th>2023-01-02</th>\n",
       "      <td>-0.295575</td>\n",
       "      <td>-0.746297</td>\n",
       "      <td>-0.825099</td>\n",
       "      <td>1.513621</td>\n",
       "      <td>1.0</td>\n",
       "    </tr>\n",
       "    <tr>\n",
       "      <th>2023-01-03</th>\n",
       "      <td>0.387376</td>\n",
       "      <td>-0.715551</td>\n",
       "      <td>0.336643</td>\n",
       "      <td>-0.493383</td>\n",
       "      <td>NaN</td>\n",
       "    </tr>\n",
       "    <tr>\n",
       "      <th>2023-01-04</th>\n",
       "      <td>-0.531299</td>\n",
       "      <td>1.437420</td>\n",
       "      <td>-0.047765</td>\n",
       "      <td>-2.063075</td>\n",
       "      <td>NaN</td>\n",
       "    </tr>\n",
       "  </tbody>\n",
       "</table>\n",
       "</div>"
      ]
     },
     "metadata": {},
     "output_type": "display_data"
    },
    {
     "name": "stdout",
     "output_type": "stream",
     "text": [
      "\n",
      "df1 após dropna(how='any'):\n"
     ]
    },
    {
     "data": {
      "text/plain": [
       "                   A         B         C         D    E\n",
       "2023-01-01 -0.566661 -0.553935  1.320878 -0.193330  1.0\n",
       "2023-01-02 -0.295575 -0.746297 -0.825099  1.513621  1.0"
      ],
      "text/html": [
       "<div>\n",
       "<style scoped>\n",
       "    .dataframe tbody tr th:only-of-type {\n",
       "        vertical-align: middle;\n",
       "    }\n",
       "\n",
       "    .dataframe tbody tr th {\n",
       "        vertical-align: top;\n",
       "    }\n",
       "\n",
       "    .dataframe thead th {\n",
       "        text-align: right;\n",
       "    }\n",
       "</style>\n",
       "<table border=\"1\" class=\"dataframe\">\n",
       "  <thead>\n",
       "    <tr style=\"text-align: right;\">\n",
       "      <th></th>\n",
       "      <th>A</th>\n",
       "      <th>B</th>\n",
       "      <th>C</th>\n",
       "      <th>D</th>\n",
       "      <th>E</th>\n",
       "    </tr>\n",
       "  </thead>\n",
       "  <tbody>\n",
       "    <tr>\n",
       "      <th>2023-01-01</th>\n",
       "      <td>-0.566661</td>\n",
       "      <td>-0.553935</td>\n",
       "      <td>1.320878</td>\n",
       "      <td>-0.193330</td>\n",
       "      <td>1.0</td>\n",
       "    </tr>\n",
       "    <tr>\n",
       "      <th>2023-01-02</th>\n",
       "      <td>-0.295575</td>\n",
       "      <td>-0.746297</td>\n",
       "      <td>-0.825099</td>\n",
       "      <td>1.513621</td>\n",
       "      <td>1.0</td>\n",
       "    </tr>\n",
       "  </tbody>\n",
       "</table>\n",
       "</div>"
      ]
     },
     "metadata": {},
     "output_type": "display_data"
    }
   ],
   "execution_count": 40
  },
  {
   "cell_type": "markdown",
   "metadata": {
    "id": "32e73760afe09b29"
   },
   "source": [
    "#### `fillna()`\n",
    "Preenche dados ausentes com um valor específico."
   ],
   "id": "32e73760afe09b29"
  },
  {
   "cell_type": "code",
   "metadata": {
    "colab": {
     "base_uri": "https://localhost:8080/",
     "height": 385
    },
    "id": "203010947eff4931",
    "outputId": "fec93ab3-f56f-46e3-ffe5-1a1285222d4f",
    "ExecuteTime": {
     "end_time": "2025-05-06T20:01:14.306774Z",
     "start_time": "2025-05-06T20:01:14.295192Z"
    }
   },
   "source": [
    "print(\"df1 original (com NaNs):\")\n",
    "display(df1)\n",
    "\n",
    "df_preenchido = df1.fillna(value=5)\n",
    "print(\"\\ndf1 após fillna(value=5):\")\n",
    "display(df_preenchido)"
   ],
   "id": "203010947eff4931",
   "outputs": [
    {
     "name": "stdout",
     "output_type": "stream",
     "text": [
      "df1 original (com NaNs):\n"
     ]
    },
    {
     "data": {
      "text/plain": [
       "                   A         B         C         D    E\n",
       "2023-01-01 -0.566661 -0.553935  1.320878 -0.193330  1.0\n",
       "2023-01-02 -0.295575 -0.746297 -0.825099  1.513621  1.0\n",
       "2023-01-03  0.387376 -0.715551  0.336643 -0.493383  NaN\n",
       "2023-01-04 -0.531299  1.437420 -0.047765 -2.063075  NaN"
      ],
      "text/html": [
       "<div>\n",
       "<style scoped>\n",
       "    .dataframe tbody tr th:only-of-type {\n",
       "        vertical-align: middle;\n",
       "    }\n",
       "\n",
       "    .dataframe tbody tr th {\n",
       "        vertical-align: top;\n",
       "    }\n",
       "\n",
       "    .dataframe thead th {\n",
       "        text-align: right;\n",
       "    }\n",
       "</style>\n",
       "<table border=\"1\" class=\"dataframe\">\n",
       "  <thead>\n",
       "    <tr style=\"text-align: right;\">\n",
       "      <th></th>\n",
       "      <th>A</th>\n",
       "      <th>B</th>\n",
       "      <th>C</th>\n",
       "      <th>D</th>\n",
       "      <th>E</th>\n",
       "    </tr>\n",
       "  </thead>\n",
       "  <tbody>\n",
       "    <tr>\n",
       "      <th>2023-01-01</th>\n",
       "      <td>-0.566661</td>\n",
       "      <td>-0.553935</td>\n",
       "      <td>1.320878</td>\n",
       "      <td>-0.193330</td>\n",
       "      <td>1.0</td>\n",
       "    </tr>\n",
       "    <tr>\n",
       "      <th>2023-01-02</th>\n",
       "      <td>-0.295575</td>\n",
       "      <td>-0.746297</td>\n",
       "      <td>-0.825099</td>\n",
       "      <td>1.513621</td>\n",
       "      <td>1.0</td>\n",
       "    </tr>\n",
       "    <tr>\n",
       "      <th>2023-01-03</th>\n",
       "      <td>0.387376</td>\n",
       "      <td>-0.715551</td>\n",
       "      <td>0.336643</td>\n",
       "      <td>-0.493383</td>\n",
       "      <td>NaN</td>\n",
       "    </tr>\n",
       "    <tr>\n",
       "      <th>2023-01-04</th>\n",
       "      <td>-0.531299</td>\n",
       "      <td>1.437420</td>\n",
       "      <td>-0.047765</td>\n",
       "      <td>-2.063075</td>\n",
       "      <td>NaN</td>\n",
       "    </tr>\n",
       "  </tbody>\n",
       "</table>\n",
       "</div>"
      ]
     },
     "metadata": {},
     "output_type": "display_data"
    },
    {
     "name": "stdout",
     "output_type": "stream",
     "text": [
      "\n",
      "df1 após fillna(value=5):\n"
     ]
    },
    {
     "data": {
      "text/plain": [
       "                   A         B         C         D    E\n",
       "2023-01-01 -0.566661 -0.553935  1.320878 -0.193330  1.0\n",
       "2023-01-02 -0.295575 -0.746297 -0.825099  1.513621  1.0\n",
       "2023-01-03  0.387376 -0.715551  0.336643 -0.493383  5.0\n",
       "2023-01-04 -0.531299  1.437420 -0.047765 -2.063075  5.0"
      ],
      "text/html": [
       "<div>\n",
       "<style scoped>\n",
       "    .dataframe tbody tr th:only-of-type {\n",
       "        vertical-align: middle;\n",
       "    }\n",
       "\n",
       "    .dataframe tbody tr th {\n",
       "        vertical-align: top;\n",
       "    }\n",
       "\n",
       "    .dataframe thead th {\n",
       "        text-align: right;\n",
       "    }\n",
       "</style>\n",
       "<table border=\"1\" class=\"dataframe\">\n",
       "  <thead>\n",
       "    <tr style=\"text-align: right;\">\n",
       "      <th></th>\n",
       "      <th>A</th>\n",
       "      <th>B</th>\n",
       "      <th>C</th>\n",
       "      <th>D</th>\n",
       "      <th>E</th>\n",
       "    </tr>\n",
       "  </thead>\n",
       "  <tbody>\n",
       "    <tr>\n",
       "      <th>2023-01-01</th>\n",
       "      <td>-0.566661</td>\n",
       "      <td>-0.553935</td>\n",
       "      <td>1.320878</td>\n",
       "      <td>-0.193330</td>\n",
       "      <td>1.0</td>\n",
       "    </tr>\n",
       "    <tr>\n",
       "      <th>2023-01-02</th>\n",
       "      <td>-0.295575</td>\n",
       "      <td>-0.746297</td>\n",
       "      <td>-0.825099</td>\n",
       "      <td>1.513621</td>\n",
       "      <td>1.0</td>\n",
       "    </tr>\n",
       "    <tr>\n",
       "      <th>2023-01-03</th>\n",
       "      <td>0.387376</td>\n",
       "      <td>-0.715551</td>\n",
       "      <td>0.336643</td>\n",
       "      <td>-0.493383</td>\n",
       "      <td>5.0</td>\n",
       "    </tr>\n",
       "    <tr>\n",
       "      <th>2023-01-04</th>\n",
       "      <td>-0.531299</td>\n",
       "      <td>1.437420</td>\n",
       "      <td>-0.047765</td>\n",
       "      <td>-2.063075</td>\n",
       "      <td>5.0</td>\n",
       "    </tr>\n",
       "  </tbody>\n",
       "</table>\n",
       "</div>"
      ]
     },
     "metadata": {},
     "output_type": "display_data"
    }
   ],
   "execution_count": 41
  },
  {
   "cell_type": "markdown",
   "metadata": {
    "id": "8bbc68f4c9c42fb9"
   },
   "source": [
    "#### `isna()`\n",
    "Retorna uma máscara booleana indicando onde os valores são `NaN`."
   ],
   "id": "8bbc68f4c9c42fb9"
  },
  {
   "cell_type": "code",
   "metadata": {
    "colab": {
     "base_uri": "https://localhost:8080/",
     "height": 192
    },
    "id": "7ee945b00563bb11",
    "outputId": "a78af6c6-977f-4657-d11b-21157833ae03",
    "ExecuteTime": {
     "end_time": "2025-05-06T20:01:14.444277Z",
     "start_time": "2025-05-06T20:01:14.440018Z"
    }
   },
   "source": [
    "print(\"Máscara booleana para NaNs em df1:\")\n",
    "display(pd.isna(df1))"
   ],
   "id": "7ee945b00563bb11",
   "outputs": [
    {
     "name": "stdout",
     "output_type": "stream",
     "text": [
      "Máscara booleana para NaNs em df1:\n"
     ]
    },
    {
     "data": {
      "text/plain": [
       "                A      B      C      D      E\n",
       "2023-01-01  False  False  False  False  False\n",
       "2023-01-02  False  False  False  False  False\n",
       "2023-01-03  False  False  False  False   True\n",
       "2023-01-04  False  False  False  False   True"
      ],
      "text/html": [
       "<div>\n",
       "<style scoped>\n",
       "    .dataframe tbody tr th:only-of-type {\n",
       "        vertical-align: middle;\n",
       "    }\n",
       "\n",
       "    .dataframe tbody tr th {\n",
       "        vertical-align: top;\n",
       "    }\n",
       "\n",
       "    .dataframe thead th {\n",
       "        text-align: right;\n",
       "    }\n",
       "</style>\n",
       "<table border=\"1\" class=\"dataframe\">\n",
       "  <thead>\n",
       "    <tr style=\"text-align: right;\">\n",
       "      <th></th>\n",
       "      <th>A</th>\n",
       "      <th>B</th>\n",
       "      <th>C</th>\n",
       "      <th>D</th>\n",
       "      <th>E</th>\n",
       "    </tr>\n",
       "  </thead>\n",
       "  <tbody>\n",
       "    <tr>\n",
       "      <th>2023-01-01</th>\n",
       "      <td>False</td>\n",
       "      <td>False</td>\n",
       "      <td>False</td>\n",
       "      <td>False</td>\n",
       "      <td>False</td>\n",
       "    </tr>\n",
       "    <tr>\n",
       "      <th>2023-01-02</th>\n",
       "      <td>False</td>\n",
       "      <td>False</td>\n",
       "      <td>False</td>\n",
       "      <td>False</td>\n",
       "      <td>False</td>\n",
       "    </tr>\n",
       "    <tr>\n",
       "      <th>2023-01-03</th>\n",
       "      <td>False</td>\n",
       "      <td>False</td>\n",
       "      <td>False</td>\n",
       "      <td>False</td>\n",
       "      <td>True</td>\n",
       "    </tr>\n",
       "    <tr>\n",
       "      <th>2023-01-04</th>\n",
       "      <td>False</td>\n",
       "      <td>False</td>\n",
       "      <td>False</td>\n",
       "      <td>False</td>\n",
       "      <td>True</td>\n",
       "    </tr>\n",
       "  </tbody>\n",
       "</table>\n",
       "</div>"
      ]
     },
     "metadata": {},
     "output_type": "display_data"
    }
   ],
   "execution_count": 42
  },
  {
   "cell_type": "markdown",
   "metadata": {
    "id": "9541c259eff244f7"
   },
   "source": [
    "## Operações\n",
    "\n",
    "Veja mais em [Operações Binárias Básicas](https://pandas.pydata.org/pandas-docs/stable/user_guide/basics.html#binary-ops)."
   ],
   "id": "9541c259eff244f7"
  },
  {
   "cell_type": "markdown",
   "metadata": {
    "id": "9d2976bcdf4a628b"
   },
   "source": [
    "### Estatísticas (Stats)\n",
    "\n",
    "Operações em geral *excluem* dados ausentes.\n",
    "\n",
    "#### Média por coluna"
   ],
   "id": "9d2976bcdf4a628b"
  },
  {
   "cell_type": "code",
   "metadata": {
    "colab": {
     "base_uri": "https://localhost:8080/",
     "height": 251
    },
    "id": "5aafd26cf35a4654",
    "outputId": "ca7d179a-7d10-49a9-cc2f-5b902b74b34c",
    "ExecuteTime": {
     "end_time": "2025-05-06T20:01:14.569017Z",
     "start_time": "2025-05-06T20:01:14.563601Z"
    }
   },
   "source": [
    "print(\"DataFrame df:\")\n",
    "display(df.head(2))\n",
    "print(\"\\nMédia dos valores de cada coluna em df (axis=0, padrão):\")\n",
    "print(df.mean())"
   ],
   "id": "5aafd26cf35a4654",
   "outputs": [
    {
     "name": "stdout",
     "output_type": "stream",
     "text": [
      "DataFrame df:\n"
     ]
    },
    {
     "data": {
      "text/plain": [
       "                   A         B         C         D\n",
       "2023-01-01 -0.566661 -0.553935  1.320878 -0.193330\n",
       "2023-01-02 -0.295575 -0.746297 -0.825099  1.513621"
      ],
      "text/html": [
       "<div>\n",
       "<style scoped>\n",
       "    .dataframe tbody tr th:only-of-type {\n",
       "        vertical-align: middle;\n",
       "    }\n",
       "\n",
       "    .dataframe tbody tr th {\n",
       "        vertical-align: top;\n",
       "    }\n",
       "\n",
       "    .dataframe thead th {\n",
       "        text-align: right;\n",
       "    }\n",
       "</style>\n",
       "<table border=\"1\" class=\"dataframe\">\n",
       "  <thead>\n",
       "    <tr style=\"text-align: right;\">\n",
       "      <th></th>\n",
       "      <th>A</th>\n",
       "      <th>B</th>\n",
       "      <th>C</th>\n",
       "      <th>D</th>\n",
       "    </tr>\n",
       "  </thead>\n",
       "  <tbody>\n",
       "    <tr>\n",
       "      <th>2023-01-01</th>\n",
       "      <td>-0.566661</td>\n",
       "      <td>-0.553935</td>\n",
       "      <td>1.320878</td>\n",
       "      <td>-0.193330</td>\n",
       "    </tr>\n",
       "    <tr>\n",
       "      <th>2023-01-02</th>\n",
       "      <td>-0.295575</td>\n",
       "      <td>-0.746297</td>\n",
       "      <td>-0.825099</td>\n",
       "      <td>1.513621</td>\n",
       "    </tr>\n",
       "  </tbody>\n",
       "</table>\n",
       "</div>"
      ]
     },
     "metadata": {},
     "output_type": "display_data"
    },
    {
     "name": "stdout",
     "output_type": "stream",
     "text": [
      "\n",
      "Média dos valores de cada coluna em df (axis=0, padrão):\n",
      "A   -0.150839\n",
      "B    0.098431\n",
      "C    0.311708\n",
      "D   -0.134842\n",
      "dtype: float64\n"
     ]
    }
   ],
   "execution_count": 43
  },
  {
   "cell_type": "markdown",
   "metadata": {
    "id": "840d0b1e8ebed6c3"
   },
   "source": [
    "#### Média por linha"
   ],
   "id": "840d0b1e8ebed6c3"
  },
  {
   "cell_type": "code",
   "metadata": {
    "colab": {
     "base_uri": "https://localhost:8080/"
    },
    "id": "3ecd2dc5b207b94b",
    "outputId": "6e77941e-8430-41a6-dcfc-901b05cb9c47",
    "ExecuteTime": {
     "end_time": "2025-05-06T20:01:14.664295Z",
     "start_time": "2025-05-06T20:01:14.661544Z"
    }
   },
   "source": [
    "print(\"Média dos valores de cada linha em df (axis=1):\")\n",
    "print(df.mean(axis=1).head())"
   ],
   "id": "3ecd2dc5b207b94b",
   "outputs": [
    {
     "name": "stdout",
     "output_type": "stream",
     "text": [
      "Média dos valores de cada linha em df (axis=1):\n",
      "2023-01-01    0.001738\n",
      "2023-01-02   -0.088337\n",
      "2023-01-03   -0.121229\n",
      "2023-01-04   -0.301180\n",
      "2023-01-05    0.526500\n",
      "Freq: D, dtype: float64\n"
     ]
    }
   ],
   "execution_count": 44
  },
  {
   "cell_type": "markdown",
   "metadata": {
    "id": "dfda570621930b7c"
   },
   "source": [
    "#### Operando com outra `Series` ou `DataFrame`\n",
    "Operar com objetos que têm índices ou colunas diferentes alinhará o resultado com a união dos rótulos de índice/coluna. O Pandas preencherá automaticamente rótulos desalinhados com `np.nan` e fará o _broadcasting_ (propagação de valores) ao longo da dimensão especificada."
   ],
   "id": "dfda570621930b7c"
  },
  {
   "cell_type": "code",
   "metadata": {
    "colab": {
     "base_uri": "https://localhost:8080/",
     "height": 635
    },
    "id": "5c70710a9f9c7616",
    "outputId": "8e1b6429-19e4-4640-bd15-d4f5b406c578",
    "ExecuteTime": {
     "end_time": "2025-05-06T20:01:14.748751Z",
     "start_time": "2025-05-06T20:01:14.741187Z"
    }
   },
   "source": [
    "# Criando uma Series com dados e aplicando um deslocamento (shift)\n",
    "s_op = pd.Series([1, 3, 5, np.nan, 6, 8], index=datas).shift(2)\n",
    "print(\"Series s_op (com shift):\")\n",
    "print(s_op)\n",
    "\n",
    "print(\"\\nDataFrame df:\")\n",
    "display(df.head())\n",
    "\n",
    "print(\"\\nResultado de df.sub(s_op, axis='index') (subtração alinhada pelo índice):\")\n",
    "# df - s_op ao longo das linhas (axis='index' ou axis=0)\n",
    "display(df.sub(s_op, axis=\"index\"))"
   ],
   "id": "5c70710a9f9c7616",
   "outputs": [
    {
     "name": "stdout",
     "output_type": "stream",
     "text": [
      "Series s_op (com shift):\n",
      "2023-01-01    NaN\n",
      "2023-01-02    NaN\n",
      "2023-01-03    1.0\n",
      "2023-01-04    3.0\n",
      "2023-01-05    5.0\n",
      "2023-01-06    NaN\n",
      "Freq: D, dtype: float64\n",
      "\n",
      "DataFrame df:\n"
     ]
    },
    {
     "data": {
      "text/plain": [
       "                   A         B         C         D\n",
       "2023-01-01 -0.566661 -0.553935  1.320878 -0.193330\n",
       "2023-01-02 -0.295575 -0.746297 -0.825099  1.513621\n",
       "2023-01-03  0.387376 -0.715551  0.336643 -0.493383\n",
       "2023-01-04 -0.531299  1.437420 -0.047765 -2.063075\n",
       "2023-01-05 -0.536839  1.355357  0.347516  0.939968"
      ],
      "text/html": [
       "<div>\n",
       "<style scoped>\n",
       "    .dataframe tbody tr th:only-of-type {\n",
       "        vertical-align: middle;\n",
       "    }\n",
       "\n",
       "    .dataframe tbody tr th {\n",
       "        vertical-align: top;\n",
       "    }\n",
       "\n",
       "    .dataframe thead th {\n",
       "        text-align: right;\n",
       "    }\n",
       "</style>\n",
       "<table border=\"1\" class=\"dataframe\">\n",
       "  <thead>\n",
       "    <tr style=\"text-align: right;\">\n",
       "      <th></th>\n",
       "      <th>A</th>\n",
       "      <th>B</th>\n",
       "      <th>C</th>\n",
       "      <th>D</th>\n",
       "    </tr>\n",
       "  </thead>\n",
       "  <tbody>\n",
       "    <tr>\n",
       "      <th>2023-01-01</th>\n",
       "      <td>-0.566661</td>\n",
       "      <td>-0.553935</td>\n",
       "      <td>1.320878</td>\n",
       "      <td>-0.193330</td>\n",
       "    </tr>\n",
       "    <tr>\n",
       "      <th>2023-01-02</th>\n",
       "      <td>-0.295575</td>\n",
       "      <td>-0.746297</td>\n",
       "      <td>-0.825099</td>\n",
       "      <td>1.513621</td>\n",
       "    </tr>\n",
       "    <tr>\n",
       "      <th>2023-01-03</th>\n",
       "      <td>0.387376</td>\n",
       "      <td>-0.715551</td>\n",
       "      <td>0.336643</td>\n",
       "      <td>-0.493383</td>\n",
       "    </tr>\n",
       "    <tr>\n",
       "      <th>2023-01-04</th>\n",
       "      <td>-0.531299</td>\n",
       "      <td>1.437420</td>\n",
       "      <td>-0.047765</td>\n",
       "      <td>-2.063075</td>\n",
       "    </tr>\n",
       "    <tr>\n",
       "      <th>2023-01-05</th>\n",
       "      <td>-0.536839</td>\n",
       "      <td>1.355357</td>\n",
       "      <td>0.347516</td>\n",
       "      <td>0.939968</td>\n",
       "    </tr>\n",
       "  </tbody>\n",
       "</table>\n",
       "</div>"
      ]
     },
     "metadata": {},
     "output_type": "display_data"
    },
    {
     "name": "stdout",
     "output_type": "stream",
     "text": [
      "\n",
      "Resultado de df.sub(s_op, axis='index') (subtração alinhada pelo índice):\n"
     ]
    },
    {
     "data": {
      "text/plain": [
       "                   A         B         C         D\n",
       "2023-01-01       NaN       NaN       NaN       NaN\n",
       "2023-01-02       NaN       NaN       NaN       NaN\n",
       "2023-01-03 -0.612624 -1.715551 -0.663357 -1.493383\n",
       "2023-01-04 -3.531299 -1.562580 -3.047765 -5.063075\n",
       "2023-01-05 -5.536839 -3.644643 -4.652484 -4.060032\n",
       "2023-01-06       NaN       NaN       NaN       NaN"
      ],
      "text/html": [
       "<div>\n",
       "<style scoped>\n",
       "    .dataframe tbody tr th:only-of-type {\n",
       "        vertical-align: middle;\n",
       "    }\n",
       "\n",
       "    .dataframe tbody tr th {\n",
       "        vertical-align: top;\n",
       "    }\n",
       "\n",
       "    .dataframe thead th {\n",
       "        text-align: right;\n",
       "    }\n",
       "</style>\n",
       "<table border=\"1\" class=\"dataframe\">\n",
       "  <thead>\n",
       "    <tr style=\"text-align: right;\">\n",
       "      <th></th>\n",
       "      <th>A</th>\n",
       "      <th>B</th>\n",
       "      <th>C</th>\n",
       "      <th>D</th>\n",
       "    </tr>\n",
       "  </thead>\n",
       "  <tbody>\n",
       "    <tr>\n",
       "      <th>2023-01-01</th>\n",
       "      <td>NaN</td>\n",
       "      <td>NaN</td>\n",
       "      <td>NaN</td>\n",
       "      <td>NaN</td>\n",
       "    </tr>\n",
       "    <tr>\n",
       "      <th>2023-01-02</th>\n",
       "      <td>NaN</td>\n",
       "      <td>NaN</td>\n",
       "      <td>NaN</td>\n",
       "      <td>NaN</td>\n",
       "    </tr>\n",
       "    <tr>\n",
       "      <th>2023-01-03</th>\n",
       "      <td>-0.612624</td>\n",
       "      <td>-1.715551</td>\n",
       "      <td>-0.663357</td>\n",
       "      <td>-1.493383</td>\n",
       "    </tr>\n",
       "    <tr>\n",
       "      <th>2023-01-04</th>\n",
       "      <td>-3.531299</td>\n",
       "      <td>-1.562580</td>\n",
       "      <td>-3.047765</td>\n",
       "      <td>-5.063075</td>\n",
       "    </tr>\n",
       "    <tr>\n",
       "      <th>2023-01-05</th>\n",
       "      <td>-5.536839</td>\n",
       "      <td>-3.644643</td>\n",
       "      <td>-4.652484</td>\n",
       "      <td>-4.060032</td>\n",
       "    </tr>\n",
       "    <tr>\n",
       "      <th>2023-01-06</th>\n",
       "      <td>NaN</td>\n",
       "      <td>NaN</td>\n",
       "      <td>NaN</td>\n",
       "      <td>NaN</td>\n",
       "    </tr>\n",
       "  </tbody>\n",
       "</table>\n",
       "</div>"
      ]
     },
     "metadata": {},
     "output_type": "display_data"
    }
   ],
   "execution_count": 45
  },
  {
   "cell_type": "markdown",
   "metadata": {
    "id": "454da05a350c0839"
   },
   "source": [
    "Observe os `NaN` resultantes do alinhamento e do `shift`."
   ],
   "id": "454da05a350c0839"
  },
  {
   "cell_type": "markdown",
   "metadata": {
    "id": "5755dbda3fb9eb63"
   },
   "source": [
    "### Funções Definidas pelo Usuário (`apply`, `agg`, `transform`)\n",
    "\n",
    "#### `apply()`\n",
    "Aplica uma função ao longo de um eixo do DataFrame (linhas ou colunas)."
   ],
   "id": "5755dbda3fb9eb63"
  },
  {
   "cell_type": "code",
   "metadata": {
    "colab": {
     "base_uri": "https://localhost:8080/",
     "height": 581
    },
    "id": "681a4a69b027f761",
    "outputId": "5a7b9a17-485a-4466-8f57-d632c220e26f",
    "ExecuteTime": {
     "end_time": "2025-05-06T20:01:14.836884Z",
     "start_time": "2025-05-06T20:01:14.828651Z"
    }
   },
   "source": [
    "print(\"DataFrame df:\")\n",
    "display(df.head(2))\n",
    "\n",
    "# Aplicando a função np.cumsum (soma acumulada) a cada coluna\n",
    "print(\"\\nSoma acumulada de cada coluna (df.apply(np.cumsum)):\")\n",
    "display(df.apply(np.cumsum).head())\n",
    "\n",
    "# Aplicando uma função lambda para calcular a diferença entre o máximo e o mínimo de cada coluna\n",
    "print(\"\\nDiferença (max - min) de cada coluna:\")\n",
    "display(df.apply(lambda x: x.max() - x.min()))"
   ],
   "id": "681a4a69b027f761",
   "outputs": [
    {
     "name": "stdout",
     "output_type": "stream",
     "text": [
      "DataFrame df:\n"
     ]
    },
    {
     "data": {
      "text/plain": [
       "                   A         B         C         D\n",
       "2023-01-01 -0.566661 -0.553935  1.320878 -0.193330\n",
       "2023-01-02 -0.295575 -0.746297 -0.825099  1.513621"
      ],
      "text/html": [
       "<div>\n",
       "<style scoped>\n",
       "    .dataframe tbody tr th:only-of-type {\n",
       "        vertical-align: middle;\n",
       "    }\n",
       "\n",
       "    .dataframe tbody tr th {\n",
       "        vertical-align: top;\n",
       "    }\n",
       "\n",
       "    .dataframe thead th {\n",
       "        text-align: right;\n",
       "    }\n",
       "</style>\n",
       "<table border=\"1\" class=\"dataframe\">\n",
       "  <thead>\n",
       "    <tr style=\"text-align: right;\">\n",
       "      <th></th>\n",
       "      <th>A</th>\n",
       "      <th>B</th>\n",
       "      <th>C</th>\n",
       "      <th>D</th>\n",
       "    </tr>\n",
       "  </thead>\n",
       "  <tbody>\n",
       "    <tr>\n",
       "      <th>2023-01-01</th>\n",
       "      <td>-0.566661</td>\n",
       "      <td>-0.553935</td>\n",
       "      <td>1.320878</td>\n",
       "      <td>-0.193330</td>\n",
       "    </tr>\n",
       "    <tr>\n",
       "      <th>2023-01-02</th>\n",
       "      <td>-0.295575</td>\n",
       "      <td>-0.746297</td>\n",
       "      <td>-0.825099</td>\n",
       "      <td>1.513621</td>\n",
       "    </tr>\n",
       "  </tbody>\n",
       "</table>\n",
       "</div>"
      ]
     },
     "metadata": {},
     "output_type": "display_data"
    },
    {
     "name": "stdout",
     "output_type": "stream",
     "text": [
      "\n",
      "Soma acumulada de cada coluna (df.apply(np.cumsum)):\n"
     ]
    },
    {
     "data": {
      "text/plain": [
       "                   A         B         C         D\n",
       "2023-01-01 -0.566661 -0.553935  1.320878 -0.193330\n",
       "2023-01-02 -0.862235 -1.300232  0.495779  1.320291\n",
       "2023-01-03 -0.474859 -2.015783  0.832421  0.826907\n",
       "2023-01-04 -1.006158 -0.578363  0.784657 -1.236167\n",
       "2023-01-05 -1.542996  0.776994  1.132173 -0.296200"
      ],
      "text/html": [
       "<div>\n",
       "<style scoped>\n",
       "    .dataframe tbody tr th:only-of-type {\n",
       "        vertical-align: middle;\n",
       "    }\n",
       "\n",
       "    .dataframe tbody tr th {\n",
       "        vertical-align: top;\n",
       "    }\n",
       "\n",
       "    .dataframe thead th {\n",
       "        text-align: right;\n",
       "    }\n",
       "</style>\n",
       "<table border=\"1\" class=\"dataframe\">\n",
       "  <thead>\n",
       "    <tr style=\"text-align: right;\">\n",
       "      <th></th>\n",
       "      <th>A</th>\n",
       "      <th>B</th>\n",
       "      <th>C</th>\n",
       "      <th>D</th>\n",
       "    </tr>\n",
       "  </thead>\n",
       "  <tbody>\n",
       "    <tr>\n",
       "      <th>2023-01-01</th>\n",
       "      <td>-0.566661</td>\n",
       "      <td>-0.553935</td>\n",
       "      <td>1.320878</td>\n",
       "      <td>-0.193330</td>\n",
       "    </tr>\n",
       "    <tr>\n",
       "      <th>2023-01-02</th>\n",
       "      <td>-0.862235</td>\n",
       "      <td>-1.300232</td>\n",
       "      <td>0.495779</td>\n",
       "      <td>1.320291</td>\n",
       "    </tr>\n",
       "    <tr>\n",
       "      <th>2023-01-03</th>\n",
       "      <td>-0.474859</td>\n",
       "      <td>-2.015783</td>\n",
       "      <td>0.832421</td>\n",
       "      <td>0.826907</td>\n",
       "    </tr>\n",
       "    <tr>\n",
       "      <th>2023-01-04</th>\n",
       "      <td>-1.006158</td>\n",
       "      <td>-0.578363</td>\n",
       "      <td>0.784657</td>\n",
       "      <td>-1.236167</td>\n",
       "    </tr>\n",
       "    <tr>\n",
       "      <th>2023-01-05</th>\n",
       "      <td>-1.542996</td>\n",
       "      <td>0.776994</td>\n",
       "      <td>1.132173</td>\n",
       "      <td>-0.296200</td>\n",
       "    </tr>\n",
       "  </tbody>\n",
       "</table>\n",
       "</div>"
      ]
     },
     "metadata": {},
     "output_type": "display_data"
    },
    {
     "name": "stdout",
     "output_type": "stream",
     "text": [
      "\n",
      "Diferença (max - min) de cada coluna:\n"
     ]
    },
    {
     "data": {
      "text/plain": [
       "A    1.204621\n",
       "B    2.183717\n",
       "C    2.145977\n",
       "D    3.576695\n",
       "dtype: float64"
      ]
     },
     "metadata": {},
     "output_type": "display_data"
    }
   ],
   "execution_count": 46
  },
  {
   "cell_type": "markdown",
   "metadata": {
    "id": "3f4bf486a0dd260b"
   },
   "source": [
    "#### `agg()` e `transform()`\n",
    "`.agg()` (agregação) aplica uma ou mais funções que reduzem o resultado (e.g., `sum`, `mean`).\n",
    "`.transform()` aplica uma função que retorna um resultado com a mesma forma do original (broadcasts)."
   ],
   "id": "3f4bf486a0dd260b"
  },
  {
   "cell_type": "code",
   "metadata": {
    "colab": {
     "base_uri": "https://localhost:8080/",
     "height": 451
    },
    "id": "159bab821217df5c",
    "outputId": "8622fb80-5998-46e4-f83d-5c7716187d8e",
    "ExecuteTime": {
     "end_time": "2025-05-06T20:01:14.976614Z",
     "start_time": "2025-05-06T20:01:14.969932Z"
    }
   },
   "source": [
    "print(\"Agregação: Média de cada coluna multiplicada por 5.6\")\n",
    "display(df.agg(lambda x: np.mean(x) * 5.6))\n",
    "\n",
    "print(\"\\nTransformação: Cada elemento multiplicado por 101.2\")\n",
    "display(df.transform(lambda x: x * 101.2).head())"
   ],
   "id": "159bab821217df5c",
   "outputs": [
    {
     "name": "stdout",
     "output_type": "stream",
     "text": [
      "Agregação: Média de cada coluna multiplicada por 5.6\n"
     ]
    },
    {
     "data": {
      "text/plain": [
       "A   -0.844700\n",
       "B    0.551211\n",
       "C    1.745563\n",
       "D   -0.755115\n",
       "dtype: float64"
      ]
     },
     "metadata": {},
     "output_type": "display_data"
    },
    {
     "name": "stdout",
     "output_type": "stream",
     "text": [
      "\n",
      "Transformação: Cada elemento multiplicado por 101.2\n"
     ]
    },
    {
     "data": {
      "text/plain": [
       "                    A           B           C           D\n",
       "2023-01-01 -57.346049  -56.058185  133.672857  -19.565025\n",
       "2023-01-02 -29.912146  -75.525259  -83.500042  153.178438\n",
       "2023-01-03  39.202500  -72.413773   34.068228  -49.930381\n",
       "2023-01-04 -53.767449  145.466881   -4.833799 -208.783142\n",
       "2023-01-05 -54.328071  137.162106   35.168633   95.124712"
      ],
      "text/html": [
       "<div>\n",
       "<style scoped>\n",
       "    .dataframe tbody tr th:only-of-type {\n",
       "        vertical-align: middle;\n",
       "    }\n",
       "\n",
       "    .dataframe tbody tr th {\n",
       "        vertical-align: top;\n",
       "    }\n",
       "\n",
       "    .dataframe thead th {\n",
       "        text-align: right;\n",
       "    }\n",
       "</style>\n",
       "<table border=\"1\" class=\"dataframe\">\n",
       "  <thead>\n",
       "    <tr style=\"text-align: right;\">\n",
       "      <th></th>\n",
       "      <th>A</th>\n",
       "      <th>B</th>\n",
       "      <th>C</th>\n",
       "      <th>D</th>\n",
       "    </tr>\n",
       "  </thead>\n",
       "  <tbody>\n",
       "    <tr>\n",
       "      <th>2023-01-01</th>\n",
       "      <td>-57.346049</td>\n",
       "      <td>-56.058185</td>\n",
       "      <td>133.672857</td>\n",
       "      <td>-19.565025</td>\n",
       "    </tr>\n",
       "    <tr>\n",
       "      <th>2023-01-02</th>\n",
       "      <td>-29.912146</td>\n",
       "      <td>-75.525259</td>\n",
       "      <td>-83.500042</td>\n",
       "      <td>153.178438</td>\n",
       "    </tr>\n",
       "    <tr>\n",
       "      <th>2023-01-03</th>\n",
       "      <td>39.202500</td>\n",
       "      <td>-72.413773</td>\n",
       "      <td>34.068228</td>\n",
       "      <td>-49.930381</td>\n",
       "    </tr>\n",
       "    <tr>\n",
       "      <th>2023-01-04</th>\n",
       "      <td>-53.767449</td>\n",
       "      <td>145.466881</td>\n",
       "      <td>-4.833799</td>\n",
       "      <td>-208.783142</td>\n",
       "    </tr>\n",
       "    <tr>\n",
       "      <th>2023-01-05</th>\n",
       "      <td>-54.328071</td>\n",
       "      <td>137.162106</td>\n",
       "      <td>35.168633</td>\n",
       "      <td>95.124712</td>\n",
       "    </tr>\n",
       "  </tbody>\n",
       "</table>\n",
       "</div>"
      ]
     },
     "metadata": {},
     "output_type": "display_data"
    }
   ],
   "execution_count": 47
  },
  {
   "cell_type": "markdown",
   "metadata": {
    "id": "828c4ffa95cf1d48"
   },
   "source": [
    "### Contagem de Valores (`value_counts`)\n",
    "Conta a ocorrência de cada valor único em uma Series. Útil para histogramas e discretização."
   ],
   "id": "828c4ffa95cf1d48"
  },
  {
   "cell_type": "code",
   "metadata": {
    "colab": {
     "base_uri": "https://localhost:8080/"
    },
    "id": "f7c4831cf415b442",
    "outputId": "a755ee9d-26c2-4be8-bd3e-cf1cf3f78b62",
    "ExecuteTime": {
     "end_time": "2025-05-06T20:01:15.151766Z",
     "start_time": "2025-05-06T20:01:15.134264Z"
    }
   },
   "source": [
    "s_counts = pd.Series(np.random.randint(0, 7, size=10)) # 10 inteiros aleatórios entre 0 e 6\n",
    "print(\"Series s_counts:\")\n",
    "print(s_counts)\n",
    "\n",
    "print(\"\\nContagem de valores em s_counts:\")\n",
    "print(s_counts.value_counts())"
   ],
   "id": "f7c4831cf415b442",
   "outputs": [
    {
     "name": "stdout",
     "output_type": "stream",
     "text": [
      "Series s_counts:\n",
      "0    0\n",
      "1    3\n",
      "2    5\n",
      "3    6\n",
      "4    6\n",
      "5    3\n",
      "6    6\n",
      "7    5\n",
      "8    0\n",
      "9    1\n",
      "dtype: int64\n",
      "\n",
      "Contagem de valores em s_counts:\n",
      "6    3\n",
      "0    2\n",
      "3    2\n",
      "5    2\n",
      "1    1\n",
      "Name: count, dtype: int64\n"
     ]
    }
   ],
   "execution_count": 48
  },
  {
   "cell_type": "markdown",
   "metadata": {
    "id": "2e51395c1ec2b5b3"
   },
   "source": [
    "### Métodos de String\n",
    "`Series` possui um conjunto de métodos de processamento de string no atributo `str` que facilitam a operação em cada elemento do array. Veja mais em [Métodos de String Vetorizados](https://pandas.pydata.org/pandas-docs/stable/user_guide/text.html#string-methods)."
   ],
   "id": "2e51395c1ec2b5b3"
  },
  {
   "cell_type": "code",
   "metadata": {
    "colab": {
     "base_uri": "https://localhost:8080/"
    },
    "id": "82a2f6ea9a581dc",
    "outputId": "219d1ab7-a404-41de-dded-094c8b65787b",
    "ExecuteTime": {
     "end_time": "2025-05-06T20:01:15.275554Z",
     "start_time": "2025-05-06T20:01:15.272079Z"
    }
   },
   "source": [
    "s_str = pd.Series([\"A\", \"B\", \"C\", \"Aaba\", \"Baca\", np.nan, \"CABA\", \"cao\", \"gato\"])\n",
    "print(\"Series s_str original:\")\n",
    "print(s_str)\n",
    "\n",
    "print(\"\\ns_str convertida para minúsculas:\")\n",
    "print(s_str.str.lower())"
   ],
   "id": "82a2f6ea9a581dc",
   "outputs": [
    {
     "name": "stdout",
     "output_type": "stream",
     "text": [
      "Series s_str original:\n",
      "0       A\n",
      "1       B\n",
      "2       C\n",
      "3    Aaba\n",
      "4    Baca\n",
      "5     NaN\n",
      "6    CABA\n",
      "7     cao\n",
      "8    gato\n",
      "dtype: object\n",
      "\n",
      "s_str convertida para minúsculas:\n",
      "0       a\n",
      "1       b\n",
      "2       c\n",
      "3    aaba\n",
      "4    baca\n",
      "5     NaN\n",
      "6    caba\n",
      "7     cao\n",
      "8    gato\n",
      "dtype: object\n"
     ]
    }
   ],
   "execution_count": 49
  },
  {
   "cell_type": "markdown",
   "metadata": {
    "id": "cc3bfdc2969c464c"
   },
   "source": [
    "Outros métodos úteis incluem `str.upper()`, `str.len()`, `str.strip()`, `str.contains()`, `str.replace()`, `str.split()`, etc."
   ],
   "id": "cc3bfdc2969c464c"
  },
  {
   "cell_type": "markdown",
   "metadata": {
    "id": "f8aefeee27d3a225"
   },
   "source": [
    "## Merge (Junção de Dados)\n",
    "\n",
    "O Pandas fornece várias facilidades para combinar objetos `Series` e `DataFrame` com diferentes tipos de lógica de conjunto para os índices e funcionalidade de álgebra relacional no caso de operações do tipo join/merge."
   ],
   "id": "f8aefeee27d3a225"
  },
  {
   "cell_type": "markdown",
   "metadata": {
    "id": "7bf3e991260a4bf0"
   },
   "source": [
    "### Concatenação (`concat`)\n",
    "Concatenar objetos Pandas juntos (por padrão, ao longo das linhas `axis=0`). Veja mais em [Merging](https://pandas.pydata.org/pandas-docs/stable/user_guide/merging.html)."
   ],
   "id": "7bf3e991260a4bf0"
  },
  {
   "cell_type": "code",
   "metadata": {
    "colab": {
     "base_uri": "https://localhost:8080/",
     "height": 371
    },
    "id": "7bdfbf63db6e66ca",
    "outputId": "cf21ece8-4f1e-48f3-8b40-f60bfa86f962",
    "ExecuteTime": {
     "end_time": "2025-05-06T20:01:15.347720Z",
     "start_time": "2025-05-06T20:01:15.331061Z"
    }
   },
   "source": [
    "df_concat = pd.DataFrame(np.random.randn(10, 4))\n",
    "print(\"DataFrame df_concat original (10 linhas):\")\n",
    "display(df_concat.head(2)) # Mostrando apenas parte\n",
    "\n",
    "# Quebrando em pedaços\n",
    "pedacos = [df_concat[:3], df_concat[3:7], df_concat[7:]]\n",
    "\n",
    "print(\"\\nConcatenando os pedaços (ao longo das linhas):\")\n",
    "df_concatenado = pd.concat(pedacos)\n",
    "display(df_concatenado.shape) # Deve ter (10, 4)\n",
    "display(df_concatenado.head())"
   ],
   "id": "7bdfbf63db6e66ca",
   "outputs": [
    {
     "name": "stdout",
     "output_type": "stream",
     "text": [
      "DataFrame df_concat original (10 linhas):\n"
     ]
    },
    {
     "data": {
      "text/plain": [
       "          0         1         2         3\n",
       "0 -0.935513 -0.448033  0.087914 -1.132722\n",
       "1  0.050267 -1.003319 -1.665304 -0.301547"
      ],
      "text/html": [
       "<div>\n",
       "<style scoped>\n",
       "    .dataframe tbody tr th:only-of-type {\n",
       "        vertical-align: middle;\n",
       "    }\n",
       "\n",
       "    .dataframe tbody tr th {\n",
       "        vertical-align: top;\n",
       "    }\n",
       "\n",
       "    .dataframe thead th {\n",
       "        text-align: right;\n",
       "    }\n",
       "</style>\n",
       "<table border=\"1\" class=\"dataframe\">\n",
       "  <thead>\n",
       "    <tr style=\"text-align: right;\">\n",
       "      <th></th>\n",
       "      <th>0</th>\n",
       "      <th>1</th>\n",
       "      <th>2</th>\n",
       "      <th>3</th>\n",
       "    </tr>\n",
       "  </thead>\n",
       "  <tbody>\n",
       "    <tr>\n",
       "      <th>0</th>\n",
       "      <td>-0.935513</td>\n",
       "      <td>-0.448033</td>\n",
       "      <td>0.087914</td>\n",
       "      <td>-1.132722</td>\n",
       "    </tr>\n",
       "    <tr>\n",
       "      <th>1</th>\n",
       "      <td>0.050267</td>\n",
       "      <td>-1.003319</td>\n",
       "      <td>-1.665304</td>\n",
       "      <td>-0.301547</td>\n",
       "    </tr>\n",
       "  </tbody>\n",
       "</table>\n",
       "</div>"
      ]
     },
     "metadata": {},
     "output_type": "display_data"
    },
    {
     "name": "stdout",
     "output_type": "stream",
     "text": [
      "\n",
      "Concatenando os pedaços (ao longo das linhas):\n"
     ]
    },
    {
     "data": {
      "text/plain": [
       "(10, 4)"
      ]
     },
     "metadata": {},
     "output_type": "display_data"
    },
    {
     "data": {
      "text/plain": [
       "          0         1         2         3\n",
       "0 -0.935513 -0.448033  0.087914 -1.132722\n",
       "1  0.050267 -1.003319 -1.665304 -0.301547\n",
       "2  0.857881 -0.646844 -1.420954 -1.979454\n",
       "3  2.528621  1.860275  1.738555 -0.154964\n",
       "4  1.149705 -1.977367  0.867508  0.769707"
      ],
      "text/html": [
       "<div>\n",
       "<style scoped>\n",
       "    .dataframe tbody tr th:only-of-type {\n",
       "        vertical-align: middle;\n",
       "    }\n",
       "\n",
       "    .dataframe tbody tr th {\n",
       "        vertical-align: top;\n",
       "    }\n",
       "\n",
       "    .dataframe thead th {\n",
       "        text-align: right;\n",
       "    }\n",
       "</style>\n",
       "<table border=\"1\" class=\"dataframe\">\n",
       "  <thead>\n",
       "    <tr style=\"text-align: right;\">\n",
       "      <th></th>\n",
       "      <th>0</th>\n",
       "      <th>1</th>\n",
       "      <th>2</th>\n",
       "      <th>3</th>\n",
       "    </tr>\n",
       "  </thead>\n",
       "  <tbody>\n",
       "    <tr>\n",
       "      <th>0</th>\n",
       "      <td>-0.935513</td>\n",
       "      <td>-0.448033</td>\n",
       "      <td>0.087914</td>\n",
       "      <td>-1.132722</td>\n",
       "    </tr>\n",
       "    <tr>\n",
       "      <th>1</th>\n",
       "      <td>0.050267</td>\n",
       "      <td>-1.003319</td>\n",
       "      <td>-1.665304</td>\n",
       "      <td>-0.301547</td>\n",
       "    </tr>\n",
       "    <tr>\n",
       "      <th>2</th>\n",
       "      <td>0.857881</td>\n",
       "      <td>-0.646844</td>\n",
       "      <td>-1.420954</td>\n",
       "      <td>-1.979454</td>\n",
       "    </tr>\n",
       "    <tr>\n",
       "      <th>3</th>\n",
       "      <td>2.528621</td>\n",
       "      <td>1.860275</td>\n",
       "      <td>1.738555</td>\n",
       "      <td>-0.154964</td>\n",
       "    </tr>\n",
       "    <tr>\n",
       "      <th>4</th>\n",
       "      <td>1.149705</td>\n",
       "      <td>-1.977367</td>\n",
       "      <td>0.867508</td>\n",
       "      <td>0.769707</td>\n",
       "    </tr>\n",
       "  </tbody>\n",
       "</table>\n",
       "</div>"
      ]
     },
     "metadata": {},
     "output_type": "display_data"
    }
   ],
   "execution_count": 50
  },
  {
   "cell_type": "markdown",
   "metadata": {
    "id": "9fadda2ed7f0c989"
   },
   "source": [
    "> **Nota:** Adicionar uma coluna a um `DataFrame` é relativamente rápido. No entanto, adicionar uma linha requer uma cópia e pode ser caro. Recomendamos passar uma lista pré-construída de registros para o construtor do `DataFrame` em vez de construir um `DataFrame` iterativamente anexando registros a ele."
   ],
   "id": "9fadda2ed7f0c989"
  },
  {
   "cell_type": "markdown",
   "metadata": {
    "id": "5291c1f0d7f57f8a"
   },
   "source": [
    "### Join (Estilo SQL com `merge`)\n",
    "`pd.merge` permite junções do tipo SQL ao longo de colunas específicas. Veja a seção [Database style joining](https://pandas.pydata.org/pandas-docs/stable/user_guide/merging.html#database-style-dataframe-or-named-series-joining-merging)."
   ],
   "id": "5291c1f0d7f57f8a"
  },
  {
   "cell_type": "code",
   "metadata": {
    "colab": {
     "base_uri": "https://localhost:8080/",
     "height": 528
    },
    "id": "45166308ca4f5b0d",
    "outputId": "a8451ec6-e5b9-4e83-8c6c-9157518f64a4",
    "ExecuteTime": {
     "end_time": "2025-05-06T20:01:15.453402Z",
     "start_time": "2025-05-06T20:01:15.437732Z"
    }
   },
   "source": [
    "df_esquerda = pd.DataFrame({\"chave\": [\"foo\", \"foo\", \"bar\"], \"lval\": [1, 2, 3]})\n",
    "df_direita = pd.DataFrame({\"chave\": [\"foo\", \"foo\", \"bar\"], \"rval\": [4, 5, 6]})\n",
    "\n",
    "print(\"DataFrame da Esquerda (left):\")\n",
    "display(df_esquerda)\n",
    "\n",
    "print(\"DataFrame da Direita (right):\")\n",
    "display(df_direita)\n",
    "\n",
    "print(\"\\nMerge dos DataFrames pela coluna 'chave' (junção interna padrão):\")\n",
    "# Como 'foo' aparece duas vezes em left e duas em right, teremos 2*2=4 combinações para 'foo'.\n",
    "# Como 'bar' aparece uma vez em cada, teremos 1*1=1 combinação para 'bar'.\n",
    "display(pd.merge(df_esquerda, df_direita, on=\"chave\"))"
   ],
   "id": "45166308ca4f5b0d",
   "outputs": [
    {
     "name": "stdout",
     "output_type": "stream",
     "text": [
      "DataFrame da Esquerda (left):\n"
     ]
    },
    {
     "data": {
      "text/plain": [
       "  chave  lval\n",
       "0   foo     1\n",
       "1   foo     2\n",
       "2   bar     3"
      ],
      "text/html": [
       "<div>\n",
       "<style scoped>\n",
       "    .dataframe tbody tr th:only-of-type {\n",
       "        vertical-align: middle;\n",
       "    }\n",
       "\n",
       "    .dataframe tbody tr th {\n",
       "        vertical-align: top;\n",
       "    }\n",
       "\n",
       "    .dataframe thead th {\n",
       "        text-align: right;\n",
       "    }\n",
       "</style>\n",
       "<table border=\"1\" class=\"dataframe\">\n",
       "  <thead>\n",
       "    <tr style=\"text-align: right;\">\n",
       "      <th></th>\n",
       "      <th>chave</th>\n",
       "      <th>lval</th>\n",
       "    </tr>\n",
       "  </thead>\n",
       "  <tbody>\n",
       "    <tr>\n",
       "      <th>0</th>\n",
       "      <td>foo</td>\n",
       "      <td>1</td>\n",
       "    </tr>\n",
       "    <tr>\n",
       "      <th>1</th>\n",
       "      <td>foo</td>\n",
       "      <td>2</td>\n",
       "    </tr>\n",
       "    <tr>\n",
       "      <th>2</th>\n",
       "      <td>bar</td>\n",
       "      <td>3</td>\n",
       "    </tr>\n",
       "  </tbody>\n",
       "</table>\n",
       "</div>"
      ]
     },
     "metadata": {},
     "output_type": "display_data"
    },
    {
     "name": "stdout",
     "output_type": "stream",
     "text": [
      "DataFrame da Direita (right):\n"
     ]
    },
    {
     "data": {
      "text/plain": [
       "  chave  rval\n",
       "0   foo     4\n",
       "1   foo     5\n",
       "2   bar     6"
      ],
      "text/html": [
       "<div>\n",
       "<style scoped>\n",
       "    .dataframe tbody tr th:only-of-type {\n",
       "        vertical-align: middle;\n",
       "    }\n",
       "\n",
       "    .dataframe tbody tr th {\n",
       "        vertical-align: top;\n",
       "    }\n",
       "\n",
       "    .dataframe thead th {\n",
       "        text-align: right;\n",
       "    }\n",
       "</style>\n",
       "<table border=\"1\" class=\"dataframe\">\n",
       "  <thead>\n",
       "    <tr style=\"text-align: right;\">\n",
       "      <th></th>\n",
       "      <th>chave</th>\n",
       "      <th>rval</th>\n",
       "    </tr>\n",
       "  </thead>\n",
       "  <tbody>\n",
       "    <tr>\n",
       "      <th>0</th>\n",
       "      <td>foo</td>\n",
       "      <td>4</td>\n",
       "    </tr>\n",
       "    <tr>\n",
       "      <th>1</th>\n",
       "      <td>foo</td>\n",
       "      <td>5</td>\n",
       "    </tr>\n",
       "    <tr>\n",
       "      <th>2</th>\n",
       "      <td>bar</td>\n",
       "      <td>6</td>\n",
       "    </tr>\n",
       "  </tbody>\n",
       "</table>\n",
       "</div>"
      ]
     },
     "metadata": {},
     "output_type": "display_data"
    },
    {
     "name": "stdout",
     "output_type": "stream",
     "text": [
      "\n",
      "Merge dos DataFrames pela coluna 'chave' (junção interna padrão):\n"
     ]
    },
    {
     "data": {
      "text/plain": [
       "  chave  lval  rval\n",
       "0   foo     1     4\n",
       "1   foo     1     5\n",
       "2   foo     2     4\n",
       "3   foo     2     5\n",
       "4   bar     3     6"
      ],
      "text/html": [
       "<div>\n",
       "<style scoped>\n",
       "    .dataframe tbody tr th:only-of-type {\n",
       "        vertical-align: middle;\n",
       "    }\n",
       "\n",
       "    .dataframe tbody tr th {\n",
       "        vertical-align: top;\n",
       "    }\n",
       "\n",
       "    .dataframe thead th {\n",
       "        text-align: right;\n",
       "    }\n",
       "</style>\n",
       "<table border=\"1\" class=\"dataframe\">\n",
       "  <thead>\n",
       "    <tr style=\"text-align: right;\">\n",
       "      <th></th>\n",
       "      <th>chave</th>\n",
       "      <th>lval</th>\n",
       "      <th>rval</th>\n",
       "    </tr>\n",
       "  </thead>\n",
       "  <tbody>\n",
       "    <tr>\n",
       "      <th>0</th>\n",
       "      <td>foo</td>\n",
       "      <td>1</td>\n",
       "      <td>4</td>\n",
       "    </tr>\n",
       "    <tr>\n",
       "      <th>1</th>\n",
       "      <td>foo</td>\n",
       "      <td>1</td>\n",
       "      <td>5</td>\n",
       "    </tr>\n",
       "    <tr>\n",
       "      <th>2</th>\n",
       "      <td>foo</td>\n",
       "      <td>2</td>\n",
       "      <td>4</td>\n",
       "    </tr>\n",
       "    <tr>\n",
       "      <th>3</th>\n",
       "      <td>foo</td>\n",
       "      <td>2</td>\n",
       "      <td>5</td>\n",
       "    </tr>\n",
       "    <tr>\n",
       "      <th>4</th>\n",
       "      <td>bar</td>\n",
       "      <td>3</td>\n",
       "      <td>6</td>\n",
       "    </tr>\n",
       "  </tbody>\n",
       "</table>\n",
       "</div>"
      ]
     },
     "metadata": {},
     "output_type": "display_data"
    }
   ],
   "execution_count": 51
  },
  {
   "cell_type": "markdown",
   "metadata": {
    "id": "6acde1e747cbe093"
   },
   "source": [
    "Outro exemplo com chaves diferentes para ilustrar tipos de join (inner, left, right, outer)."
   ],
   "id": "6acde1e747cbe093"
  },
  {
   "cell_type": "code",
   "metadata": {
    "colab": {
     "base_uri": "https://localhost:8080/",
     "height": 945
    },
    "id": "524be06e12c1fd1",
    "outputId": "4ed3b531-68a3-4167-d285-001aaaeba81e",
    "ExecuteTime": {
     "end_time": "2025-05-06T20:01:15.666375Z",
     "start_time": "2025-05-06T20:01:15.646786Z"
    }
   },
   "source": [
    "df_esquerda_2 = pd.DataFrame({\"chave\": [\"K0\", \"K1\", \"K2\", \"K3\"], \"A\": [\"A0\", \"A1\", \"A2\", \"A3\"], \"B\": [\"B0\", \"B1\", \"B2\", \"B3\"]})\n",
    "df_direita_2 = pd.DataFrame({\"chave\": [\"K0\", \"K1\", \"K4\", \"K5\"], \"C\": [\"C0\", \"C1\", \"C4\", \"C5\"], \"D\": [\"D0\", \"D1\", \"D4\", \"D5\"]})\n",
    "\n",
    "print(\"Esquerda 2:\"); display(df_esquerda_2)\n",
    "print(\"Direita 2:\"); display(df_direita_2)\n",
    "\n",
    "print(\"\\nMerge com how='inner' (padrão - interseção das chaves K0, K1):\")\n",
    "display(pd.merge(df_esquerda_2, df_direita_2, on=\"chave\", how=\"inner\"))\n",
    "\n",
    "print(\"\\nMerge com how='outer' (união das chaves K0, K1, K2, K3, K4, K5):\")\n",
    "display(pd.merge(df_esquerda_2, df_direita_2, on=\"chave\", how=\"outer\"))\n",
    "\n",
    "print(\"\\nMerge com how='left' (todas as chaves da esquerda K0, K1, K2, K3):\")\n",
    "display(pd.merge(df_esquerda_2, df_direita_2, on=\"chave\", how=\"left\"))"
   ],
   "id": "524be06e12c1fd1",
   "outputs": [
    {
     "name": "stdout",
     "output_type": "stream",
     "text": [
      "Esquerda 2:\n"
     ]
    },
    {
     "data": {
      "text/plain": [
       "  chave   A   B\n",
       "0    K0  A0  B0\n",
       "1    K1  A1  B1\n",
       "2    K2  A2  B2\n",
       "3    K3  A3  B3"
      ],
      "text/html": [
       "<div>\n",
       "<style scoped>\n",
       "    .dataframe tbody tr th:only-of-type {\n",
       "        vertical-align: middle;\n",
       "    }\n",
       "\n",
       "    .dataframe tbody tr th {\n",
       "        vertical-align: top;\n",
       "    }\n",
       "\n",
       "    .dataframe thead th {\n",
       "        text-align: right;\n",
       "    }\n",
       "</style>\n",
       "<table border=\"1\" class=\"dataframe\">\n",
       "  <thead>\n",
       "    <tr style=\"text-align: right;\">\n",
       "      <th></th>\n",
       "      <th>chave</th>\n",
       "      <th>A</th>\n",
       "      <th>B</th>\n",
       "    </tr>\n",
       "  </thead>\n",
       "  <tbody>\n",
       "    <tr>\n",
       "      <th>0</th>\n",
       "      <td>K0</td>\n",
       "      <td>A0</td>\n",
       "      <td>B0</td>\n",
       "    </tr>\n",
       "    <tr>\n",
       "      <th>1</th>\n",
       "      <td>K1</td>\n",
       "      <td>A1</td>\n",
       "      <td>B1</td>\n",
       "    </tr>\n",
       "    <tr>\n",
       "      <th>2</th>\n",
       "      <td>K2</td>\n",
       "      <td>A2</td>\n",
       "      <td>B2</td>\n",
       "    </tr>\n",
       "    <tr>\n",
       "      <th>3</th>\n",
       "      <td>K3</td>\n",
       "      <td>A3</td>\n",
       "      <td>B3</td>\n",
       "    </tr>\n",
       "  </tbody>\n",
       "</table>\n",
       "</div>"
      ]
     },
     "metadata": {},
     "output_type": "display_data"
    },
    {
     "name": "stdout",
     "output_type": "stream",
     "text": [
      "Direita 2:\n"
     ]
    },
    {
     "data": {
      "text/plain": [
       "  chave   C   D\n",
       "0    K0  C0  D0\n",
       "1    K1  C1  D1\n",
       "2    K4  C4  D4\n",
       "3    K5  C5  D5"
      ],
      "text/html": [
       "<div>\n",
       "<style scoped>\n",
       "    .dataframe tbody tr th:only-of-type {\n",
       "        vertical-align: middle;\n",
       "    }\n",
       "\n",
       "    .dataframe tbody tr th {\n",
       "        vertical-align: top;\n",
       "    }\n",
       "\n",
       "    .dataframe thead th {\n",
       "        text-align: right;\n",
       "    }\n",
       "</style>\n",
       "<table border=\"1\" class=\"dataframe\">\n",
       "  <thead>\n",
       "    <tr style=\"text-align: right;\">\n",
       "      <th></th>\n",
       "      <th>chave</th>\n",
       "      <th>C</th>\n",
       "      <th>D</th>\n",
       "    </tr>\n",
       "  </thead>\n",
       "  <tbody>\n",
       "    <tr>\n",
       "      <th>0</th>\n",
       "      <td>K0</td>\n",
       "      <td>C0</td>\n",
       "      <td>D0</td>\n",
       "    </tr>\n",
       "    <tr>\n",
       "      <th>1</th>\n",
       "      <td>K1</td>\n",
       "      <td>C1</td>\n",
       "      <td>D1</td>\n",
       "    </tr>\n",
       "    <tr>\n",
       "      <th>2</th>\n",
       "      <td>K4</td>\n",
       "      <td>C4</td>\n",
       "      <td>D4</td>\n",
       "    </tr>\n",
       "    <tr>\n",
       "      <th>3</th>\n",
       "      <td>K5</td>\n",
       "      <td>C5</td>\n",
       "      <td>D5</td>\n",
       "    </tr>\n",
       "  </tbody>\n",
       "</table>\n",
       "</div>"
      ]
     },
     "metadata": {},
     "output_type": "display_data"
    },
    {
     "name": "stdout",
     "output_type": "stream",
     "text": [
      "\n",
      "Merge com how='inner' (padrão - interseção das chaves K0, K1):\n"
     ]
    },
    {
     "data": {
      "text/plain": [
       "  chave   A   B   C   D\n",
       "0    K0  A0  B0  C0  D0\n",
       "1    K1  A1  B1  C1  D1"
      ],
      "text/html": [
       "<div>\n",
       "<style scoped>\n",
       "    .dataframe tbody tr th:only-of-type {\n",
       "        vertical-align: middle;\n",
       "    }\n",
       "\n",
       "    .dataframe tbody tr th {\n",
       "        vertical-align: top;\n",
       "    }\n",
       "\n",
       "    .dataframe thead th {\n",
       "        text-align: right;\n",
       "    }\n",
       "</style>\n",
       "<table border=\"1\" class=\"dataframe\">\n",
       "  <thead>\n",
       "    <tr style=\"text-align: right;\">\n",
       "      <th></th>\n",
       "      <th>chave</th>\n",
       "      <th>A</th>\n",
       "      <th>B</th>\n",
       "      <th>C</th>\n",
       "      <th>D</th>\n",
       "    </tr>\n",
       "  </thead>\n",
       "  <tbody>\n",
       "    <tr>\n",
       "      <th>0</th>\n",
       "      <td>K0</td>\n",
       "      <td>A0</td>\n",
       "      <td>B0</td>\n",
       "      <td>C0</td>\n",
       "      <td>D0</td>\n",
       "    </tr>\n",
       "    <tr>\n",
       "      <th>1</th>\n",
       "      <td>K1</td>\n",
       "      <td>A1</td>\n",
       "      <td>B1</td>\n",
       "      <td>C1</td>\n",
       "      <td>D1</td>\n",
       "    </tr>\n",
       "  </tbody>\n",
       "</table>\n",
       "</div>"
      ]
     },
     "metadata": {},
     "output_type": "display_data"
    },
    {
     "name": "stdout",
     "output_type": "stream",
     "text": [
      "\n",
      "Merge com how='outer' (união das chaves K0, K1, K2, K3, K4, K5):\n"
     ]
    },
    {
     "data": {
      "text/plain": [
       "  chave    A    B    C    D\n",
       "0    K0   A0   B0   C0   D0\n",
       "1    K1   A1   B1   C1   D1\n",
       "2    K2   A2   B2  NaN  NaN\n",
       "3    K3   A3   B3  NaN  NaN\n",
       "4    K4  NaN  NaN   C4   D4\n",
       "5    K5  NaN  NaN   C5   D5"
      ],
      "text/html": [
       "<div>\n",
       "<style scoped>\n",
       "    .dataframe tbody tr th:only-of-type {\n",
       "        vertical-align: middle;\n",
       "    }\n",
       "\n",
       "    .dataframe tbody tr th {\n",
       "        vertical-align: top;\n",
       "    }\n",
       "\n",
       "    .dataframe thead th {\n",
       "        text-align: right;\n",
       "    }\n",
       "</style>\n",
       "<table border=\"1\" class=\"dataframe\">\n",
       "  <thead>\n",
       "    <tr style=\"text-align: right;\">\n",
       "      <th></th>\n",
       "      <th>chave</th>\n",
       "      <th>A</th>\n",
       "      <th>B</th>\n",
       "      <th>C</th>\n",
       "      <th>D</th>\n",
       "    </tr>\n",
       "  </thead>\n",
       "  <tbody>\n",
       "    <tr>\n",
       "      <th>0</th>\n",
       "      <td>K0</td>\n",
       "      <td>A0</td>\n",
       "      <td>B0</td>\n",
       "      <td>C0</td>\n",
       "      <td>D0</td>\n",
       "    </tr>\n",
       "    <tr>\n",
       "      <th>1</th>\n",
       "      <td>K1</td>\n",
       "      <td>A1</td>\n",
       "      <td>B1</td>\n",
       "      <td>C1</td>\n",
       "      <td>D1</td>\n",
       "    </tr>\n",
       "    <tr>\n",
       "      <th>2</th>\n",
       "      <td>K2</td>\n",
       "      <td>A2</td>\n",
       "      <td>B2</td>\n",
       "      <td>NaN</td>\n",
       "      <td>NaN</td>\n",
       "    </tr>\n",
       "    <tr>\n",
       "      <th>3</th>\n",
       "      <td>K3</td>\n",
       "      <td>A3</td>\n",
       "      <td>B3</td>\n",
       "      <td>NaN</td>\n",
       "      <td>NaN</td>\n",
       "    </tr>\n",
       "    <tr>\n",
       "      <th>4</th>\n",
       "      <td>K4</td>\n",
       "      <td>NaN</td>\n",
       "      <td>NaN</td>\n",
       "      <td>C4</td>\n",
       "      <td>D4</td>\n",
       "    </tr>\n",
       "    <tr>\n",
       "      <th>5</th>\n",
       "      <td>K5</td>\n",
       "      <td>NaN</td>\n",
       "      <td>NaN</td>\n",
       "      <td>C5</td>\n",
       "      <td>D5</td>\n",
       "    </tr>\n",
       "  </tbody>\n",
       "</table>\n",
       "</div>"
      ]
     },
     "metadata": {},
     "output_type": "display_data"
    },
    {
     "name": "stdout",
     "output_type": "stream",
     "text": [
      "\n",
      "Merge com how='left' (todas as chaves da esquerda K0, K1, K2, K3):\n"
     ]
    },
    {
     "data": {
      "text/plain": [
       "  chave   A   B    C    D\n",
       "0    K0  A0  B0   C0   D0\n",
       "1    K1  A1  B1   C1   D1\n",
       "2    K2  A2  B2  NaN  NaN\n",
       "3    K3  A3  B3  NaN  NaN"
      ],
      "text/html": [
       "<div>\n",
       "<style scoped>\n",
       "    .dataframe tbody tr th:only-of-type {\n",
       "        vertical-align: middle;\n",
       "    }\n",
       "\n",
       "    .dataframe tbody tr th {\n",
       "        vertical-align: top;\n",
       "    }\n",
       "\n",
       "    .dataframe thead th {\n",
       "        text-align: right;\n",
       "    }\n",
       "</style>\n",
       "<table border=\"1\" class=\"dataframe\">\n",
       "  <thead>\n",
       "    <tr style=\"text-align: right;\">\n",
       "      <th></th>\n",
       "      <th>chave</th>\n",
       "      <th>A</th>\n",
       "      <th>B</th>\n",
       "      <th>C</th>\n",
       "      <th>D</th>\n",
       "    </tr>\n",
       "  </thead>\n",
       "  <tbody>\n",
       "    <tr>\n",
       "      <th>0</th>\n",
       "      <td>K0</td>\n",
       "      <td>A0</td>\n",
       "      <td>B0</td>\n",
       "      <td>C0</td>\n",
       "      <td>D0</td>\n",
       "    </tr>\n",
       "    <tr>\n",
       "      <th>1</th>\n",
       "      <td>K1</td>\n",
       "      <td>A1</td>\n",
       "      <td>B1</td>\n",
       "      <td>C1</td>\n",
       "      <td>D1</td>\n",
       "    </tr>\n",
       "    <tr>\n",
       "      <th>2</th>\n",
       "      <td>K2</td>\n",
       "      <td>A2</td>\n",
       "      <td>B2</td>\n",
       "      <td>NaN</td>\n",
       "      <td>NaN</td>\n",
       "    </tr>\n",
       "    <tr>\n",
       "      <th>3</th>\n",
       "      <td>K3</td>\n",
       "      <td>A3</td>\n",
       "      <td>B3</td>\n",
       "      <td>NaN</td>\n",
       "      <td>NaN</td>\n",
       "    </tr>\n",
       "  </tbody>\n",
       "</table>\n",
       "</div>"
      ]
     },
     "metadata": {},
     "output_type": "display_data"
    }
   ],
   "execution_count": 52
  },
  {
   "cell_type": "markdown",
   "metadata": {
    "id": "981407ab7e111d8e"
   },
   "source": [
    "## Agrupamento (Grouping)\n",
    "\n",
    "Por \"group by\" nos referimos a um processo envolvendo uma ou mais das seguintes etapas:\n",
    "\n",
    "*   **Divisão (Splitting)** dos dados em grupos com base em alguns critérios.\n",
    "*   **Aplicação (Applying)** de uma função a cada grupo independentemente.\n",
    "*   **Combinação (Combining)** dos resultados em uma estrutura de dados.\n",
    "\n",
    "Veja a seção [Grouping](https://pandas.pydata.org/pandas-docs/stable/user_guide/groupby.html)."
   ],
   "id": "981407ab7e111d8e"
  },
  {
   "cell_type": "code",
   "metadata": {
    "colab": {
     "base_uri": "https://localhost:8080/",
     "height": 318
    },
    "id": "1e817894432bdf26",
    "outputId": "429f0c29-026e-421f-90bf-d6765b346afb",
    "ExecuteTime": {
     "end_time": "2025-05-06T20:01:16.082947Z",
     "start_time": "2025-05-06T20:01:16.077946Z"
    }
   },
   "source": [
    "df_grupo = pd.DataFrame(\n",
    "    {\n",
    "        \"A\": [\"foo\", \"bar\", \"foo\", \"bar\", \"foo\", \"bar\", \"foo\", \"foo\"],\n",
    "        \"B\": [\"one\", \"one\", \"two\", \"three\", \"two\", \"two\", \"one\", \"three\"],\n",
    "        \"C\": np.random.randn(8),\n",
    "        \"D\": np.random.randn(8),\n",
    "    }\n",
    ")\n",
    "print(\"DataFrame df_grupo:\")\n",
    "display(df_grupo)"
   ],
   "id": "1e817894432bdf26",
   "outputs": [
    {
     "name": "stdout",
     "output_type": "stream",
     "text": [
      "DataFrame df_grupo:\n"
     ]
    },
    {
     "data": {
      "text/plain": [
       "     A      B         C         D\n",
       "0  foo    one  0.958124  0.333092\n",
       "1  bar    one  1.048158 -0.172239\n",
       "2  foo    two  3.160261  1.347226\n",
       "3  bar  three -1.390819  0.168909\n",
       "4  foo    two -0.418079 -1.157832\n",
       "5  bar    two  0.814322  0.813972\n",
       "6  foo    one -0.185209 -2.006955\n",
       "7  foo  three  1.626165  1.068700"
      ],
      "text/html": [
       "<div>\n",
       "<style scoped>\n",
       "    .dataframe tbody tr th:only-of-type {\n",
       "        vertical-align: middle;\n",
       "    }\n",
       "\n",
       "    .dataframe tbody tr th {\n",
       "        vertical-align: top;\n",
       "    }\n",
       "\n",
       "    .dataframe thead th {\n",
       "        text-align: right;\n",
       "    }\n",
       "</style>\n",
       "<table border=\"1\" class=\"dataframe\">\n",
       "  <thead>\n",
       "    <tr style=\"text-align: right;\">\n",
       "      <th></th>\n",
       "      <th>A</th>\n",
       "      <th>B</th>\n",
       "      <th>C</th>\n",
       "      <th>D</th>\n",
       "    </tr>\n",
       "  </thead>\n",
       "  <tbody>\n",
       "    <tr>\n",
       "      <th>0</th>\n",
       "      <td>foo</td>\n",
       "      <td>one</td>\n",
       "      <td>0.958124</td>\n",
       "      <td>0.333092</td>\n",
       "    </tr>\n",
       "    <tr>\n",
       "      <th>1</th>\n",
       "      <td>bar</td>\n",
       "      <td>one</td>\n",
       "      <td>1.048158</td>\n",
       "      <td>-0.172239</td>\n",
       "    </tr>\n",
       "    <tr>\n",
       "      <th>2</th>\n",
       "      <td>foo</td>\n",
       "      <td>two</td>\n",
       "      <td>3.160261</td>\n",
       "      <td>1.347226</td>\n",
       "    </tr>\n",
       "    <tr>\n",
       "      <th>3</th>\n",
       "      <td>bar</td>\n",
       "      <td>three</td>\n",
       "      <td>-1.390819</td>\n",
       "      <td>0.168909</td>\n",
       "    </tr>\n",
       "    <tr>\n",
       "      <th>4</th>\n",
       "      <td>foo</td>\n",
       "      <td>two</td>\n",
       "      <td>-0.418079</td>\n",
       "      <td>-1.157832</td>\n",
       "    </tr>\n",
       "    <tr>\n",
       "      <th>5</th>\n",
       "      <td>bar</td>\n",
       "      <td>two</td>\n",
       "      <td>0.814322</td>\n",
       "      <td>0.813972</td>\n",
       "    </tr>\n",
       "    <tr>\n",
       "      <th>6</th>\n",
       "      <td>foo</td>\n",
       "      <td>one</td>\n",
       "      <td>-0.185209</td>\n",
       "      <td>-2.006955</td>\n",
       "    </tr>\n",
       "    <tr>\n",
       "      <th>7</th>\n",
       "      <td>foo</td>\n",
       "      <td>three</td>\n",
       "      <td>1.626165</td>\n",
       "      <td>1.068700</td>\n",
       "    </tr>\n",
       "  </tbody>\n",
       "</table>\n",
       "</div>"
      ]
     },
     "metadata": {},
     "output_type": "display_data"
    }
   ],
   "execution_count": 53
  },
  {
   "cell_type": "markdown",
   "metadata": {
    "id": "f5c19d7bf08031c6"
   },
   "source": [
    "Agrupando por um rótulo de coluna, selecionando rótulos de coluna e, em seguida, aplicando a função `.sum()` aos grupos resultantes:"
   ],
   "id": "f5c19d7bf08031c6"
  },
  {
   "cell_type": "code",
   "metadata": {
    "colab": {
     "base_uri": "https://localhost:8080/",
     "height": 161
    },
    "id": "20d7bbe5c9cde0d",
    "outputId": "24c3509c-4fd1-48b0-924b-303c54c4031f",
    "ExecuteTime": {
     "end_time": "2025-05-06T20:01:16.307213Z",
     "start_time": "2025-05-06T20:01:16.300291Z"
    }
   },
   "source": [
    "print(\"Agrupando por 'A', selecionando colunas 'C' e 'D', e somando:\")\n",
    "display(df_grupo.groupby(\"A\")[[\"C\", \"D\"]].sum())"
   ],
   "id": "20d7bbe5c9cde0d",
   "outputs": [
    {
     "name": "stdout",
     "output_type": "stream",
     "text": [
      "Agrupando por 'A', selecionando colunas 'C' e 'D', e somando:\n"
     ]
    },
    {
     "data": {
      "text/plain": [
       "            C         D\n",
       "A                      \n",
       "bar  0.471661  0.810642\n",
       "foo  5.141262 -0.415769"
      ],
      "text/html": [
       "<div>\n",
       "<style scoped>\n",
       "    .dataframe tbody tr th:only-of-type {\n",
       "        vertical-align: middle;\n",
       "    }\n",
       "\n",
       "    .dataframe tbody tr th {\n",
       "        vertical-align: top;\n",
       "    }\n",
       "\n",
       "    .dataframe thead th {\n",
       "        text-align: right;\n",
       "    }\n",
       "</style>\n",
       "<table border=\"1\" class=\"dataframe\">\n",
       "  <thead>\n",
       "    <tr style=\"text-align: right;\">\n",
       "      <th></th>\n",
       "      <th>C</th>\n",
       "      <th>D</th>\n",
       "    </tr>\n",
       "    <tr>\n",
       "      <th>A</th>\n",
       "      <th></th>\n",
       "      <th></th>\n",
       "    </tr>\n",
       "  </thead>\n",
       "  <tbody>\n",
       "    <tr>\n",
       "      <th>bar</th>\n",
       "      <td>0.471661</td>\n",
       "      <td>0.810642</td>\n",
       "    </tr>\n",
       "    <tr>\n",
       "      <th>foo</th>\n",
       "      <td>5.141262</td>\n",
       "      <td>-0.415769</td>\n",
       "    </tr>\n",
       "  </tbody>\n",
       "</table>\n",
       "</div>"
      ]
     },
     "metadata": {},
     "output_type": "display_data"
    }
   ],
   "execution_count": 54
  },
  {
   "cell_type": "markdown",
   "metadata": {
    "id": "e4dadd6a8f47e017"
   },
   "source": [
    "Agrupar por múltiplos rótulos de coluna forma um `MultiIndex` (índice hierárquico)."
   ],
   "id": "e4dadd6a8f47e017"
  },
  {
   "cell_type": "code",
   "metadata": {
    "colab": {
     "base_uri": "https://localhost:8080/",
     "height": 286
    },
    "id": "991da224a28e5e26",
    "outputId": "714d528f-14ae-451d-c215-80ac4e020166",
    "ExecuteTime": {
     "end_time": "2025-05-06T20:01:16.412968Z",
     "start_time": "2025-05-06T20:01:16.406717Z"
    }
   },
   "source": [
    "print(\"Agrupando por 'A' e 'B', e somando:\")\n",
    "display(df_grupo.groupby([\"A\", \"B\"]).sum())"
   ],
   "id": "991da224a28e5e26",
   "outputs": [
    {
     "name": "stdout",
     "output_type": "stream",
     "text": [
      "Agrupando por 'A' e 'B', e somando:\n"
     ]
    },
    {
     "data": {
      "text/plain": [
       "                  C         D\n",
       "A   B                        \n",
       "bar one    1.048158 -0.172239\n",
       "    three -1.390819  0.168909\n",
       "    two    0.814322  0.813972\n",
       "foo one    0.772915 -1.673863\n",
       "    three  1.626165  1.068700\n",
       "    two    2.742182  0.189393"
      ],
      "text/html": [
       "<div>\n",
       "<style scoped>\n",
       "    .dataframe tbody tr th:only-of-type {\n",
       "        vertical-align: middle;\n",
       "    }\n",
       "\n",
       "    .dataframe tbody tr th {\n",
       "        vertical-align: top;\n",
       "    }\n",
       "\n",
       "    .dataframe thead th {\n",
       "        text-align: right;\n",
       "    }\n",
       "</style>\n",
       "<table border=\"1\" class=\"dataframe\">\n",
       "  <thead>\n",
       "    <tr style=\"text-align: right;\">\n",
       "      <th></th>\n",
       "      <th></th>\n",
       "      <th>C</th>\n",
       "      <th>D</th>\n",
       "    </tr>\n",
       "    <tr>\n",
       "      <th>A</th>\n",
       "      <th>B</th>\n",
       "      <th></th>\n",
       "      <th></th>\n",
       "    </tr>\n",
       "  </thead>\n",
       "  <tbody>\n",
       "    <tr>\n",
       "      <th rowspan=\"3\" valign=\"top\">bar</th>\n",
       "      <th>one</th>\n",
       "      <td>1.048158</td>\n",
       "      <td>-0.172239</td>\n",
       "    </tr>\n",
       "    <tr>\n",
       "      <th>three</th>\n",
       "      <td>-1.390819</td>\n",
       "      <td>0.168909</td>\n",
       "    </tr>\n",
       "    <tr>\n",
       "      <th>two</th>\n",
       "      <td>0.814322</td>\n",
       "      <td>0.813972</td>\n",
       "    </tr>\n",
       "    <tr>\n",
       "      <th rowspan=\"3\" valign=\"top\">foo</th>\n",
       "      <th>one</th>\n",
       "      <td>0.772915</td>\n",
       "      <td>-1.673863</td>\n",
       "    </tr>\n",
       "    <tr>\n",
       "      <th>three</th>\n",
       "      <td>1.626165</td>\n",
       "      <td>1.068700</td>\n",
       "    </tr>\n",
       "    <tr>\n",
       "      <th>two</th>\n",
       "      <td>2.742182</td>\n",
       "      <td>0.189393</td>\n",
       "    </tr>\n",
       "  </tbody>\n",
       "</table>\n",
       "</div>"
      ]
     },
     "metadata": {},
     "output_type": "display_data"
    }
   ],
   "execution_count": 55
  },
  {
   "cell_type": "markdown",
   "metadata": {
    "id": "57c8aa16855137c7"
   },
   "source": [
    "## Remodelagem (Reshaping)\n",
    "\n",
    "Operações para alterar a estrutura de um DataFrame, como empilhar, desempilhar e criar tabelas pivô.\n",
    "Veja as seções sobre [Hierarchical Indexing](https://pandas.pydata.org/pandas-docs/stable/user_guide/advanced.html#hierarchical-indexing-multiindex) e [Reshaping and Pivot Tables](https://pandas.pydata.org/pandas-docs/stable/user_guide/reshaping.html)."
   ],
   "id": "57c8aa16855137c7"
  },
  {
   "cell_type": "markdown",
   "metadata": {
    "id": "d8c34227767b4ae2"
   },
   "source": [
    "### Stack (Empilhar)\n",
    "O método `.stack()` \"comprime\" um nível nas colunas do DataFrame, transformando-o em um índice de linha. Isso geralmente resulta em uma Series com um MultiIndex."
   ],
   "id": "d8c34227767b4ae2"
  },
  {
   "cell_type": "code",
   "metadata": {
    "colab": {
     "base_uri": "https://localhost:8080/",
     "height": 608
    },
    "id": "e8666293b6bccd54",
    "outputId": "5e6e7765-a2a0-4b1b-c345-8870d3017259",
    "ExecuteTime": {
     "end_time": "2025-05-06T20:01:16.499805Z",
     "start_time": "2025-05-06T20:01:16.487486Z"
    }
   },
   "source": [
    "arrays = [\n",
    "    [\"bar\", \"bar\", \"baz\", \"baz\", \"foo\", \"foo\", \"qux\", \"qux\"],\n",
    "    [\"one\", \"two\", \"one\", \"two\", \"one\", \"two\", \"one\", \"two\"],\n",
    "]\n",
    "indice_multi = pd.MultiIndex.from_arrays(arrays, names=[\"primeiro\", \"segundo\"])\n",
    "df_multi = pd.DataFrame(np.random.randn(8, 2), index=indice_multi, columns=[\"A\", \"B\"])\n",
    "df_multi_parte = df_multi[:4] # Pegando as primeiras 4 linhas para o exemplo\n",
    "\n",
    "print(\"DataFrame df_multi_parte (com MultiIndex nas linhas):\")\n",
    "display(df_multi_parte)\n",
    "\n",
    "empilhado = df_multi_parte.stack() # Por padrão, empilha o nível mais interno das colunas (A, B)\n",
    "print(\"\\nDataFrame empilhado (stacked):\")\n",
    "display(empilhado)"
   ],
   "id": "e8666293b6bccd54",
   "outputs": [
    {
     "name": "stdout",
     "output_type": "stream",
     "text": [
      "DataFrame df_multi_parte (com MultiIndex nas linhas):\n"
     ]
    },
    {
     "data": {
      "text/plain": [
       "                         A         B\n",
       "primeiro segundo                    \n",
       "bar      one      1.499785  0.015526\n",
       "         two     -0.082510 -0.155429\n",
       "baz      one      2.594067 -0.125035\n",
       "         two      0.183206 -1.327535"
      ],
      "text/html": [
       "<div>\n",
       "<style scoped>\n",
       "    .dataframe tbody tr th:only-of-type {\n",
       "        vertical-align: middle;\n",
       "    }\n",
       "\n",
       "    .dataframe tbody tr th {\n",
       "        vertical-align: top;\n",
       "    }\n",
       "\n",
       "    .dataframe thead th {\n",
       "        text-align: right;\n",
       "    }\n",
       "</style>\n",
       "<table border=\"1\" class=\"dataframe\">\n",
       "  <thead>\n",
       "    <tr style=\"text-align: right;\">\n",
       "      <th></th>\n",
       "      <th></th>\n",
       "      <th>A</th>\n",
       "      <th>B</th>\n",
       "    </tr>\n",
       "    <tr>\n",
       "      <th>primeiro</th>\n",
       "      <th>segundo</th>\n",
       "      <th></th>\n",
       "      <th></th>\n",
       "    </tr>\n",
       "  </thead>\n",
       "  <tbody>\n",
       "    <tr>\n",
       "      <th rowspan=\"2\" valign=\"top\">bar</th>\n",
       "      <th>one</th>\n",
       "      <td>1.499785</td>\n",
       "      <td>0.015526</td>\n",
       "    </tr>\n",
       "    <tr>\n",
       "      <th>two</th>\n",
       "      <td>-0.082510</td>\n",
       "      <td>-0.155429</td>\n",
       "    </tr>\n",
       "    <tr>\n",
       "      <th rowspan=\"2\" valign=\"top\">baz</th>\n",
       "      <th>one</th>\n",
       "      <td>2.594067</td>\n",
       "      <td>-0.125035</td>\n",
       "    </tr>\n",
       "    <tr>\n",
       "      <th>two</th>\n",
       "      <td>0.183206</td>\n",
       "      <td>-1.327535</td>\n",
       "    </tr>\n",
       "  </tbody>\n",
       "</table>\n",
       "</div>"
      ]
     },
     "metadata": {},
     "output_type": "display_data"
    },
    {
     "name": "stdout",
     "output_type": "stream",
     "text": [
      "\n",
      "DataFrame empilhado (stacked):\n"
     ]
    },
    {
     "data": {
      "text/plain": [
       "primeiro  segundo   \n",
       "bar       one      A    1.499785\n",
       "                   B    0.015526\n",
       "          two      A   -0.082510\n",
       "                   B   -0.155429\n",
       "baz       one      A    2.594067\n",
       "                   B   -0.125035\n",
       "          two      A    0.183206\n",
       "                   B   -1.327535\n",
       "dtype: float64"
      ]
     },
     "metadata": {},
     "output_type": "display_data"
    }
   ],
   "execution_count": 56
  },
  {
   "cell_type": "markdown",
   "metadata": {
    "id": "c8bf437312c77584"
   },
   "source": [
    "Com um DataFrame ou Series \"empilhado\" (tendo um `MultiIndex` como `index`), a operação inversa de `.stack()` é `.unstack()`, que por padrão desempilha o **último nível** do índice."
   ],
   "id": "c8bf437312c77584"
  },
  {
   "cell_type": "code",
   "metadata": {
    "colab": {
     "base_uri": "https://localhost:8080/",
     "height": 671
    },
    "id": "fab68e23e90218c3",
    "outputId": "887788a4-db9b-4079-893a-928ad1f131e9",
    "ExecuteTime": {
     "end_time": "2025-05-06T20:01:16.592002Z",
     "start_time": "2025-05-06T20:01:16.580790Z"
    }
   },
   "source": [
    "print(\"Desempilhando o último nível do índice (padrão):\")\n",
    "display(empilhado.unstack())\n",
    "\n",
    "print(\"\\nDesempilhando o nível de índice de nome 'segundo' (ou posição 1):\")\n",
    "display(empilhado.unstack(1)) # ou empilhado.unstack('segundo')\n",
    "\n",
    "print(\"\\nDesempilhando o nível de índice de nome 'primeiro' (ou posição 0):\")\n",
    "display(empilhado.unstack(0)) # ou empilhado.unstack('primeiro')"
   ],
   "id": "fab68e23e90218c3",
   "outputs": [
    {
     "name": "stdout",
     "output_type": "stream",
     "text": [
      "Desempilhando o último nível do índice (padrão):\n"
     ]
    },
    {
     "data": {
      "text/plain": [
       "                         A         B\n",
       "primeiro segundo                    \n",
       "bar      one      1.499785  0.015526\n",
       "         two     -0.082510 -0.155429\n",
       "baz      one      2.594067 -0.125035\n",
       "         two      0.183206 -1.327535"
      ],
      "text/html": [
       "<div>\n",
       "<style scoped>\n",
       "    .dataframe tbody tr th:only-of-type {\n",
       "        vertical-align: middle;\n",
       "    }\n",
       "\n",
       "    .dataframe tbody tr th {\n",
       "        vertical-align: top;\n",
       "    }\n",
       "\n",
       "    .dataframe thead th {\n",
       "        text-align: right;\n",
       "    }\n",
       "</style>\n",
       "<table border=\"1\" class=\"dataframe\">\n",
       "  <thead>\n",
       "    <tr style=\"text-align: right;\">\n",
       "      <th></th>\n",
       "      <th></th>\n",
       "      <th>A</th>\n",
       "      <th>B</th>\n",
       "    </tr>\n",
       "    <tr>\n",
       "      <th>primeiro</th>\n",
       "      <th>segundo</th>\n",
       "      <th></th>\n",
       "      <th></th>\n",
       "    </tr>\n",
       "  </thead>\n",
       "  <tbody>\n",
       "    <tr>\n",
       "      <th rowspan=\"2\" valign=\"top\">bar</th>\n",
       "      <th>one</th>\n",
       "      <td>1.499785</td>\n",
       "      <td>0.015526</td>\n",
       "    </tr>\n",
       "    <tr>\n",
       "      <th>two</th>\n",
       "      <td>-0.082510</td>\n",
       "      <td>-0.155429</td>\n",
       "    </tr>\n",
       "    <tr>\n",
       "      <th rowspan=\"2\" valign=\"top\">baz</th>\n",
       "      <th>one</th>\n",
       "      <td>2.594067</td>\n",
       "      <td>-0.125035</td>\n",
       "    </tr>\n",
       "    <tr>\n",
       "      <th>two</th>\n",
       "      <td>0.183206</td>\n",
       "      <td>-1.327535</td>\n",
       "    </tr>\n",
       "  </tbody>\n",
       "</table>\n",
       "</div>"
      ]
     },
     "metadata": {},
     "output_type": "display_data"
    },
    {
     "name": "stdout",
     "output_type": "stream",
     "text": [
      "\n",
      "Desempilhando o nível de índice de nome 'segundo' (ou posição 1):\n"
     ]
    },
    {
     "data": {
      "text/plain": [
       "segundo          one       two\n",
       "primeiro                      \n",
       "bar      A  1.499785 -0.082510\n",
       "         B  0.015526 -0.155429\n",
       "baz      A  2.594067  0.183206\n",
       "         B -0.125035 -1.327535"
      ],
      "text/html": [
       "<div>\n",
       "<style scoped>\n",
       "    .dataframe tbody tr th:only-of-type {\n",
       "        vertical-align: middle;\n",
       "    }\n",
       "\n",
       "    .dataframe tbody tr th {\n",
       "        vertical-align: top;\n",
       "    }\n",
       "\n",
       "    .dataframe thead th {\n",
       "        text-align: right;\n",
       "    }\n",
       "</style>\n",
       "<table border=\"1\" class=\"dataframe\">\n",
       "  <thead>\n",
       "    <tr style=\"text-align: right;\">\n",
       "      <th></th>\n",
       "      <th>segundo</th>\n",
       "      <th>one</th>\n",
       "      <th>two</th>\n",
       "    </tr>\n",
       "    <tr>\n",
       "      <th>primeiro</th>\n",
       "      <th></th>\n",
       "      <th></th>\n",
       "      <th></th>\n",
       "    </tr>\n",
       "  </thead>\n",
       "  <tbody>\n",
       "    <tr>\n",
       "      <th rowspan=\"2\" valign=\"top\">bar</th>\n",
       "      <th>A</th>\n",
       "      <td>1.499785</td>\n",
       "      <td>-0.082510</td>\n",
       "    </tr>\n",
       "    <tr>\n",
       "      <th>B</th>\n",
       "      <td>0.015526</td>\n",
       "      <td>-0.155429</td>\n",
       "    </tr>\n",
       "    <tr>\n",
       "      <th rowspan=\"2\" valign=\"top\">baz</th>\n",
       "      <th>A</th>\n",
       "      <td>2.594067</td>\n",
       "      <td>0.183206</td>\n",
       "    </tr>\n",
       "    <tr>\n",
       "      <th>B</th>\n",
       "      <td>-0.125035</td>\n",
       "      <td>-1.327535</td>\n",
       "    </tr>\n",
       "  </tbody>\n",
       "</table>\n",
       "</div>"
      ]
     },
     "metadata": {},
     "output_type": "display_data"
    },
    {
     "name": "stdout",
     "output_type": "stream",
     "text": [
      "\n",
      "Desempilhando o nível de índice de nome 'primeiro' (ou posição 0):\n"
     ]
    },
    {
     "data": {
      "text/plain": [
       "primeiro        bar       baz\n",
       "segundo                      \n",
       "one     A  1.499785  2.594067\n",
       "        B  0.015526 -0.125035\n",
       "two     A -0.082510  0.183206\n",
       "        B -0.155429 -1.327535"
      ],
      "text/html": [
       "<div>\n",
       "<style scoped>\n",
       "    .dataframe tbody tr th:only-of-type {\n",
       "        vertical-align: middle;\n",
       "    }\n",
       "\n",
       "    .dataframe tbody tr th {\n",
       "        vertical-align: top;\n",
       "    }\n",
       "\n",
       "    .dataframe thead th {\n",
       "        text-align: right;\n",
       "    }\n",
       "</style>\n",
       "<table border=\"1\" class=\"dataframe\">\n",
       "  <thead>\n",
       "    <tr style=\"text-align: right;\">\n",
       "      <th></th>\n",
       "      <th>primeiro</th>\n",
       "      <th>bar</th>\n",
       "      <th>baz</th>\n",
       "    </tr>\n",
       "    <tr>\n",
       "      <th>segundo</th>\n",
       "      <th></th>\n",
       "      <th></th>\n",
       "      <th></th>\n",
       "    </tr>\n",
       "  </thead>\n",
       "  <tbody>\n",
       "    <tr>\n",
       "      <th rowspan=\"2\" valign=\"top\">one</th>\n",
       "      <th>A</th>\n",
       "      <td>1.499785</td>\n",
       "      <td>2.594067</td>\n",
       "    </tr>\n",
       "    <tr>\n",
       "      <th>B</th>\n",
       "      <td>0.015526</td>\n",
       "      <td>-0.125035</td>\n",
       "    </tr>\n",
       "    <tr>\n",
       "      <th rowspan=\"2\" valign=\"top\">two</th>\n",
       "      <th>A</th>\n",
       "      <td>-0.082510</td>\n",
       "      <td>0.183206</td>\n",
       "    </tr>\n",
       "    <tr>\n",
       "      <th>B</th>\n",
       "      <td>-0.155429</td>\n",
       "      <td>-1.327535</td>\n",
       "    </tr>\n",
       "  </tbody>\n",
       "</table>\n",
       "</div>"
      ]
     },
     "metadata": {},
     "output_type": "display_data"
    }
   ],
   "execution_count": 57
  },
  {
   "cell_type": "markdown",
   "metadata": {
    "id": "348b58f602293088"
   },
   "source": [
    "### Tabelas Dinâmicas (Pivot Tables)\n",
    "Permite remodelar dados de forma similar às tabelas dinâmicas do Excel. Veja a seção sobre [Pivot Tables](https://pandas.pydata.org/pandas-docs/stable/user_guide/reshaping.html#pivot-tables)."
   ],
   "id": "348b58f602293088"
  },
  {
   "cell_type": "code",
   "metadata": {
    "colab": {
     "base_uri": "https://localhost:8080/",
     "height": 224
    },
    "id": "bd1734c28478a9ec",
    "outputId": "b0e95880-d500-42b3-85ed-b35c7401bbee",
    "ExecuteTime": {
     "end_time": "2025-05-06T20:01:16.755618Z",
     "start_time": "2025-05-06T20:01:16.750195Z"
    }
   },
   "source": [
    "df_pivot_ex = pd.DataFrame(\n",
    "    {\n",
    "        \"A\": [\"one\", \"one\", \"two\", \"three\"] * 3,\n",
    "        \"B\": [\"X\", \"Y\", \"Z\"] * 4,\n",
    "        \"C\": [\"foo\", \"foo\", \"foo\", \"bar\", \"bar\", \"bar\"] * 2,\n",
    "        \"D_valor\": np.random.randn(12),\n",
    "        \"E_contagem\": np.random.randint(1, 5, 12),\n",
    "    }\n",
    ")\n",
    "print(\"DataFrame df_pivot_ex:\")\n",
    "display(df_pivot_ex.head())"
   ],
   "id": "bd1734c28478a9ec",
   "outputs": [
    {
     "name": "stdout",
     "output_type": "stream",
     "text": [
      "DataFrame df_pivot_ex:\n"
     ]
    },
    {
     "data": {
      "text/plain": [
       "       A  B    C   D_valor  E_contagem\n",
       "0    one  X  foo  1.803288           4\n",
       "1    one  Y  foo  0.169405           3\n",
       "2    two  Z  foo  0.820465           1\n",
       "3  three  X  bar  0.328316           3\n",
       "4    one  Y  bar -1.229713           1"
      ],
      "text/html": [
       "<div>\n",
       "<style scoped>\n",
       "    .dataframe tbody tr th:only-of-type {\n",
       "        vertical-align: middle;\n",
       "    }\n",
       "\n",
       "    .dataframe tbody tr th {\n",
       "        vertical-align: top;\n",
       "    }\n",
       "\n",
       "    .dataframe thead th {\n",
       "        text-align: right;\n",
       "    }\n",
       "</style>\n",
       "<table border=\"1\" class=\"dataframe\">\n",
       "  <thead>\n",
       "    <tr style=\"text-align: right;\">\n",
       "      <th></th>\n",
       "      <th>A</th>\n",
       "      <th>B</th>\n",
       "      <th>C</th>\n",
       "      <th>D_valor</th>\n",
       "      <th>E_contagem</th>\n",
       "    </tr>\n",
       "  </thead>\n",
       "  <tbody>\n",
       "    <tr>\n",
       "      <th>0</th>\n",
       "      <td>one</td>\n",
       "      <td>X</td>\n",
       "      <td>foo</td>\n",
       "      <td>1.803288</td>\n",
       "      <td>4</td>\n",
       "    </tr>\n",
       "    <tr>\n",
       "      <th>1</th>\n",
       "      <td>one</td>\n",
       "      <td>Y</td>\n",
       "      <td>foo</td>\n",
       "      <td>0.169405</td>\n",
       "      <td>3</td>\n",
       "    </tr>\n",
       "    <tr>\n",
       "      <th>2</th>\n",
       "      <td>two</td>\n",
       "      <td>Z</td>\n",
       "      <td>foo</td>\n",
       "      <td>0.820465</td>\n",
       "      <td>1</td>\n",
       "    </tr>\n",
       "    <tr>\n",
       "      <th>3</th>\n",
       "      <td>three</td>\n",
       "      <td>X</td>\n",
       "      <td>bar</td>\n",
       "      <td>0.328316</td>\n",
       "      <td>3</td>\n",
       "    </tr>\n",
       "    <tr>\n",
       "      <th>4</th>\n",
       "      <td>one</td>\n",
       "      <td>Y</td>\n",
       "      <td>bar</td>\n",
       "      <td>-1.229713</td>\n",
       "      <td>1</td>\n",
       "    </tr>\n",
       "  </tbody>\n",
       "</table>\n",
       "</div>"
      ]
     },
     "metadata": {},
     "output_type": "display_data"
    }
   ],
   "execution_count": 58
  },
  {
   "cell_type": "code",
   "metadata": {
    "colab": {
     "base_uri": "https://localhost:8080/",
     "height": 380
    },
    "id": "9620c23aa7c90e90",
    "outputId": "01731cd9-8e78-46f9-a583-262223ba3558",
    "ExecuteTime": {
     "end_time": "2025-05-06T20:01:16.950613Z",
     "start_time": "2025-05-06T20:01:16.942459Z"
    }
   },
   "source": [
    "print(\"Tabela dinâmica: valores de 'D_valor', índice por ['A', 'B'], colunas por ['C']\")\n",
    "# Por padrão, a função de agregação é a média (np.mean)\n",
    "tabela_pivot = pd.pivot_table(df_pivot_ex, values=\"D_valor\", index=[\"A\", \"B\"], columns=[\"C\"])\n",
    "display(tabela_pivot)"
   ],
   "id": "9620c23aa7c90e90",
   "outputs": [
    {
     "name": "stdout",
     "output_type": "stream",
     "text": [
      "Tabela dinâmica: valores de 'D_valor', índice por ['A', 'B'], colunas por ['C']\n"
     ]
    },
    {
     "data": {
      "text/plain": [
       "C             bar       foo\n",
       "A     B                    \n",
       "one   X  0.723200  1.803288\n",
       "      Y -1.229713  0.169405\n",
       "      Z  1.282875 -0.771052\n",
       "three X  0.328316       NaN\n",
       "      Y       NaN  0.735673\n",
       "      Z  0.035953       NaN\n",
       "two   X       NaN  0.554968\n",
       "      Y -0.474141       NaN\n",
       "      Z       NaN  0.820465"
      ],
      "text/html": [
       "<div>\n",
       "<style scoped>\n",
       "    .dataframe tbody tr th:only-of-type {\n",
       "        vertical-align: middle;\n",
       "    }\n",
       "\n",
       "    .dataframe tbody tr th {\n",
       "        vertical-align: top;\n",
       "    }\n",
       "\n",
       "    .dataframe thead th {\n",
       "        text-align: right;\n",
       "    }\n",
       "</style>\n",
       "<table border=\"1\" class=\"dataframe\">\n",
       "  <thead>\n",
       "    <tr style=\"text-align: right;\">\n",
       "      <th></th>\n",
       "      <th>C</th>\n",
       "      <th>bar</th>\n",
       "      <th>foo</th>\n",
       "    </tr>\n",
       "    <tr>\n",
       "      <th>A</th>\n",
       "      <th>B</th>\n",
       "      <th></th>\n",
       "      <th></th>\n",
       "    </tr>\n",
       "  </thead>\n",
       "  <tbody>\n",
       "    <tr>\n",
       "      <th rowspan=\"3\" valign=\"top\">one</th>\n",
       "      <th>X</th>\n",
       "      <td>0.723200</td>\n",
       "      <td>1.803288</td>\n",
       "    </tr>\n",
       "    <tr>\n",
       "      <th>Y</th>\n",
       "      <td>-1.229713</td>\n",
       "      <td>0.169405</td>\n",
       "    </tr>\n",
       "    <tr>\n",
       "      <th>Z</th>\n",
       "      <td>1.282875</td>\n",
       "      <td>-0.771052</td>\n",
       "    </tr>\n",
       "    <tr>\n",
       "      <th rowspan=\"3\" valign=\"top\">three</th>\n",
       "      <th>X</th>\n",
       "      <td>0.328316</td>\n",
       "      <td>NaN</td>\n",
       "    </tr>\n",
       "    <tr>\n",
       "      <th>Y</th>\n",
       "      <td>NaN</td>\n",
       "      <td>0.735673</td>\n",
       "    </tr>\n",
       "    <tr>\n",
       "      <th>Z</th>\n",
       "      <td>0.035953</td>\n",
       "      <td>NaN</td>\n",
       "    </tr>\n",
       "    <tr>\n",
       "      <th rowspan=\"3\" valign=\"top\">two</th>\n",
       "      <th>X</th>\n",
       "      <td>NaN</td>\n",
       "      <td>0.554968</td>\n",
       "    </tr>\n",
       "    <tr>\n",
       "      <th>Y</th>\n",
       "      <td>-0.474141</td>\n",
       "      <td>NaN</td>\n",
       "    </tr>\n",
       "    <tr>\n",
       "      <th>Z</th>\n",
       "      <td>NaN</td>\n",
       "      <td>0.820465</td>\n",
       "    </tr>\n",
       "  </tbody>\n",
       "</table>\n",
       "</div>"
      ]
     },
     "metadata": {},
     "output_type": "display_data"
    }
   ],
   "execution_count": 59
  },
  {
   "cell_type": "markdown",
   "metadata": {
    "id": "91d71f170beaa000"
   },
   "source": [
    "## Séries Temporais (Time Series)\n",
    "\n",
    "O Pandas possui funcionalidades simples, poderosas e eficientes para realizar operações de reamostragem durante a conversão de frequência (por exemplo, converter dados de segundos para dados de 5 minutos). Isso é extremamente comum em, mas não limitado a, aplicações financeiras. Veja a seção [Time Series / Date functionality](https://pandas.pydata.org/pandas-docs/stable/user_guide/timeseries.html)."
   ],
   "id": "91d71f170beaa000"
  },
  {
   "cell_type": "code",
   "metadata": {
    "colab": {
     "base_uri": "https://localhost:8080/",
     "height": 391
    },
    "id": "851f73074964a126",
    "outputId": "20d9203c-ff2e-4b85-cb3a-24b864db5cba",
    "ExecuteTime": {
     "end_time": "2025-05-06T20:01:17.055065Z",
     "start_time": "2025-05-06T20:01:17.047953Z"
    }
   },
   "source": [
    "# Criando uma série temporal com frequência de segundos\n",
    "rng_segundos = pd.date_range(\"1/1/2023\", periods=100, freq=\"s\") # 100 segundos\n",
    "ts_segundos = pd.Series(np.random.randint(0, 500, len(rng_segundos)), index=rng_segundos)\n",
    "print(\"Série Temporal ts_segundos (primeiras 5 entradas):\")\n",
    "display(ts_segundos.head())\n",
    "\n",
    "# Reamostrando para frequência de 5 minutos e somando os valores dentro de cada intervalo\n",
    "print(\"\\nSérie reamostrada para 5 minutos (soma):\")\n",
    "display(ts_segundos.resample(\"5Min\").sum())"
   ],
   "id": "851f73074964a126",
   "outputs": [
    {
     "name": "stdout",
     "output_type": "stream",
     "text": [
      "Série Temporal ts_segundos (primeiras 5 entradas):\n"
     ]
    },
    {
     "data": {
      "text/plain": [
       "2023-01-01 00:00:00    182\n",
       "2023-01-01 00:00:01    218\n",
       "2023-01-01 00:00:02    216\n",
       "2023-01-01 00:00:03      6\n",
       "2023-01-01 00:00:04     24\n",
       "Freq: s, dtype: int64"
      ]
     },
     "metadata": {},
     "output_type": "display_data"
    },
    {
     "name": "stdout",
     "output_type": "stream",
     "text": [
      "\n",
      "Série reamostrada para 5 minutos (soma):\n"
     ]
    },
    {
     "data": {
      "text/plain": [
       "2023-01-01    25463\n",
       "Freq: 5min, dtype: int64"
      ]
     },
     "metadata": {},
     "output_type": "display_data"
    }
   ],
   "execution_count": 60
  },
  {
   "cell_type": "markdown",
   "metadata": {
    "id": "b181c5569317b6ac"
   },
   "source": [
    "### Localização e Conversão de Fuso Horário\n",
    "`.tz_localize()` localiza uma série temporal para um fuso horário (adiciona informação de fuso horário a dados \"naive\").\n",
    "`.tz_convert()` converte uma série temporal ciente de fuso horário para outro fuso horário."
   ],
   "id": "b181c5569317b6ac"
  },
  {
   "cell_type": "code",
   "metadata": {
    "colab": {
     "base_uri": "https://localhost:8080/"
    },
    "id": "2e9550a66b11fdcb",
    "outputId": "d36fb547-fbdb-4a72-c7cd-5e063255f687",
    "ExecuteTime": {
     "end_time": "2025-05-06T20:01:17.185661Z",
     "start_time": "2025-05-06T20:01:17.138015Z"
    }
   },
   "source": [
    "rng_datas_naive = pd.date_range(\"3/6/2023 00:00\", periods=5, freq=\"D\") # Datas sem fuso horário\n",
    "ts_naive = pd.Series(np.random.randn(len(rng_datas_naive)), rng_datas_naive)\n",
    "print(\"Série Temporal ts_naive (sem fuso horário):\")\n",
    "print(ts_naive)\n",
    "\n",
    "ts_utc = ts_naive.tz_localize(\"UTC\") # Localizar para UTC\n",
    "print(\"\\nSérie Temporal ts_utc (localizada em UTC):\")\n",
    "print(ts_utc)\n",
    "\n",
    "ts_eastern = ts_utc.tz_convert(\"US/Eastern\") # Converter para fuso horário US/Eastern\n",
    "print(\"\\nSérie Temporal ts_eastern (convertida para US/Eastern):\")\n",
    "print(ts_eastern)"
   ],
   "id": "2e9550a66b11fdcb",
   "outputs": [
    {
     "name": "stdout",
     "output_type": "stream",
     "text": [
      "Série Temporal ts_naive (sem fuso horário):\n",
      "2023-03-06   -2.533967\n",
      "2023-03-07   -2.008962\n",
      "2023-03-08    0.962245\n",
      "2023-03-09    0.815468\n",
      "2023-03-10    0.936925\n",
      "Freq: D, dtype: float64\n",
      "\n",
      "Série Temporal ts_utc (localizada em UTC):\n",
      "2023-03-06 00:00:00+00:00   -2.533967\n",
      "2023-03-07 00:00:00+00:00   -2.008962\n",
      "2023-03-08 00:00:00+00:00    0.962245\n",
      "2023-03-09 00:00:00+00:00    0.815468\n",
      "2023-03-10 00:00:00+00:00    0.936925\n",
      "Freq: D, dtype: float64\n",
      "\n",
      "Série Temporal ts_eastern (convertida para US/Eastern):\n",
      "2023-03-05 19:00:00-05:00   -2.533967\n",
      "2023-03-06 19:00:00-05:00   -2.008962\n",
      "2023-03-07 19:00:00-05:00    0.962245\n",
      "2023-03-08 19:00:00-05:00    0.815468\n",
      "2023-03-09 19:00:00-05:00    0.936925\n",
      "Freq: D, dtype: float64\n"
     ]
    }
   ],
   "execution_count": 61
  },
  {
   "cell_type": "markdown",
   "metadata": {
    "id": "7b15f30e30020c3e"
   },
   "source": [
    "### Adicionando Duração (Offsets)\n",
    "Pode-se adicionar durações, incluindo aquelas não fixas como dias úteis (`BusinessDay`)."
   ],
   "id": "7b15f30e30020c3e"
  },
  {
   "cell_type": "code",
   "metadata": {
    "colab": {
     "base_uri": "https://localhost:8080/"
    },
    "id": "d56f57ae44b20933",
    "outputId": "b91bb815-9465-4452-f891-af99054c996c",
    "ExecuteTime": {
     "end_time": "2025-05-06T20:01:17.216290Z",
     "start_time": "2025-05-06T20:01:17.212851Z"
    }
   },
   "source": [
    "print(\"Intervalo de datas original:\")\n",
    "print(rng_datas_naive)\n",
    "\n",
    "print(\"\\nIntervalo de datas + 5 Dias Úteis:\")\n",
    "print(rng_datas_naive + pd.offsets.BusinessDay(5))"
   ],
   "id": "d56f57ae44b20933",
   "outputs": [
    {
     "name": "stdout",
     "output_type": "stream",
     "text": [
      "Intervalo de datas original:\n",
      "DatetimeIndex(['2023-03-06', '2023-03-07', '2023-03-08', '2023-03-09',\n",
      "               '2023-03-10'],\n",
      "              dtype='datetime64[ns]', freq='D')\n",
      "\n",
      "Intervalo de datas + 5 Dias Úteis:\n",
      "DatetimeIndex(['2023-03-13', '2023-03-14', '2023-03-15', '2023-03-16',\n",
      "               '2023-03-17'],\n",
      "              dtype='datetime64[ns]', freq=None)\n"
     ]
    }
   ],
   "execution_count": 62
  },
  {
   "cell_type": "markdown",
   "metadata": {
    "id": "924b00c9d625168b"
   },
   "source": [
    "## Dados Categóricos (Categoricals)\n",
    "\n",
    "O Pandas pode incluir dados categóricos em um `DataFrame`. Para documentação completa, veja a [introdução a dados categóricos](https://pandas.pydata.org/pandas-docs/stable/user_guide/categorical.html) e a [documentação da API](https://pandas.pydata.org/pandas-docs/stable/reference/arrays.html#categoricalarray).\n",
    "\n",
    "Dados categóricos são úteis quando uma coluna tem um número limitado e fixo de valores possíveis (categorias)."
   ],
   "id": "924b00c9d625168b"
  },
  {
   "cell_type": "code",
   "metadata": {
    "colab": {
     "base_uri": "https://localhost:8080/",
     "height": 255
    },
    "id": "79ad8f09f577db3e",
    "outputId": "3403cb1a-b87e-4afe-bb25-06c3a1677b3d",
    "ExecuteTime": {
     "end_time": "2025-05-06T20:01:17.253919Z",
     "start_time": "2025-05-06T20:01:17.250027Z"
    }
   },
   "source": [
    "df_cat = pd.DataFrame(\n",
    "    {\"id\": [1, 2, 3, 4, 5, 6], \"conceito_bruto\": [\"A\", \"B\", \"B\", \"A\", \"A\", \"E\"]}\n",
    ")\n",
    "print(\"DataFrame df_cat original:\")\n",
    "display(df_cat)"
   ],
   "id": "79ad8f09f577db3e",
   "outputs": [
    {
     "name": "stdout",
     "output_type": "stream",
     "text": [
      "DataFrame df_cat original:\n"
     ]
    },
    {
     "data": {
      "text/plain": [
       "   id conceito_bruto\n",
       "0   1              A\n",
       "1   2              B\n",
       "2   3              B\n",
       "3   4              A\n",
       "4   5              A\n",
       "5   6              E"
      ],
      "text/html": [
       "<div>\n",
       "<style scoped>\n",
       "    .dataframe tbody tr th:only-of-type {\n",
       "        vertical-align: middle;\n",
       "    }\n",
       "\n",
       "    .dataframe tbody tr th {\n",
       "        vertical-align: top;\n",
       "    }\n",
       "\n",
       "    .dataframe thead th {\n",
       "        text-align: right;\n",
       "    }\n",
       "</style>\n",
       "<table border=\"1\" class=\"dataframe\">\n",
       "  <thead>\n",
       "    <tr style=\"text-align: right;\">\n",
       "      <th></th>\n",
       "      <th>id</th>\n",
       "      <th>conceito_bruto</th>\n",
       "    </tr>\n",
       "  </thead>\n",
       "  <tbody>\n",
       "    <tr>\n",
       "      <th>0</th>\n",
       "      <td>1</td>\n",
       "      <td>A</td>\n",
       "    </tr>\n",
       "    <tr>\n",
       "      <th>1</th>\n",
       "      <td>2</td>\n",
       "      <td>B</td>\n",
       "    </tr>\n",
       "    <tr>\n",
       "      <th>2</th>\n",
       "      <td>3</td>\n",
       "      <td>B</td>\n",
       "    </tr>\n",
       "    <tr>\n",
       "      <th>3</th>\n",
       "      <td>4</td>\n",
       "      <td>A</td>\n",
       "    </tr>\n",
       "    <tr>\n",
       "      <th>4</th>\n",
       "      <td>5</td>\n",
       "      <td>A</td>\n",
       "    </tr>\n",
       "    <tr>\n",
       "      <th>5</th>\n",
       "      <td>6</td>\n",
       "      <td>E</td>\n",
       "    </tr>\n",
       "  </tbody>\n",
       "</table>\n",
       "</div>"
      ]
     },
     "metadata": {},
     "output_type": "display_data"
    }
   ],
   "execution_count": 63
  },
  {
   "cell_type": "markdown",
   "metadata": {
    "id": "ea9c0a959192a632"
   },
   "source": [
    "Convertendo os conceitos brutos para um tipo de dado categórico:"
   ],
   "id": "ea9c0a959192a632"
  },
  {
   "cell_type": "code",
   "metadata": {
    "colab": {
     "base_uri": "https://localhost:8080/"
    },
    "id": "2874db43a20c44f7",
    "outputId": "6b51fbc8-c4d0-4e3d-b076-0fa2466cf06d",
    "ExecuteTime": {
     "end_time": "2025-05-06T20:01:17.334008Z",
     "start_time": "2025-05-06T20:01:17.330631Z"
    }
   },
   "source": [
    "df_cat[\"conceito\"] = df_cat[\"conceito_bruto\"].astype(\"category\")\n",
    "print(\"\\nColuna 'conceito' (tipo categórico):\")\n",
    "print(df_cat[\"conceito\"])\n",
    "print(f\"Tipo da coluna 'conceito': {df_cat['conceito'].dtype}\")"
   ],
   "id": "2874db43a20c44f7",
   "outputs": [
    {
     "name": "stdout",
     "output_type": "stream",
     "text": [
      "\n",
      "Coluna 'conceito' (tipo categórico):\n",
      "0    A\n",
      "1    B\n",
      "2    B\n",
      "3    A\n",
      "4    A\n",
      "5    E\n",
      "Name: conceito, dtype: category\n",
      "Categories (3, object): ['A', 'B', 'E']\n",
      "Tipo da coluna 'conceito': category\n"
     ]
    }
   ],
   "execution_count": 64
  },
  {
   "cell_type": "markdown",
   "metadata": {
    "id": "9b5bc939c28ebbd0"
   },
   "source": [
    "Renomeando as categorias para nomes mais significativos:"
   ],
   "id": "9b5bc939c28ebbd0"
  },
  {
   "cell_type": "code",
   "metadata": {
    "colab": {
     "base_uri": "https://localhost:8080/"
    },
    "id": "2c2d82727fc77612",
    "outputId": "434f9d4b-e228-49fe-c835-f9964fcc7226",
    "ExecuteTime": {
     "end_time": "2025-05-06T20:01:17.411142Z",
     "start_time": "2025-05-06T20:01:17.407594Z"
    }
   },
   "source": [
    "# Os nomes das categorias são inferidos na ordem em que aparecem\n",
    "print(\"Categorias atuais:\", df_cat[\"conceito\"].cat.categories)\n",
    "\n",
    "# Supondo que A=ótimo, B=bom, E=ruim\n",
    "novas_categorias = {\"A\": \"Ótimo\", \"B\": \"Bom\", \"E\": \"Ruim\"}\n",
    "df_cat[\"conceito\"] = df_cat[\"conceito\"].cat.rename_categories(novas_categorias)\n",
    "\n",
    "print(\"\\nColuna 'conceito' com categorias renomeadas:\")\n",
    "print(df_cat[\"conceito\"])\n",
    "print(\"Novas categorias:\", df_cat[\"conceito\"].cat.categories)"
   ],
   "id": "2c2d82727fc77612",
   "outputs": [
    {
     "name": "stdout",
     "output_type": "stream",
     "text": [
      "Categorias atuais: Index(['A', 'B', 'E'], dtype='object')\n",
      "\n",
      "Coluna 'conceito' com categorias renomeadas:\n",
      "0    Ótimo\n",
      "1      Bom\n",
      "2      Bom\n",
      "3    Ótimo\n",
      "4    Ótimo\n",
      "5     Ruim\n",
      "Name: conceito, dtype: category\n",
      "Categories (3, object): ['Ótimo', 'Bom', 'Ruim']\n",
      "Novas categorias: Index(['Ótimo', 'Bom', 'Ruim'], dtype='object')\n"
     ]
    }
   ],
   "execution_count": 65
  },
  {
   "cell_type": "markdown",
   "metadata": {
    "id": "aeb1ed8a88f3f352"
   },
   "source": [
    "Reordenando as categorias e adicionando simultaneamente categorias ausentes (métodos em `.cat` retornam uma nova `Series` por padrão):"
   ],
   "id": "aeb1ed8a88f3f352"
  },
  {
   "cell_type": "code",
   "metadata": {
    "colab": {
     "base_uri": "https://localhost:8080/"
    },
    "id": "e492fbe8af0ac38d",
    "outputId": "3f929fcd-7f8a-4f3d-ab22-57e242524b41",
    "ExecuteTime": {
     "end_time": "2025-05-06T20:01:17.443282Z",
     "start_time": "2025-05-06T20:01:17.439678Z"
    }
   },
   "source": [
    "df_cat[\"conceito\"] = df_cat[\"conceito\"].cat.set_categories(\n",
    "    [\"Ruim\", \"Regular\", \"Bom\", \"Ótimo\"]\n",
    ")\n",
    "print(\"\\nColuna 'conceito' com categorias reordenadas e 'Regular' adicionada (como NaN inicialmente):\")\n",
    "print(df_cat[\"conceito\"])\n",
    "print(\"Categorias e sua ordem:\", df_cat[\"conceito\"].cat.categories)"
   ],
   "id": "e492fbe8af0ac38d",
   "outputs": [
    {
     "name": "stdout",
     "output_type": "stream",
     "text": [
      "\n",
      "Coluna 'conceito' com categorias reordenadas e 'Regular' adicionada (como NaN inicialmente):\n",
      "0    Ótimo\n",
      "1      Bom\n",
      "2      Bom\n",
      "3    Ótimo\n",
      "4    Ótimo\n",
      "5     Ruim\n",
      "Name: conceito, dtype: category\n",
      "Categories (4, object): ['Ruim', 'Regular', 'Bom', 'Ótimo']\n",
      "Categorias e sua ordem: Index(['Ruim', 'Regular', 'Bom', 'Ótimo'], dtype='object')\n"
     ]
    }
   ],
   "execution_count": 66
  },
  {
   "cell_type": "markdown",
   "metadata": {
    "id": "ed06b59c526b85db"
   },
   "source": [
    "A ordenação é pela ordem nas categorias, não pela ordem lexical:"
   ],
   "id": "ed06b59c526b85db"
  },
  {
   "cell_type": "code",
   "metadata": {
    "colab": {
     "base_uri": "https://localhost:8080/",
     "height": 255
    },
    "id": "eef7eb6241ca8ac2",
    "outputId": "493d81c6-1954-4b87-d087-7fc306b6bc97",
    "ExecuteTime": {
     "end_time": "2025-05-06T20:01:17.488370Z",
     "start_time": "2025-05-06T20:01:17.483848Z"
    }
   },
   "source": [
    "print(\"DataFrame ordenado pela coluna 'conceito':\")\n",
    "display(df_cat.sort_values(by=\"conceito\"))"
   ],
   "id": "eef7eb6241ca8ac2",
   "outputs": [
    {
     "name": "stdout",
     "output_type": "stream",
     "text": [
      "DataFrame ordenado pela coluna 'conceito':\n"
     ]
    },
    {
     "data": {
      "text/plain": [
       "   id conceito_bruto conceito\n",
       "5   6              E     Ruim\n",
       "1   2              B      Bom\n",
       "2   3              B      Bom\n",
       "0   1              A    Ótimo\n",
       "3   4              A    Ótimo\n",
       "4   5              A    Ótimo"
      ],
      "text/html": [
       "<div>\n",
       "<style scoped>\n",
       "    .dataframe tbody tr th:only-of-type {\n",
       "        vertical-align: middle;\n",
       "    }\n",
       "\n",
       "    .dataframe tbody tr th {\n",
       "        vertical-align: top;\n",
       "    }\n",
       "\n",
       "    .dataframe thead th {\n",
       "        text-align: right;\n",
       "    }\n",
       "</style>\n",
       "<table border=\"1\" class=\"dataframe\">\n",
       "  <thead>\n",
       "    <tr style=\"text-align: right;\">\n",
       "      <th></th>\n",
       "      <th>id</th>\n",
       "      <th>conceito_bruto</th>\n",
       "      <th>conceito</th>\n",
       "    </tr>\n",
       "  </thead>\n",
       "  <tbody>\n",
       "    <tr>\n",
       "      <th>5</th>\n",
       "      <td>6</td>\n",
       "      <td>E</td>\n",
       "      <td>Ruim</td>\n",
       "    </tr>\n",
       "    <tr>\n",
       "      <th>1</th>\n",
       "      <td>2</td>\n",
       "      <td>B</td>\n",
       "      <td>Bom</td>\n",
       "    </tr>\n",
       "    <tr>\n",
       "      <th>2</th>\n",
       "      <td>3</td>\n",
       "      <td>B</td>\n",
       "      <td>Bom</td>\n",
       "    </tr>\n",
       "    <tr>\n",
       "      <th>0</th>\n",
       "      <td>1</td>\n",
       "      <td>A</td>\n",
       "      <td>Ótimo</td>\n",
       "    </tr>\n",
       "    <tr>\n",
       "      <th>3</th>\n",
       "      <td>4</td>\n",
       "      <td>A</td>\n",
       "      <td>Ótimo</td>\n",
       "    </tr>\n",
       "    <tr>\n",
       "      <th>4</th>\n",
       "      <td>5</td>\n",
       "      <td>A</td>\n",
       "      <td>Ótimo</td>\n",
       "    </tr>\n",
       "  </tbody>\n",
       "</table>\n",
       "</div>"
      ]
     },
     "metadata": {},
     "output_type": "display_data"
    }
   ],
   "execution_count": 67
  },
  {
   "cell_type": "markdown",
   "metadata": {
    "id": "77592e4bd5919265"
   },
   "source": [
    "Agrupar por uma coluna categórica com `observed=False` também mostra categorias vazias:"
   ],
   "id": "77592e4bd5919265"
  },
  {
   "cell_type": "code",
   "metadata": {
    "colab": {
     "base_uri": "https://localhost:8080/"
    },
    "id": "a30323d54773cc76",
    "outputId": "16063a2d-25f3-44a0-a10f-f491831c18ed",
    "ExecuteTime": {
     "end_time": "2025-05-06T20:01:17.519839Z",
     "start_time": "2025-05-06T20:01:17.517161Z"
    }
   },
   "source": [
    "print(\"Contagem de observações por 'conceito' (incluindo categorias não observadas):\")\n",
    "print(df_cat.groupby(\"conceito\", observed=False).size())"
   ],
   "id": "a30323d54773cc76",
   "outputs": [
    {
     "name": "stdout",
     "output_type": "stream",
     "text": [
      "Contagem de observações por 'conceito' (incluindo categorias não observadas):\n",
      "conceito\n",
      "Ruim       1\n",
      "Regular    0\n",
      "Bom        2\n",
      "Ótimo      3\n",
      "dtype: int64\n"
     ]
    }
   ],
   "execution_count": 68
  },
  {
   "cell_type": "markdown",
   "metadata": {
    "id": "6a466c9d0abf995f"
   },
   "source": [
    "## Plotagem (Plotting)\n",
    "\n",
    "O Pandas integra-se com a biblioteca `Matplotlib` para plotagem. Veja a documentação de [Plotting](https://pandas.pydata.org/pandas-docs/stable/user_guide/visualization.html).\n",
    "\n",
    "Usamos a convenção padrão para referenciar a API do Matplotlib:"
   ],
   "id": "6a466c9d0abf995f"
  },
  {
   "cell_type": "code",
   "metadata": {
    "id": "b39a3f47c2325551",
    "ExecuteTime": {
     "end_time": "2025-05-06T20:01:17.695948Z",
     "start_time": "2025-05-06T20:01:17.589463Z"
    }
   },
   "source": [
    "import matplotlib.pyplot as plt\n",
    "\n",
    "# %matplotlib inline # Mágica do Jupyter para mostrar plots inline (geralmente não mais necessário nas versões recentes)\n",
    "\n",
    "plt.close(\"all\") # Fecha quaisquer figuras abertas de execuções anteriores"
   ],
   "id": "b39a3f47c2325551",
   "outputs": [
    {
     "ename": "ModuleNotFoundError",
     "evalue": "No module named 'matplotlib'",
     "output_type": "error",
     "traceback": [
      "\u001B[31m---------------------------------------------------------------------------\u001B[39m",
      "\u001B[31mModuleNotFoundError\u001B[39m                       Traceback (most recent call last)",
      "\u001B[36mCell\u001B[39m\u001B[36m \u001B[39m\u001B[32mIn[69]\u001B[39m\u001B[32m, line 1\u001B[39m\n\u001B[32m----> \u001B[39m\u001B[32m1\u001B[39m \u001B[38;5;28;01mimport\u001B[39;00m\u001B[38;5;250m \u001B[39m\u001B[34;01mmatplotlib\u001B[39;00m\u001B[34;01m.\u001B[39;00m\u001B[34;01mpyplot\u001B[39;00m\u001B[38;5;250m \u001B[39m\u001B[38;5;28;01mas\u001B[39;00m\u001B[38;5;250m \u001B[39m\u001B[34;01mplt\u001B[39;00m\n\u001B[32m      3\u001B[39m \u001B[38;5;66;03m# %matplotlib inline # Mágica do Jupyter para mostrar plots inline (geralmente não mais necessário nas versões recentes)\u001B[39;00m\n\u001B[32m      5\u001B[39m plt.close(\u001B[33m\"\u001B[39m\u001B[33mall\u001B[39m\u001B[33m\"\u001B[39m) \u001B[38;5;66;03m# Fecha quaisquer figuras abertas de execuções anteriores\u001B[39;00m\n",
      "\u001B[31mModuleNotFoundError\u001B[39m: No module named 'matplotlib'"
     ]
    }
   ],
   "execution_count": 69
  },
  {
   "cell_type": "markdown",
   "metadata": {
    "id": "20983e52b90386f3"
   },
   "source": [
    "Plotando uma `Series`:"
   ],
   "id": "20983e52b90386f3"
  },
  {
   "cell_type": "code",
   "metadata": {
    "colab": {
     "base_uri": "https://localhost:8080/",
     "height": 505
    },
    "id": "27defb074d2885dc",
    "outputId": "12fab3ee-0885-473d-d889-04aa945ff27c"
   },
   "source": [
    "ts_plot = pd.Series(np.random.randn(1000), index=pd.date_range(\"1/1/2020\", periods=1000))\n",
    "ts_plot_acumulado = ts_plot.cumsum() # Soma acumulada\n",
    "\n",
    "print(\"Plotando a série temporal acumulada...\")\n",
    "ts_plot_acumulado.plot()\n",
    "plt.title(\"Plot Básico de Série Temporal Acumulada\")\n",
    "plt.xlabel(\"Data\")\n",
    "plt.ylabel(\"Valor Acumulado\")\n",
    "plt.grid(True)\n",
    "plt.show() # Garante que o plot seja exibido"
   ],
   "id": "27defb074d2885dc",
   "outputs": [],
   "execution_count": null
  },
  {
   "cell_type": "markdown",
   "metadata": {
    "id": "452c1c49490bc007"
   },
   "source": [
    "> **Nota:** Ao usar Jupyter, o plot geralmente aparece após `.plot()`. Caso contrário (em scripts Python puros), use `matplotlib.pyplot.show()` para exibi-lo ou `matplotlib.pyplot.savefig()` para salvá-lo em um arquivo."
   ],
   "id": "452c1c49490bc007"
  },
  {
   "cell_type": "markdown",
   "metadata": {
    "id": "cc5e85e9885a69cf"
   },
   "source": [
    "Plotando um `DataFrame`:\n",
    "`.plot()` em um DataFrame plota todas as colunas numéricas por padrão."
   ],
   "id": "cc5e85e9885a69cf"
  },
  {
   "cell_type": "code",
   "metadata": {
    "colab": {
     "base_uri": "https://localhost:8080/",
     "height": 523
    },
    "id": "7b81ed9b45891ccf",
    "outputId": "09a1d4bd-ef4d-403a-98e0-5fbb79314501"
   },
   "source": [
    "df_plot = pd.DataFrame(\n",
    "    np.random.randn(1000, 4), index=ts_plot.index, columns=[\"A\", \"B\", \"C\", \"D\"]\n",
    ")\n",
    "df_plot_acumulado = df_plot.cumsum()\n",
    "\n",
    "print(\"Plotando todas as colunas do DataFrame acumulado...\")\n",
    "plt.figure(); # Cria uma nova figura\n",
    "df_plot_acumulado.plot();\n",
    "plt.title(\"Plot de Múltiplas Séries Temporais Acumuladas\")\n",
    "plt.xlabel(\"Data\")\n",
    "plt.ylabel(\"Valores Acumulados\")\n",
    "plt.legend(loc='best'); # Adiciona legenda na melhor localização\n",
    "plt.grid(True)\n",
    "plt.show()"
   ],
   "id": "7b81ed9b45891ccf",
   "outputs": [],
   "execution_count": null
  },
  {
   "cell_type": "markdown",
   "metadata": {
    "id": "1993a73f66389f42"
   },
   "source": [
    "## Importando e Exportando Dados\n",
    "\n",
    "O Pandas suporta uma variedade de formatos de arquivo. Veja a seção [IO Tools](https://pandas.pydata.org/pandas-docs/stable/user_guide/io.html)."
   ],
   "id": "1993a73f66389f42"
  },
  {
   "cell_type": "code",
   "metadata": {
    "colab": {
     "base_uri": "https://localhost:8080/",
     "height": 143
    },
    "id": "50d2c8cb25af0767",
    "outputId": "d103ddf1-d062-46cd-f202-c88d4cbae147"
   },
   "source": [
    "# DataFrame de exemplo para exportação\n",
    "df_io = pd.DataFrame(np.random.randint(0, 100, (10, 5)), columns=[f\"Col_{i}\" for i in range(5)])\n",
    "display(df_io.head(3))"
   ],
   "id": "50d2c8cb25af0767",
   "outputs": [],
   "execution_count": null
  },
  {
   "cell_type": "markdown",
   "metadata": {
    "id": "1e60587c39220f14"
   },
   "source": [
    "### CSV\n",
    "\n",
    "#### Escrevendo para um arquivo CSV (`to_csv`)"
   ],
   "id": "1e60587c39220f14"
  },
  {
   "cell_type": "code",
   "metadata": {
    "colab": {
     "base_uri": "https://localhost:8080/"
    },
    "id": "3b4efaa4faa3789c",
    "outputId": "9dedcd8d-1d55-4589-9882-9de9ddf36581"
   },
   "source": [
    "nome_arquivo_csv = \"arquivo_exemplo.csv\"\n",
    "try:\n",
    "    df_io.to_csv(nome_arquivo_csv, index=False) # index=False para não escrever o índice do DataFrame no arquivo\n",
    "    print(f\"Arquivo '{nome_arquivo_csv}' salvo com sucesso.\")\n",
    "except Exception as e:\n",
    "    print(f\"Erro ao salvar CSV: {e}\")"
   ],
   "id": "3b4efaa4faa3789c",
   "outputs": [],
   "execution_count": null
  },
  {
   "cell_type": "markdown",
   "metadata": {
    "id": "174c60aecb5e1996"
   },
   "source": [
    "#### Lendo de um arquivo CSV (`read_csv`)"
   ],
   "id": "174c60aecb5e1996"
  },
  {
   "cell_type": "code",
   "metadata": {
    "colab": {
     "base_uri": "https://localhost:8080/",
     "height": 224
    },
    "id": "4e3a477dba16d562",
    "outputId": "9ca18b6b-fbc1-40ad-b4b7-b1650ee6f2c4"
   },
   "source": [
    "try:\n",
    "    df_lido_csv = pd.read_csv(nome_arquivo_csv)\n",
    "    print(f\"Conteúdo lido de '{nome_arquivo_csv}':\")\n",
    "    display(df_lido_csv.head())\n",
    "except Exception as e:\n",
    "    print(f\"Erro ao ler CSV: {e}\")"
   ],
   "id": "4e3a477dba16d562",
   "outputs": [],
   "execution_count": null
  },
  {
   "cell_type": "code",
   "metadata": {
    "colab": {
     "base_uri": "https://localhost:8080/"
    },
    "id": "1522a68550a764e7",
    "outputId": "a88f9299-54e4-4fb0-bf8a-decf1fcb7538"
   },
   "source": [
    "# Limpeza opcional do arquivo criado\n",
    "import os\n",
    "if os.path.exists(nome_arquivo_csv):\n",
    "    try:\n",
    "        os.remove(nome_arquivo_csv)\n",
    "        print(f\"Arquivo '{nome_arquivo_csv}' removido.\")\n",
    "    except Exception as e:\n",
    "        print(f\"Erro ao remover '{nome_arquivo_csv}': {e}\")"
   ],
   "id": "1522a68550a764e7",
   "outputs": [],
   "execution_count": null
  },
  {
   "cell_type": "markdown",
   "metadata": {
    "id": "3fdd3053f170deb4"
   },
   "source": [
    "### Parquet\n",
    "Formato de armazenamento colunar eficiente. Requer as bibliotecas `pyarrow` ou `fastparquet`.\n",
    "Você pode precisar instalar uma delas: `!pip install pyarrow` ou `!pip install fastparquet`"
   ],
   "id": "3fdd3053f170deb4"
  },
  {
   "cell_type": "markdown",
   "metadata": {
    "id": "3b103edaa8657632"
   },
   "source": [
    "#### Escrevendo para um arquivo Parquet (`to_parquet`)"
   ],
   "id": "3b103edaa8657632"
  },
  {
   "cell_type": "code",
   "metadata": {
    "colab": {
     "base_uri": "https://localhost:8080/"
    },
    "id": "e8eb147e7c1c7b2f",
    "outputId": "4c5e67c0-aa4c-4204-8dbb-92bd3a710611"
   },
   "source": [
    "nome_arquivo_parquet = \"arquivo_exemplo.parquet\"\n",
    "try:\n",
    "    df_io.to_parquet(nome_arquivo_parquet, index=False)\n",
    "    print(f\"Arquivo '{nome_arquivo_parquet}' salvo com sucesso.\")\n",
    "except Exception as e:\n",
    "    print(f\"Erro ao salvar Parquet: {e}. Verifique se 'pyarrow' ou 'fastparquet' está instalado.\")"
   ],
   "id": "e8eb147e7c1c7b2f",
   "outputs": [],
   "execution_count": null
  },
  {
   "cell_type": "markdown",
   "metadata": {
    "id": "315421c1c221a8ac"
   },
   "source": [
    "#### Lendo de um arquivo Parquet (`read_parquet`)"
   ],
   "id": "315421c1c221a8ac"
  },
  {
   "cell_type": "code",
   "metadata": {
    "colab": {
     "base_uri": "https://localhost:8080/",
     "height": 224
    },
    "id": "8fd09259a5acc622",
    "outputId": "9352a3d4-b12a-4444-93e4-68efe6d23d8d"
   },
   "source": [
    "if os.path.exists(nome_arquivo_parquet):\n",
    "    try:\n",
    "        df_lido_parquet = pd.read_parquet(nome_arquivo_parquet)\n",
    "        print(f\"Conteúdo lido de '{nome_arquivo_parquet}':\")\n",
    "        display(df_lido_parquet.head())\n",
    "    except Exception as e:\n",
    "        print(f\"Erro ao ler Parquet: {e}\")\n",
    "else:\n",
    "    print(f\"Arquivo '{nome_arquivo_parquet}' não encontrado para leitura.\")"
   ],
   "id": "8fd09259a5acc622",
   "outputs": [],
   "execution_count": null
  },
  {
   "cell_type": "code",
   "metadata": {
    "colab": {
     "base_uri": "https://localhost:8080/"
    },
    "id": "1f135c41c452252d",
    "outputId": "adebe30c-53c4-4c5a-e2b7-bee1054e5c4e"
   },
   "source": [
    "# Limpeza opcional do arquivo criado\n",
    "if os.path.exists(nome_arquivo_parquet):\n",
    "    try:\n",
    "        os.remove(nome_arquivo_parquet)\n",
    "        print(f\"Arquivo '{nome_arquivo_parquet}' removido.\")\n",
    "    except Exception as e:\n",
    "        print(f\"Erro ao remover '{nome_arquivo_parquet}': {e}\")"
   ],
   "id": "1f135c41c452252d",
   "outputs": [],
   "execution_count": null
  },
  {
   "cell_type": "markdown",
   "metadata": {
    "id": "fe5dd3ddaf75e3d6"
   },
   "source": [
    "### Excel\n",
    "Leitura e escrita para arquivos Excel (`.xlsx`). Requer a biblioteca `openpyxl`.\n",
    "Você pode precisar instalá-la: `!pip install openpyxl`"
   ],
   "id": "fe5dd3ddaf75e3d6"
  },
  {
   "cell_type": "markdown",
   "metadata": {
    "id": "548b9a987e1eac55"
   },
   "source": [
    "#### Escrevendo para um arquivo Excel (`to_excel`)"
   ],
   "id": "548b9a987e1eac55"
  },
  {
   "cell_type": "code",
   "metadata": {
    "colab": {
     "base_uri": "https://localhost:8080/"
    },
    "id": "3b2a51af129c9e90",
    "outputId": "7548bd2c-1b2b-4b6a-b1e8-60af7d9d2ad4"
   },
   "source": [
    "nome_arquivo_excel = \"arquivo_exemplo.xlsx\"\n",
    "try:\n",
    "    df_io.to_excel(nome_arquivo_excel, sheet_name=\"Planilha1\", index=False)\n",
    "    print(f\"Arquivo '{nome_arquivo_excel}' salvo com sucesso.\")\n",
    "except Exception as e:\n",
    "    print(f\"Erro ao salvar Excel: {e}. Verifique se 'openpyxl' está instalado.\")"
   ],
   "id": "3b2a51af129c9e90",
   "outputs": [],
   "execution_count": null
  },
  {
   "cell_type": "markdown",
   "metadata": {
    "id": "9736ed6d9a25fc42"
   },
   "source": [
    "#### Lendo de um arquivo Excel (`read_excel`)"
   ],
   "id": "9736ed6d9a25fc42"
  },
  {
   "cell_type": "code",
   "metadata": {
    "colab": {
     "base_uri": "https://localhost:8080/",
     "height": 224
    },
    "id": "9fb6c4377464e191",
    "outputId": "5481774c-a74f-425a-ccdf-146f131cb2c8"
   },
   "source": [
    "if os.path.exists(nome_arquivo_excel):\n",
    "    try:\n",
    "        df_lido_excel = pd.read_excel(nome_arquivo_excel, sheet_name=\"Planilha1\", na_values=[\"N/A\", \"Ausente\"])\n",
    "        print(f\"Conteúdo lido de '{nome_arquivo_excel}':\")\n",
    "        display(df_lido_excel.head())\n",
    "    except Exception as e:\n",
    "        print(f\"Erro ao ler Excel: {e}\")\n",
    "else:\n",
    "    print(f\"Arquivo '{nome_arquivo_excel}' não encontrado para leitura.\")"
   ],
   "id": "9fb6c4377464e191",
   "outputs": [],
   "execution_count": null
  },
  {
   "cell_type": "code",
   "metadata": {
    "colab": {
     "base_uri": "https://localhost:8080/"
    },
    "id": "af7fc267b6559066",
    "outputId": "365dadc7-445b-4676-be2f-2f23005c2206"
   },
   "source": [
    "# Limpeza opcional do arquivo criado\n",
    "if os.path.exists(nome_arquivo_excel):\n",
    "    try:\n",
    "        os.remove(nome_arquivo_excel)\n",
    "        print(f\"Arquivo '{nome_arquivo_excel}' removido.\")\n",
    "    except Exception as e:\n",
    "        print(f\"Erro ao remover '{nome_arquivo_excel}': {e}\")"
   ],
   "id": "af7fc267b6559066",
   "outputs": [],
   "execution_count": null
  },
  {
   "cell_type": "markdown",
   "metadata": {
    "id": "8f1d0506968fafc0"
   },
   "source": [
    "## Armadilhas (Gotchas)\n",
    "\n",
    "Se você tentar realizar uma operação booleana em uma `Series` ou `DataFrame` inteira diretamente em um contexto que espera um único valor booleano (como um `if` do Python), você pode ver uma exceção como `ValueError: The truth value of a Series is ambiguous...`."
   ],
   "id": "8f1d0506968fafc0"
  },
  {
   "cell_type": "code",
   "metadata": {
    "colab": {
     "base_uri": "https://localhost:8080/"
    },
    "id": "e062e7ed6b87594a",
    "outputId": "eab5c929-e1f3-4197-ad9b-3e913dc9bdbe"
   },
   "source": [
    "try:\n",
    "    if pd.Series([False, True, False]): # Isso causará um erro\n",
    "        print(\"Eu era verdadeiro\")\n",
    "except ValueError as e:\n",
    "    print(f\"Erro capturado (esperado): {e}\")"
   ],
   "id": "e062e7ed6b87594a",
   "outputs": [],
   "execution_count": null
  },
  {
   "cell_type": "markdown",
   "metadata": {
    "id": "83ddd87346aba40e"
   },
   "source": [
    "Isso ocorre porque o Python não sabe como interpretar uma `Series` de booleanos (com múltiplos `True`/`False`) como um único valor de verdade.\n",
    "\n",
    "Para verificar se *algum* valor na Series é `True`, use `.any()`.\n",
    "Para verificar se *todos* os valores na Series são `True`, use `.all()`.\n",
    "Para operações elemento a elemento, use os operadores lógicos `&` (E), `|` (OU), `~` (NÃO), e envolva as comparações em parênteses devido à precedência de operadores.\n",
    "\n",
    "Exemplo corrigido:"
   ],
   "id": "83ddd87346aba40e"
  },
  {
   "cell_type": "code",
   "metadata": {
    "colab": {
     "base_uri": "https://localhost:8080/"
    },
    "id": "b0a31565d35117d2",
    "outputId": "6d0a1470-0d7c-46fe-ac0d-7adcf207ef8a"
   },
   "source": [
    "minha_serie_bool = pd.Series([False, True, False])\n",
    "\n",
    "if minha_serie_bool.any():\n",
    "    print(\"Pelo menos um valor na série é True.\")\n",
    "else:\n",
    "    print(\"Nenhum valor na série é True.\")\n",
    "\n",
    "if minha_serie_bool.all():\n",
    "    print(\"Todos os valores na série são True.\")\n",
    "else:\n",
    "    print(\"Nem todos os valores na série são True (ou a série está vazia).\")\n",
    "\n",
    "outra_serie_bool = pd.Series([True, False, True])\n",
    "resultado_e = (minha_serie_bool & outra_serie_bool) # E elemento a elemento\n",
    "print(\"\\nResultado de 'minha_serie_bool & outra_serie_bool':\")\n",
    "print(resultado_e)"
   ],
   "id": "b0a31565d35117d2",
   "outputs": [],
   "execution_count": null
  },
  {
   "cell_type": "markdown",
   "metadata": {
    "id": "3faddd3328661d02"
   },
   "source": [
    "Veja mais em [Comparações](https://pandas.pydata.org/pandas-docs/stable/user_guide/basics.html#comparisons) e [Armadilhas (Gotchas)](https://pandas.pydata.org/pandas-docs/stable/user_guide/gotchas.html) na documentação oficial."
   ],
   "id": "3faddd3328661d02"
  },
  {
   "cell_type": "markdown",
   "metadata": {
    "id": "a175968101ff6238"
   },
   "source": [
    "---\n",
    "Referência: [10 minutes to pandas](https://pandas.pydata.org/pandas-docs/stable/user_guide/10min.html)"
   ],
   "id": "a175968101ff6238"
  }
 ],
 "metadata": {
  "kernelspec": {
   "display_name": "Python 3 (ipykernel)",
   "language": "python",
   "name": "python3"
  },
  "language_info": {
   "codemirror_mode": {
    "name": "ipython",
    "version": 3
   },
   "file_extension": ".py",
   "mimetype": "text/x-python",
   "name": "python",
   "nbconvert_exporter": "python",
   "pygments_lexer": "ipython3",
   "version": "3.9.12"
  },
  "colab": {
   "provenance": []
  }
 },
 "nbformat": 4,
 "nbformat_minor": 5
}
