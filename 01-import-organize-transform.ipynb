{
 "cells": [
  {
   "cell_type": "markdown",
   "metadata": {},
   "source": [
    "# Importação, Organização e Transformação de Dados com Pandas\n",
    "\n",
    "**Objetivo:** Apresentar de forma prática as etapas iniciais do fluxo de trabalho em Ciência de Dados usando Python e Pandas."
   ]
  },
  {
   "cell_type": "markdown",
   "metadata": {},
   "source": [
    "## 0. Configuração Inicial e Imports\n",
    "\n",
    "Vamos importar as bibliotecas necessárias para esta aula."
   ]
  },
  {
   "cell_type": "code",
   "metadata": {},
   "source": [
    "import bs4\n",
    "import pandas as pd\n",
    "import numpy as np\n",
    "\n",
    "import requests              # Para requisições HTTP (Web Scraping)\n",
    "import sqlite3               # Para interagir com bancos de dados SQLite\n",
    "import os                    # Para interagir com o sistema operacional (ex: verificar arquivos)\n",
    "import time                  # Para pausas no scraping (boas práticas)\n",
    "\n",
    "from bs4 import BeautifulSoup # Para parsear HTML (Web Scraping)\n",
    "\n",
    "# Configurações do Pandas para melhor visualização (opcional)\n",
    "pd.set_option('display.max_columns', 50)\n",
    "pd.set_option('display.width', 100)\n",
    "\n",
    "print(f\"Pandas Version: {pd.__version__}\")\n",
    "print(f\"NumPy Version: {np.__version__}\")\n",
    "print(f\"Requests Version: {requests.__version__}\")\n",
    "print(f\"BeautifulSoup Version: {bs4.__version__}\")\n",
    "print(f\"SQLite3 Version: {sqlite3.sqlite_version}\")"
   ],
   "outputs": [],
   "execution_count": null
  },
  {
   "cell_type": "markdown",
   "metadata": {},
   "source": [
    "## 1. Introdução: A Base da Análise de Dados\n",
    "\n",
    "As etapas iniciais de **Coleta, Importação, Organização e Transformação Estrutural** são cruciais. Elas definem a matéria-prima e garantem que os dados estejam em um formato adequado para análise. Utilizaremos o princípio do **Tidy Data** como guia.\n",
    "\n",
    "\n",
    "<svg aria-roledescription=\"flowchart-v2\" role=\"graphics-document document\" viewBox=\"0 0 1128.484375 169.75\" style=\"max-width: 1128.484375px;\" class=\"flowchart\" xmlns=\"http://www.w3.org/2000/svg\" width=\"100%\" id=\"export-svg\"><style xmlns=\"http://www.w3.org/1999/xhtml\">@import url(\"https://cdnjs.cloudflare.com/ajax/libs/font-awesome/6.2.0/css/all.min.css\"); p {margin: 0;}</style><style>#export-svg{font-family:arial,sans-serif;font-size:14px;fill:#333;}@keyframes edge-animation-frame{from{stroke-dashoffset:0;}}@keyframes dash{to{stroke-dashoffset:0;}}#export-svg .edge-animation-slow{stroke-dasharray:9,5!important;stroke-dashoffset:900;animation:dash 50s linear infinite;stroke-linecap:round;}#export-svg .edge-animation-fast{stroke-dasharray:9,5!important;stroke-dashoffset:900;animation:dash 20s linear infinite;stroke-linecap:round;}#export-svg .error-icon{fill:#552222;}#export-svg .error-text{fill:#552222;stroke:#552222;}#export-svg .edge-thickness-normal{stroke-width:1px;}#export-svg .edge-thickness-thick{stroke-width:3.5px;}#export-svg .edge-pattern-solid{stroke-dasharray:0;}#export-svg .edge-thickness-invisible{stroke-width:0;fill:none;}#export-svg .edge-pattern-dashed{stroke-dasharray:3;}#export-svg .edge-pattern-dotted{stroke-dasharray:2;}#export-svg .marker{fill:#333333;stroke:#333333;}#export-svg .marker.cross{stroke:#333333;}#export-svg svg{font-family:arial,sans-serif;font-size:14px;}#export-svg p{margin:0;}#export-svg .label{font-family:arial,sans-serif;color:#333;}#export-svg .cluster-label text{fill:#333;}#export-svg .cluster-label span{color:#333;}#export-svg .cluster-label span p{background-color:transparent;}#export-svg .label text,#export-svg span{fill:#333;color:#333;}#export-svg .node rect,#export-svg .node circle,#export-svg .node ellipse,#export-svg .node polygon,#export-svg .node path{fill:#ECECFF;stroke:#B8B8FF;stroke-width:1px;}#export-svg .rough-node .label text,#export-svg .node .label text,#export-svg .image-shape .label,#export-svg .icon-shape .label{text-anchor:middle;}#export-svg .node .katex path{fill:#000;stroke:#000;stroke-width:1px;}#export-svg .rough-node .label,#export-svg .node .label,#export-svg .image-shape .label,#export-svg .icon-shape .label{text-align:center;}#export-svg .node.clickable{cursor:pointer;}#export-svg .root .anchor path{fill:#333333!important;stroke-width:0;stroke:#333333;}#export-svg .arrowheadPath{fill:#333333;}#export-svg .edgePath .path{stroke:#333333;stroke-width:1px;}#export-svg .flowchart-link{stroke:#333333;fill:none;}#export-svg .edgeLabel{background-color:rgba(232,232,232, 0.8);text-align:center;}#export-svg .edgeLabel p{background-color:rgba(232,232,232, 0.8);}#export-svg .edgeLabel rect{opacity:0.5;background-color:rgba(232,232,232, 0.8);fill:rgba(232,232,232, 0.8);}#export-svg .labelBkg{background-color:rgba(232, 232, 232, 0.5);}#export-svg .cluster rect{fill:#ffffde;stroke:#aaaa33;stroke-width:1px;}#export-svg .cluster text{fill:#333;}#export-svg .cluster span{color:#333;}#export-svg div.mermaidTooltip{position:absolute;text-align:center;max-width:200px;padding:2px;font-family:arial,sans-serif;font-size:12px;background:hsl(80, 100%, 96.2745098039%);border:1px solid #aaaa33;border-radius:2px;pointer-events:none;z-index:100;}#export-svg .flowchartTitleText{text-anchor:middle;font-size:18px;fill:#333;}#export-svg rect.text{fill:none;stroke-width:0;}#export-svg .icon-shape,#export-svg .image-shape{background-color:rgba(232,232,232, 0.8);text-align:center;}#export-svg .icon-shape p,#export-svg .image-shape p{background-color:rgba(232,232,232, 0.8);padding:2px;}#export-svg .icon-shape rect,#export-svg .image-shape rect{opacity:0.5;background-color:rgba(232,232,232, 0.8);fill:rgba(232,232,232, 0.8);}#export-svg .node .neo-node{stroke:#B8B8FF;}#export-svg [data-look=\"neo\"].node rect,#export-svg [data-look=\"neo\"].cluster rect,#export-svg [data-look=\"neo\"].node polygon{stroke:#B8B8FF;filter:drop-shadow( 1px 2px 2px rgba(185,185,185,1));}#export-svg [data-look=\"neo\"].node path{stroke:#B8B8FF;stroke-width:1;}#export-svg [data-look=\"neo\"].node .outer-path{filter:drop-shadow( 1px 2px 2px rgba(185,185,185,1));}#export-svg [data-look=\"neo\"].node .neo-line path{stroke:#B8B8FF;filter:none;}#export-svg [data-look=\"neo\"].node circle{stroke:#B8B8FF;filter:drop-shadow( 1px 2px 2px rgba(185,185,185,1));}#export-svg [data-look=\"neo\"].node circle .state-start{fill:#000000;}#export-svg [data-look=\"neo\"].statediagram-cluster rect{fill:#ECECFF;stroke:#B8B8FF;stroke-width:1;}#export-svg [data-look=\"neo\"].icon-shape .icon{fill:#B8B8FF;filter:drop-shadow( 1px 2px 2px rgba(185,185,185,1));}#export-svg [data-look=\"neo\"].icon-shape .icon-neo path{stroke:#B8B8FF;filter:drop-shadow( 1px 2px 2px rgba(185,185,185,1));}#export-svg :root{--mermaid-font-family:\"trebuchet ms\",verdana,arial,sans-serif;}</style><g><marker orient=\"auto\" markerHeight=\"14\" markerWidth=\"10.5\" markerUnits=\"userSpaceOnUse\" refY=\"7\" refX=\"7.75\" viewBox=\"0 0 11.5 14\" class=\"marker flowchart-v2\" id=\"export-svg_flowchart-v2-pointEnd\"><path style=\"stroke-width: 0; stroke-dasharray: 1, 0;\" class=\"arrowMarkerPath\" d=\"M 0 0 L 11.5 7 L 0 14 z\"/></marker><marker orient=\"auto\" markerHeight=\"14\" markerWidth=\"11.5\" markerUnits=\"userSpaceOnUse\" refY=\"7\" refX=\"4\" viewBox=\"0 0 11.5 14\" class=\"marker flowchart-v2\" id=\"export-svg_flowchart-v2-pointStart\"><polygon style=\"stroke-width: 0; stroke-dasharray: 1, 0;\" class=\"arrowMarkerPath\" points=\"0,7 11.5,14 11.5,0\"/></marker><marker orient=\"auto\" markerHeight=\"14\" markerWidth=\"10.5\" markerUnits=\"userSpaceOnUse\" refY=\"7\" refX=\"11.5\" viewBox=\"0 0 11.5 14\" class=\"marker flowchart-v2\" id=\"export-svg_flowchart-v2-pointEnd-margin\"><path style=\"stroke-width: 0; stroke-dasharray: 1, 0;\" class=\"arrowMarkerPath\" d=\"M 0 0 L 11.5 7 L 0 14 z\"/></marker><marker orient=\"auto\" markerHeight=\"14\" markerWidth=\"11.5\" markerUnits=\"userSpaceOnUse\" refY=\"7\" refX=\"1\" viewBox=\"0 0 11.5 14\" class=\"marker flowchart-v2\" id=\"export-svg_flowchart-v2-pointStart-margin\"><polygon style=\"stroke-width: 0; stroke-dasharray: 1, 0;\" class=\"arrowMarkerPath\" points=\"0,7 11.5,14 11.5,0\"/></marker><marker orient=\"auto\" markerHeight=\"14\" markerWidth=\"14\" markerUnits=\"userSpaceOnUse\" refX=\"10.75\" refY=\"5\" viewBox=\"0 0 10 10\" class=\"marker flowchart-v2\" id=\"export-svg_flowchart-v2-circleEnd\"><circle style=\"stroke-width: 0; stroke-dasharray: 1, 0;\" class=\"arrowMarkerPath\" r=\"5\" cy=\"5\" cx=\"5\"/></marker><marker orient=\"auto\" markerHeight=\"14\" markerWidth=\"14\" markerUnits=\"userSpaceOnUse\" refY=\"5\" refX=\"0\" viewBox=\"0 0 10 10\" class=\"marker flowchart-v2\" id=\"export-svg_flowchart-v2-circleStart\"><circle style=\"stroke-width: 0; stroke-dasharray: 1, 0;\" class=\"arrowMarkerPath\" r=\"5\" cy=\"5\" cx=\"5\"/></marker><marker orient=\"auto\" markerHeight=\"14\" markerWidth=\"14\" markerUnits=\"userSpaceOnUse\" refX=\"12.25\" refY=\"5\" viewBox=\"0 0 10 10\" class=\"marker flowchart-v2\" id=\"export-svg_flowchart-v2-circleEnd-margin\"><circle style=\"stroke-width: 0; stroke-dasharray: 1, 0;\" class=\"arrowMarkerPath\" r=\"5\" cy=\"5\" cx=\"5\"/></marker><marker orient=\"auto\" markerHeight=\"14\" markerWidth=\"14\" markerUnits=\"userSpaceOnUse\" refY=\"5\" refX=\"-2\" viewBox=\"0 0 10 10\" class=\"marker flowchart-v2\" id=\"export-svg_flowchart-v2-circleStart-margin\"><circle style=\"stroke-width: 0; stroke-dasharray: 1, 0;\" class=\"arrowMarkerPath\" r=\"5\" cy=\"5\" cx=\"5\"/></marker><marker orient=\"auto\" markerHeight=\"12\" markerWidth=\"12\" markerUnits=\"userSpaceOnUse\" refY=\"7.5\" refX=\"17.7\" viewBox=\"0 0 15 15\" class=\"marker cross flowchart-v2\" id=\"export-svg_flowchart-v2-crossEnd\"><path style=\"stroke-width: 2.5;\" class=\"arrowMarkerPath\" d=\"M 1,1 L 14,14 M 1,14 L 14,1\"/></marker><marker orient=\"auto\" markerHeight=\"12\" markerWidth=\"12\" markerUnits=\"userSpaceOnUse\" refY=\"7.5\" refX=\"-3.5\" viewBox=\"0 0 15 15\" class=\"marker cross flowchart-v2\" id=\"export-svg_flowchart-v2-crossStart\"><path style=\"stroke-width: 2.5; stroke-dasharray: 1, 0;\" class=\"arrowMarkerPath\" d=\"M 1,1 L 14,14 M 1,14 L 14,1\"/></marker><marker orient=\"auto\" markerHeight=\"12\" markerWidth=\"12\" markerUnits=\"userSpaceOnUse\" refY=\"7.5\" refX=\"17.7\" viewBox=\"0 0 15 15\" class=\"marker cross flowchart-v2\" id=\"export-svg_flowchart-v2-crossEnd-margin\"><path style=\"stroke-width: 2.5;\" class=\"arrowMarkerPath\" d=\"M 1,1 L 14,14 M 1,14 L 14,1\"/></marker><marker orient=\"auto\" markerHeight=\"12\" markerWidth=\"12\" markerUnits=\"userSpaceOnUse\" refY=\"7.5\" refX=\"-3.5\" viewBox=\"0 0 15 15\" class=\"marker cross flowchart-v2\" id=\"export-svg_flowchart-v2-crossStart-margin\"><path style=\"stroke-width: 2.5; stroke-dasharray: 1, 0;\" class=\"arrowMarkerPath\" d=\"M 1,1 L 14,14 M 1,14 L 14,1\"/></marker><g class=\"root\"><g class=\"clusters\"><g data-look=\"neo\" data-et=\"cluster\" data-id=\"Ciclo de Exploração e Modelagem\" id=\"Ciclo de Exploração e Modelagem\" class=\"cluster\"><rect height=\"153.75\" width=\"491.140625\" y=\"8\" x=\"461.734375\" style=\"fill:#ffffde\"/><g transform=\"translate(681.234375, 8)\" class=\"cluster-label\"><foreignObject height=\"21\" width=\"52.140625\"><div xmlns=\"http://www.w3.org/1999/xhtml\" style=\"display: table-cell; white-space: normal; line-height: 1.5; max-width: 200px; text-align: center;\"><span class=\"nodeLabel\"><p>Explorar</p></span></div></foreignObject></g></g></g><g class=\"edgePaths\"><path marker-end=\"url(#export-svg_flowchart-v2-pointEnd-margin)\" data-points=\"W3sieCI6MTU0LjQwNjI1LCJ5Ijo5NC4yNX0seyJ4IjoxNzkuNDA2MjUsInkiOjk0LjI1fSx7IngiOjIwNC40MDYyNSwieSI6OTQuMjV9XQ==\" data-id=\"L_A_B_0\" data-et=\"edge\" data-edge=\"true\" style=\"stroke-dasharray: 0 0 37 9; stroke-dashoffset: 0;;\" class=\"edge-thickness-normal edge-pattern-solid edge-thickness-normal edge-pattern-solid flowchart-link\" id=\"L_A_B_0\" d=\"M154.40625,94.25L179.40625,94.25L200.40625,94.25\"/><path marker-end=\"url(#export-svg_flowchart-v2-pointEnd-margin)\" data-points=\"W3sieCI6NDExLjczNDM3NSwieSI6OTQuMjV9LHsieCI6NDM2LjczNDM3NSwieSI6OTQuMjV9LHsieCI6NDYxLjczNDM3NSwieSI6OTQuMjV9LHsieCI6NDg2LjczNDM3NSwieSI6OTQuMjV9XQ==\" data-id=\"L_B_T_0\" data-et=\"edge\" data-edge=\"true\" style=\"stroke-dasharray: 0 0 62 9; stroke-dashoffset: 0;;\" class=\"edge-thickness-normal edge-pattern-solid edge-thickness-normal edge-pattern-solid flowchart-link\" id=\"L_B_T_0\" d=\"M411.734375,94.25L436.734375,94.25L461.734375,94.25L482.734375,94.25\"/><path marker-end=\"url(#export-svg_flowchart-v2-pointEnd-margin)\" data-points=\"W3sieCI6NjEyLjM1OTM3NSwieSI6NzMuNjg1MDUzMzgwNzgyOTJ9LHsieCI6NjM3LjM1OTM3NSwieSI6NjUuNX0seyJ4Ijo2NjIuMzU5Mzc1LCJ5Ijo2NS41fV0=\" data-id=\"L_T_V_0\" data-et=\"edge\" data-edge=\"true\" style=\"stroke-dasharray: 0 0 38.13121032714844 9; stroke-dashoffset: 0;;\" class=\"edge-thickness-normal edge-pattern-solid edge-thickness-normal edge-pattern-solid flowchart-link\" id=\"L_T_V_0\" d=\"M612.359375,73.68505338078292L627.3805869454299,68.76707651608703Q637.359375,65.5 647.859375,65.5L658.359375,65.5\"/><path marker-end=\"url(#export-svg_flowchart-v2-pointEnd-margin)\" data-points=\"W3sieCI6NzcyLjcxODc1LCJ5Ijo2NS41fSx7IngiOjc5Ny43MTg3NSwieSI6NjUuNX0seyJ4Ijo4MjIuNzE4NzUsInkiOjc0Ljc2NDg1Mzk3Nzg0NDkyfV0=\" data-id=\"L_V_M_0\" data-et=\"edge\" data-edge=\"true\" style=\"stroke-dasharray: 0 0 38.4246940612793 9; stroke-dashoffset: 0;;\" class=\"edge-thickness-normal edge-pattern-solid edge-thickness-normal edge-pattern-solid flowchart-link\" id=\"L_V_M_0\" d=\"M772.71875,65.5L786.3879818372984,65.5Q797.71875,65.5 808.343389203467,69.43742923149635L818.9680284069341,73.3748584629927\"/><path marker-end=\"url(#export-svg_flowchart-v2-pointEnd-margin)\" data-points=\"W3sieCI6ODIyLjcxODc1LCJ5IjoxMTMuNzM1MTQ2MDIyMTU1MDh9LHsieCI6Nzk3LjcxODc1LCJ5IjoxMjN9LHsieCI6NzE3LjUzOTA2MjUsInkiOjEyM30seyJ4Ijo2MzcuMzU5Mzc1LCJ5IjoxMjN9LHsieCI6NjEyLjM1OTM3NSwieSI6MTE0LjgxNDk0NjYxOTIxNzA4fV0=\" data-id=\"L_M_T_0\" data-et=\"edge\" data-edge=\"true\" style=\"stroke-dasharray: 0 0 199.8626251220703 9; stroke-dashoffset: 0;;\" class=\"edge-thickness-normal edge-pattern-solid edge-thickness-normal edge-pattern-solid flowchart-link\" id=\"L_M_T_0\" d=\"M822.71875,113.73514602215508L810.21875,118.36757301107754Q797.71875,123 784.3879818372984,123L717.5390625,123L648.5122748594061,123Q637.359375,123 626.7600965342039,119.52977359838702L616.1608180684077,116.05954719677405\"/><path marker-end=\"url(#export-svg_flowchart-v2-pointEnd-margin)\" data-points=\"W3sieCI6OTI3Ljg3NSwieSI6OTQuMjV9LHsieCI6OTUyLjg3NSwieSI6OTQuMjV9LHsieCI6OTc3Ljg3NSwieSI6OTQuMjV9LHsieCI6MTAwMi44NzUsInkiOjk0LjI1fV0=\" data-id=\"L_M_E_0\" data-et=\"edge\" data-edge=\"true\" style=\"stroke-dasharray: 0 0 62 9; stroke-dashoffset: 0;;\" class=\"edge-thickness-normal edge-pattern-solid edge-thickness-normal edge-pattern-solid flowchart-link\" id=\"L_M_E_0\" d=\"M927.875,94.25L952.875,94.25L977.875,94.25L998.875,94.25\"/></g><g class=\"edgeLabels\"><g class=\"edgeLabel\"><g transform=\"translate(0, 0)\" data-id=\"L_A_B_0\" class=\"label\"><foreignObject height=\"0\" width=\"0\"><div class=\"labelBkg\" xmlns=\"http://www.w3.org/1999/xhtml\" style=\"display: table-cell; white-space: normal; line-height: 1.5; max-width: 200px; text-align: center;\"><span class=\"edgeLabel\"></span></div></foreignObject></g></g><g class=\"edgeLabel\"><g transform=\"translate(0, 0)\" data-id=\"L_B_T_0\" class=\"label\"><foreignObject height=\"0\" width=\"0\"><div class=\"labelBkg\" xmlns=\"http://www.w3.org/1999/xhtml\" style=\"display: table-cell; white-space: normal; line-height: 1.5; max-width: 200px; text-align: center;\"><span class=\"edgeLabel\"></span></div></foreignObject></g></g><g class=\"edgeLabel\"><g transform=\"translate(0, 0)\" data-id=\"L_T_V_0\" class=\"label\"><foreignObject height=\"0\" width=\"0\"><div class=\"labelBkg\" xmlns=\"http://www.w3.org/1999/xhtml\" style=\"display: table-cell; white-space: normal; line-height: 1.5; max-width: 200px; text-align: center;\"><span class=\"edgeLabel\"></span></div></foreignObject></g></g><g class=\"edgeLabel\"><g transform=\"translate(0, 0)\" data-id=\"L_V_M_0\" class=\"label\"><foreignObject height=\"0\" width=\"0\"><div class=\"labelBkg\" xmlns=\"http://www.w3.org/1999/xhtml\" style=\"display: table-cell; white-space: normal; line-height: 1.5; max-width: 200px; text-align: center;\"><span class=\"edgeLabel\"></span></div></foreignObject></g></g><g class=\"edgeLabel\"><g transform=\"translate(0, 0)\" data-id=\"L_M_T_0\" class=\"label\"><foreignObject height=\"0\" width=\"0\"><div class=\"labelBkg\" xmlns=\"http://www.w3.org/1999/xhtml\" style=\"display: table-cell; white-space: normal; line-height: 1.5; max-width: 200px; text-align: center;\"><span class=\"edgeLabel\"></span></div></foreignObject></g></g><g class=\"edgeLabel\"><g transform=\"translate(0, 0)\" data-id=\"L_M_E_0\" class=\"label\"><foreignObject height=\"0\" width=\"0\"><div class=\"labelBkg\" xmlns=\"http://www.w3.org/1999/xhtml\" style=\"display: table-cell; white-space: normal; line-height: 1.5; max-width: 200px; text-align: center;\"><span class=\"edgeLabel\"></span></div></foreignObject></g></g></g><g class=\"nodes\"><g transform=\"translate(81.203125, 94.25)\" data-look=\"neo\" data-et=\"node\" data-node=\"true\" data-id=\"A\" id=\"flowchart-A-0\" class=\"node default\"><rect stroke=\"url(#gradient)\" height=\"45\" width=\"146.40625\" y=\"-22.5\" x=\"-73.203125\" data-id=\"A\" style=\"\" class=\"basic label-container\"/><g transform=\"translate(-57.203125, -10.5)\" style=\"\" class=\"label\"><rect/><foreignObject height=\"21\" width=\"114.40625\"><div xmlns=\"http://www.w3.org/1999/xhtml\" style=\"display: table-cell; white-space: normal; line-height: 1.5; max-width: 200px; text-align: center;\"><span class=\"nodeLabel\"><p>Importação/Coleta</p></span></div></foreignObject></g></g><g transform=\"translate(308.0703125, 94.25)\" data-look=\"neo\" data-et=\"node\" data-node=\"true\" data-id=\"B\" id=\"flowchart-B-1\" class=\"node default\"><rect stroke=\"url(#gradient)\" height=\"45\" width=\"207.328125\" y=\"-22.5\" x=\"-103.6640625\" data-id=\"B\" style=\"\" class=\"basic label-container\"/><g transform=\"translate(-87.6640625, -10.5)\" style=\"\" class=\"label\"><rect/><foreignObject height=\"21\" width=\"175.328125\"><div xmlns=\"http://www.w3.org/1999/xhtml\" style=\"display: table-cell; white-space: normal; line-height: 1.5; max-width: 200px; text-align: center;\"><span class=\"nodeLabel\"><p>Organização/Limpeza (Tidy)</p></span></div></foreignObject></g></g><g transform=\"translate(549.546875, 94.25)\" data-look=\"neo\" data-et=\"node\" data-node=\"true\" data-id=\"T\" id=\"flowchart-T-3\" class=\"node default\"><rect stroke=\"url(#gradient)\" height=\"45\" width=\"125.625\" y=\"-22.5\" x=\"-62.8125\" data-id=\"T\" style=\"\" class=\"basic label-container\"/><g transform=\"translate(-46.8125, -10.5)\" style=\"\" class=\"label\"><rect/><foreignObject height=\"21\" width=\"93.625\"><div xmlns=\"http://www.w3.org/1999/xhtml\" style=\"display: table-cell; white-space: normal; line-height: 1.5; max-width: 200px; text-align: center;\"><span class=\"nodeLabel\"><p>Transformação</p></span></div></foreignObject></g></g><g transform=\"translate(717.5390625, 65.5)\" data-look=\"neo\" data-et=\"node\" data-node=\"true\" data-id=\"V\" id=\"flowchart-V-5\" class=\"node default\"><rect stroke=\"url(#gradient)\" height=\"45\" width=\"110.359375\" y=\"-22.5\" x=\"-55.1796875\" data-id=\"V\" style=\"\" class=\"basic label-container\"/><g transform=\"translate(-39.1796875, -10.5)\" style=\"\" class=\"label\"><rect/><foreignObject height=\"21\" width=\"78.359375\"><div xmlns=\"http://www.w3.org/1999/xhtml\" style=\"display: table-cell; white-space: normal; line-height: 1.5; max-width: 200px; text-align: center;\"><span class=\"nodeLabel\"><p>Visualização</p></span></div></foreignObject></g></g><g transform=\"translate(875.296875, 94.25)\" data-look=\"neo\" data-et=\"node\" data-node=\"true\" data-id=\"M\" id=\"flowchart-M-7\" class=\"node default\"><rect stroke=\"url(#gradient)\" height=\"45\" width=\"105.15625\" y=\"-22.5\" x=\"-52.578125\" data-id=\"M\" style=\"\" class=\"basic label-container\"/><g transform=\"translate(-36.578125, -10.5)\" style=\"\" class=\"label\"><rect/><foreignObject height=\"21\" width=\"73.15625\"><div xmlns=\"http://www.w3.org/1999/xhtml\" style=\"display: table-cell; white-space: normal; line-height: 1.5; max-width: 200px; text-align: center;\"><span class=\"nodeLabel\"><p>Modelagem</p></span></div></foreignObject></g></g><g transform=\"translate(1061.6796875, 94.25)\" data-look=\"neo\" data-et=\"node\" data-node=\"true\" data-id=\"E\" id=\"flowchart-E-11\" class=\"node default\"><rect stroke=\"url(#gradient)\" height=\"45\" width=\"117.609375\" y=\"-22.5\" x=\"-58.8046875\" data-id=\"E\" style=\"\" class=\"basic label-container\"/><g transform=\"translate(-42.8046875, -10.5)\" style=\"\" class=\"label\"><rect/><foreignObject height=\"21\" width=\"85.609375\"><div xmlns=\"http://www.w3.org/1999/xhtml\" style=\"display: table-cell; white-space: normal; line-height: 1.5; max-width: 200px; text-align: center;\"><span class=\"nodeLabel\"><p>Comunicação</p></span></div></foreignObject></g></g></g></g></g><defs><filter width=\"130%\" height=\"130%\" id=\"drop-shadow\"><feDropShadow flood-color=\"#FFFFFF\" flood-opacity=\"0.06\" stdDeviation=\"0\" dy=\"4\" dx=\"4\"/></filter></defs><defs><filter width=\"150%\" height=\"150%\" id=\"drop-shadow-small\"><feDropShadow flood-color=\"#FFFFFF\" flood-opacity=\"0.06\" stdDeviation=\"0\" dy=\"2\" dx=\"2\"/></filter></defs></svg>\n"
   ]
  },
  {
   "cell_type": "markdown",
   "metadata": {},
   "source": [
    "## 2. Coleta de Dados (Data Collection)\n",
    "\n",
    "Esta etapa envolve identificar e obter dados de diversas fontes:\n",
    "*   Bancos de Dados (Internos/Externos)\n",
    "*   APIs (Web Services)\n",
    "*   Arquivos (CSV, JSON, Excel, TXT, etc.)\n",
    "*   Websites (via Web Scraping)\n",
    "*   Sensores / IoT\n",
    "\n",
    "Neste notebook, focaremos no processamento dos dados *após* a coleta (principalmente a partir de arquivos e web scraping simulado)."
   ]
  },
  {
   "cell_type": "markdown",
   "metadata": {},
   "source": [
    "## 3. Web Scraping\n",
    "\n",
    "Técnica para extrair dados de websites quando não há API ou arquivo disponível.\n",
    "\n",
    "**Processo:** Requisição HTTP -> Recebimento HTML -> Parseamento -> Extração -> Armazenamento.\n",
    "\n",
    "**Ferramentas:** `requests` (requisições), `BeautifulSoup` (parseamento).\n",
    "\n",
    "⚠️ **IMPORTANTE: Considerações Éticas e Legais** ⚠️\n",
    "*   **Verifique `robots.txt`:** Respeite as regras do site.\n",
    "*   **Leia os Termos de Serviço (ToS):** Veja se o scraping é permitido.\n",
    "*   **Não sobrecarregue:** Use intervalos (`time.sleep()`) entre requisições.\n",
    "*   **Identifique-se:** Use um `User-Agent` descritivo.\n",
    "*   **LGPD:** Cuidado com dados pessoais."
   ]
  },
  {
   "cell_type": "code",
   "metadata": {},
   "source": [
    "url = 'https://diegopatr.github.io/data-science-course/data-science-course/_attachments/tabela_dados.html'\n",
    "\n",
    "df_scraped = pd.DataFrame() # Inicializar DataFrame vazio\n",
    "\n",
    "print(f\"Acessando a URL: {url}\")\n",
    "\n",
    "try:\n",
    "    # 1. Requisição HTTP\n",
    "    headers = {'User-Agent': 'MeuBotDeEstudo/1.0 (contato@exemplo.com)'} # Boa prática: identificar-se\n",
    "    response = requests.get(url, timeout=10, headers=headers)\n",
    "    response.raise_for_status() # Verifica erros (4xx, 5xx)\n",
    "    print(f\"Status Code: {response.status_code} - Conexão OK!\")\n",
    "\n",
    "    # 2. Parseamento HTML\n",
    "    soup = BeautifulSoup(response.text, 'lxml')\n",
    "\n",
    "    # 3. Extração (procurando a tabela com id='dados_principais')\n",
    "    tabela = soup.find('table', id='dados_principais')\n",
    "\n",
    "    if tabela:\n",
    "        headers_scraped = [th.text.strip() for th in tabela.find_all('th')]\n",
    "        rows = []\n",
    "        for tr in tabela.find_all('tr')[1:]: # Pula header row\n",
    "            cells = [td.text.strip() for td in tr.find_all('td')]\n",
    "            if len(cells) == len(headers_scraped):\n",
    "                 rows.append(cells)\n",
    "\n",
    "        # 4. Armazenamento em DataFrame\n",
    "        df_scraped = pd.DataFrame(rows, columns=headers_scraped)\n",
    "        print(\"\\nDados extraídos via Web Scraping:\")\n",
    "        display(df_scraped)\n",
    "    else:\n",
    "        print(f\"Tabela com id 'dados_principais' não encontrada em {url}\")\n",
    "\n",
    "except requests.exceptions.ConnectionError as e:\n",
    "    print(f\"\\nERRO DE CONEXÃO: Verifique se URL {url} está disponível. Detalhe: {e}\")\n",
    "except requests.exceptions.RequestException as e:\n",
    "    print(f\"\\nERRO NA REQUISIÇÃO HTTP para {url}: {e}\")\n",
    "except Exception as e:\n",
    "    print(f\"\\nERRO INESPERADO durante o scraping: {e}\")"
   ],
   "outputs": [],
   "execution_count": null
  },
  {
   "cell_type": "markdown",
   "metadata": {},
   "source": [
    "## 4. Importação de Dados\n",
    "\n",
    "Carregar dados para DataFrames Pandas. O controle dos parâmetros de leitura é essencial para lidar com dados reais.\n",
    "\n",
    "**Parâmetros Comuns:**\n",
    "*   `filepath_or_buffer`: Caminho/URL do arquivo.\n",
    "*   `sep`/`delimiter`: Separador de campos (CSV, TSV).\n",
    "*   `header`: Linha do cabeçalho.\n",
    "*   `names`: Nomes das colunas (se não houver header).\n",
    "*   `dtype`: *Especificar tipos de dados* (muito recomendado!).\n",
    "*   `na_values`: Valores a serem tratados como nulos (NaN).\n",
    "*   `parse_dates`: Colunas a serem convertidas para data/hora.\n",
    "*   `encoding`: Codificação do arquivo (`utf-8`, `latin-1`, etc.).\n",
    "*   `skiprows`, `nrows`: Pular/limitar linhas.\n",
    "*   `decimal`, `thousands`: Separadores numéricos não padrão.\n",
    "*   `on_bad_lines`: Como tratar linhas com erro."
   ]
  },
  {
   "cell_type": "markdown",
   "metadata": {},
   "source": "### 4.1. Importando CSV com Parâmetros"
  },
  {
   "cell_type": "code",
   "metadata": {},
   "source": [
    "df_csv = pd.DataFrame() # Limpar/inicializar\n",
    "try:\n",
    "    # Definindo tipos e valores nulos explicitamente\n",
    "    col_types = {\n",
    "        'ID_Cliente': str,\n",
    "        'Nome': str,\n",
    "        'Idade': 'Int64', # Inteiro que suporta NaN\n",
    "        'Cidade': str,\n",
    "        # 'Data_Cadastro': str, # Deixar Pandas inferir ou parsear depois\n",
    "        'Valor_Gasto': float\n",
    "    }\n",
    "    missing_values = [\"\", \"NA\", \"N/A\", \"--\"] # O que considerar NaN\n",
    "\n",
    "    df_csv = pd.read_csv(\n",
    "        'data/arquivo_dados.csv',\n",
    "        sep=',',\n",
    "        encoding='utf-8',\n",
    "        header=0,              # Primeira linha é o cabeçalho\n",
    "        dtype=col_types,       # Especificar tipos\n",
    "        na_values=missing_values, # Definir nulos\n",
    "        parse_dates=['Data_Cadastro'], # Tentar converter esta coluna para datetime\n",
    "        # dayfirst=False       # Opcional: Ajuda a interpretar datas ambíguas (DD/MM vs MM/DD)\n",
    "    )\n",
    "    print(\"DataFrame carregado do CSV:\")\n",
    "    display(df_csv)\n",
    "    print(\"\\nInformações do DataFrame:\")\n",
    "    df_csv.info()\n",
    "\n",
    "except FileNotFoundError:\n",
    "    print(\"Erro: Arquivo 'arquivo_dados.csv' não encontrado.\")\n",
    "except pd.errors.ParserError as e:\n",
    "     print(f\"Erro de parseamento no CSV: {e}\")\n",
    "except Exception as e:\n",
    "    print(f\"Erro inesperado ao ler o CSV: {e}\")"
   ],
   "outputs": [],
   "execution_count": null
  },
  {
   "cell_type": "markdown",
   "metadata": {},
   "source": "### 4.2. Importando JSON"
  },
  {
   "cell_type": "code",
   "metadata": {},
   "source": [
    "df_json = pd.DataFrame() # Limpar/inicializar\n",
    "try:\n",
    "    # 'orient=records' espera uma lista de dicionários JSON\n",
    "    df_json = pd.read_json('data/arquivo_dados.json', orient='records',\n",
    "                           dtype={'ID_Cliente':str, 'Quantidade':'Int64', 'Preco_Unitario':float}) # Especificar tipos!\n",
    "    print(\"DataFrame carregado do JSON:\")\n",
    "    display(df_json)\n",
    "    df_json.info()\n",
    "except FileNotFoundError:\n",
    "    print(\"Erro: Arquivo 'arquivo_dados.json' não encontrado.\")\n",
    "except ValueError as e:\n",
    "    print(f\"Erro ao parsear o JSON (verifique formato/orient): {e}\")\n",
    "except Exception as e:\n",
    "    print(f\"Erro inesperado ao ler o JSON: {e}\")"
   ],
   "outputs": [],
   "execution_count": null
  },
  {
   "cell_type": "markdown",
   "metadata": {},
   "source": [
    "### 4.3. Importando Excel\n",
    "\n",
    "A leitura de arquivos Excel (`.xlsx`, `.xls`) requer a instalação da biblioteca `openpyxl` (para `.xlsx`) ou `xlrd` (para `.xls` mais antigos)."
   ]
  },
  {
   "cell_type": "code",
   "metadata": {},
   "source": [
    "excel_file_path = 'data/planilha_dados.xlsx'\n",
    "if os.path.exists(excel_file_path):\n",
    "     df_excel = pd.DataFrame()\n",
    "     try:\n",
    "          df_excel = pd.read_excel(excel_file_path,\n",
    "                                   sheet_name='DadosExemplo', # Nome ou índice da aba\n",
    "                                   dtype={'col1': int, 'col2': float}, # Especificar tipos\n",
    "                                   na_values=['Nulo'])\n",
    "          print(\"\\nDataFrame carregado do Excel:\")\n",
    "          display(df_excel.head())\n",
    "          df_excel.info()\n",
    "     except FileNotFoundError:\n",
    "          print(f\"Erro: Arquivo '{excel_file_path}' não encontrado.\")\n",
    "     except ImportError:\n",
    "          print(\"Erro: Instale 'openpyxl' (`pip install openpyxl` ou `!pip install openpyxl`) para ler arquivos .xlsx.\")\n",
    "     except Exception as e:\n",
    "          print(f\"Erro ao ler o arquivo Excel: {e}\")\n",
    "else:\n",
    "    print(\"\\nArquivo Excel não existe e não pôde ser criado, pulando leitura.\")"
   ],
   "outputs": [],
   "execution_count": null
  },
  {
   "cell_type": "markdown",
   "metadata": {},
   "source": "### 4.4. Importando de Banco de Dados SQLite"
  },
  {
   "cell_type": "code",
   "metadata": {},
   "source": [
    "db_filename = 'data/meu_banco.db'\n",
    "table_name = 'minha_tabela'\n",
    "\n",
    "conn_read = None\n",
    "df_sql = pd.DataFrame() # Limpar/inicializar\n",
    "try:\n",
    "    conn_read = sqlite3.connect(db_filename)\n",
    "    # Query para selecionar colunas específicas com uma condição\n",
    "    query = f\"SELECT id, coluna1, coluna2, coluna_numerica, condicao FROM {table_name} WHERE condicao = 'valor';\"\n",
    "    print(f\"\\nExecutando query: {query}\")\n",
    "\n",
    "    # Ler dados diretamente para um DataFrame\n",
    "    df_sql = pd.read_sql_query(query, conn_read,\n",
    "                               index_col='id', # Usar a coluna id do SQL como índice do DataFrame\n",
    "                               parse_dates=None, # Nenhuma coluna de data para parsear neste exemplo\n",
    "                               dtype={'coluna_numerica': float} # Especificar tipo para garantir\n",
    "                              )\n",
    "\n",
    "    print(\"\\nDataFrame carregado do Banco de Dados SQL:\")\n",
    "    display(df_sql)\n",
    "    df_sql.info()\n",
    "\n",
    "except sqlite3.Error as e:\n",
    "    print(f\"Erro ao executar a consulta SQL ou conectar: {e}\")\n",
    "except pd.io.sql.DatabaseError as e:\n",
    "     print(f\"Erro do Pandas ao ler SQL: {e}\")\n",
    "except Exception as e:\n",
    "    print(f\"Erro inesperado na leitura do banco de dados: {e}\")\n",
    "finally:\n",
    "    if conn_read:\n",
    "        conn_read.close()\n",
    "        print(\"\\nConexão de leitura com o banco de dados fechada.\")"
   ],
   "outputs": [],
   "execution_count": null
  },
  {
   "cell_type": "markdown",
   "metadata": {},
   "source": "### 4.5. Importando Arquivos de Largura Fixa (FWF)"
  },
  {
   "cell_type": "code",
   "metadata": {},
   "source": [
    "df_fwf = pd.DataFrame() # Limpar/inicializar\n",
    "try:\n",
    "    # Especificar larguras ou posições\n",
    "    # widths = [3, 10, 8, 1] # IDs de 3 chars, Nome 10, Valor 8, Status 1\n",
    "    col_specs = [(0, 3), (3, 13), (13, 21), (21, 22)] # [start, end)\n",
    "    col_names = ['ID', 'Nome', 'Valor', 'Status']\n",
    "\n",
    "    df_fwf = pd.read_fwf(\n",
    "        'data/arquivo_largura_fixa.txt',\n",
    "        colspecs=col_specs,\n",
    "        names=col_names,\n",
    "        header=None, # Nomes definidos em 'names'\n",
    "        skiprows=1,  # Pular linha de cabeçalho original\n",
    "        encoding='utf-8',\n",
    "        dtype={'ID': str, 'Valor': float, 'Status': str} # Especificar tipos\n",
    "    )\n",
    "    print(\"DataFrame carregado de arquivo de largura fixa (FWF):\")\n",
    "    display(df_fwf)\n",
    "    df_fwf.info()\n",
    "\n",
    "except FileNotFoundError:\n",
    "    print(\"Erro: Arquivo 'arquivo_largura_fixa.txt' não encontrado.\")\n",
    "except Exception as e:\n",
    "    print(f\"Erro ao ler o arquivo FWF: {e}\")"
   ],
   "outputs": [],
   "execution_count": null
  },
  {
   "cell_type": "markdown",
   "metadata": {},
   "source": [
    "### 4.6. Exportação de Dados\n",
    "\n",
    "O Pandas permite salvar DataFrames em diversos formatos."
   ]
  },
  {
   "cell_type": "code",
   "metadata": {},
   "source": [
    "# Exemplo usando o df_csv que carregamos (se ele foi carregado com sucesso)\n",
    "if not df_csv.empty:\n",
    "    try:\n",
    "        # Salvar em CSV com separador ; e decimal ,\n",
    "        df_csv.to_csv('output/dados_exportados.csv', index=False, sep=';', decimal=',', encoding='utf-8')\n",
    "        print(\"Arquivo 'dados_exportados.csv' salvo com sucesso (separador ';', decimal ',').\")\n",
    "        \n",
    "        # Salvar em Excel (requer openpyxl)\n",
    "        # df_csv.to_excel('dados_exportados.xlsx', index=False, sheet_name='Clientes')\n",
    "        # print(\"Arquivo 'dados_exportados.xlsx' salvo com sucesso.\")\n",
    "    except Exception as e:\n",
    "        print(f\"Erro ao exportar dados: {e}\")\n",
    "else:\n",
    "    print(\"DataFrame df_csv está vazio, exportação pulada.\")"
   ],
   "outputs": [],
   "execution_count": null
  },
  {
   "cell_type": "markdown",
   "metadata": {},
   "source": [
    "## 5. Organização e Transformação Estrutural (Data Tidying)\n",
    "\n",
    "Após importar, organizamos e transformamos a estrutura dos dados para o formato **Tidy Data**, facilitando a análise.\n",
    "\n",
    "**Princípios Tidy:**\n",
    "1.  Cada variável em sua coluna.\n",
    "2.  Cada observação em sua linha.\n",
    "3.  Cada tipo de unidade observacional em sua tabela."
   ]
  },
  {
   "cell_type": "markdown",
   "metadata": {},
   "source": [
    "### 5.1. Inspeção Inicial\n",
    "\n",
    "Revisitar o DataFrame `df_csv` (se carregado) para verificar estrutura e conteúdo."
   ]
  },
  {
   "cell_type": "code",
   "metadata": {},
   "source": [
    "if not df_csv.empty:\n",
    "    print(\"Revisando df_csv:\")\n",
    "    print(\"Dimensões:\", df_csv.shape)\n",
    "    print(\"\\nTipos de Dados:\\n\", df_csv.dtypes)\n",
    "    print(\"\\nCabeçalho:\")\n",
    "    display(df_csv.head())\n",
    "    print(\"\\nValores Nulos por Coluna:\\n\", df_csv.isnull().sum())\n",
    "    print(\"\\nLinhas Duplicadas:\", df_csv.duplicated().sum())\n",
    "    print(\"\\nResumo Estatístico (Numérico):\")\n",
    "    display(df_csv.describe(include=[np.number]))\n",
    "    print(\"\\nResumo Estatístico (Datas):\")\n",
    "    display(df_csv.describe(include=['datetime64[ns]']))\n",
    "else:\n",
    "    print(\"df_csv não foi carregado ou está vazio.\")"
   ],
   "outputs": [],
   "execution_count": null
  },
  {
   "cell_type": "markdown",
   "metadata": {},
   "source": [
    "### 5.2. Renomear Colunas\n",
    "\n",
    "Padronizar nomes de colunas."
   ]
  },
  {
   "cell_type": "code",
   "metadata": {},
   "source": [
    "if not df_csv.empty:\n",
    "    df_renomeado = df_csv.copy() # Trabalhar com uma cópia\n",
    "\n",
    "    # Método 1: Atribuição direta (bom para renomear todas, cuidado com a ordem)\n",
    "    # df_renomeado.columns = ['id_cliente', 'nome_cliente', 'idade', 'cidade_residencia', 'data_registro', 'gasto_total']\n",
    "\n",
    "    # Método 2: rename() (bom para renomear algumas)\n",
    "    df_renomeado = df_renomeado.rename(columns={\n",
    "        'ID_Cliente': 'id_cli', \n",
    "        'Nome': 'nome', \n",
    "        'Idade': 'idade', # Manter 'idade' como exemplo\n",
    "        'Cidade': 'cidade',\n",
    "        'Valor_Gasto': 'valor',\n",
    "        'Data_Cadastro': 'dt_cadastro'\n",
    "    })\n",
    "\n",
    "    print(\"Colunas após renomear:\")\n",
    "    print(df_renomeado.columns)\n",
    "    display(df_renomeado.head(2))\n",
    "else:\n",
    "    df_renomeado = pd.DataFrame() # Inicializa vazio se df_csv não existe\n",
    "    print(\"df_csv vazio, pulando renomeação.\")"
   ],
   "outputs": [],
   "execution_count": null
  },
  {
   "cell_type": "markdown",
   "metadata": {},
   "source": [
    "### 5.3. Ajustar Tipos de Dados (`dtypes`)\n",
    "\n",
    "Converter colunas para tipos apropriados, se não foram ajustados na importação."
   ]
  },
  {
   "cell_type": "code",
   "metadata": {},
   "source": [
    "if not df_renomeado.empty:\n",
    "    df_tipos = df_renomeado.copy()\n",
    "    print(\"Tipos ANTES das conversões:\")\n",
    "    df_tipos.info()\n",
    "\n",
    "    # Exemplo: Se 'valor' fosse string (object), converteríamos:\n",
    "    # df_tipos['valor'] = df_tipos['valor'].astype(str) # Forçar para string para o exemplo\n",
    "    # df_tipos['valor'] = pd.to_numeric(df_tipos['valor'], errors='coerce')\n",
    "\n",
    "    # Exemplo: Converter 'idade' (Int64) para float (pode perder informação se houver NaN)\n",
    "    # Nota: A conversão Int64 -> float transforma <NA> em NaN\n",
    "    try:\n",
    "         df_tipos['idade'] = df_tipos['idade'].astype(float)\n",
    "    except Exception as e:\n",
    "         print(f\"Erro ao converter idade para float: {e}\")\n",
    "\n",
    "    # Exemplo: Se 'dt_cadastro' fosse string, converteríamos:\n",
    "    # df_tipos['dt_cadastro'] = df_tipos['dt_cadastro'].astype(str)\n",
    "    # df_tipos['dt_cadastro'] = pd.to_datetime(df_tipos['dt_cadastro'], errors='coerce', format='%Y-%m-%d')\n",
    "\n",
    "    print(\"\\nTipos DEPOIS das conversões:\")\n",
    "    df_tipos.info()\n",
    "    display(df_tipos.head(3))\n",
    "else:\n",
    "    df_tipos = pd.DataFrame()\n",
    "    print(\"df_renomeado vazio, pulando ajuste de tipos.\")"
   ],
   "outputs": [],
   "execution_count": null
  },
  {
   "cell_type": "markdown",
   "metadata": {},
   "source": [
    "### 5.4. Reshaping: Wide vs Long Format\n",
    "\n",
    "*   **Wide:** Observação espalhada em múltiplas colunas (e.g., `vendas_2022`, `vendas_2023`).\n",
    "*   **Long:** Formato Tidy, cada observação em uma linha.\n",
    "\n",
    "#### `pd.melt()` (Wide para Long - Como `gather`)"
   ]
  },
  {
   "cell_type": "code",
   "metadata": {},
   "source": [
    "df_wide = pd.DataFrame({\n",
    "    'Aluno': ['João', 'Maria', 'Pedro'],\n",
    "    'Nota_P1': [7.5, 8.0, 6.0],\n",
    "    'Nota_P2': [8.5, 7.0, 9.0],\n",
    "    'Nota_Trabalho': [9.0, 9.5, 8.0]\n",
    "})\n",
    "print(\"DataFrame Wide (Original):\")\n",
    "display(df_wide)\n",
    "\n",
    "df_long = pd.melt(\n",
    "    df_wide,\n",
    "    id_vars=['Aluno'],                     # Coluna(s) identificadora(s)\n",
    "    value_vars=['Nota_P1', 'Nota_P2', 'Nota_Trabalho'], # Colunas a empilhar\n",
    "    var_name='Avaliacao',                # Nome da nova coluna com nomes antigos\n",
    "    value_name='Nota'                    # Nome da nova coluna com valores\n",
    ")\n",
    "\n",
    "print(\"\\nDataFrame Long (Após melt):\")\n",
    "# sort_values ajuda a visualizar a transformação\n",
    "display(df_long.sort_values(by=['Aluno', 'Avaliacao']).reset_index(drop=True))"
   ],
   "outputs": [],
   "execution_count": null
  },
  {
   "cell_type": "markdown",
   "metadata": {},
   "source": [
    "#### `df.pivot_table()` (Long para Wide - Como `spread`)\n",
    "\n",
    "Usaremos `pivot_table` que é mais flexível que `pivot` pois permite agregação se houver linhas duplicadas para a mesma combinação de índice/coluna."
   ]
  },
  {
   "cell_type": "code",
   "metadata": {},
   "source": [
    "# Usando o df_long do exemplo anterior\n",
    "print(\"DataFrame Long (Original):\")\n",
    "display(df_long.head())\n",
    "\n",
    "try:\n",
    "    df_pivoted = pd.pivot_table(\n",
    "        df_long,\n",
    "        index='Aluno',      # Coluna(s) que formarão o novo índice\n",
    "        columns='Avaliacao', # Coluna cujos valores virarão novas colunas\n",
    "        values='Nota',      # Coluna com os valores a preencher\n",
    "        aggfunc='first'     # Função de agregação (se houver duplicatas, 'first' pega o primeiro valor)\n",
    "                            # Se não houver duplicatas, a agregação não tem efeito prático além de permitir o uso.\n",
    "    )\n",
    "    # pivot_table coloca a coluna 'index' como índice, reset_index() a transforma de volta em coluna\n",
    "    df_pivoted = df_pivoted.reset_index()\n",
    "    # A ordem das colunas pode mudar, vamos reordenar para comparar com o original\n",
    "    df_pivoted = df_pivoted[['Aluno', 'Nota_P1', 'Nota_P2', 'Nota_Trabalho']]\n",
    "    # Remover o nome do índice das colunas (gerado pelo pivot_table)\n",
    "    df_pivoted.columns.name = None\n",
    "\n",
    "    print(\"\\nDataFrame Wide (Após pivot_table):\")\n",
    "    display(df_pivoted)\n",
    "\n",
    "except Exception as e:\n",
    "    print(f\"Erro ao executar pivot_table: {e}\")"
   ],
   "outputs": [],
   "execution_count": null
  },
  {
   "cell_type": "markdown",
   "metadata": {},
   "source": [
    "### 5.5. Separar e Unir Colunas\n",
    "\n",
    "#### `str.split()` (Separar - Como `separate`)"
   ]
  },
  {
   "cell_type": "code",
   "metadata": {},
   "source": [
    "df_sep = pd.DataFrame({'Codigo_Completo': ['PROD-A-10', 'PROD-B-25', 'SERV-C-05', 'PROD-D']}) # Adicionado um caso com menos partes\n",
    "print(\"DataFrame Original:\")\n",
    "display(df_sep)\n",
    "\n",
    "# Separa a coluna 'Codigo_Completo' em três novas colunas usando '-' como delimitador\n",
    "# expand=True cria novas colunas no DataFrame\n",
    "# O número de colunas criadas é baseado no máximo de splits encontrados\n",
    "# Se uma linha tem menos splits, as colunas extras ficam com None\n",
    "split_cols = df_sep['Codigo_Completo'].str.split('-', expand=True)\n",
    "\n",
    "# Renomear as colunas geradas automaticamente (0, 1, 2...)\n",
    "split_cols.columns = [f'parte_{i+1}' for i in range(split_cols.shape[1])]\n",
    "\n",
    "# Juntar as novas colunas ao DataFrame original (ou substituir)\n",
    "df_sep = pd.concat([df_sep, split_cols], axis=1)\n",
    "\n",
    "print(\"\\nDataFrame após split:\")\n",
    "display(df_sep)"
   ],
   "outputs": [],
   "execution_count": null
  },
  {
   "cell_type": "markdown",
   "metadata": {},
   "source": [
    "#### Unir Colunas (Como `unite`)\n",
    "\n",
    "Geralmente feito com concatenação de strings."
   ]
  },
  {
   "cell_type": "code",
   "metadata": {},
   "source": [
    "df_unir = pd.DataFrame({\n",
    "    'Prefixo': ['USR', 'ADM', 'USR'],\n",
    "    'ID_Num': [101, 5, 22],\n",
    "    'Status': ['Ativo', 'Inativo', 'Ativo']\n",
    "})\n",
    "print(\"DataFrame Original:\")\n",
    "display(df_unir)\n",
    "\n",
    "# Unir colunas para formar um identificador único\n",
    "# Importante converter números para string antes de concatenar\n",
    "# str.zfill(3) garante que o ID tenha 3 dígitos com zeros à esquerda\n",
    "df_unir['ID_Completo'] = df_unir['Prefixo'] + '_' + \\\n",
    "                        df_unir['ID_Num'].astype(str).str.zfill(3) + '_' + \\\n",
    "                        df_unir['Status']\n",
    "\n",
    "print(\"\\nDataFrame após unir colunas:\")\n",
    "display(df_unir)"
   ],
   "outputs": [],
   "execution_count": null
  },
  {
   "cell_type": "markdown",
   "metadata": {},
   "source": [
    "## 6. Integração no Fluxo de Trabalho\n",
    "\n",
    "Estas etapas (Coleta -> Importação -> Organização/Transformação) são interconectadas e muitas vezes iterativas. O objetivo é obter um DataFrame *Tidy* pronto para as próximas fases.\n",
    "\n",
    "Lembrando:\n",
    "\n",
    "<svg aria-roledescription=\"flowchart-v2\" role=\"graphics-document document\" viewBox=\"0 0 1128.484375 169.75\" style=\"max-width: 1128.484375px;\" class=\"flowchart\" xmlns=\"http://www.w3.org/2000/svg\" width=\"100%\" id=\"export-svg\"><style xmlns=\"http://www.w3.org/1999/xhtml\">@import url(\"https://cdnjs.cloudflare.com/ajax/libs/font-awesome/6.2.0/css/all.min.css\"); p {margin: 0;}</style><style>#export-svg{font-family:arial,sans-serif;font-size:14px;fill:#333;}@keyframes edge-animation-frame{from{stroke-dashoffset:0;}}@keyframes dash{to{stroke-dashoffset:0;}}#export-svg .edge-animation-slow{stroke-dasharray:9,5!important;stroke-dashoffset:900;animation:dash 50s linear infinite;stroke-linecap:round;}#export-svg .edge-animation-fast{stroke-dasharray:9,5!important;stroke-dashoffset:900;animation:dash 20s linear infinite;stroke-linecap:round;}#export-svg .error-icon{fill:#552222;}#export-svg .error-text{fill:#552222;stroke:#552222;}#export-svg .edge-thickness-normal{stroke-width:1px;}#export-svg .edge-thickness-thick{stroke-width:3.5px;}#export-svg .edge-pattern-solid{stroke-dasharray:0;}#export-svg .edge-thickness-invisible{stroke-width:0;fill:none;}#export-svg .edge-pattern-dashed{stroke-dasharray:3;}#export-svg .edge-pattern-dotted{stroke-dasharray:2;}#export-svg .marker{fill:#333333;stroke:#333333;}#export-svg .marker.cross{stroke:#333333;}#export-svg svg{font-family:arial,sans-serif;font-size:14px;}#export-svg p{margin:0;}#export-svg .label{font-family:arial,sans-serif;color:#333;}#export-svg .cluster-label text{fill:#333;}#export-svg .cluster-label span{color:#333;}#export-svg .cluster-label span p{background-color:transparent;}#export-svg .label text,#export-svg span{fill:#333;color:#333;}#export-svg .node rect,#export-svg .node circle,#export-svg .node ellipse,#export-svg .node polygon,#export-svg .node path{fill:#ECECFF;stroke:#B8B8FF;stroke-width:1px;}#export-svg .rough-node .label text,#export-svg .node .label text,#export-svg .image-shape .label,#export-svg .icon-shape .label{text-anchor:middle;}#export-svg .node .katex path{fill:#000;stroke:#000;stroke-width:1px;}#export-svg .rough-node .label,#export-svg .node .label,#export-svg .image-shape .label,#export-svg .icon-shape .label{text-align:center;}#export-svg .node.clickable{cursor:pointer;}#export-svg .root .anchor path{fill:#333333!important;stroke-width:0;stroke:#333333;}#export-svg .arrowheadPath{fill:#333333;}#export-svg .edgePath .path{stroke:#333333;stroke-width:1px;}#export-svg .flowchart-link{stroke:#333333;fill:none;}#export-svg .edgeLabel{background-color:rgba(232,232,232, 0.8);text-align:center;}#export-svg .edgeLabel p{background-color:rgba(232,232,232, 0.8);}#export-svg .edgeLabel rect{opacity:0.5;background-color:rgba(232,232,232, 0.8);fill:rgba(232,232,232, 0.8);}#export-svg .labelBkg{background-color:rgba(232, 232, 232, 0.5);}#export-svg .cluster rect{fill:#ffffde;stroke:#aaaa33;stroke-width:1px;}#export-svg .cluster text{fill:#333;}#export-svg .cluster span{color:#333;}#export-svg div.mermaidTooltip{position:absolute;text-align:center;max-width:200px;padding:2px;font-family:arial,sans-serif;font-size:12px;background:hsl(80, 100%, 96.2745098039%);border:1px solid #aaaa33;border-radius:2px;pointer-events:none;z-index:100;}#export-svg .flowchartTitleText{text-anchor:middle;font-size:18px;fill:#333;}#export-svg rect.text{fill:none;stroke-width:0;}#export-svg .icon-shape,#export-svg .image-shape{background-color:rgba(232,232,232, 0.8);text-align:center;}#export-svg .icon-shape p,#export-svg .image-shape p{background-color:rgba(232,232,232, 0.8);padding:2px;}#export-svg .icon-shape rect,#export-svg .image-shape rect{opacity:0.5;background-color:rgba(232,232,232, 0.8);fill:rgba(232,232,232, 0.8);}#export-svg .node .neo-node{stroke:#B8B8FF;}#export-svg [data-look=\"neo\"].node rect,#export-svg [data-look=\"neo\"].cluster rect,#export-svg [data-look=\"neo\"].node polygon{stroke:#B8B8FF;filter:drop-shadow( 1px 2px 2px rgba(185,185,185,1));}#export-svg [data-look=\"neo\"].node path{stroke:#B8B8FF;stroke-width:1;}#export-svg [data-look=\"neo\"].node .outer-path{filter:drop-shadow( 1px 2px 2px rgba(185,185,185,1));}#export-svg [data-look=\"neo\"].node .neo-line path{stroke:#B8B8FF;filter:none;}#export-svg [data-look=\"neo\"].node circle{stroke:#B8B8FF;filter:drop-shadow( 1px 2px 2px rgba(185,185,185,1));}#export-svg [data-look=\"neo\"].node circle .state-start{fill:#000000;}#export-svg [data-look=\"neo\"].statediagram-cluster rect{fill:#ECECFF;stroke:#B8B8FF;stroke-width:1;}#export-svg [data-look=\"neo\"].icon-shape .icon{fill:#B8B8FF;filter:drop-shadow( 1px 2px 2px rgba(185,185,185,1));}#export-svg [data-look=\"neo\"].icon-shape .icon-neo path{stroke:#B8B8FF;filter:drop-shadow( 1px 2px 2px rgba(185,185,185,1));}#export-svg :root{--mermaid-font-family:\"trebuchet ms\",verdana,arial,sans-serif;}</style><g><marker orient=\"auto\" markerHeight=\"14\" markerWidth=\"10.5\" markerUnits=\"userSpaceOnUse\" refY=\"7\" refX=\"7.75\" viewBox=\"0 0 11.5 14\" class=\"marker flowchart-v2\" id=\"export-svg_flowchart-v2-pointEnd\"><path style=\"stroke-width: 0; stroke-dasharray: 1, 0;\" class=\"arrowMarkerPath\" d=\"M 0 0 L 11.5 7 L 0 14 z\"/></marker><marker orient=\"auto\" markerHeight=\"14\" markerWidth=\"11.5\" markerUnits=\"userSpaceOnUse\" refY=\"7\" refX=\"4\" viewBox=\"0 0 11.5 14\" class=\"marker flowchart-v2\" id=\"export-svg_flowchart-v2-pointStart\"><polygon style=\"stroke-width: 0; stroke-dasharray: 1, 0;\" class=\"arrowMarkerPath\" points=\"0,7 11.5,14 11.5,0\"/></marker><marker orient=\"auto\" markerHeight=\"14\" markerWidth=\"10.5\" markerUnits=\"userSpaceOnUse\" refY=\"7\" refX=\"11.5\" viewBox=\"0 0 11.5 14\" class=\"marker flowchart-v2\" id=\"export-svg_flowchart-v2-pointEnd-margin\"><path style=\"stroke-width: 0; stroke-dasharray: 1, 0;\" class=\"arrowMarkerPath\" d=\"M 0 0 L 11.5 7 L 0 14 z\"/></marker><marker orient=\"auto\" markerHeight=\"14\" markerWidth=\"11.5\" markerUnits=\"userSpaceOnUse\" refY=\"7\" refX=\"1\" viewBox=\"0 0 11.5 14\" class=\"marker flowchart-v2\" id=\"export-svg_flowchart-v2-pointStart-margin\"><polygon style=\"stroke-width: 0; stroke-dasharray: 1, 0;\" class=\"arrowMarkerPath\" points=\"0,7 11.5,14 11.5,0\"/></marker><marker orient=\"auto\" markerHeight=\"14\" markerWidth=\"14\" markerUnits=\"userSpaceOnUse\" refX=\"10.75\" refY=\"5\" viewBox=\"0 0 10 10\" class=\"marker flowchart-v2\" id=\"export-svg_flowchart-v2-circleEnd\"><circle style=\"stroke-width: 0; stroke-dasharray: 1, 0;\" class=\"arrowMarkerPath\" r=\"5\" cy=\"5\" cx=\"5\"/></marker><marker orient=\"auto\" markerHeight=\"14\" markerWidth=\"14\" markerUnits=\"userSpaceOnUse\" refY=\"5\" refX=\"0\" viewBox=\"0 0 10 10\" class=\"marker flowchart-v2\" id=\"export-svg_flowchart-v2-circleStart\"><circle style=\"stroke-width: 0; stroke-dasharray: 1, 0;\" class=\"arrowMarkerPath\" r=\"5\" cy=\"5\" cx=\"5\"/></marker><marker orient=\"auto\" markerHeight=\"14\" markerWidth=\"14\" markerUnits=\"userSpaceOnUse\" refX=\"12.25\" refY=\"5\" viewBox=\"0 0 10 10\" class=\"marker flowchart-v2\" id=\"export-svg_flowchart-v2-circleEnd-margin\"><circle style=\"stroke-width: 0; stroke-dasharray: 1, 0;\" class=\"arrowMarkerPath\" r=\"5\" cy=\"5\" cx=\"5\"/></marker><marker orient=\"auto\" markerHeight=\"14\" markerWidth=\"14\" markerUnits=\"userSpaceOnUse\" refY=\"5\" refX=\"-2\" viewBox=\"0 0 10 10\" class=\"marker flowchart-v2\" id=\"export-svg_flowchart-v2-circleStart-margin\"><circle style=\"stroke-width: 0; stroke-dasharray: 1, 0;\" class=\"arrowMarkerPath\" r=\"5\" cy=\"5\" cx=\"5\"/></marker><marker orient=\"auto\" markerHeight=\"12\" markerWidth=\"12\" markerUnits=\"userSpaceOnUse\" refY=\"7.5\" refX=\"17.7\" viewBox=\"0 0 15 15\" class=\"marker cross flowchart-v2\" id=\"export-svg_flowchart-v2-crossEnd\"><path style=\"stroke-width: 2.5;\" class=\"arrowMarkerPath\" d=\"M 1,1 L 14,14 M 1,14 L 14,1\"/></marker><marker orient=\"auto\" markerHeight=\"12\" markerWidth=\"12\" markerUnits=\"userSpaceOnUse\" refY=\"7.5\" refX=\"-3.5\" viewBox=\"0 0 15 15\" class=\"marker cross flowchart-v2\" id=\"export-svg_flowchart-v2-crossStart\"><path style=\"stroke-width: 2.5; stroke-dasharray: 1, 0;\" class=\"arrowMarkerPath\" d=\"M 1,1 L 14,14 M 1,14 L 14,1\"/></marker><marker orient=\"auto\" markerHeight=\"12\" markerWidth=\"12\" markerUnits=\"userSpaceOnUse\" refY=\"7.5\" refX=\"17.7\" viewBox=\"0 0 15 15\" class=\"marker cross flowchart-v2\" id=\"export-svg_flowchart-v2-crossEnd-margin\"><path style=\"stroke-width: 2.5;\" class=\"arrowMarkerPath\" d=\"M 1,1 L 14,14 M 1,14 L 14,1\"/></marker><marker orient=\"auto\" markerHeight=\"12\" markerWidth=\"12\" markerUnits=\"userSpaceOnUse\" refY=\"7.5\" refX=\"-3.5\" viewBox=\"0 0 15 15\" class=\"marker cross flowchart-v2\" id=\"export-svg_flowchart-v2-crossStart-margin\"><path style=\"stroke-width: 2.5; stroke-dasharray: 1, 0;\" class=\"arrowMarkerPath\" d=\"M 1,1 L 14,14 M 1,14 L 14,1\"/></marker><g class=\"root\"><g class=\"clusters\"><g data-look=\"neo\" data-et=\"cluster\" data-id=\"Ciclo de Exploração e Modelagem\" id=\"Ciclo de Exploração e Modelagem\" class=\"cluster\"><rect height=\"153.75\" width=\"491.140625\" y=\"8\" x=\"461.734375\" style=\"fill:#ffffde\"/><g transform=\"translate(681.234375, 8)\" class=\"cluster-label\"><foreignObject height=\"21\" width=\"52.140625\"><div xmlns=\"http://www.w3.org/1999/xhtml\" style=\"display: table-cell; white-space: normal; line-height: 1.5; max-width: 200px; text-align: center;\"><span class=\"nodeLabel\"><p>Explorar</p></span></div></foreignObject></g></g></g><g class=\"edgePaths\"><path marker-end=\"url(#export-svg_flowchart-v2-pointEnd-margin)\" data-points=\"W3sieCI6MTU0LjQwNjI1LCJ5Ijo5NC4yNX0seyJ4IjoxNzkuNDA2MjUsInkiOjk0LjI1fSx7IngiOjIwNC40MDYyNSwieSI6OTQuMjV9XQ==\" data-id=\"L_A_B_0\" data-et=\"edge\" data-edge=\"true\" style=\"stroke-dasharray: 0 0 37 9; stroke-dashoffset: 0;;\" class=\"edge-thickness-normal edge-pattern-solid edge-thickness-normal edge-pattern-solid flowchart-link\" id=\"L_A_B_0\" d=\"M154.40625,94.25L179.40625,94.25L200.40625,94.25\"/><path marker-end=\"url(#export-svg_flowchart-v2-pointEnd-margin)\" data-points=\"W3sieCI6NDExLjczNDM3NSwieSI6OTQuMjV9LHsieCI6NDM2LjczNDM3NSwieSI6OTQuMjV9LHsieCI6NDYxLjczNDM3NSwieSI6OTQuMjV9LHsieCI6NDg2LjczNDM3NSwieSI6OTQuMjV9XQ==\" data-id=\"L_B_T_0\" data-et=\"edge\" data-edge=\"true\" style=\"stroke-dasharray: 0 0 62 9; stroke-dashoffset: 0;;\" class=\"edge-thickness-normal edge-pattern-solid edge-thickness-normal edge-pattern-solid flowchart-link\" id=\"L_B_T_0\" d=\"M411.734375,94.25L436.734375,94.25L461.734375,94.25L482.734375,94.25\"/><path marker-end=\"url(#export-svg_flowchart-v2-pointEnd-margin)\" data-points=\"W3sieCI6NjEyLjM1OTM3NSwieSI6NzMuNjg1MDUzMzgwNzgyOTJ9LHsieCI6NjM3LjM1OTM3NSwieSI6NjUuNX0seyJ4Ijo2NjIuMzU5Mzc1LCJ5Ijo2NS41fV0=\" data-id=\"L_T_V_0\" data-et=\"edge\" data-edge=\"true\" style=\"stroke-dasharray: 0 0 38.13121032714844 9; stroke-dashoffset: 0;;\" class=\"edge-thickness-normal edge-pattern-solid edge-thickness-normal edge-pattern-solid flowchart-link\" id=\"L_T_V_0\" d=\"M612.359375,73.68505338078292L627.3805869454299,68.76707651608703Q637.359375,65.5 647.859375,65.5L658.359375,65.5\"/><path marker-end=\"url(#export-svg_flowchart-v2-pointEnd-margin)\" data-points=\"W3sieCI6NzcyLjcxODc1LCJ5Ijo2NS41fSx7IngiOjc5Ny43MTg3NSwieSI6NjUuNX0seyJ4Ijo4MjIuNzE4NzUsInkiOjc0Ljc2NDg1Mzk3Nzg0NDkyfV0=\" data-id=\"L_V_M_0\" data-et=\"edge\" data-edge=\"true\" style=\"stroke-dasharray: 0 0 38.4246940612793 9; stroke-dashoffset: 0;;\" class=\"edge-thickness-normal edge-pattern-solid edge-thickness-normal edge-pattern-solid flowchart-link\" id=\"L_V_M_0\" d=\"M772.71875,65.5L786.3879818372984,65.5Q797.71875,65.5 808.343389203467,69.43742923149635L818.9680284069341,73.3748584629927\"/><path marker-end=\"url(#export-svg_flowchart-v2-pointEnd-margin)\" data-points=\"W3sieCI6ODIyLjcxODc1LCJ5IjoxMTMuNzM1MTQ2MDIyMTU1MDh9LHsieCI6Nzk3LjcxODc1LCJ5IjoxMjN9LHsieCI6NzE3LjUzOTA2MjUsInkiOjEyM30seyJ4Ijo2MzcuMzU5Mzc1LCJ5IjoxMjN9LHsieCI6NjEyLjM1OTM3NSwieSI6MTE0LjgxNDk0NjYxOTIxNzA4fV0=\" data-id=\"L_M_T_0\" data-et=\"edge\" data-edge=\"true\" style=\"stroke-dasharray: 0 0 199.8626251220703 9; stroke-dashoffset: 0;;\" class=\"edge-thickness-normal edge-pattern-solid edge-thickness-normal edge-pattern-solid flowchart-link\" id=\"L_M_T_0\" d=\"M822.71875,113.73514602215508L810.21875,118.36757301107754Q797.71875,123 784.3879818372984,123L717.5390625,123L648.5122748594061,123Q637.359375,123 626.7600965342039,119.52977359838702L616.1608180684077,116.05954719677405\"/><path marker-end=\"url(#export-svg_flowchart-v2-pointEnd-margin)\" data-points=\"W3sieCI6OTI3Ljg3NSwieSI6OTQuMjV9LHsieCI6OTUyLjg3NSwieSI6OTQuMjV9LHsieCI6OTc3Ljg3NSwieSI6OTQuMjV9LHsieCI6MTAwMi44NzUsInkiOjk0LjI1fV0=\" data-id=\"L_M_E_0\" data-et=\"edge\" data-edge=\"true\" style=\"stroke-dasharray: 0 0 62 9; stroke-dashoffset: 0;;\" class=\"edge-thickness-normal edge-pattern-solid edge-thickness-normal edge-pattern-solid flowchart-link\" id=\"L_M_E_0\" d=\"M927.875,94.25L952.875,94.25L977.875,94.25L998.875,94.25\"/></g><g class=\"edgeLabels\"><g class=\"edgeLabel\"><g transform=\"translate(0, 0)\" data-id=\"L_A_B_0\" class=\"label\"><foreignObject height=\"0\" width=\"0\"><div class=\"labelBkg\" xmlns=\"http://www.w3.org/1999/xhtml\" style=\"display: table-cell; white-space: normal; line-height: 1.5; max-width: 200px; text-align: center;\"><span class=\"edgeLabel\"></span></div></foreignObject></g></g><g class=\"edgeLabel\"><g transform=\"translate(0, 0)\" data-id=\"L_B_T_0\" class=\"label\"><foreignObject height=\"0\" width=\"0\"><div class=\"labelBkg\" xmlns=\"http://www.w3.org/1999/xhtml\" style=\"display: table-cell; white-space: normal; line-height: 1.5; max-width: 200px; text-align: center;\"><span class=\"edgeLabel\"></span></div></foreignObject></g></g><g class=\"edgeLabel\"><g transform=\"translate(0, 0)\" data-id=\"L_T_V_0\" class=\"label\"><foreignObject height=\"0\" width=\"0\"><div class=\"labelBkg\" xmlns=\"http://www.w3.org/1999/xhtml\" style=\"display: table-cell; white-space: normal; line-height: 1.5; max-width: 200px; text-align: center;\"><span class=\"edgeLabel\"></span></div></foreignObject></g></g><g class=\"edgeLabel\"><g transform=\"translate(0, 0)\" data-id=\"L_V_M_0\" class=\"label\"><foreignObject height=\"0\" width=\"0\"><div class=\"labelBkg\" xmlns=\"http://www.w3.org/1999/xhtml\" style=\"display: table-cell; white-space: normal; line-height: 1.5; max-width: 200px; text-align: center;\"><span class=\"edgeLabel\"></span></div></foreignObject></g></g><g class=\"edgeLabel\"><g transform=\"translate(0, 0)\" data-id=\"L_M_T_0\" class=\"label\"><foreignObject height=\"0\" width=\"0\"><div class=\"labelBkg\" xmlns=\"http://www.w3.org/1999/xhtml\" style=\"display: table-cell; white-space: normal; line-height: 1.5; max-width: 200px; text-align: center;\"><span class=\"edgeLabel\"></span></div></foreignObject></g></g><g class=\"edgeLabel\"><g transform=\"translate(0, 0)\" data-id=\"L_M_E_0\" class=\"label\"><foreignObject height=\"0\" width=\"0\"><div class=\"labelBkg\" xmlns=\"http://www.w3.org/1999/xhtml\" style=\"display: table-cell; white-space: normal; line-height: 1.5; max-width: 200px; text-align: center;\"><span class=\"edgeLabel\"></span></div></foreignObject></g></g></g><g class=\"nodes\"><g transform=\"translate(81.203125, 94.25)\" data-look=\"neo\" data-et=\"node\" data-node=\"true\" data-id=\"A\" id=\"flowchart-A-0\" class=\"node default\"><rect stroke=\"url(#gradient)\" height=\"45\" width=\"146.40625\" y=\"-22.5\" x=\"-73.203125\" data-id=\"A\" style=\"\" class=\"basic label-container\"/><g transform=\"translate(-57.203125, -10.5)\" style=\"\" class=\"label\"><rect/><foreignObject height=\"21\" width=\"114.40625\"><div xmlns=\"http://www.w3.org/1999/xhtml\" style=\"display: table-cell; white-space: normal; line-height: 1.5; max-width: 200px; text-align: center;\"><span class=\"nodeLabel\"><p>Importação/Coleta</p></span></div></foreignObject></g></g><g transform=\"translate(308.0703125, 94.25)\" data-look=\"neo\" data-et=\"node\" data-node=\"true\" data-id=\"B\" id=\"flowchart-B-1\" class=\"node default\"><rect stroke=\"url(#gradient)\" height=\"45\" width=\"207.328125\" y=\"-22.5\" x=\"-103.6640625\" data-id=\"B\" style=\"\" class=\"basic label-container\"/><g transform=\"translate(-87.6640625, -10.5)\" style=\"\" class=\"label\"><rect/><foreignObject height=\"21\" width=\"175.328125\"><div xmlns=\"http://www.w3.org/1999/xhtml\" style=\"display: table-cell; white-space: normal; line-height: 1.5; max-width: 200px; text-align: center;\"><span class=\"nodeLabel\"><p>Organização/Limpeza (Tidy)</p></span></div></foreignObject></g></g><g transform=\"translate(549.546875, 94.25)\" data-look=\"neo\" data-et=\"node\" data-node=\"true\" data-id=\"T\" id=\"flowchart-T-3\" class=\"node default\"><rect stroke=\"url(#gradient)\" height=\"45\" width=\"125.625\" y=\"-22.5\" x=\"-62.8125\" data-id=\"T\" style=\"\" class=\"basic label-container\"/><g transform=\"translate(-46.8125, -10.5)\" style=\"\" class=\"label\"><rect/><foreignObject height=\"21\" width=\"93.625\"><div xmlns=\"http://www.w3.org/1999/xhtml\" style=\"display: table-cell; white-space: normal; line-height: 1.5; max-width: 200px; text-align: center;\"><span class=\"nodeLabel\"><p>Transformação</p></span></div></foreignObject></g></g><g transform=\"translate(717.5390625, 65.5)\" data-look=\"neo\" data-et=\"node\" data-node=\"true\" data-id=\"V\" id=\"flowchart-V-5\" class=\"node default\"><rect stroke=\"url(#gradient)\" height=\"45\" width=\"110.359375\" y=\"-22.5\" x=\"-55.1796875\" data-id=\"V\" style=\"\" class=\"basic label-container\"/><g transform=\"translate(-39.1796875, -10.5)\" style=\"\" class=\"label\"><rect/><foreignObject height=\"21\" width=\"78.359375\"><div xmlns=\"http://www.w3.org/1999/xhtml\" style=\"display: table-cell; white-space: normal; line-height: 1.5; max-width: 200px; text-align: center;\"><span class=\"nodeLabel\"><p>Visualização</p></span></div></foreignObject></g></g><g transform=\"translate(875.296875, 94.25)\" data-look=\"neo\" data-et=\"node\" data-node=\"true\" data-id=\"M\" id=\"flowchart-M-7\" class=\"node default\"><rect stroke=\"url(#gradient)\" height=\"45\" width=\"105.15625\" y=\"-22.5\" x=\"-52.578125\" data-id=\"M\" style=\"\" class=\"basic label-container\"/><g transform=\"translate(-36.578125, -10.5)\" style=\"\" class=\"label\"><rect/><foreignObject height=\"21\" width=\"73.15625\"><div xmlns=\"http://www.w3.org/1999/xhtml\" style=\"display: table-cell; white-space: normal; line-height: 1.5; max-width: 200px; text-align: center;\"><span class=\"nodeLabel\"><p>Modelagem</p></span></div></foreignObject></g></g><g transform=\"translate(1061.6796875, 94.25)\" data-look=\"neo\" data-et=\"node\" data-node=\"true\" data-id=\"E\" id=\"flowchart-E-11\" class=\"node default\"><rect stroke=\"url(#gradient)\" height=\"45\" width=\"117.609375\" y=\"-22.5\" x=\"-58.8046875\" data-id=\"E\" style=\"\" class=\"basic label-container\"/><g transform=\"translate(-42.8046875, -10.5)\" style=\"\" class=\"label\"><rect/><foreignObject height=\"21\" width=\"85.609375\"><div xmlns=\"http://www.w3.org/1999/xhtml\" style=\"display: table-cell; white-space: normal; line-height: 1.5; max-width: 200px; text-align: center;\"><span class=\"nodeLabel\"><p>Comunicação</p></span></div></foreignObject></g></g></g></g></g><defs><filter width=\"130%\" height=\"130%\" id=\"drop-shadow\"><feDropShadow flood-color=\"#FFFFFF\" flood-opacity=\"0.06\" stdDeviation=\"0\" dy=\"4\" dx=\"4\"/></filter></defs><defs><filter width=\"150%\" height=\"150%\" id=\"drop-shadow-small\"><feDropShadow flood-color=\"#FFFFFF\" flood-opacity=\"0.06\" stdDeviation=\"0\" dy=\"2\" dx=\"2\"/></filter></defs></svg>"
   ]
  },
  {
   "cell_type": "markdown",
   "metadata": {},
   "source": [
    "## 7. Conclusão\n",
    "\n",
    "Nesta aula prática, cobrimos:\n",
    "*   **Coleta:** Fontes de dados (conceito).\n",
    "*   **Web Scraping:** Extração de HTML com `requests` e `BeautifulSoup` (e suas implicações éticas/legais).\n",
    "*   **Importação:** Leitura de arquivos (`CSV`, `JSON`, `Excel`, `FWF`) e BD (`SQLite`) com `Pandas`, usando parâmetros para controle fino (`dtype`, `na_values`, `parse_dates`, etc.).\n",
    "*   **Organização:** Inspeção inicial, renomeação, ajuste de tipos de dados.\n",
    "*   **Transformação Estrutural:** Remodelagem (`melt`, `pivot_table`) e manipulação de colunas (`split`, concatenação) para alcançar o formato Tidy.\n",
    "\n",
    "Dominar estas etapas é fundamental para garantir a qualidade e a adequação dos dados para análises subsequentes.\n",
    "\n",
    "**Próximos Passos:** Limpeza de Dados (tratamento de nulos, outliers) e Análise Exploratória de Dados (EDA)."
   ]
  }
 ],
 "metadata": {
  "kernelspec": {
   "display_name": "Python 3 (ipykernel)",
   "language": "python",
   "name": "python3"
  },
  "language_info": {
   "codemirror_mode": {
    "name": "ipython",
    "version": 3
   },
   "file_extension": ".py",
   "mimetype": "text/x-python",
   "name": "python",
   "nbconvert_exporter": "python",
   "pygments_lexer": "ipython3",
   "version": "3.11.7"
  }
 },
 "nbformat": 4,
 "nbformat_minor": 4
}
