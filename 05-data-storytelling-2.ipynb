{
 "cells": [
  {
   "metadata": {},
   "cell_type": "markdown",
   "source": "# Análise de Fatores de Evasão de Colaboradores — Um Estudo sobre Attrition",
   "id": "1242b1b09724d44d"
  },
  {
   "metadata": {},
   "cell_type": "markdown",
   "source": [
    "## 1. Introdução\n",
    "\n",
    "O turnover de funcionários é uma das maiores preocupações de áreas de Recursos Humanos no ambiente corporativo, impactando custos, moral e produtividade. Utilizando o dataset público “IBM HR Analytics Employee Attrition & Performance”, exploraremos os principais fatores associados ao desligamento espontâneo dos colaboradores (“attrition”) e forneceremos subsídios para ações práticas de retenção.\n",
    "\n",
    "Dataset: *IBM HR Analytics Employee Attrition & Performance*\n",
    "\n",
    "Link: https://www.kaggle.com/datasets/pavansubhasht/ibm-hr-analytics-attrition-dataset"
   ],
   "id": "ceac75d3140c22a5"
  },
  {
   "metadata": {},
   "cell_type": "markdown",
   "source": "## 2. Importação e Visão Geral dos Dados",
   "id": "f25a0b7a7e492182"
  },
  {
   "metadata": {},
   "cell_type": "code",
   "source": [
    "import pandas as pd\n",
    "import matplotlib.pyplot as plt\n",
    "import seaborn as sns\n",
    "\n",
    "# Carregar dataset público da IBM\n",
    "df = pd.read_csv('WA_Fn-UseC_-HR-Employee-Attrition.csv')\n",
    "\n",
    "df.head(), df.info(), df.describe()"
   ],
   "id": "1e061521940e6bef",
   "outputs": [],
   "execution_count": null
  },
  {
   "metadata": {},
   "cell_type": "markdown",
   "source": [
    "## 3. Panorama do Attrition e Perfil Funcional\n",
    "Como está distribuída a evasão (“Attrition”) entre os funcionários?\n"
   ],
   "id": "9c872bd5c9a57842"
  },
  {
   "metadata": {},
   "cell_type": "code",
   "source": [
    "# Taxa geral de attrition\n",
    "print('Taxa de attrition (%):', df['Attrition'].value_counts(normalize=True)['Yes']*100)"
   ],
   "id": "9066f2615205708",
   "outputs": [],
   "execution_count": null
  },
  {
   "metadata": {},
   "cell_type": "code",
   "source": [
    "# Distribuição por departamento e cargo\n",
    "plt.figure(figsize=(10,5))\n",
    "sns.countplot(x='Department', hue='Attrition', data=df)\n",
    "plt.title('Attrition por Departamento')\n",
    "plt.ylabel('Nº de Funcionários')\n",
    "plt.show()"
   ],
   "id": "ded17f633e19423c",
   "outputs": [],
   "execution_count": null
  },
  {
   "metadata": {},
   "cell_type": "code",
   "source": [
    "plt.figure(figsize=(12,5))\n",
    "sns.countplot(y='JobRole', hue='Attrition', data=df, order=df['JobRole'].value_counts().index)\n",
    "plt.title('Attrition por Cargo')\n",
    "plt.xlabel('Nº de Funcionários')\n",
    "plt.show()"
   ],
   "id": "e68c350c33e28f7b",
   "outputs": [],
   "execution_count": null
  },
  {
   "metadata": {},
   "cell_type": "markdown",
   "source": "Os departamentos de Vendas e cargos de Representantes de Vendas apresentam proporção significativamente maior de evasão.",
   "id": "14f6c5a788f08bb1"
  },
  {
   "metadata": {},
   "cell_type": "markdown",
   "source": [
    "## 4. Relação entre Satisfação, Tempo de Casa e Salário vs Attrition\n",
    "Como a satisfação no trabalho, tempo e salário influenciam a evasão?"
   ],
   "id": "378e68e20d9bf1fe"
  },
  {
   "metadata": {},
   "cell_type": "code",
   "source": [
    "# Satisfação x Attrition\n",
    "plt.figure(figsize=(7,4))\n",
    "sns.boxplot(x='Attrition', y='JobSatisfaction', data=df)\n",
    "plt.title('Satisfação no Trabalho e Attrition')\n",
    "plt.show()"
   ],
   "id": "82526f48bc958641",
   "outputs": [],
   "execution_count": null
  },
  {
   "metadata": {},
   "cell_type": "code",
   "source": [
    "# Idade x Attrition\n",
    "plt.figure(figsize=(7,4))\n",
    "sns.boxplot(x='Attrition', y='Age', data=df)\n",
    "plt.title('Idade e Attrition')\n",
    "plt.show()"
   ],
   "id": "fbec41959e291a02",
   "outputs": [],
   "execution_count": null
  },
  {
   "metadata": {},
   "cell_type": "code",
   "source": [
    "# Salário Mensal x Attrition\n",
    "plt.figure(figsize=(7,4))\n",
    "sns.boxplot(x='Attrition', y='MonthlyIncome', data=df)\n",
    "plt.title('Salário Mensal e Attrition')\n",
    "plt.show()"
   ],
   "id": "d7903aa0697c14c7",
   "outputs": [],
   "execution_count": null
  },
  {
   "metadata": {},
   "cell_type": "markdown",
   "source": "Há clara concentração de evasão entre funcionários mais jovens, com menor satisfação e salários mais baixos.",
   "id": "856dc311cbbdf924"
  },
  {
   "metadata": {},
   "cell_type": "code",
   "source": [
    "# Relação anos na empresa, salário e attrition\n",
    "plt.figure(figsize=(8,6))\n",
    "sns.scatterplot(x='YearsAtCompany', y='MonthlyIncome', hue='Attrition', data=df, alpha=0.7)\n",
    "plt.title('Tempo de Casa vs Salário x Evasão')\n",
    "plt.show()"
   ],
   "id": "593d9eca939f135c",
   "outputs": [],
   "execution_count": null
  },
  {
   "metadata": {},
   "cell_type": "markdown",
   "source": "Funcionários que permanecem poucos anos e têm salários menores tendem a pedir desligamento mais frequentemente.",
   "id": "2044ec6c9292389e"
  },
  {
   "metadata": {},
   "cell_type": "markdown",
   "source": [
    "## 5. Modelagem Simples: Fatores Críticos\n",
    "Quais fatores mais influenciam o risco de evasão?"
   ],
   "id": "d6c5bd261c6f8515"
  },
  {
   "metadata": {},
   "cell_type": "code",
   "source": [
    "from sklearn.tree import DecisionTreeClassifier\n",
    "from sklearn.preprocessing import LabelEncoder\n",
    "\n",
    "# Apenas variáveis mais relevantes\n",
    "cols = ['Age','MonthlyIncome','JobSatisfaction','YearsAtCompany','DistanceFromHome','Attrition']\n",
    "df_model = df[cols].dropna().copy()\n",
    "df_model['Attrition'] = LabelEncoder().fit_transform(df_model['Attrition'])\n",
    "\n",
    "X = df_model.drop('Attrition', axis=1)\n",
    "y = df_model['Attrition']\n",
    "\n",
    "model = DecisionTreeClassifier(max_depth=3, random_state=42)\n",
    "model.fit(X,y)\n",
    "\n",
    "# Feature importances\n",
    "importances = pd.Series(model.feature_importances_, index=X.columns)\n",
    "importances.sort_values().plot.barh(title='Fatores com mais peso para o Attrition', color='teal')\n",
    "plt.show()"
   ],
   "id": "af177e43c616cb87",
   "outputs": [],
   "execution_count": null
  },
  {
   "metadata": {},
   "cell_type": "markdown",
   "source": "As variáveis mais relevantes para explicar evasão, segundo a árvore, são: Satisfação no Trabalho, Salário Mensal, Idade e Anos na Empresa.",
   "id": "e0d6837fd2096521"
  },
  {
   "metadata": {},
   "cell_type": "markdown",
   "source": [
    "## 6. Recomendações de Negócio\n",
    "\n",
    "- Foco em ações de retenção para jovens talentos, especialmente nos departamentos/cargos críticos.\n",
    "- Programas de engajamento e satisfação no trabalho.\n",
    "- Revisão de políticas salariais para as faixas de menor remuneração.\n",
    "- Análise periódica de risco de evasão ligada à satisfação e histórico do colaborador."
   ],
   "id": "e463e3ac87a3925c"
  },
  {
   "metadata": {},
   "cell_type": "markdown",
   "source": "## 7. Conclusão e Próximos Passos",
   "id": "54804ac2a73274e9"
  },
  {
   "metadata": {},
   "cell_type": "markdown",
   "source": "Neste notebook mostramos como a análise de dados pode fortalecer a tomada de decisão estratégica em RH. Recomendamos aprofundar a investigação em causas qualitativas e realizar análises preditivas regulares.",
   "id": "5774a9e1d09fa2ae"
  }
 ],
 "metadata": {
  "kernelspec": {
   "display_name": "Python 3",
   "language": "python",
   "name": "python3"
  },
  "language_info": {
   "codemirror_mode": {
    "name": "ipython",
    "version": 2
   },
   "file_extension": ".py",
   "mimetype": "text/x-python",
   "name": "python",
   "nbconvert_exporter": "python",
   "pygments_lexer": "ipython2",
   "version": "2.7.6"
  }
 },
 "nbformat": 4,
 "nbformat_minor": 5
}
