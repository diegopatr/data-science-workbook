{
 "cells": [
  {
   "cell_type": "markdown",
   "metadata": {},
   "source": [
    "# Exploração de Dados com Pandas\n",
    "\n",
    "**Objetivo:** Apresentar os conceitos e ferramentas fundamentais da biblioteca Pandas para manipulação e análise de dados tabulares, capacitando a realização de tarefas básicas de preparação e exploração de dados."
   ],
   "id": "4d0851a239e6a03"
  },
  {
   "cell_type": "markdown",
   "metadata": {},
   "source": [
    "## 1. Introdução ao Pandas e Estruturas de Dados\n",
    "\n",
    "### O que é Pandas?\n",
    "Pandas é uma biblioteca Python de código aberto, de alto desempenho e fácil de usar, construída sobre o NumPy. Ela fornece estruturas de dados e ferramentas de análise de dados especialmente projetadas para trabalhar com dados **tabulares** (como planilhas ou tabelas SQL) e dados de **séries temporais**.\n",
    "\n",
    "**Por que usar Pandas?**\n",
    "\n",
    "*   **Estruturas de Dados Flexíveis:** `Series` (1D) e `DataFrame` (2D) que podem lidar com diferentes tipos de dados.\n",
    "*   **Manipulação Poderosa:** Ferramentas para carregar, limpar, transformar, remodelar, fatiar, agregar e juntar dados.\n",
    "*   **Tratamento de Dados Ausentes:** Funcionalidades para encontrar e tratar valores ausentes (NaN).\n",
    "*   **Performance:** Muitas operações são otimizadas e implementadas em Cython ou C.\n",
    "*   **Integração:** Boa integração com outras bibliotecas científicas como NumPy, Matplotlib e Scikit-learn."
   ],
   "id": "b2b271c932c52878"
  },
  {
   "cell_type": "markdown",
   "metadata": {},
   "source": [
    "### Importação da Biblioteca\n",
    "Por convenção, importamos o Pandas com o alias `pd` e o NumPy (que o Pandas usa internamente) com o alias `np`."
   ],
   "id": "94c1928b896e0c92"
  },
  {
   "cell_type": "code",
   "metadata": {},
   "source": [
    "import pandas as pd\n",
    "import numpy as np"
   ],
   "id": "78d041925d57f962",
   "outputs": [],
   "execution_count": null
  },
  {
   "cell_type": "markdown",
   "metadata": {},
   "source": [
    "### Estruturas Fundamentais\n",
    "\n",
    "#### `Series`\n",
    "Uma `Series` é um array unidimensional rotulado, capaz de armazenar dados de qualquer tipo (inteiros, strings, floats, objetos Python, etc.). É como uma única coluna em uma tabela, com um índice associado a cada valor."
   ],
   "id": "43275ed784f0e8c3"
  },
  {
   "cell_type": "code",
   "metadata": {},
   "source": [
    "# Criando uma Series a partir de diferentes fontes\n",
    "dados_lista = [10, 20, 30, 40, 50]\n",
    "s_lista = pd.Series(data=dados_lista)\n",
    "print(\"Series a partir de lista (índice padrão):\\n\", s_lista)\n",
    "\n",
    "# Com índice personalizado\n",
    "indices_personalizados = ['a', 'b', 'c', 'd', 'e']\n",
    "s_indice_pers = pd.Series(data=dados_lista, index=indices_personalizados)\n",
    "print(\"\\nSeries com índice personalizado:\\n\", s_indice_pers)\n",
    "\n",
    "# A partir de um dicionário (chaves tornam-se índices automaticamente)\n",
    "dados_dict_serie = {'x': 100, 'y': 200, 'z': 300}\n",
    "s_dict = pd.Series(data=dados_dict_serie)\n",
    "print(\"\\nSeries a partir de dicionário:\\n\", s_dict)\n",
    "\n",
    "# Acessando componentes e elementos\n",
    "print(\"\\nElemento no índice 'b':\", s_indice_pers['b'])\n",
    "print(\"Valores da Series:\", s_indice_pers.values)\n",
    "print(\"Índice da Series:\", s_indice_pers.index)\n",
    "print(\"Tipo de dados (dtype):\", s_indice_pers.dtype)"
   ],
   "id": "f00272ee79194492",
   "outputs": [],
   "execution_count": null
  },
  {
   "cell_type": "markdown",
   "metadata": {},
   "source": [
    "#### `DataFrame`\n",
    "Um `DataFrame` é uma estrutura de dados bidimensional, semelhante a uma tabela, com linhas e colunas rotuladas. Cada coluna pode ter um tipo de dado diferente. É a principal estrutura de dados do Pandas e a mais utilizada para análise."
   ],
   "id": "555fb84bb9f0992b"
  },
  {
   "metadata": {},
   "cell_type": "code",
   "source": [
    "# Método 1: A partir de um dicionário de listas\n",
    "dados_dict = {\n",
    "    'Nome': ['João', 'Maria', 'Pedro', 'Ana'],\n",
    "    'Idade': [28, 35, 22, 41],\n",
    "    'Cidade': ['São Paulo', 'Rio de Janeiro', 'Belo Horizonte', 'Recife']\n",
    "}\n",
    "df1 = pd.DataFrame(dados_dict)\n",
    "print(\"DataFrame a partir de dicionário de listas:\")\n",
    "print(df1)\n",
    "\n",
    "# Método 2: A partir de uma lista de listas (com colunas especificadas)\n",
    "dados_lista = [\n",
    "    ['João', 28, 'São Paulo'],\n",
    "    ['Maria', 35, 'Rio de Janeiro'],\n",
    "    ['Pedro', 22, 'Belo Horizonte'],\n",
    "    ['Ana', 41, 'Recife']\n",
    "]\n",
    "df2 = pd.DataFrame(dados_lista, columns=['Nome', 'Idade', 'Cidade'])\n",
    "print(\"\\nDataFrame a partir de lista de listas:\")\n",
    "print(df2)\n",
    "\n",
    "# Método 3: A partir de uma lista de dicionários (cada dicionário é uma linha)\n",
    "dados_lista_dict = [\n",
    "    {'Nome': 'João', 'Idade': 28, 'Cidade': 'São Paulo'},\n",
    "    {'Nome': 'Maria', 'Idade': 35, 'Cidade': 'Rio de Janeiro'},\n",
    "    {'Nome': 'Pedro', 'Idade': 22, 'Cidade': 'Belo Horizonte'},\n",
    "    {'Nome': 'Ana', 'Idade': 41, 'Cidade': 'Recife'}\n",
    "]\n",
    "df3 = pd.DataFrame(dados_lista_dict)\n",
    "print(\"\\nDataFrame a partir de lista de dicionários:\")\n",
    "print(df3)\n",
    "\n",
    "# Método 4: A partir de arrays NumPy\n",
    "array_dados = np.array([\n",
    "    ['João', 28, 'São Paulo'],\n",
    "    ['Maria', 35, 'Rio de Janeiro'],\n",
    "    ['Pedro', 22, 'Belo Horizonte'],\n",
    "    ['Ana', 41, 'Recife']\n",
    "])\n",
    "df4 = pd.DataFrame(array_dados, columns=['Nome', 'Idade', 'Cidade'])\n",
    "print(\"\\nDataFrame a partir de array NumPy:\")\n",
    "print(df4)\n",
    "\n",
    "# Método 5: DataFrame vazio com estrutura definida\n",
    "df5 = pd.DataFrame(columns=['Nome', 'Idade', 'Cidade'])\n",
    "print(\"\\nDataFrame vazio com colunas definidas:\")\n",
    "print(df5)\n",
    "\n",
    "# Definindo tipos de dados explicitamente\n",
    "df6 = pd.DataFrame({\n",
    "    'Nome': ['João', 'Maria', 'Pedro', 'Ana'],\n",
    "    'Idade': pd.Series([28, 35, 22, 41], dtype='int32'),\n",
    "    'Salário': pd.Series([3500.50, 4200.75, 2800.25, 5100.00], dtype='float64'),\n",
    "    'Contratado': pd.Series([True, True, False, True], dtype='bool')\n",
    "})\n",
    "print(\"\\nDataFrame com tipos específicos:\")\n",
    "print(df6.dtypes)"
   ],
   "id": "fb6d5921b9f607a8",
   "outputs": [],
   "execution_count": null
  },
  {
   "cell_type": "markdown",
   "metadata": {},
   "source": "## 2. Criação e Importação Básica de DataFrames",
   "id": "91619534ae936b89"
  },
  {
   "cell_type": "markdown",
   "metadata": {},
   "source": [
    "### Criação a partir de Dicionário de Listas/Arrays\n",
    "Uma forma comum de criar um DataFrame é a partir de um dicionário onde as chaves são os nomes das colunas e os valores são listas (ou arrays NumPy, ou Series Pandas) contendo os dados para cada coluna. Todas as listas/arrays devem ter o mesmo comprimento."
   ],
   "id": "c2b989de063f0db"
  },
  {
   "cell_type": "code",
   "metadata": {},
   "source": [
    "dados_dict = {\n",
    "    'Nome': ['Ana', 'Bruno', 'Carla', 'Daniel'],\n",
    "    'Idade': [28, 35, 22, 41],\n",
    "    'Cidade': ['São Paulo', 'Rio de Janeiro', 'Curitiba', 'Belo Horizonte']\n",
    "}\n",
    "\n",
    "df_de_dict = pd.DataFrame(dados_dict)\n",
    "\n",
    "print(\"DataFrame criado a partir de dicionário:\")\n",
    "display(df_de_dict) # 'display()' é melhor para DataFrames no Jupyter"
   ],
   "id": "e24c547a8fd8c3d2",
   "outputs": [],
   "execution_count": null
  },
  {
   "cell_type": "markdown",
   "metadata": {},
   "source": [
    "### Importação de Dados\n",
    "Pandas pode ler dados de diversas fontes. Para arquivos de texto como CSV (Comma-Separated Values) ou TSV (Tab-Separated Values), usamos `pd.read_csv()` ou `pd.read_table()`.\n",
    "\n",
    "**Parâmetros essenciais para `pd.read_csv()` (e `pd.read_table()`):**\n",
    "*   `filepath_or_buffer`: O caminho para o arquivo local ou uma URL.\n",
    "*   `sep` (ou `delimiter`): O caractere usado para separar os valores em cada linha. Para CSV, o padrão é `','`. Para TSV (tab-separated), use `sep='\\t'`.\n",
    "*   `comment`: Caractere que indica que o restante da linha é um comentário e deve ser ignorado (ex: `comment='#'`).\n",
    "*   `na_values`: Uma string ou lista de strings que devem ser interpretadas como valores ausentes (NaN). Ex: `na_values=['NA', 'Ausente', '--']`."
   ],
   "id": "92f5c653c9fec022"
  },
  {
   "cell_type": "code",
   "metadata": {},
   "source": [
    "# Exemplo prático: Carregar o dataset euro_football_players.txt\n",
    "url_futebol = \"http://leg.ufpr.br/~walmes/data/euro_football_players.txt\"\n",
    "df_futebol = pd.DataFrame() # Inicializar para o caso de falha na importação\n",
    "\n",
    "print(f\"Tentando importar dados de: {url_futebol}\")\n",
    "try:\n",
    "    df_futebol = pd.read_table(\n",
    "        url_futebol,\n",
    "        sep=\"\\t\",         # Separador é tabulação\n",
    "        comment=\"#\",        # Linhas começando com '#' são comentários\n",
    "        na_values=['NA', '.', '', 'N/A'] # Valores a serem tratados como NaN\n",
    "    )\n",
    "    print(\"\\nDados importados com sucesso!\")\n",
    "\n",
    "except Exception as e:\n",
    "    print(f\"\\nERRO durante a importação: {e}\")\n",
    "    print(\"Verifique sua conexão com a internet ou a validade da URL.\")"
   ],
   "id": "d3e81b1e74746c68",
   "outputs": [],
   "execution_count": null
  },
  {
   "cell_type": "markdown",
   "metadata": {},
   "source": [
    "## 3. Inspeção de Dados\n",
    "\n",
    "Após carregar os dados, o primeiro passo é inspecioná-los para entender a sua estrutura, conteúdo e possíveis problemas."
   ],
   "id": "840a55e980b76474"
  },
  {
   "cell_type": "markdown",
   "metadata": {},
   "source": [
    "### Visualização Rápida"
   ],
   "id": "78a75c1bec8fb304"
  },
  {
   "cell_type": "code",
   "metadata": {},
   "source": [
    "# .head(): Mostra as primeiras N linhas (padrão N=5)\n",
    "print(\"Primeiras 3 linhas (df_futebol.head(3)):\")\n",
    "display(df_futebol.head(3))\n",
    "\n",
    "# .tail(): Mostra as últimas N linhas (padrão N=5)\n",
    "print(\"\\nÚltimas 2 linhas (df_futebol.tail(2)):\")\n",
    "display(df_futebol.tail(2))"
   ],
   "id": "28f9a552d8ced413",
   "outputs": [],
   "execution_count": null
  },
  {
   "cell_type": "markdown",
   "metadata": {},
   "source": [
    "### Estrutura e Metadados"
   ],
   "id": "5ea98034dccf3ccb"
  },
  {
   "cell_type": "code",
   "metadata": {},
   "source": [
    "# .shape: Retorna uma tupla com (número_de_linhas, número_de_colunas)\n",
    "print(\"Dimensões (linhas, colunas) - df_futebol.shape:\", df_futebol.shape)\n",
    "\n",
    "# .info(): Fornece um resumo conciso do DataFrame.\n",
    "# Inclui o tipo de índice, informações das colunas (nome, contagem de não-nulos, tipo de dado) e uso de memória.\n",
    "# EXTREMAMENTE IMPORTANTE para entender os tipos de dados e a presença de valores ausentes.\n",
    "print(\"\\nResumo do DataFrame (df_futebol.info()):\")\n",
    "df_futebol.info()\n",
    "\n",
    "# .columns: Retorna os nomes das colunas\n",
    "print(\"\\nNomes das colunas (df_futebol.columns):\")\n",
    "print(list(df_futebol.columns))\n",
    "\n",
    "# .index: Retorna o índice (rótulos das linhas)\n",
    "print(\"\\nÍndice (df_futebol.index) - primeiras 5 entradas:\")\n",
    "print(df_futebol.index[:5])\n",
    "\n",
    "# .dtypes: Retorna o tipo de dado (dtype) de cada coluna\n",
    "print(\"\\nTipos de dados por coluna (df_futebol.dtypes):\")\n",
    "print(df_futebol.dtypes)"
   ],
   "id": "762047200c8883de",
   "outputs": [],
   "execution_count": null
  },
  {
   "cell_type": "markdown",
   "metadata": {},
   "source": [
    "### Resumo Estatístico"
   ],
   "id": "49df3297cce1d269"
  },
  {
   "cell_type": "code",
   "metadata": {},
   "source": [
    "# .describe(): Gera estatísticas descritivas.\n",
    "# Para colunas numéricas: contagem, média, desvio padrão, mínimo, percentis (25%, 50%, 75%), máximo.\n",
    "# Para colunas object (string) ou categóricas: contagem, valores únicos, valor mais frequente (top), frequência do mais frequente (freq).\n",
    "print(\"Resumo estatístico para colunas numéricas (df_futebol.describe()):\")\n",
    "display(df_futebol.describe())\n",
    "\n",
    "print(\"\\nResumo estatístico para colunas do tipo 'object' (df_futebol.describe(include='object')):\")\n",
    "display(df_futebol.describe(include='object'))\n",
    "\n",
    "print(\"\\nResumo estatístico para todos os tipos de colunas (df_futebol.describe(include='all')):\")\n",
    "display(df_futebol.describe(include='all'))"
   ],
   "id": "d6dcd55c8e021930",
   "outputs": [],
   "execution_count": null
  },
  {
   "cell_type": "markdown",
   "metadata": {},
   "source": [
    "## 4. Seleção e Fatiamento (Indexing & Slicing)\n",
    "\n",
    "Formas de acessar e extrair partes específicas de um DataFrame."
   ],
   "id": "7518ecf2b2a59e48"
  },
  {
   "cell_type": "code",
   "metadata": {},
   "source": [
    "# Usar um DataFrame menor e mais simples para os exemplos de seleção\n",
    "dados_selecao = {\n",
    "    'A': [10, 20, 30, 40, 50],\n",
    "    'B': [0.1, 0.2, 0.3, 0.4, 0.5],\n",
    "    'C': ['p', 'q', 'r', 's', 't'],\n",
    "    'D': [True, False, True, False, True]\n",
    "}\n",
    "idx_selecao = pd.Index(['idx0', 'idx1', 'idx2', 'idx3', 'idx4'], name='MeuIndice')\n",
    "df_sel = pd.DataFrame(dados_selecao, index=idx_selecao)\n",
    "\n",
    "print(\"DataFrame de exemplo 'df_sel':\")\n",
    "display(df_sel)"
   ],
   "id": "ede1c4ee0f5b0f1c",
   "outputs": [],
   "execution_count": null
  },
  {
   "cell_type": "markdown",
   "metadata": {},
   "source": [
    "### Seleção de Colunas\n",
    "\n",
    "#### Usando `[]` (colchetes)"
   ],
   "id": "46f24b93e8b11f9a"
  },
  {
   "cell_type": "code",
   "metadata": {},
   "source": [
    "# Selecionar uma única coluna: df['nome_coluna'] (retorna uma Series)\n",
    "coluna_B_serie = df_sel['B']\n",
    "print(\"Coluna 'B' (retorna Series):\")\n",
    "display(coluna_B_serie)\n",
    "print(f\"Tipo: {type(coluna_B_serie)}\\n\")\n",
    "\n",
    "# Selecionar múltiplas colunas: df[['col1', 'col2']] (retorna um DataFrame)\n",
    "colunas_A_C_df = df_sel[['A', 'C']]\n",
    "print(\"Colunas 'A' e 'C' (retorna DataFrame):\")\n",
    "display(colunas_A_C_df)\n",
    "print(f\"Tipo: {type(colunas_A_C_df)}\")"
   ],
   "id": "30570152ab2b6325",
   "outputs": [],
   "execution_count": null
  },
  {
   "cell_type": "markdown",
   "metadata": {},
   "source": [
    "### Seleção de Linhas e Colunas com `.loc[]` (baseado em RÓTULOS)\n",
    "`.loc[]` é usado para selecionar dados pelos rótulos do índice e das colunas.\n",
    "*   `df.loc[rotulo_linha]`\n",
    "*   `df.loc[[rot_lin1, rot_lin2]]`\n",
    "*   `df.loc[rot_lin_inicio:rot_lin_fim]` (slicing por rótulo, *ambos os extremos são incluídos*)\n",
    "*   `df.loc[rotulo_linha, rotulo_coluna]`\n",
    "*   `df.loc[:, ['col_A', 'col_B']]` (todas as linhas, colunas específicas)\n",
    "*   `df.loc[[rot_lin1, rot_lin2], ['col_A', 'col_B']]`"
   ],
   "id": "b1020b4085df027a"
  },
  {
   "cell_type": "code",
   "metadata": {},
   "source": [
    "# Selecionar uma linha pelo rótulo do índice\n",
    "linha_idx1 = df_sel.loc['idx1']\n",
    "print(\"Linha com rótulo 'idx1':\")\n",
    "display(linha_idx1)\n",
    "print(f\"Tipo: {type(linha_idx1)}\\n\") # Retorna uma Series\n",
    "\n",
    "# Selecionar todas as linhas, colunas 'A' e 'D'\n",
    "loc_cols_A_D = df_sel.loc[:, ['A', 'D']]\n",
    "print(\"Todas as linhas, colunas 'A' e 'D':\")\n",
    "display(loc_cols_A_D)\n",
    "\n",
    "# Slicing por rótulos de linha (ambos inclusos), colunas 'B' e 'C'\n",
    "loc_slice_linhas_cols = df_sel.loc['idx1':'idx3', ['B', 'C']]\n",
    "print(\"\\nLinhas 'idx1' a 'idx3', colunas 'B' e 'C':\")\n",
    "display(loc_slice_linhas_cols)\n",
    "\n",
    "# Selecionar um valor escalar\n",
    "valor_escalar_loc = df_sel.loc['idx2', 'C']\n",
    "print(f\"\\nValor em df_sel.loc['idx2', 'C']: {valor_escalar_loc}\")"
   ],
   "id": "f36a96c696078c0a",
   "outputs": [],
   "execution_count": null
  },
  {
   "cell_type": "markdown",
   "metadata": {},
   "source": [
    "### Seleção de Linhas e Colunas com `.iloc[]` (baseado em POSIÇÃO inteira)\n",
    "`.iloc[]` é usado para selecionar dados pelas posições inteiras (de 0 a N-1).\n",
    "*   `df.iloc[pos_linha]`\n",
    "*   `df.iloc[[pos1, pos2]]`\n",
    "*   `df.iloc[pos_inicio:pos_fim]` (slicing por posição, *o extremo final é exclusivo*)\n",
    "*   `df.iloc[pos_linha, pos_coluna]`\n",
    "*   `df.iloc[:, [0, 2]]` (todas as linhas, colunas nas posições 0 e 2)\n",
    "*   `df.iloc[[0, 2], [1, 3]]`"
   ],
   "id": "b928a0f863897e8c"
  },
  {
   "cell_type": "code",
   "metadata": {},
   "source": [
    "# Selecionar a segunda linha (posição 1)\n",
    "linha_pos1 = df_sel.iloc[1]\n",
    "print(\"Linha na posição 1:\")\n",
    "display(linha_pos1)\n",
    "print(f\"Tipo: {type(linha_pos1)}\\n\")\n",
    "\n",
    "# Selecionar todas as linhas, colunas nas posições 0 e 2\n",
    "iloc_cols_0_2 = df_sel.iloc[:, [0, 2]]\n",
    "print(\"Todas as linhas, colunas nas posições 0 e 2:\")\n",
    "display(iloc_cols_0_2)\n",
    "\n",
    "# Slicing por posição de linha (1 a 3, exclusivo) e coluna (0 a 1, exclusivo)\n",
    "iloc_slice_linhas_cols = df_sel.iloc[1:3, 0:2] # Linhas 1,2; Colunas 0,1\n",
    "print(\"\\nLinhas pos 1-2, colunas pos 0-1:\")\n",
    "display(iloc_slice_linhas_cols)\n",
    "\n",
    "# Selecionar um valor escalar\n",
    "valor_escalar_iloc = df_sel.iloc[2, 2] # Terceira linha, terceira coluna\n",
    "print(f\"\\nValor em df_sel.iloc[2, 2]: {valor_escalar_iloc} (Coluna: {df_sel.columns[2]})\")"
   ],
   "id": "d693ec6a3a6f958a",
   "outputs": [],
   "execution_count": null
  },
  {
   "cell_type": "markdown",
   "metadata": {},
   "source": [
    "### Indexação Booleana (Filtragem por Condição)\n",
    "Permite selecionar linhas com base em uma condição booleana (True/False). *CRUCIAL para os exercícios e análises.*\n",
    "Sintaxe geral: `df[condicao]`"
   ],
   "id": "bd5dee8bf52572c8"
  },
  {
   "cell_type": "code",
   "metadata": {},
   "source": [
    "# Condição: Linhas onde a coluna 'A' é maior que 25\n",
    "condicao_A_maior_25 = df_sel['A'] > 25\n",
    "print(\"Máscara booleana (df_sel['A'] > 25):\")\n",
    "print(condicao_A_maior_25)\n",
    "print(\"\\nLinhas onde 'A' > 25:\")\n",
    "display(df_sel[condicao_A_maior_25])\n",
    "\n",
    "# Combinando condições: & (E lógico), | (OU lógico), ~ (NÃO lógico)\n",
    "# Parênteses são importantes para garantir a ordem correta das operações!\n",
    "\n",
    "# Condição: 'A' > 20 E 'D' == True\n",
    "cond_combinada_E = (df_sel['A'] > 20) & (df_sel['D'] == True)\n",
    "print(\"\\nLinhas onde 'A' > 20 E 'D' == True:\")\n",
    "display(df_sel[cond_combinada_E])\n",
    "\n",
    "# Condição: 'B' < 0.3 OU 'C' == 's'\n",
    "cond_combinada_OU = (df_sel['B'] < 0.3) | (df_sel['C'] == 's')\n",
    "print(\"\\nLinhas onde 'B' < 0.3 OU 'C' == 's':\")\n",
    "display(df_sel[cond_combinada_OU])\n",
    "\n",
    "# Uso de `.isin()`: Selecionar linhas onde 'C' está em uma lista de valores\n",
    "valores_C_desejados = ['p', 't']\n",
    "cond_isin_C = df_sel['C'].isin(valores_C_desejados)\n",
    "print(f\"\\nLinhas onde 'C' é '{valores_C_desejados[0]}' ou '{valores_C_desejados[1]}':\")\n",
    "display(df_sel[cond_isin_C])"
   ],
   "id": "e3f62273495f2bb8",
   "outputs": [],
   "execution_count": null
  },
  {
   "cell_type": "markdown",
   "metadata": {},
   "source": "## 5. Transformação de Dados Básica",
   "id": "e5ba125541e1fde"
  },
  {
   "cell_type": "markdown",
   "metadata": {},
   "source": [
    "### Criação de Novas Colunas"
   ],
   "id": "934c1cdb1133c3c0"
  },
  {
   "cell_type": "code",
   "metadata": {},
   "source": [
    "df_trans = df_sel.copy() # Trabalhar com uma cópia\n",
    "\n",
    "# 1. Atribuição direta: Criar 'A_vezes_2'\n",
    "df_trans['A_vezes_2'] = df_trans['A'] * 2\n",
    "print(\"DataFrame com nova coluna 'A_vezes_2':\")\n",
    "display(df_trans)\n",
    "\n",
    "# 2. Usando np.where() para lógica condicional simples: Criar 'Categoria_B'\n",
    "# Se df_trans['B'] > 0.3, 'Alto', senão 'Baixo'\n",
    "df_trans['Categoria_B'] = np.where(df_trans['B'] > 0.3, 'Alto', 'Baixo')\n",
    "print(\"\\nDataFrame com nova coluna 'Categoria_B':\")\n",
    "display(df_trans)\n",
    "\n",
    "# 3. Criar uma coluna com valores de uma Series (o alinhamento pelo índice é importante)\n",
    "nova_serie = pd.Series([100, 200, 300], index=['idx0', 'idx2', 'idx4']) # Índice parcial\n",
    "df_trans['Nova_Serie_Col'] = nova_serie\n",
    "print(\"\\nDataFrame com 'Nova_Serie_Col' (NaNs onde o índice não alinha):\")\n",
    "display(df_trans)"
   ],
   "id": "f8cc1bdd5e5e1dba",
   "outputs": [],
   "execution_count": null
  },
  {
   "cell_type": "markdown",
   "metadata": {},
   "source": [
    "### Conversão de Tipos (`.astype()`, `pd.to_numeric()`)\n",
    "É crucial garantir que as colunas tenham os tipos de dados corretos para análise e operações.\n",
    "*   `pd.to_numeric(series, errors='coerce')`: Converte uma série para tipo numérico. Se um valor não puder ser convertido, ele se torna `NaN` (com `errors='coerce'`).\n",
    "*   `series.astype(novo_tipo)`: Converte uma série para um `novo_tipo` (e.g., `float`, `int`, `str`, `bool`, `'category'`). Pode levantar erro se a conversão for impossível."
   ],
   "id": "beb6da5acadb68d0"
  },
  {
   "cell_type": "code",
   "metadata": {},
   "source": [
    "df_tipos = pd.DataFrame({\n",
    "    'idade_str': ['25', '30', 'Não informado', '40'],\n",
    "    'valor_str': ['100.50', '200', '75.2B', '50.0'] # '75.2B' não é numérico\n",
    "})\n",
    "print(\"DataFrame df_tipos original (dtypes object):\")\n",
    "display(df_tipos)\n",
    "df_tipos.info()\n",
    "\n",
    "# Converter 'idade_str' para numérico (inteiro)\n",
    "df_tipos['idade_num'] = pd.to_numeric(df_tipos['idade_str'], errors='coerce')\n",
    "# Como queremos inteiro, podemos tentar converter para Int64 (inteiro que suporta NaN)\n",
    "df_tipos['idade_num'] = df_tipos['idade_num'].astype('Int64') \n",
    "\n",
    "# Converter 'valor_str' para numérico (float)\n",
    "df_tipos['valor_float'] = pd.to_numeric(df_tipos['valor_str'], errors='coerce')\n",
    "\n",
    "print(\"\\nDataFrame df_tipos após conversões:\")\n",
    "display(df_tipos)\n",
    "df_tipos.info()"
   ],
   "id": "83dd8ad4448e33b3",
   "outputs": [],
   "execution_count": null
  },
  {
   "cell_type": "markdown",
   "metadata": {},
   "source": [
    "### Tratamento Básico de Valores Ausentes (`.fillna()`)\n",
    "Valores ausentes (`NaN`) podem atrapalhar cálculos. `.fillna()` permite substituí-los.\n",
    "Para os exercícios, a imputação com 0 é solicitada."
   ],
   "id": "c9112ebc2f64645c"
  },
  {
   "cell_type": "code",
   "metadata": {},
   "source": [
    "df_ausentes = pd.DataFrame({\n",
    "    'A': [1, 2, np.nan, 4, np.nan],\n",
    "    'B': [np.nan, 10, 20, 30, 40],\n",
    "    'C': ['x', 'y', 'z', np.nan, 'w']\n",
    "})\n",
    "print(\"DataFrame df_ausentes original:\")\n",
    "display(df_ausentes)\n",
    "print(\"\\nContagem de NaNs por coluna:\")\n",
    "print(df_ausentes.isnull().sum())\n",
    "\n",
    "# Preencher todos os NaNs com um valor específico (ex: 0)\n",
    "# df_sem_nan_global = df_ausentes.fillna(0)\n",
    "# display(df_sem_nan_global)\n",
    "\n",
    "# Preencher NaNs em uma coluna específica com 0\n",
    "df_ausentes_copia = df_ausentes.copy()\n",
    "# Modificação para evitar o FutureWarning\n",
    "df_ausentes_copia['A'] = df_ausentes_copia['A'].fillna(0)\n",
    "print(\"\\nColuna 'A' com NaNs preenchidos por 0:\")\n",
    "display(df_ausentes_copia)\n",
    "\n",
    "# Preencher NaNs com a média da coluna (apenas para colunas numéricas)\n",
    "if pd.api.types.is_numeric_dtype(df_ausentes_copia['B']):\n",
    "    # Modificação para evitar o FutureWarning\n",
    "    df_ausentes_copia['B'] = df_ausentes_copia['B'].fillna(df_ausentes_copia['B'].mean())\n",
    "    print(\"\\nColuna 'B' com NaNs preenchidos pela média:\")\n",
    "    display(df_ausentes_copia)\n",
    "\n",
    "print(\"\\n(Breve menção: .dropna() remove linhas/colunas com NaNs)\")\n",
    "# display(df_ausentes.dropna()) # Remove linhas com qualquer NaN\n",
    "# display(df_ausentes.dropna(axis='columns', how='all')) # Remove colunas onde todos os valores são NaN"
   ],
   "id": "5f2b5f7723dc6e76",
   "outputs": [],
   "execution_count": null
  },
  {
   "cell_type": "markdown",
   "metadata": {},
   "source": [
    "### Compartimentação (`pd.cut()`)\n",
    "\n",
    "Útil para transformar uma variável numérica contínua numa variável categórica, dividindo-a em intervalos (bins).\n",
    "\n",
    "**Parâmetros principais:**\n",
    "*   `x`: A Series a ser dividida.\n",
    "*   `bins`: Pode ser um inteiro (número de bins de igual largura) ou uma sequência de escalares definindo as bordas dos bins.\n",
    "*   `labels`: Rótulos para os bins resultantes. Se `False`, retorna apenas os inteiros indicando o bin.\n",
    "*   `right`: Booleano, indica se o bin inclui o lado direito (`True`) ou esquerdo (`False`). Padrão `True` (intervalo `(a, b]`).\n",
    "*   `include_lowest`: Booleano, se o primeiro intervalo deve ser inclusivo à esquerda."
   ],
   "id": "ee3258994b8abc48"
  },
  {
   "cell_type": "code",
   "metadata": {},
   "source": [
    "idades_jogadores = pd.Series([22, 25, 28, 31, 34, 19, 38, 26, 29])\n",
    "\n",
    "# Definir os limites dos bins (intervalos de idade)\n",
    "bins_idade = [18, 25, 30, 35, np.inf] # np.inf para representar \"ou mais\"\n",
    "labels_faixa_idade = ['18-25', '26-30', '31-35', '36+']\n",
    "\n",
    "faixas_idade_series = pd.cut(\n",
    "    x=idades_jogadores, \n",
    "    bins=bins_idade, \n",
    "    labels=labels_faixa_idade, \n",
    "    right=True,             # Intervalos são (lim_inf, lim_sup]\n",
    "    include_lowest=True     # O primeiro bin [18, 25] incluirá 18\n",
    ")\n",
    "\n",
    "print(\"Idades originais:\")\n",
    "print(idades_jogadores)\n",
    "print(\"\\nFaixas de idade categorizadas:\")\n",
    "print(faixas_idade_series)\n",
    "print(\"\\nContagem por faixa de idade:\")\n",
    "print(faixas_idade_series.value_counts().sort_index())"
   ],
   "id": "bc2cc9be9114737a",
   "outputs": [],
   "execution_count": null
  },
  {
   "cell_type": "markdown",
   "metadata": {},
   "source": [
    "## 6. Agregação Simples com `.groupby()`\n",
    "\n",
    "O processo de `groupby` envolve:\n",
    "1.  **Dividir (Split):** Os dados são divididos em grupos com base em algum critério (valores de uma ou mais colunas).\n",
    "2.  **Aplicar (Apply):** Uma função é aplicada a cada grupo independentemente (e.g., soma, média, contagem).\n",
    "3.  **Combinar (Combine):** Os resultados da aplicação são combinados em uma nova estrutura de dados.\n",
    "\n",
    "Sintaxe comum: `df.groupby('coluna_agrupadora')['coluna_alvo'].funcao_agregacao()`"
   ],
   "id": "39a9f7626232d14f"
  },
  {
   "cell_type": "code",
   "metadata": {},
   "source": [
    "dados_vendas = {\n",
    "    'Nome': ['Ana Silva', 'Carlos Oliveira', 'Beatriz Santos', 'Diego Pereira',\n",
    "            'Elena Martins', 'Fabio Costa', 'Gabriela Lima', 'Henrique Alves',\n",
    "            'Isabela Ferreira', 'João Cardoso', 'Karina Nunes', 'Lucas Mendes'],\n",
    "    'Idade': [35, 42, 28, 31,\n",
    "             39, 45, 27, 33,\n",
    "             38, 29, 41, 36],\n",
    "    'Cidade': ['Porto Alegre', 'São Paulo', 'Porto Alegre', 'Recife',\n",
    "              'Belo Horizonte', 'Rio de Janeiro', 'Florianópolis', 'Belém',\n",
    "              'Brasília', 'São Paulo', 'Porto Alegre', 'Salvador'],\n",
    "    'Produto': ['Notebook', 'Smartphone', 'Monitor', 'Tablet',\n",
    "               'Impressora', 'Fone de ouvido', 'Smartwatch', 'Teclado',\n",
    "               'Mouse', 'Console', 'HD Externo', 'Webcam'],\n",
    "    'Categoria': ['Eletrônicos', 'Eletrônicos', 'Periféricos', 'Eletrônicos',\n",
    "                 'Periféricos', 'Acessórios', 'Eletrônicos', 'Periféricos',\n",
    "                 'Periféricos', 'Eletrônicos', 'Armazenamento', 'Periféricos'],\n",
    "    'Regiao': ['Sul', 'Sudeste', 'Sul', 'Nordeste',\n",
    "              'Sudeste', 'Sudeste', 'Sul', 'Norte',\n",
    "              'Centro-Oeste', 'Sudeste', 'Sul', 'Nordeste'],\n",
    "    'Vendas': [100, 150, 120, 200,\n",
    "              85, 110, 95, 75,\n",
    "              125, 170, 65, 140],\n",
    "    'Valor': [3500, 2000, 1200, 1800,\n",
    "             950, 350, 1500, 300,\n",
    "             120, 2500, 400, 280],\n",
    "    'Quantidade': [2, 5, 3, 4,\n",
    "                  1, 3, 2, 2,\n",
    "                  4, 1, 3, 2],\n",
    "    'Desconto': [0.05, 0.1, 0.05, 0.15,\n",
    "                0.0, 0.1, 0.2, 0.0,\n",
    "                0.05, 0.15, 0.0, 0.1],\n",
    "    'Avaliacao': [4.5, 4.8, 3.9, 4.2,\n",
    "                 3.7, 4.0, 4.7, 3.5,\n",
    "                 4.1, 4.6, 3.8, 4.4],\n",
    "    'Data': pd.date_range(start='2023-01-01', periods=12, freq='D')\n",
    "}\n",
    "\n",
    "# Criando o DataFrame\n",
    "df_vendas = pd.DataFrame(dados_vendas)\n",
    "df_vendas"
   ],
   "id": "d030341540aa1b33",
   "outputs": [],
   "execution_count": null
  },
  {
   "metadata": {},
   "cell_type": "code",
   "source": [
    "# Adicionando colunas calculadas\n",
    "df_vendas['Valor_Total'] = df_vendas['Valor'] * df_vendas['Quantidade']\n",
    "df_vendas['Valor_Com_Desconto'] = df_vendas['Valor_Total'] * (1 - df_vendas['Desconto'])\n",
    "df_vendas['Mes'] = df_vendas['Data'].dt.month_name()\n",
    "df_vendas['Dia_Semana'] = df_vendas['Data'].dt.day_name()\n",
    "df_vendas['Trimestre'] = df_vendas['Data'].dt.quarter\n",
    "\n",
    "print(\"DataFrame de Vendas Expandido:\")\n",
    "df_vendas"
   ],
   "id": "9a6df8e9810fa4c7",
   "outputs": [],
   "execution_count": null
  },
  {
   "metadata": {},
   "cell_type": "code",
   "source": [
    "# Calcular a média de 'Idade' por 'Regiao'\n",
    "media_idade_regiao = df_vendas.groupby('Regiao')['Idade'].mean().sort_values(ascending=False)\n",
    "print(\"\\nMédia de Idade por Região (ordenada):\")\n",
    "media_idade_regiao"
   ],
   "id": "2d88406d4b96f4bf",
   "outputs": [],
   "execution_count": null
  },
  {
   "metadata": {},
   "cell_type": "code",
   "source": [
    "# Contar o número de ocorrências por 'Cidade'\n",
    "contagem_cidade = df_vendas.groupby('Cidade')['Nome'].count().sort_values(ascending=False)\n",
    "print(\"\\nContagem de Pessoas por Cidade (ordenada):\")\n",
    "contagem_cidade"
   ],
   "id": "3bd92361eb70af9f",
   "outputs": [],
   "execution_count": null
  },
  {
   "metadata": {},
   "cell_type": "code",
   "source": [
    "# Aplicar múltiplas funções de agregação a uma coluna numérica por grupo\n",
    "agg_vendas_regiao = df_vendas.groupby('Regiao')['Vendas'].agg(['sum', 'mean', 'std', 'count'])\n",
    "agg_vendas_regiao = agg_vendas_regiao.sort_values(by='sum', ascending=False)\n",
    "print(\"\\nSoma, Média, Desvio Padrão e Contagem de Vendas por Região (ordenada por soma):\")\n",
    "agg_vendas_regiao"
   ],
   "id": "1ce052d1f7b586b4",
   "outputs": [],
   "execution_count": null
  },
  {
   "metadata": {},
   "cell_type": "code",
   "source": [
    "# Encontrar o índice (e depois o valor) da maior 'Idade' em cada 'Regiao'\n",
    "idx_max_idade_regiao = df_vendas.groupby('Regiao')['Idade'].idxmax()\n",
    "pessoas_mais_velhas_regiao = df_vendas.loc[idx_max_idade_regiao]\n",
    "print(\"\\nPessoas mais velhas por região:\")\n",
    "pessoas_mais_velhas_regiao[['Regiao', 'Nome', 'Idade', 'Cidade']]"
   ],
   "id": "6ab60dc4dbc53c4d",
   "outputs": [],
   "execution_count": null
  },
  {
   "metadata": {},
   "cell_type": "code",
   "source": [
    "# Análise por categoria de produto\n",
    "vendas_por_categoria = df_vendas.groupby('Categoria')['Valor_Total'].sum().sort_values(ascending=False)\n",
    "print(\"\\nTotal de Vendas por Categoria de Produto:\")\n",
    "vendas_por_categoria"
   ],
   "id": "bf34d2d8e546442f",
   "outputs": [],
   "execution_count": null
  },
  {
   "metadata": {},
   "cell_type": "code",
   "source": [
    "# Obter os N maiores valores de 'Vendas' por 'Regiao' usando idxmax\n",
    "n_maiores = 1  # Pegar o maior\n",
    "idx_max_vendas = df_vendas.groupby('Regiao')['Vendas'].idxmax()\n",
    "top_vendas_regiao = df_vendas.loc[idx_max_vendas]\n",
    "print(f\"\\nTop {n_maiores} Vendas por Região (método com idxmax):\")\n",
    "top_vendas_regiao[['Regiao', 'Nome', 'Vendas', 'Produto']]"
   ],
   "id": "fe4215b22cfe8c93",
   "outputs": [],
   "execution_count": null
  },
  {
   "metadata": {},
   "cell_type": "code",
   "source": [
    "# O parâmetro group_keys no método groupby() do Pandas controla se os rótulos (chaves) do agrupamento são adicionados ao índice do resultado ao usar métodos como apply() ou transform().\n",
    "\n",
    "n_maiores = 2\n",
    "\n",
    "top_vendas_regiao_nlargest = (\n",
    "    df_vendas.sort_values('Vendas', ascending=False)\n",
    "             .groupby('Regiao', group_keys=False)\n",
    "             .head(n_maiores)\n",
    ")\n",
    "\n",
    "print(f\"\\nTop {n_maiores} Vendas por Região:\")\n",
    "top_vendas_regiao_nlargest[['Regiao', 'Nome', 'Vendas', 'Produto']]"
   ],
   "id": "5ecb64d6bf2b7481",
   "outputs": [],
   "execution_count": null
  },
  {
   "metadata": {},
   "cell_type": "code",
   "source": [
    "# Exemplo adicional: Agregações personalizadas em várias colunas\n",
    "agg_mult_cols = df_vendas.groupby('Regiao').agg({\n",
    "    'Vendas': ['sum', 'mean'],\n",
    "    'Valor_Total': ['sum', 'max'],\n",
    "    'Idade': ['mean', 'min', 'max'],\n",
    "    'Avaliacao': ['mean', 'min', 'max']\n",
    "})\n",
    "print(\"\\nAgregações múltiplas em diferentes colunas:\")\n",
    "agg_mult_cols"
   ],
   "id": "a88ade9c4b08da58",
   "outputs": [],
   "execution_count": null
  },
  {
   "metadata": {},
   "cell_type": "code",
   "source": [
    "# Filtrando grupos com base em uma condição\n",
    "# Apenas regiões com vendas totais acima de 200\n",
    "regiao_vendas_altas = df_vendas.groupby('Regiao').filter(lambda x: x['Vendas'].sum() > 200)\n",
    "print(\"\\nRegiões com vendas totais acima de 200:\")\n",
    "regiao_vendas_altas[['Regiao', 'Nome', 'Vendas', 'Valor_Total']]"
   ],
   "id": "47b5802fb250fe7a",
   "outputs": [],
   "execution_count": null
  },
  {
   "metadata": {},
   "cell_type": "code",
   "source": [
    "# Transformando dados com transform\n",
    "# Calculando o percentual de cada venda em relação ao total da região\n",
    "df_vendas['Pct_Vendas_Regiao'] = df_vendas.groupby('Regiao')['Vendas'].transform(\n",
    "    lambda x: x / x.sum() * 100\n",
    ")\n",
    "print(\"\\nPercentual de vendas por região:\")\n",
    "df_vendas[['Nome', 'Regiao', 'Vendas', 'Pct_Vendas_Regiao']]"
   ],
   "id": "7cf1c716f9a71d7",
   "outputs": [],
   "execution_count": null
  },
  {
   "metadata": {},
   "cell_type": "code",
   "source": [
    "# Análise de vendas por mês\n",
    "vendas_por_mes = df_vendas.groupby('Mes')['Valor_Total'].sum()\n",
    "print(\"\\nTotal de Vendas por Mês:\")\n",
    "vendas_por_mes"
   ],
   "id": "93f26f59872902ad",
   "outputs": [],
   "execution_count": null
  },
  {
   "metadata": {},
   "cell_type": "code",
   "source": [
    "# Análise de vendas por trimestre\n",
    "vendas_por_trimestre = df_vendas.groupby('Trimestre')['Valor_Total'].sum()\n",
    "print(\"\\nTotal de Vendas por Trimestre:\")\n",
    "vendas_por_trimestre"
   ],
   "id": "a6f32713aaa1f819",
   "outputs": [],
   "execution_count": null
  },
  {
   "metadata": {},
   "cell_type": "code",
   "source": [
    "# Estatísticas descritivas por região\n",
    "descritivas_por_regiao = df_vendas.groupby('Regiao')[['Vendas', 'Valor_Total', 'Avaliacao']].describe()\n",
    "print(\"\\nEstatísticas Descritivas por Região:\")\n",
    "print(descritivas_por_regiao)"
   ],
   "id": "435a801bc12286e6",
   "outputs": [],
   "execution_count": null
  },
  {
   "metadata": {},
   "cell_type": "code",
   "source": [
    "# Comparando avaliações por categoria de produto\n",
    "avaliacao_por_categoria = df_vendas.groupby('Categoria')['Avaliacao'].agg(['mean', 'std', 'count'])\n",
    "avaliacao_por_categoria = avaliacao_por_categoria.sort_values(by='mean', ascending=False)\n",
    "print(\"\\nAvaliações por Categoria de Produto:\")\n",
    "print(avaliacao_por_categoria)"
   ],
   "id": "f5a904ee61a90ee6",
   "outputs": [],
   "execution_count": null
  },
  {
   "metadata": {},
   "cell_type": "code",
   "source": [
    "# Análise de vendedores mais eficientes (maior valor por venda)\n",
    "df_vendas['Valor_Medio_Por_Venda'] = df_vendas['Valor_Total'] / df_vendas['Quantidade']\n",
    "top_vendedores = df_vendas.groupby('Nome')[['Vendas', 'Valor_Total', 'Quantidade', 'Valor_Medio_Por_Venda']].mean()\n",
    "top_vendedores = top_vendedores.sort_values(by='Valor_Medio_Por_Venda', ascending=False).head(5)\n",
    "print(\"\\nTop 5 Vendedores por Valor Médio por Venda:\")\n",
    "top_vendedores\n"
   ],
   "id": "1eb6cca9365d25cf",
   "outputs": [],
   "execution_count": null
  },
  {
   "metadata": {},
   "cell_type": "markdown",
   "source": [
    "### Correlação entre variáveis\n",
    "\n",
    "A correlação é uma medida estatística que quantifica a força e a direção da relação linear entre duas variáveis numéricas. Seus principais aspectos são:\n",
    "- **Valor**: Varia entre -1 e 1\n",
    "    - **1**: Correlação positiva perfeita (quando uma variável aumenta, a outra aumenta proporcionalmente)\n",
    "    - **0**: Nenhuma correlação linear (as variáveis não se relacionam linearmente)\n",
    "    - **-1**: Correlação negativa perfeita (quando uma variável aumenta, a outra diminui proporcionalmente)\n",
    "\n",
    "- **Interpretação**:\n",
    "    - **Forte**: Valores próximos de -1 ou 1\n",
    "    - **Moderada**: Valores em torno de -0.5 ou 0.5\n",
    "    - **Fraca**: Valores próximos de 0\n",
    "\n",
    "- **Método de cálculo**: No Pandas, o método `.corr()` calcula por padrão o coeficiente de correlação de Pearson, que mede relações lineares.\n"
   ],
   "id": "412a6aa8e2dcf099"
  },
  {
   "metadata": {},
   "cell_type": "code",
   "source": [
    "# Análise de correlação entre variáveis numéricas\n",
    "correlacao = df_vendas[['Idade', 'Vendas', 'Valor', 'Quantidade', 'Desconto', 'Avaliacao', 'Valor_Total']].corr()\n",
    "print(\"\\nCorrelação entre variáveis numéricas:\")\n",
    "correlacao"
   ],
   "id": "9c0535902620ac9",
   "outputs": [],
   "execution_count": null
  },
  {
   "cell_type": "markdown",
   "metadata": {},
   "source": [
    "### Renomeação (`.rename()`)"
   ],
   "id": "42ade8a3ee41d32d"
  },
  {
   "metadata": {},
   "cell_type": "code",
   "source": [
    "# Renomeando algumas colunas usando o método rename()\n",
    "df_renomeado1 = df_vendas.rename(columns={\n",
    "    'Nome': 'Cliente',\n",
    "    'Vendas': 'Total_Vendas',\n",
    "    'Valor': 'Valor_Unitario',\n",
    "    'Avaliacao': 'Satisfacao_Cliente'\n",
    "})\n",
    "\n",
    "print(\"DataFrame após renomear colunas específicas:\")\n",
    "display(df_renomeado1.head())"
   ],
   "id": "2f9820c8f28def6d",
   "outputs": [],
   "execution_count": null
  },
  {
   "metadata": {},
   "cell_type": "code",
   "source": [
    "# Renomeando todas as colunas do DataFrame\n",
    "novas_colunas = ['Cliente', 'Idade_Cliente', 'Localidade', 'Item', 'Tipo_Produto', 'Regiao', 'Total_Vendas',\n",
    "       'Valor', 'Quantidade', 'Desconto', 'Avaliacao', 'Data', 'Valor_Total',\n",
    "       'Valor_Com_Desconto', 'Mes', 'Dia_Semana', 'Trimestre',\n",
    "       'Pct_Vendas_Regiao', 'Valor_Medio_Por_Venda']\n",
    "\n",
    "df_renomeado2 = df_vendas.copy()\n",
    "df_renomeado2.columns = novas_colunas\n",
    "\n",
    "print(\"DataFrame com todas as colunas renomeadas:\")\n",
    "display(df_renomeado2.head())"
   ],
   "id": "f7cc740adc45d29f",
   "outputs": [],
   "execution_count": null
  },
  {
   "metadata": {},
   "cell_type": "code",
   "source": [
    "# Convertendo todos os nomes para letras maiúsculas\n",
    "df_renomeado3 = df_vendas.copy()\n",
    "df_renomeado3.columns = df_renomeado3.columns.str.upper()\n",
    "\n",
    "print(\"DataFrame com nomes de colunas em maiúsculas:\")\n",
    "display(df_renomeado3.head())"
   ],
   "id": "5644e484e09fb97e",
   "outputs": [],
   "execution_count": null
  }
 ],
 "metadata": {
  "kernelspec": {
   "display_name": "Python 3 (ipykernel)",
   "language": "python",
   "name": "python3"
  },
  "language_info": {
   "codemirror_mode": {
    "name": "ipython",
    "version": 3
   },
   "file_extension": ".py",
   "mimetype": "text/x-python",
   "name": "python",
   "nbconvert_exporter": "python",
   "pygments_lexer": "ipython3",
   "version": "3.9.12"
  }
 },
 "nbformat": 4,
 "nbformat_minor": 5
}
