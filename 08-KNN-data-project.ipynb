{
 "nbformat": 4,
 "nbformat_minor": 0,
 "metadata": {
  "colab": {
   "provenance": [],
   "authorship_tag": "ABX9TyMPBcXEvb7glOrwMGrMAKZ9"
  },
  "kernelspec": {
   "name": "python3",
   "display_name": "Python 3"
  },
  "language_info": {
   "name": "python"
  }
 },
 "cells": [
  {
   "cell_type": "code",
   "source": [
    "# Importando as bibliotecas necessárias\n",
    "import pandas as pd  # Para manipulação e análise de dados\n",
    "import numpy as np  # Para operações numéricas\n",
    "import matplotlib.pyplot as plt  # Para visualização de dados\n",
    "from sklearn.neighbors import KNeighborsClassifier  # Implementação do algoritmo KNN\n",
    "from sklearn.preprocessing import StandardScaler  # Para padronização de features\n",
    "from sklearn.model_selection import train_test_split  # Para dividir dados em conjuntos de treino e teste\n",
    "from sklearn.metrics import confusion_matrix  # Para avaliar a performance do modelo\n",
    "from sklearn.datasets import load_iris  # Dataset Iris para classificação\n",
    "\n",
    "# Criando uma instância do StandardScaler para padronizar os dados\n",
    "scale = StandardScaler()"
   ],
   "metadata": {
    "ExecuteTime": {
     "end_time": "2025-06-03T20:51:47.921020Z",
     "start_time": "2025-06-03T20:51:47.913996Z"
    }
   },
   "outputs": [],
   "execution_count": 53
  },
  {
   "metadata": {
    "ExecuteTime": {
     "end_time": "2025-06-03T20:51:47.937562Z",
     "start_time": "2025-06-03T20:51:47.929953Z"
    }
   },
   "cell_type": "code",
   "source": [
    "# Carregando o dataset Iris\n",
    "iris_dataset = load_iris()\n",
    "# Criando um DataFrame pandas com os dados e nomes das features\n",
    "iris = pd.DataFrame(data=iris_dataset.data, columns=iris_dataset.feature_names)\n",
    "# Adicionando a coluna 'Species' ao DataFrame com os nomes das espécies\n",
    "iris['Species'] = pd.Categorical.from_codes(iris_dataset.target, iris_dataset.target_names)\n",
    "# Renomeando as colunas para melhor compreensão\n",
    "iris.columns = ['Sepal.Length', 'Sepal.Width', 'Petal.Length', 'Petal.Width', 'Species']"
   ],
   "outputs": [],
   "execution_count": 54
  },
  {
   "metadata": {
    "ExecuteTime": {
     "end_time": "2025-06-03T20:51:47.979490Z",
     "start_time": "2025-06-03T20:51:47.973956Z"
    }
   },
   "cell_type": "code",
   "source": [
    "# Exibindo as primeiras linhas do DataFrame\n",
    "iris.head()"
   ],
   "outputs": [
    {
     "data": {
      "text/plain": [
       "   Sepal.Length  Sepal.Width  Petal.Length  Petal.Width Species\n",
       "0           5.1          3.5           1.4          0.2  setosa\n",
       "1           4.9          3.0           1.4          0.2  setosa\n",
       "2           4.7          3.2           1.3          0.2  setosa\n",
       "3           4.6          3.1           1.5          0.2  setosa\n",
       "4           5.0          3.6           1.4          0.2  setosa"
      ],
      "text/html": [
       "<div>\n",
       "<style scoped>\n",
       "    .dataframe tbody tr th:only-of-type {\n",
       "        vertical-align: middle;\n",
       "    }\n",
       "\n",
       "    .dataframe tbody tr th {\n",
       "        vertical-align: top;\n",
       "    }\n",
       "\n",
       "    .dataframe thead th {\n",
       "        text-align: right;\n",
       "    }\n",
       "</style>\n",
       "<table border=\"1\" class=\"dataframe\">\n",
       "  <thead>\n",
       "    <tr style=\"text-align: right;\">\n",
       "      <th></th>\n",
       "      <th>Sepal.Length</th>\n",
       "      <th>Sepal.Width</th>\n",
       "      <th>Petal.Length</th>\n",
       "      <th>Petal.Width</th>\n",
       "      <th>Species</th>\n",
       "    </tr>\n",
       "  </thead>\n",
       "  <tbody>\n",
       "    <tr>\n",
       "      <th>0</th>\n",
       "      <td>5.1</td>\n",
       "      <td>3.5</td>\n",
       "      <td>1.4</td>\n",
       "      <td>0.2</td>\n",
       "      <td>setosa</td>\n",
       "    </tr>\n",
       "    <tr>\n",
       "      <th>1</th>\n",
       "      <td>4.9</td>\n",
       "      <td>3.0</td>\n",
       "      <td>1.4</td>\n",
       "      <td>0.2</td>\n",
       "      <td>setosa</td>\n",
       "    </tr>\n",
       "    <tr>\n",
       "      <th>2</th>\n",
       "      <td>4.7</td>\n",
       "      <td>3.2</td>\n",
       "      <td>1.3</td>\n",
       "      <td>0.2</td>\n",
       "      <td>setosa</td>\n",
       "    </tr>\n",
       "    <tr>\n",
       "      <th>3</th>\n",
       "      <td>4.6</td>\n",
       "      <td>3.1</td>\n",
       "      <td>1.5</td>\n",
       "      <td>0.2</td>\n",
       "      <td>setosa</td>\n",
       "    </tr>\n",
       "    <tr>\n",
       "      <th>4</th>\n",
       "      <td>5.0</td>\n",
       "      <td>3.6</td>\n",
       "      <td>1.4</td>\n",
       "      <td>0.2</td>\n",
       "      <td>setosa</td>\n",
       "    </tr>\n",
       "  </tbody>\n",
       "</table>\n",
       "</div>"
      ]
     },
     "execution_count": 55,
     "metadata": {},
     "output_type": "execute_result"
    }
   ],
   "execution_count": 55
  },
  {
   "metadata": {
    "ExecuteTime": {
     "end_time": "2025-06-03T20:51:48.029786Z",
     "start_time": "2025-06-03T20:51:48.026718Z"
    }
   },
   "cell_type": "code",
   "source": [
    "# Verificando os tipos de dados de cada coluna\n",
    "iris.dtypes"
   ],
   "outputs": [
    {
     "data": {
      "text/plain": [
       "Sepal.Length     float64\n",
       "Sepal.Width      float64\n",
       "Petal.Length     float64\n",
       "Petal.Width      float64\n",
       "Species         category\n",
       "dtype: object"
      ]
     },
     "execution_count": 56,
     "metadata": {},
     "output_type": "execute_result"
    }
   ],
   "execution_count": 56
  },
  {
   "metadata": {
    "ExecuteTime": {
     "end_time": "2025-06-03T20:51:48.103043Z",
     "start_time": "2025-06-03T20:51:48.096134Z"
    }
   },
   "cell_type": "code",
   "source": [
    "# Selecionando apenas as colunas de características (features)\n",
    "X = iris[['Sepal.Length', 'Sepal.Width', 'Petal.Length', 'Petal.Width']]\n",
    "# Padronizando as features (média 0, desvio padrão 1)\n",
    "stand_features = pd.DataFrame(scale.fit_transform(X),\n",
    "                              columns=['Sepal.Length', 'Sepal.Width', 'Petal.Length', 'Petal.Width'])\n",
    "# Verificando a variância da coluna 'Petal.Length' para confirmar a padronização\n",
    "np.var(stand_features['Petal.Length'])"
   ],
   "outputs": [
    {
     "data": {
      "text/plain": [
       "np.float64(0.9999999999999998)"
      ]
     },
     "execution_count": 57,
     "metadata": {},
     "output_type": "execute_result"
    }
   ],
   "execution_count": 57
  },
  {
   "metadata": {
    "ExecuteTime": {
     "end_time": "2025-06-03T20:51:48.179883Z",
     "start_time": "2025-06-03T20:51:48.175244Z"
    }
   },
   "cell_type": "code",
   "source": [
    "# Combinando as features padronizadas com a coluna de espécies\n",
    "final_data = pd.concat([stand_features, iris['Species']], axis=1)\n",
    "# Exibindo as primeiras linhas do DataFrame final\n",
    "final_data.head()"
   ],
   "outputs": [
    {
     "data": {
      "text/plain": [
       "   Sepal.Length  Sepal.Width  Petal.Length  Petal.Width Species\n",
       "0     -0.900681     1.019004     -1.340227    -1.315444  setosa\n",
       "1     -1.143017    -0.131979     -1.340227    -1.315444  setosa\n",
       "2     -1.385353     0.328414     -1.397064    -1.315444  setosa\n",
       "3     -1.506521     0.098217     -1.283389    -1.315444  setosa\n",
       "4     -1.021849     1.249201     -1.340227    -1.315444  setosa"
      ],
      "text/html": [
       "<div>\n",
       "<style scoped>\n",
       "    .dataframe tbody tr th:only-of-type {\n",
       "        vertical-align: middle;\n",
       "    }\n",
       "\n",
       "    .dataframe tbody tr th {\n",
       "        vertical-align: top;\n",
       "    }\n",
       "\n",
       "    .dataframe thead th {\n",
       "        text-align: right;\n",
       "    }\n",
       "</style>\n",
       "<table border=\"1\" class=\"dataframe\">\n",
       "  <thead>\n",
       "    <tr style=\"text-align: right;\">\n",
       "      <th></th>\n",
       "      <th>Sepal.Length</th>\n",
       "      <th>Sepal.Width</th>\n",
       "      <th>Petal.Length</th>\n",
       "      <th>Petal.Width</th>\n",
       "      <th>Species</th>\n",
       "    </tr>\n",
       "  </thead>\n",
       "  <tbody>\n",
       "    <tr>\n",
       "      <th>0</th>\n",
       "      <td>-0.900681</td>\n",
       "      <td>1.019004</td>\n",
       "      <td>-1.340227</td>\n",
       "      <td>-1.315444</td>\n",
       "      <td>setosa</td>\n",
       "    </tr>\n",
       "    <tr>\n",
       "      <th>1</th>\n",
       "      <td>-1.143017</td>\n",
       "      <td>-0.131979</td>\n",
       "      <td>-1.340227</td>\n",
       "      <td>-1.315444</td>\n",
       "      <td>setosa</td>\n",
       "    </tr>\n",
       "    <tr>\n",
       "      <th>2</th>\n",
       "      <td>-1.385353</td>\n",
       "      <td>0.328414</td>\n",
       "      <td>-1.397064</td>\n",
       "      <td>-1.315444</td>\n",
       "      <td>setosa</td>\n",
       "    </tr>\n",
       "    <tr>\n",
       "      <th>3</th>\n",
       "      <td>-1.506521</td>\n",
       "      <td>0.098217</td>\n",
       "      <td>-1.283389</td>\n",
       "      <td>-1.315444</td>\n",
       "      <td>setosa</td>\n",
       "    </tr>\n",
       "    <tr>\n",
       "      <th>4</th>\n",
       "      <td>-1.021849</td>\n",
       "      <td>1.249201</td>\n",
       "      <td>-1.340227</td>\n",
       "      <td>-1.315444</td>\n",
       "      <td>setosa</td>\n",
       "    </tr>\n",
       "  </tbody>\n",
       "</table>\n",
       "</div>"
      ]
     },
     "execution_count": 58,
     "metadata": {},
     "output_type": "execute_result"
    }
   ],
   "execution_count": 58
  },
  {
   "metadata": {
    "ExecuteTime": {
     "end_time": "2025-06-03T20:51:48.256857Z",
     "start_time": "2025-06-03T20:51:48.251192Z"
    }
   },
   "cell_type": "code",
   "source": [
    "# Definindo X (features) e y (target) para o modelo\n",
    "X = final_data[['Sepal.Length', 'Sepal.Width', 'Petal.Length', 'Petal.Width']]\n",
    "y = final_data[['Species']]\n",
    "# Dividindo os dados em conjuntos de treino (70%) e teste (30%)\n",
    "# stratify=y garante que a proporção de classes seja preservada em ambos conjuntos\n",
    "# random_state=0 para reprodutibilidade dos resultados\n",
    "X_train, X_test, y_train, y_test = train_test_split(X, y, train_size=0.7, stratify=y, random_state=0)"
   ],
   "outputs": [],
   "execution_count": 59
  },
  {
   "metadata": {
    "ExecuteTime": {
     "end_time": "2025-06-03T20:51:48.316662Z",
     "start_time": "2025-06-03T20:51:48.314883Z"
    }
   },
   "cell_type": "code",
   "source": [
    "# Criando um vetor com valores de k (número de vizinhos) para testar\n",
    "neighbors = np.arange(1, 10)\n",
    "# Inicializando arrays vazios para armazenar as acurácias de treino e teste\n",
    "train_accuracy = np.empty(len(neighbors))\n",
    "test_accuracy = np.empty(len(neighbors))"
   ],
   "outputs": [],
   "execution_count": 60
  },
  {
   "metadata": {
    "ExecuteTime": {
     "end_time": "2025-06-03T20:51:48.417109Z",
     "start_time": "2025-06-03T20:51:48.362539Z"
    }
   },
   "cell_type": "code",
   "source": [
    "# Testando diferentes valores de k e armazenando as acurácias\n",
    "for i, k in enumerate(neighbors):\n",
    "    # Criando um modelo KNN com k vizinhos\n",
    "    knn = KNeighborsClassifier(n_neighbors=k)\n",
    "    # Treinando o modelo com os dados de treino (convertendo y_train para array 1D)\n",
    "    knn.fit(X_train, y_train.values.ravel())\n",
    "    # Calculando a acurácia no conjunto de treino\n",
    "    train_accuracy[i] = knn.score(X_train, y_train.values.ravel())\n",
    "    # Calculando a acurácia no conjunto de teste\n",
    "    test_accuracy[i] = knn.score(X_test, y_test.values.ravel())"
   ],
   "outputs": [],
   "execution_count": 61
  },
  {
   "metadata": {
    "ExecuteTime": {
     "end_time": "2025-06-03T20:51:48.493280Z",
     "start_time": "2025-06-03T20:51:48.429817Z"
    }
   },
   "cell_type": "code",
   "source": [
    "# Visualizando a acurácia em função do número de vizinhos\n",
    "plt.title('k-NN Variando o número de vizinhos')\n",
    "plt.plot(neighbors, test_accuracy, label='Accuracy (teste)')  # Linha para acurácia de teste\n",
    "plt.plot(neighbors, train_accuracy, label='Accuracy (treino)')  # Linha para acurácia de treino\n",
    "plt.legend()  # Adicionando legenda ao gráfico\n",
    "plt.xlabel('Número de vizinhos')  # Rótulo do eixo x\n",
    "plt.ylabel('Accuracy')  # Rótulo do eixo y\n",
    "plt.show()  # Exibindo o gráfico"
   ],
   "outputs": [
    {
     "data": {
      "text/plain": [
       "<Figure size 640x480 with 1 Axes>"
      ],
      "image/png": "[encoded data removed]"
     },
     "metadata": {},
     "output_type": "display_data"
    }
   ],
   "execution_count": 62
  },
  {
   "metadata": {
    "ExecuteTime": {
     "end_time": "2025-06-03T20:51:48.535605Z",
     "start_time": "2025-06-03T20:51:48.516737Z"
    }
   },
   "cell_type": "code",
   "source": [
    "# Fazendo previsões com o último modelo treinado (k=9)\n",
    "prediction = knn.predict(X_test)\n",
    "\n",
    "# Gerando a matriz de confusão para avaliar o desempenho\n",
    "confusion_matrix(y_test, prediction)\n",
    "\n",
    "# Criando uma tabela cruzada mais detalhada da matriz de confusão\n",
    "# rownames='True' indica as classes reais\n",
    "# colnames='Predicted' indica as classes previstas\n",
    "# margins=True adiciona totais de linha e coluna\n",
    "pd.crosstab(y_test['Species'], prediction, rownames=['True'], colnames=['Predicted'], margins=True)"
   ],
   "outputs": [
    {
     "data": {
      "text/plain": [
       "Predicted   setosa  versicolor  virginica  All\n",
       "True                                          \n",
       "setosa          15           0          0   15\n",
       "versicolor       0          15          0   15\n",
       "virginica        0           1         14   15\n",
       "All             15          16         14   45"
      ],
      "text/html": [
       "<div>\n",
       "<style scoped>\n",
       "    .dataframe tbody tr th:only-of-type {\n",
       "        vertical-align: middle;\n",
       "    }\n",
       "\n",
       "    .dataframe tbody tr th {\n",
       "        vertical-align: top;\n",
       "    }\n",
       "\n",
       "    .dataframe thead th {\n",
       "        text-align: right;\n",
       "    }\n",
       "</style>\n",
       "<table border=\"1\" class=\"dataframe\">\n",
       "  <thead>\n",
       "    <tr style=\"text-align: right;\">\n",
       "      <th>Predicted</th>\n",
       "      <th>setosa</th>\n",
       "      <th>versicolor</th>\n",
       "      <th>virginica</th>\n",
       "      <th>All</th>\n",
       "    </tr>\n",
       "    <tr>\n",
       "      <th>True</th>\n",
       "      <th></th>\n",
       "      <th></th>\n",
       "      <th></th>\n",
       "      <th></th>\n",
       "    </tr>\n",
       "  </thead>\n",
       "  <tbody>\n",
       "    <tr>\n",
       "      <th>setosa</th>\n",
       "      <td>15</td>\n",
       "      <td>0</td>\n",
       "      <td>0</td>\n",
       "      <td>15</td>\n",
       "    </tr>\n",
       "    <tr>\n",
       "      <th>versicolor</th>\n",
       "      <td>0</td>\n",
       "      <td>15</td>\n",
       "      <td>0</td>\n",
       "      <td>15</td>\n",
       "    </tr>\n",
       "    <tr>\n",
       "      <th>virginica</th>\n",
       "      <td>0</td>\n",
       "      <td>1</td>\n",
       "      <td>14</td>\n",
       "      <td>15</td>\n",
       "    </tr>\n",
       "    <tr>\n",
       "      <th>All</th>\n",
       "      <td>15</td>\n",
       "      <td>16</td>\n",
       "      <td>14</td>\n",
       "      <td>45</td>\n",
       "    </tr>\n",
       "  </tbody>\n",
       "</table>\n",
       "</div>"
      ]
     },
     "execution_count": 63,
     "metadata": {},
     "output_type": "execute_result"
    }
   ],
   "execution_count": 63
  }
 ]
}
